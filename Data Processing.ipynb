{
 "cells": [
  {
   "cell_type": "markdown",
   "metadata": {},
   "source": [
    "# Group Project R"
   ]
  },
  {
   "cell_type": "markdown",
   "metadata": {},
   "source": [
    "Group 3 - Business Analytics Source - Open source"
   ]
  },
  {
   "cell_type": "code",
   "execution_count": 1,
   "metadata": {},
   "outputs": [
    {
     "name": "stderr",
     "output_type": "stream",
     "text": [
      "Warning message:\n",
      "\"package 'haven' was built under R version 3.6.3\"Warning message:\n",
      "\"package 'tidyr' was built under R version 3.6.3\"Warning message:\n",
      "\"package 'stringr' was built under R version 3.6.3\"Warning message:\n",
      "\"package 'dplyr' was built under R version 3.6.3\"\n",
      "Attaching package: 'dplyr'\n",
      "\n",
      "The following objects are masked from 'package:stats':\n",
      "\n",
      "    filter, lag\n",
      "\n",
      "The following objects are masked from 'package:base':\n",
      "\n",
      "    intersect, setdiff, setequal, union\n",
      "\n",
      "Warning message:\n",
      "\"package 'lubridate' was built under R version 3.6.3\"\n",
      "Attaching package: 'lubridate'\n",
      "\n",
      "The following objects are masked from 'package:base':\n",
      "\n",
      "    date, intersect, setdiff, union\n",
      "\n",
      "Warning message:\n",
      "\"package 'gridExtra' was built under R version 3.6.3\"\n",
      "Attaching package: 'gridExtra'\n",
      "\n",
      "The following object is masked from 'package:dplyr':\n",
      "\n",
      "    combine\n",
      "\n",
      "Warning message:\n",
      "\"package 'ggplot2' was built under R version 3.6.3\""
     ]
    }
   ],
   "source": [
    "library(\"haven\")\n",
    "library(\"tidyr\")\n",
    "library(\"stringr\")\n",
    "library(\"dplyr\")\n",
    "library(\"lubridate\")\n",
    "library(\"gridExtra\")\n",
    "library(\"ggplot2\")"
   ]
  },
  {
   "cell_type": "markdown",
   "metadata": {},
   "source": [
    "## I. Opening the Data files:"
   ]
  },
  {
   "cell_type": "markdown",
   "metadata": {},
   "source": [
    "Reading and viewing all tables created from appendix"
   ]
  },
  {
   "cell_type": "code",
   "execution_count": 2,
   "metadata": {},
   "outputs": [],
   "source": [
    "country = read.csv('RawData/Countries.csv')\n",
    "language = read.csv('RawData/Languages.csv')\n",
    "application = read.csv('RawData/Applications.csv')\n",
    "product = read.csv('RawData/Products.csv')"
   ]
  },
  {
   "cell_type": "code",
   "execution_count": 3,
   "metadata": {},
   "outputs": [
    {
     "data": {
      "text/html": [
       "<table>\n",
       "<thead><tr><th scope=col>ï..User_Country</th><th scope=col>Country</th></tr></thead>\n",
       "<tbody>\n",
       "\t<tr><td>Afghanistan</td><td> 4         </td></tr>\n",
       "\t<tr><td>Albania    </td><td> 8         </td></tr>\n",
       "\t<tr><td>Antarctica </td><td>10         </td></tr>\n",
       "</tbody>\n",
       "</table>\n"
      ],
      "text/latex": [
       "\\begin{tabular}{r|ll}\n",
       " ï..User\\_Country & Country\\\\\n",
       "\\hline\n",
       "\t Afghanistan &  4         \\\\\n",
       "\t Albania     &  8         \\\\\n",
       "\t Antarctica  & 10         \\\\\n",
       "\\end{tabular}\n"
      ],
      "text/markdown": [
       "\n",
       "| ï..User_Country | Country |\n",
       "|---|---|\n",
       "| Afghanistan |  4          |\n",
       "| Albania     |  8          |\n",
       "| Antarctica  | 10          |\n",
       "\n"
      ],
      "text/plain": [
       "  ï..User_Country Country\n",
       "1 Afghanistan      4     \n",
       "2 Albania          8     \n",
       "3 Antarctica      10     "
      ]
     },
     "metadata": {},
     "output_type": "display_data"
    }
   ],
   "source": [
    "head(country, 3)"
   ]
  },
  {
   "cell_type": "code",
   "execution_count": 4,
   "metadata": {},
   "outputs": [
    {
     "data": {
      "text/html": [
       "<table>\n",
       "<thead><tr><th scope=col>ï..User_Language</th><th scope=col>Language</th></tr></thead>\n",
       "<tbody>\n",
       "\t<tr><td>English</td><td>1      </td></tr>\n",
       "\t<tr><td>German </td><td>2      </td></tr>\n",
       "\t<tr><td>Italian</td><td>3      </td></tr>\n",
       "</tbody>\n",
       "</table>\n"
      ],
      "text/latex": [
       "\\begin{tabular}{r|ll}\n",
       " ï..User\\_Language & Language\\\\\n",
       "\\hline\n",
       "\t English & 1      \\\\\n",
       "\t German  & 2      \\\\\n",
       "\t Italian & 3      \\\\\n",
       "\\end{tabular}\n"
      ],
      "text/markdown": [
       "\n",
       "| ï..User_Language | Language |\n",
       "|---|---|\n",
       "| English | 1       |\n",
       "| German  | 2       |\n",
       "| Italian | 3       |\n",
       "\n"
      ],
      "text/plain": [
       "  ï..User_Language Language\n",
       "1 English          1       \n",
       "2 German           2       \n",
       "3 Italian          3       "
      ]
     },
     "metadata": {},
     "output_type": "display_data"
    }
   ],
   "source": [
    "head(language, 3)"
   ]
  },
  {
   "cell_type": "code",
   "execution_count": 5,
   "metadata": {},
   "outputs": [
    {
     "data": {
      "text/html": [
       "<table>\n",
       "<thead><tr><th scope=col>ï..Website</th><th scope=col>ApplicationID</th></tr></thead>\n",
       "<tbody>\n",
       "\t<tr><td>BETANDWIN.COM      </td><td>1                  </td></tr>\n",
       "\t<tr><td>TRIPLE-A-CASINO.COM</td><td>2                  </td></tr>\n",
       "\t<tr><td>BETANDWIN.DE       </td><td>3                  </td></tr>\n",
       "</tbody>\n",
       "</table>\n"
      ],
      "text/latex": [
       "\\begin{tabular}{r|ll}\n",
       " ï..Website & ApplicationID\\\\\n",
       "\\hline\n",
       "\t BETANDWIN.COM       & 1                  \\\\\n",
       "\t TRIPLE-A-CASINO.COM & 2                  \\\\\n",
       "\t BETANDWIN.DE        & 3                  \\\\\n",
       "\\end{tabular}\n"
      ],
      "text/markdown": [
       "\n",
       "| ï..Website | ApplicationID |\n",
       "|---|---|\n",
       "| BETANDWIN.COM       | 1                   |\n",
       "| TRIPLE-A-CASINO.COM | 2                   |\n",
       "| BETANDWIN.DE        | 3                   |\n",
       "\n"
      ],
      "text/plain": [
       "  ï..Website          ApplicationID\n",
       "1 BETANDWIN.COM       1            \n",
       "2 TRIPLE-A-CASINO.COM 2            \n",
       "3 BETANDWIN.DE        3            "
      ]
     },
     "metadata": {},
     "output_type": "display_data"
    }
   ],
   "source": [
    "head(application, 3)"
   ]
  },
  {
   "cell_type": "markdown",
   "metadata": {},
   "source": [
    "Reading and viewing main files - All 3 raw files and Analytic Data file"
   ]
  },
  {
   "cell_type": "code",
   "execution_count": 6,
   "metadata": {},
   "outputs": [],
   "source": [
    "Internet_Gambling <- read_sas(\"RawData/AnalyticDataInternetGambling.sas7bdat\")"
   ]
  },
  {
   "cell_type": "code",
   "execution_count": 7,
   "metadata": {
    "scrolled": true
   },
   "outputs": [
    {
     "data": {
      "text/html": [
       "<table>\n",
       "<thead><tr><th scope=col>USERID</th><th scope=col>COUNTRY</th><th scope=col>LANGUAGE</th><th scope=col>RegistrationDate</th><th scope=col>AGE</th><th scope=col>GENDER</th><th scope=col>FOTotalStakes</th><th scope=col>FOTotalWinnings</th><th scope=col>FOTotalBets</th><th scope=col>FOFirstActiveDate</th><th scope=col>FOLastActiveDate</th><th scope=col>FOTotalDaysActive</th><th scope=col>LATotalStakes</th><th scope=col>LATotalWinnings</th><th scope=col>LATotalBets</th><th scope=col>LAFirstActiveDate</th><th scope=col>LALastActiveDate</th><th scope=col>LATotalDaysActive</th><th scope=col>FirstSportsActiveDate</th></tr></thead>\n",
       "<tbody>\n",
       "\t<tr><td>1324354   </td><td>276       </td><td>2         </td><td>2005-02-01</td><td>42        </td><td>1         </td><td>10137.33  </td><td>10224.12  </td><td>236       </td><td>2005-02-24</td><td>2005-09-30</td><td>97        </td><td>1839.28   </td><td>1512.49   </td><td> 43       </td><td>2005-05-04</td><td>2005-09-26</td><td>18        </td><td>2005-02-24</td></tr>\n",
       "\t<tr><td>1324355   </td><td>300       </td><td>8         </td><td>2005-02-01</td><td>22        </td><td>1         </td><td>  400.86  </td><td>  453.30  </td><td>231       </td><td>2005-02-01</td><td>2005-09-29</td><td>72        </td><td>  24.70   </td><td>  11.20   </td><td> 21       </td><td>2005-02-01</td><td>2005-02-07</td><td> 7        </td><td>2005-02-01</td></tr>\n",
       "\t<tr><td>1324356   </td><td>276       </td><td>2         </td><td>2005-02-01</td><td>28        </td><td>1         </td><td>  686.19  </td><td>  285.51  </td><td> 98       </td><td>2005-02-02</td><td>2005-09-12</td><td>38        </td><td> 679.07   </td><td> 625.15   </td><td>116       </td><td>2005-02-02</td><td>2005-09-11</td><td>23        </td><td>2005-02-02</td></tr>\n",
       "</tbody>\n",
       "</table>\n"
      ],
      "text/latex": [
       "\\begin{tabular}{r|lllllllllllllllllll}\n",
       " USERID & COUNTRY & LANGUAGE & RegistrationDate & AGE & GENDER & FOTotalStakes & FOTotalWinnings & FOTotalBets & FOFirstActiveDate & FOLastActiveDate & FOTotalDaysActive & LATotalStakes & LATotalWinnings & LATotalBets & LAFirstActiveDate & LALastActiveDate & LATotalDaysActive & FirstSportsActiveDate\\\\\n",
       "\\hline\n",
       "\t 1324354    & 276        & 2          & 2005-02-01 & 42         & 1          & 10137.33   & 10224.12   & 236        & 2005-02-24 & 2005-09-30 & 97         & 1839.28    & 1512.49    &  43        & 2005-05-04 & 2005-09-26 & 18         & 2005-02-24\\\\\n",
       "\t 1324355    & 300        & 8          & 2005-02-01 & 22         & 1          &   400.86   &   453.30   & 231        & 2005-02-01 & 2005-09-29 & 72         &   24.70    &   11.20    &  21        & 2005-02-01 & 2005-02-07 &  7         & 2005-02-01\\\\\n",
       "\t 1324356    & 276        & 2          & 2005-02-01 & 28         & 1          &   686.19   &   285.51   &  98        & 2005-02-02 & 2005-09-12 & 38         &  679.07    &  625.15    & 116        & 2005-02-02 & 2005-09-11 & 23         & 2005-02-02\\\\\n",
       "\\end{tabular}\n"
      ],
      "text/markdown": [
       "\n",
       "| USERID | COUNTRY | LANGUAGE | RegistrationDate | AGE | GENDER | FOTotalStakes | FOTotalWinnings | FOTotalBets | FOFirstActiveDate | FOLastActiveDate | FOTotalDaysActive | LATotalStakes | LATotalWinnings | LATotalBets | LAFirstActiveDate | LALastActiveDate | LATotalDaysActive | FirstSportsActiveDate |\n",
       "|---|---|---|---|---|---|---|---|---|---|---|---|---|---|---|---|---|---|---|\n",
       "| 1324354    | 276        | 2          | 2005-02-01 | 42         | 1          | 10137.33   | 10224.12   | 236        | 2005-02-24 | 2005-09-30 | 97         | 1839.28    | 1512.49    |  43        | 2005-05-04 | 2005-09-26 | 18         | 2005-02-24 |\n",
       "| 1324355    | 300        | 8          | 2005-02-01 | 22         | 1          |   400.86   |   453.30   | 231        | 2005-02-01 | 2005-09-29 | 72         |   24.70    |   11.20    |  21        | 2005-02-01 | 2005-02-07 |  7         | 2005-02-01 |\n",
       "| 1324356    | 276        | 2          | 2005-02-01 | 28         | 1          |   686.19   |   285.51   |  98        | 2005-02-02 | 2005-09-12 | 38         |  679.07    |  625.15    | 116        | 2005-02-02 | 2005-09-11 | 23         | 2005-02-02 |\n",
       "\n"
      ],
      "text/plain": [
       "  USERID  COUNTRY LANGUAGE RegistrationDate AGE GENDER FOTotalStakes\n",
       "1 1324354 276     2        2005-02-01       42  1      10137.33     \n",
       "2 1324355 300     8        2005-02-01       22  1        400.86     \n",
       "3 1324356 276     2        2005-02-01       28  1        686.19     \n",
       "  FOTotalWinnings FOTotalBets FOFirstActiveDate FOLastActiveDate\n",
       "1 10224.12        236         2005-02-24        2005-09-30      \n",
       "2   453.30        231         2005-02-01        2005-09-29      \n",
       "3   285.51         98         2005-02-02        2005-09-12      \n",
       "  FOTotalDaysActive LATotalStakes LATotalWinnings LATotalBets LAFirstActiveDate\n",
       "1 97                1839.28       1512.49          43         2005-05-04       \n",
       "2 72                  24.70         11.20          21         2005-02-01       \n",
       "3 38                 679.07        625.15         116         2005-02-02       \n",
       "  LALastActiveDate LATotalDaysActive FirstSportsActiveDate\n",
       "1 2005-09-26       18                2005-02-24           \n",
       "2 2005-02-07        7                2005-02-01           \n",
       "3 2005-09-11       23                2005-02-02           "
      ]
     },
     "metadata": {},
     "output_type": "display_data"
    }
   ],
   "source": [
    "head(Internet_Gambling, 3)"
   ]
  },
  {
   "cell_type": "code",
   "execution_count": 8,
   "metadata": {},
   "outputs": [],
   "source": [
    "Demographics <- read_sas(\"RawData/RawDataIDemographics.sas7bdat\")"
   ]
  },
  {
   "cell_type": "code",
   "execution_count": 9,
   "metadata": {
    "scrolled": false
   },
   "outputs": [
    {
     "data": {
      "text/html": [
       "<table>\n",
       "<thead><tr><th scope=col>UserID</th><th scope=col>Country</th><th scope=col>Language</th><th scope=col>RegDate</th><th scope=col>FirstPay</th><th scope=col>FirstAct</th><th scope=col>FirstSp</th><th scope=col>FirstCa</th><th scope=col>FirstGa</th><th scope=col>FirstPo</th><th scope=col>ApplicationID</th><th scope=col>Gender</th></tr></thead>\n",
       "<tbody>\n",
       "\t<tr><td>1324354   </td><td>276       </td><td>2         </td><td>2005-02-01</td><td>20050224  </td><td>20050224  </td><td>20050224  </td><td>NULL      </td><td>NULL      </td><td>NULL      </td><td>3         </td><td>1         </td></tr>\n",
       "\t<tr><td>1324355   </td><td>300       </td><td>8         </td><td>2005-02-01</td><td>20050201  </td><td>20050201  </td><td>20050201  </td><td>NULL      </td><td>NULL      </td><td>20050611  </td><td>1         </td><td>1         </td></tr>\n",
       "\t<tr><td>1324356   </td><td>276       </td><td>2         </td><td>2005-02-01</td><td>20050201  </td><td>20050202  </td><td>20050202  </td><td>NULL      </td><td>NULL      </td><td>NULL      </td><td>3         </td><td>1         </td></tr>\n",
       "</tbody>\n",
       "</table>\n"
      ],
      "text/latex": [
       "\\begin{tabular}{r|llllllllllll}\n",
       " UserID & Country & Language & RegDate & FirstPay & FirstAct & FirstSp & FirstCa & FirstGa & FirstPo & ApplicationID & Gender\\\\\n",
       "\\hline\n",
       "\t 1324354    & 276        & 2          & 2005-02-01 & 20050224   & 20050224   & 20050224   & NULL       & NULL       & NULL       & 3          & 1         \\\\\n",
       "\t 1324355    & 300        & 8          & 2005-02-01 & 20050201   & 20050201   & 20050201   & NULL       & NULL       & 20050611   & 1          & 1         \\\\\n",
       "\t 1324356    & 276        & 2          & 2005-02-01 & 20050201   & 20050202   & 20050202   & NULL       & NULL       & NULL       & 3          & 1         \\\\\n",
       "\\end{tabular}\n"
      ],
      "text/markdown": [
       "\n",
       "| UserID | Country | Language | RegDate | FirstPay | FirstAct | FirstSp | FirstCa | FirstGa | FirstPo | ApplicationID | Gender |\n",
       "|---|---|---|---|---|---|---|---|---|---|---|---|\n",
       "| 1324354    | 276        | 2          | 2005-02-01 | 20050224   | 20050224   | 20050224   | NULL       | NULL       | NULL       | 3          | 1          |\n",
       "| 1324355    | 300        | 8          | 2005-02-01 | 20050201   | 20050201   | 20050201   | NULL       | NULL       | 20050611   | 1          | 1          |\n",
       "| 1324356    | 276        | 2          | 2005-02-01 | 20050201   | 20050202   | 20050202   | NULL       | NULL       | NULL       | 3          | 1          |\n",
       "\n"
      ],
      "text/plain": [
       "  UserID  Country Language RegDate    FirstPay FirstAct FirstSp  FirstCa\n",
       "1 1324354 276     2        2005-02-01 20050224 20050224 20050224 NULL   \n",
       "2 1324355 300     8        2005-02-01 20050201 20050201 20050201 NULL   \n",
       "3 1324356 276     2        2005-02-01 20050201 20050202 20050202 NULL   \n",
       "  FirstGa FirstPo  ApplicationID Gender\n",
       "1 NULL    NULL     3             1     \n",
       "2 NULL    20050611 1             1     \n",
       "3 NULL    NULL     3             1     "
      ]
     },
     "metadata": {},
     "output_type": "display_data"
    }
   ],
   "source": [
    "head(Demographics, 3)"
   ]
  },
  {
   "cell_type": "code",
   "execution_count": 10,
   "metadata": {},
   "outputs": [],
   "source": [
    "User_Daily_Agg <- read_sas(\"RawData/RawDataIIUserDailyAggregation.sas7bdat\")"
   ]
  },
  {
   "cell_type": "code",
   "execution_count": 11,
   "metadata": {},
   "outputs": [
    {
     "data": {
      "text/html": [
       "<table>\n",
       "<thead><tr><th scope=col>UserID</th><th scope=col>Date</th><th scope=col>ProductID</th><th scope=col>Stakes</th><th scope=col>Winnings</th><th scope=col>Bets</th></tr></thead>\n",
       "<tbody>\n",
       "\t<tr><td>1324354 </td><td>20050224</td><td>1       </td><td>20      </td><td>0       </td><td>2       </td></tr>\n",
       "\t<tr><td>1324354 </td><td>20050225</td><td>1       </td><td> 0      </td><td>0       </td><td>0       </td></tr>\n",
       "\t<tr><td>1324354 </td><td>20050227</td><td>1       </td><td>20      </td><td>0       </td><td>2       </td></tr>\n",
       "</tbody>\n",
       "</table>\n"
      ],
      "text/latex": [
       "\\begin{tabular}{r|llllll}\n",
       " UserID & Date & ProductID & Stakes & Winnings & Bets\\\\\n",
       "\\hline\n",
       "\t 1324354  & 20050224 & 1        & 20       & 0        & 2       \\\\\n",
       "\t 1324354  & 20050225 & 1        &  0       & 0        & 0       \\\\\n",
       "\t 1324354  & 20050227 & 1        & 20       & 0        & 2       \\\\\n",
       "\\end{tabular}\n"
      ],
      "text/markdown": [
       "\n",
       "| UserID | Date | ProductID | Stakes | Winnings | Bets |\n",
       "|---|---|---|---|---|---|\n",
       "| 1324354  | 20050224 | 1        | 20       | 0        | 2        |\n",
       "| 1324354  | 20050225 | 1        |  0       | 0        | 0        |\n",
       "| 1324354  | 20050227 | 1        | 20       | 0        | 2        |\n",
       "\n"
      ],
      "text/plain": [
       "  UserID  Date     ProductID Stakes Winnings Bets\n",
       "1 1324354 20050224 1         20     0        2   \n",
       "2 1324354 20050225 1          0     0        0   \n",
       "3 1324354 20050227 1         20     0        2   "
      ]
     },
     "metadata": {},
     "output_type": "display_data"
    }
   ],
   "source": [
    "head(User_Daily_Agg, 3)"
   ]
  },
  {
   "cell_type": "code",
   "execution_count": 12,
   "metadata": {},
   "outputs": [],
   "source": [
    "Poker_Chip_Conversion <- read_sas(\"RawData/RawDataIIIPokerChipConversions.sas7bdat\")"
   ]
  },
  {
   "cell_type": "code",
   "execution_count": 13,
   "metadata": {},
   "outputs": [
    {
     "data": {
      "text/html": [
       "<table>\n",
       "<thead><tr><th scope=col>UserID</th><th scope=col>TransDateTime</th><th scope=col>TransType</th><th scope=col>TransAmount</th></tr></thead>\n",
       "<tbody>\n",
       "\t<tr><td>1324355            </td><td>2005-06-12 00:37:00</td><td>124                </td><td>8.9999             </td></tr>\n",
       "\t<tr><td>1324355            </td><td>2005-06-12 00:51:00</td><td>124                </td><td>1.9999             </td></tr>\n",
       "\t<tr><td>1324355            </td><td>2005-06-12 01:14:00</td><td>124                </td><td>4.9999             </td></tr>\n",
       "</tbody>\n",
       "</table>\n"
      ],
      "text/latex": [
       "\\begin{tabular}{r|llll}\n",
       " UserID & TransDateTime & TransType & TransAmount\\\\\n",
       "\\hline\n",
       "\t 1324355             & 2005-06-12 00:37:00 & 124                 & 8.9999             \\\\\n",
       "\t 1324355             & 2005-06-12 00:51:00 & 124                 & 1.9999             \\\\\n",
       "\t 1324355             & 2005-06-12 01:14:00 & 124                 & 4.9999             \\\\\n",
       "\\end{tabular}\n"
      ],
      "text/markdown": [
       "\n",
       "| UserID | TransDateTime | TransType | TransAmount |\n",
       "|---|---|---|---|\n",
       "| 1324355             | 2005-06-12 00:37:00 | 124                 | 8.9999              |\n",
       "| 1324355             | 2005-06-12 00:51:00 | 124                 | 1.9999              |\n",
       "| 1324355             | 2005-06-12 01:14:00 | 124                 | 4.9999              |\n",
       "\n"
      ],
      "text/plain": [
       "  UserID  TransDateTime       TransType TransAmount\n",
       "1 1324355 2005-06-12 00:37:00 124       8.9999     \n",
       "2 1324355 2005-06-12 00:51:00 124       1.9999     \n",
       "3 1324355 2005-06-12 01:14:00 124       4.9999     "
      ]
     },
     "metadata": {},
     "output_type": "display_data"
    }
   ],
   "source": [
    "head(Poker_Chip_Conversion, 3)"
   ]
  },
  {
   "cell_type": "markdown",
   "metadata": {},
   "source": [
    "## II. Cleaning the Data:"
   ]
  },
  {
   "cell_type": "markdown",
   "metadata": {},
   "source": [
    "#### Internet Gambling Table:"
   ]
  },
  {
   "cell_type": "code",
   "execution_count": 14,
   "metadata": {},
   "outputs": [
    {
     "data": {
      "text/html": [
       "<table>\n",
       "<thead><tr><th scope=col>USERID</th><th scope=col>COUNTRY</th><th scope=col>LANGUAGE</th><th scope=col>RegistrationDate</th><th scope=col>AGE</th><th scope=col>GENDER</th><th scope=col>FOTotalStakes</th><th scope=col>FOTotalWinnings</th><th scope=col>FOTotalBets</th><th scope=col>FOFirstActiveDate</th><th scope=col>FOLastActiveDate</th><th scope=col>FOTotalDaysActive</th><th scope=col>LATotalStakes</th><th scope=col>LATotalWinnings</th><th scope=col>LATotalBets</th><th scope=col>LAFirstActiveDate</th><th scope=col>LALastActiveDate</th><th scope=col>LATotalDaysActive</th><th scope=col>FirstSportsActiveDate</th></tr></thead>\n",
       "<tbody>\n",
       "\t<tr><td>1324354   </td><td>276       </td><td>2         </td><td>2005-02-01</td><td>42        </td><td>1         </td><td>10137.3300</td><td>10224.1200</td><td>236       </td><td>2005-02-24</td><td>2005-09-30</td><td>97        </td><td>1839.2800 </td><td>1512.4900 </td><td> 43       </td><td>2005-05-04</td><td>2005-09-26</td><td>18        </td><td>2005-02-24</td></tr>\n",
       "\t<tr><td>1324355   </td><td>300       </td><td>8         </td><td>2005-02-01</td><td>22        </td><td>1         </td><td>  400.8600</td><td>  453.3000</td><td>231       </td><td>2005-02-01</td><td>2005-09-29</td><td>72        </td><td>  24.7000 </td><td>  11.2000 </td><td> 21       </td><td>2005-02-01</td><td>2005-02-07</td><td> 7        </td><td>2005-02-01</td></tr>\n",
       "\t<tr><td>1324356   </td><td>276       </td><td>2         </td><td>2005-02-01</td><td>28        </td><td>1         </td><td>  686.1900</td><td>  285.5100</td><td> 98       </td><td>2005-02-02</td><td>2005-09-12</td><td>38        </td><td> 679.0700 </td><td> 625.1500 </td><td>116       </td><td>2005-02-02</td><td>2005-09-11</td><td>23        </td><td>2005-02-02</td></tr>\n",
       "\t<tr><td>1324358   </td><td>752       </td><td>1         </td><td>2005-02-01</td><td>24        </td><td>1         </td><td>  247.6971</td><td>  153.8756</td><td>  7       </td><td>2005-02-01</td><td>2005-05-06</td><td> 5        </td><td>  88.5927 </td><td>  55.9819 </td><td>  4       </td><td>2005-05-03</td><td>2005-05-03</td><td> 1        </td><td>2005-02-01</td></tr>\n",
       "\t<tr><td>1324360   </td><td>792       </td><td>7         </td><td>2005-02-01</td><td>27        </td><td>1         </td><td>   59.9993</td><td>   39.9564</td><td> 40       </td><td>2005-02-02</td><td>2005-09-25</td><td>17        </td><td>   1.7434 </td><td>   1.2009 </td><td>  3       </td><td>2005-02-12</td><td>2005-09-21</td><td> 2        </td><td>2005-02-02</td></tr>\n",
       "\t<tr><td>1324362   </td><td>276       </td><td>2         </td><td>2005-02-01</td><td>22        </td><td>1         </td><td>   22.0000</td><td>    0.0000</td><td>  7       </td><td>2005-02-11</td><td>2005-09-17</td><td> 5        </td><td>       NA </td><td>       NA </td><td> NA       </td><td>NA        </td><td>NA        </td><td>NA        </td><td>2005-02-11</td></tr>\n",
       "</tbody>\n",
       "</table>\n"
      ],
      "text/latex": [
       "\\begin{tabular}{r|lllllllllllllllllll}\n",
       " USERID & COUNTRY & LANGUAGE & RegistrationDate & AGE & GENDER & FOTotalStakes & FOTotalWinnings & FOTotalBets & FOFirstActiveDate & FOLastActiveDate & FOTotalDaysActive & LATotalStakes & LATotalWinnings & LATotalBets & LAFirstActiveDate & LALastActiveDate & LATotalDaysActive & FirstSportsActiveDate\\\\\n",
       "\\hline\n",
       "\t 1324354    & 276        & 2          & 2005-02-01 & 42         & 1          & 10137.3300 & 10224.1200 & 236        & 2005-02-24 & 2005-09-30 & 97         & 1839.2800  & 1512.4900  &  43        & 2005-05-04 & 2005-09-26 & 18         & 2005-02-24\\\\\n",
       "\t 1324355    & 300        & 8          & 2005-02-01 & 22         & 1          &   400.8600 &   453.3000 & 231        & 2005-02-01 & 2005-09-29 & 72         &   24.7000  &   11.2000  &  21        & 2005-02-01 & 2005-02-07 &  7         & 2005-02-01\\\\\n",
       "\t 1324356    & 276        & 2          & 2005-02-01 & 28         & 1          &   686.1900 &   285.5100 &  98        & 2005-02-02 & 2005-09-12 & 38         &  679.0700  &  625.1500  & 116        & 2005-02-02 & 2005-09-11 & 23         & 2005-02-02\\\\\n",
       "\t 1324358    & 752        & 1          & 2005-02-01 & 24         & 1          &   247.6971 &   153.8756 &   7        & 2005-02-01 & 2005-05-06 &  5         &   88.5927  &   55.9819  &   4        & 2005-05-03 & 2005-05-03 &  1         & 2005-02-01\\\\\n",
       "\t 1324360    & 792        & 7          & 2005-02-01 & 27         & 1          &    59.9993 &    39.9564 &  40        & 2005-02-02 & 2005-09-25 & 17         &    1.7434  &    1.2009  &   3        & 2005-02-12 & 2005-09-21 &  2         & 2005-02-02\\\\\n",
       "\t 1324362    & 276        & 2          & 2005-02-01 & 22         & 1          &    22.0000 &     0.0000 &   7        & 2005-02-11 & 2005-09-17 &  5         &        NA  &        NA  &  NA        & NA         & NA         & NA         & 2005-02-11\\\\\n",
       "\\end{tabular}\n"
      ],
      "text/markdown": [
       "\n",
       "| USERID | COUNTRY | LANGUAGE | RegistrationDate | AGE | GENDER | FOTotalStakes | FOTotalWinnings | FOTotalBets | FOFirstActiveDate | FOLastActiveDate | FOTotalDaysActive | LATotalStakes | LATotalWinnings | LATotalBets | LAFirstActiveDate | LALastActiveDate | LATotalDaysActive | FirstSportsActiveDate |\n",
       "|---|---|---|---|---|---|---|---|---|---|---|---|---|---|---|---|---|---|---|\n",
       "| 1324354    | 276        | 2          | 2005-02-01 | 42         | 1          | 10137.3300 | 10224.1200 | 236        | 2005-02-24 | 2005-09-30 | 97         | 1839.2800  | 1512.4900  |  43        | 2005-05-04 | 2005-09-26 | 18         | 2005-02-24 |\n",
       "| 1324355    | 300        | 8          | 2005-02-01 | 22         | 1          |   400.8600 |   453.3000 | 231        | 2005-02-01 | 2005-09-29 | 72         |   24.7000  |   11.2000  |  21        | 2005-02-01 | 2005-02-07 |  7         | 2005-02-01 |\n",
       "| 1324356    | 276        | 2          | 2005-02-01 | 28         | 1          |   686.1900 |   285.5100 |  98        | 2005-02-02 | 2005-09-12 | 38         |  679.0700  |  625.1500  | 116        | 2005-02-02 | 2005-09-11 | 23         | 2005-02-02 |\n",
       "| 1324358    | 752        | 1          | 2005-02-01 | 24         | 1          |   247.6971 |   153.8756 |   7        | 2005-02-01 | 2005-05-06 |  5         |   88.5927  |   55.9819  |   4        | 2005-05-03 | 2005-05-03 |  1         | 2005-02-01 |\n",
       "| 1324360    | 792        | 7          | 2005-02-01 | 27         | 1          |    59.9993 |    39.9564 |  40        | 2005-02-02 | 2005-09-25 | 17         |    1.7434  |    1.2009  |   3        | 2005-02-12 | 2005-09-21 |  2         | 2005-02-02 |\n",
       "| 1324362    | 276        | 2          | 2005-02-01 | 22         | 1          |    22.0000 |     0.0000 |   7        | 2005-02-11 | 2005-09-17 |  5         |        NA  |        NA  |  NA        | NA         | NA         | NA         | 2005-02-11 |\n",
       "\n"
      ],
      "text/plain": [
       "  USERID  COUNTRY LANGUAGE RegistrationDate AGE GENDER FOTotalStakes\n",
       "1 1324354 276     2        2005-02-01       42  1      10137.3300   \n",
       "2 1324355 300     8        2005-02-01       22  1        400.8600   \n",
       "3 1324356 276     2        2005-02-01       28  1        686.1900   \n",
       "4 1324358 752     1        2005-02-01       24  1        247.6971   \n",
       "5 1324360 792     7        2005-02-01       27  1         59.9993   \n",
       "6 1324362 276     2        2005-02-01       22  1         22.0000   \n",
       "  FOTotalWinnings FOTotalBets FOFirstActiveDate FOLastActiveDate\n",
       "1 10224.1200      236         2005-02-24        2005-09-30      \n",
       "2   453.3000      231         2005-02-01        2005-09-29      \n",
       "3   285.5100       98         2005-02-02        2005-09-12      \n",
       "4   153.8756        7         2005-02-01        2005-05-06      \n",
       "5    39.9564       40         2005-02-02        2005-09-25      \n",
       "6     0.0000        7         2005-02-11        2005-09-17      \n",
       "  FOTotalDaysActive LATotalStakes LATotalWinnings LATotalBets LAFirstActiveDate\n",
       "1 97                1839.2800     1512.4900        43         2005-05-04       \n",
       "2 72                  24.7000       11.2000        21         2005-02-01       \n",
       "3 38                 679.0700      625.1500       116         2005-02-02       \n",
       "4  5                  88.5927       55.9819         4         2005-05-03       \n",
       "5 17                   1.7434        1.2009         3         2005-02-12       \n",
       "6  5                       NA            NA        NA         <NA>             \n",
       "  LALastActiveDate LATotalDaysActive FirstSportsActiveDate\n",
       "1 2005-09-26       18                2005-02-24           \n",
       "2 2005-02-07        7                2005-02-01           \n",
       "3 2005-09-11       23                2005-02-02           \n",
       "4 2005-05-03        1                2005-02-01           \n",
       "5 2005-09-21        2                2005-02-02           \n",
       "6 <NA>             NA                2005-02-11           "
      ]
     },
     "metadata": {},
     "output_type": "display_data"
    }
   ],
   "source": [
    "head(Internet_Gambling)"
   ]
  },
  {
   "cell_type": "code",
   "execution_count": 15,
   "metadata": {},
   "outputs": [
    {
     "data": {
      "text/html": [
       "<dl class=dl-horizontal>\n",
       "\t<dt>USERID</dt>\n",
       "\t\t<dd>0</dd>\n",
       "\t<dt>COUNTRY</dt>\n",
       "\t\t<dd>0</dd>\n",
       "\t<dt>LANGUAGE</dt>\n",
       "\t\t<dd>0</dd>\n",
       "\t<dt>RegistrationDate</dt>\n",
       "\t\t<dd>0</dd>\n",
       "\t<dt>AGE</dt>\n",
       "\t\t<dd>0</dd>\n",
       "\t<dt>GENDER</dt>\n",
       "\t\t<dd>1</dd>\n",
       "\t<dt>FOTotalStakes</dt>\n",
       "\t\t<dd>780</dd>\n",
       "\t<dt>FOTotalWinnings</dt>\n",
       "\t\t<dd>780</dd>\n",
       "\t<dt>FOTotalBets</dt>\n",
       "\t\t<dd>780</dd>\n",
       "\t<dt>FOFirstActiveDate</dt>\n",
       "\t\t<dd>780</dd>\n",
       "\t<dt>FOLastActiveDate</dt>\n",
       "\t\t<dd>780</dd>\n",
       "\t<dt>FOTotalDaysActive</dt>\n",
       "\t\t<dd>780</dd>\n",
       "\t<dt>LATotalStakes</dt>\n",
       "\t\t<dd>15705</dd>\n",
       "\t<dt>LATotalWinnings</dt>\n",
       "\t\t<dd>15705</dd>\n",
       "\t<dt>LATotalBets</dt>\n",
       "\t\t<dd>15705</dd>\n",
       "\t<dt>LAFirstActiveDate</dt>\n",
       "\t\t<dd>15705</dd>\n",
       "\t<dt>LALastActiveDate</dt>\n",
       "\t\t<dd>15705</dd>\n",
       "\t<dt>LATotalDaysActive</dt>\n",
       "\t\t<dd>15706</dd>\n",
       "\t<dt>FirstSportsActiveDate</dt>\n",
       "\t\t<dd>0</dd>\n",
       "</dl>\n"
      ],
      "text/latex": [
       "\\begin{description*}\n",
       "\\item[USERID] 0\n",
       "\\item[COUNTRY] 0\n",
       "\\item[LANGUAGE] 0\n",
       "\\item[RegistrationDate] 0\n",
       "\\item[AGE] 0\n",
       "\\item[GENDER] 1\n",
       "\\item[FOTotalStakes] 780\n",
       "\\item[FOTotalWinnings] 780\n",
       "\\item[FOTotalBets] 780\n",
       "\\item[FOFirstActiveDate] 780\n",
       "\\item[FOLastActiveDate] 780\n",
       "\\item[FOTotalDaysActive] 780\n",
       "\\item[LATotalStakes] 15705\n",
       "\\item[LATotalWinnings] 15705\n",
       "\\item[LATotalBets] 15705\n",
       "\\item[LAFirstActiveDate] 15705\n",
       "\\item[LALastActiveDate] 15705\n",
       "\\item[LATotalDaysActive] 15706\n",
       "\\item[FirstSportsActiveDate] 0\n",
       "\\end{description*}\n"
      ],
      "text/markdown": [
       "USERID\n",
       ":   0COUNTRY\n",
       ":   0LANGUAGE\n",
       ":   0RegistrationDate\n",
       ":   0AGE\n",
       ":   0GENDER\n",
       ":   1FOTotalStakes\n",
       ":   780FOTotalWinnings\n",
       ":   780FOTotalBets\n",
       ":   780FOFirstActiveDate\n",
       ":   780FOLastActiveDate\n",
       ":   780FOTotalDaysActive\n",
       ":   780LATotalStakes\n",
       ":   15705LATotalWinnings\n",
       ":   15705LATotalBets\n",
       ":   15705LAFirstActiveDate\n",
       ":   15705LALastActiveDate\n",
       ":   15705LATotalDaysActive\n",
       ":   15706FirstSportsActiveDate\n",
       ":   0\n",
       "\n"
      ],
      "text/plain": [
       "               USERID               COUNTRY              LANGUAGE \n",
       "                    0                     0                     0 \n",
       "     RegistrationDate                   AGE                GENDER \n",
       "                    0                     0                     1 \n",
       "        FOTotalStakes       FOTotalWinnings           FOTotalBets \n",
       "                  780                   780                   780 \n",
       "    FOFirstActiveDate      FOLastActiveDate     FOTotalDaysActive \n",
       "                  780                   780                   780 \n",
       "        LATotalStakes       LATotalWinnings           LATotalBets \n",
       "                15705                 15705                 15705 \n",
       "    LAFirstActiveDate      LALastActiveDate     LATotalDaysActive \n",
       "                15705                 15705                 15706 \n",
       "FirstSportsActiveDate \n",
       "                    0 "
      ]
     },
     "metadata": {},
     "output_type": "display_data"
    }
   ],
   "source": [
    "#Looking where the missing values are:\n",
    "sapply(Internet_Gambling,function(x) sum(is.na(x)))"
   ]
  },
  {
   "cell_type": "code",
   "execution_count": 16,
   "metadata": {},
   "outputs": [
    {
     "data": {
      "text/html": [
       "<table>\n",
       "<thead><tr><th scope=col>n</th></tr></thead>\n",
       "<tbody>\n",
       "\t<tr><td>40499</td></tr>\n",
       "</tbody>\n",
       "</table>\n"
      ],
      "text/latex": [
       "\\begin{tabular}{r|l}\n",
       " n\\\\\n",
       "\\hline\n",
       "\t 40499\\\\\n",
       "\\end{tabular}\n"
      ],
      "text/markdown": [
       "\n",
       "| n |\n",
       "|---|\n",
       "| 40499 |\n",
       "\n"
      ],
      "text/plain": [
       "  n    \n",
       "1 40499"
      ]
     },
     "metadata": {},
     "output_type": "display_data"
    }
   ],
   "source": [
    "Internet_Gambling %>%\n",
    "count()"
   ]
  },
  {
   "cell_type": "code",
   "execution_count": 17,
   "metadata": {},
   "outputs": [],
   "source": [
    "#creating age groups:\n",
    "Internet_Gambling$Age_Group <- cut(Internet_Gambling$AGE, breaks=c(10, 20, 30, 40, 50, 60, 70, 80, 90, 100, 110), right = FALSE, labels = FALSE)"
   ]
  },
  {
   "cell_type": "code",
   "execution_count": 18,
   "metadata": {},
   "outputs": [
    {
     "data": {
      "text/html": [
       "<table>\n",
       "<thead><tr><th scope=col>USERID</th><th scope=col>COUNTRY</th><th scope=col>LANGUAGE</th><th scope=col>RegistrationDate</th><th scope=col>AGE</th><th scope=col>GENDER</th><th scope=col>FOTotalStakes</th><th scope=col>FOTotalWinnings</th><th scope=col>FOTotalBets</th><th scope=col>FOFirstActiveDate</th><th scope=col>FOLastActiveDate</th><th scope=col>FOTotalDaysActive</th><th scope=col>LATotalStakes</th><th scope=col>LATotalWinnings</th><th scope=col>LATotalBets</th><th scope=col>LAFirstActiveDate</th><th scope=col>LALastActiveDate</th><th scope=col>LATotalDaysActive</th><th scope=col>FirstSportsActiveDate</th><th scope=col>Age_Group</th></tr></thead>\n",
       "<tbody>\n",
       "\t<tr><td>1324354   </td><td>276       </td><td>2         </td><td>2005-02-01</td><td>42        </td><td>1         </td><td>10137.3300</td><td>10224.1200</td><td>236       </td><td>2005-02-24</td><td>2005-09-30</td><td>97        </td><td>1839.2800 </td><td>1512.4900 </td><td> 43       </td><td>2005-05-04</td><td>2005-09-26</td><td>18        </td><td>2005-02-24</td><td>4         </td></tr>\n",
       "\t<tr><td>1324355   </td><td>300       </td><td>8         </td><td>2005-02-01</td><td>22        </td><td>1         </td><td>  400.8600</td><td>  453.3000</td><td>231       </td><td>2005-02-01</td><td>2005-09-29</td><td>72        </td><td>  24.7000 </td><td>  11.2000 </td><td> 21       </td><td>2005-02-01</td><td>2005-02-07</td><td> 7        </td><td>2005-02-01</td><td>2         </td></tr>\n",
       "\t<tr><td>1324356   </td><td>276       </td><td>2         </td><td>2005-02-01</td><td>28        </td><td>1         </td><td>  686.1900</td><td>  285.5100</td><td> 98       </td><td>2005-02-02</td><td>2005-09-12</td><td>38        </td><td> 679.0700 </td><td> 625.1500 </td><td>116       </td><td>2005-02-02</td><td>2005-09-11</td><td>23        </td><td>2005-02-02</td><td>2         </td></tr>\n",
       "\t<tr><td>1324358   </td><td>752       </td><td>1         </td><td>2005-02-01</td><td>24        </td><td>1         </td><td>  247.6971</td><td>  153.8756</td><td>  7       </td><td>2005-02-01</td><td>2005-05-06</td><td> 5        </td><td>  88.5927 </td><td>  55.9819 </td><td>  4       </td><td>2005-05-03</td><td>2005-05-03</td><td> 1        </td><td>2005-02-01</td><td>2         </td></tr>\n",
       "\t<tr><td>1324360   </td><td>792       </td><td>7         </td><td>2005-02-01</td><td>27        </td><td>1         </td><td>   59.9993</td><td>   39.9564</td><td> 40       </td><td>2005-02-02</td><td>2005-09-25</td><td>17        </td><td>   1.7434 </td><td>   1.2009 </td><td>  3       </td><td>2005-02-12</td><td>2005-09-21</td><td> 2        </td><td>2005-02-02</td><td>2         </td></tr>\n",
       "\t<tr><td>1324362   </td><td>276       </td><td>2         </td><td>2005-02-01</td><td>22        </td><td>1         </td><td>   22.0000</td><td>    0.0000</td><td>  7       </td><td>2005-02-11</td><td>2005-09-17</td><td> 5        </td><td>       NA </td><td>       NA </td><td> NA       </td><td>NA        </td><td>NA        </td><td>NA        </td><td>2005-02-11</td><td>2         </td></tr>\n",
       "</tbody>\n",
       "</table>\n"
      ],
      "text/latex": [
       "\\begin{tabular}{r|llllllllllllllllllll}\n",
       " USERID & COUNTRY & LANGUAGE & RegistrationDate & AGE & GENDER & FOTotalStakes & FOTotalWinnings & FOTotalBets & FOFirstActiveDate & FOLastActiveDate & FOTotalDaysActive & LATotalStakes & LATotalWinnings & LATotalBets & LAFirstActiveDate & LALastActiveDate & LATotalDaysActive & FirstSportsActiveDate & Age\\_Group\\\\\n",
       "\\hline\n",
       "\t 1324354    & 276        & 2          & 2005-02-01 & 42         & 1          & 10137.3300 & 10224.1200 & 236        & 2005-02-24 & 2005-09-30 & 97         & 1839.2800  & 1512.4900  &  43        & 2005-05-04 & 2005-09-26 & 18         & 2005-02-24 & 4         \\\\\n",
       "\t 1324355    & 300        & 8          & 2005-02-01 & 22         & 1          &   400.8600 &   453.3000 & 231        & 2005-02-01 & 2005-09-29 & 72         &   24.7000  &   11.2000  &  21        & 2005-02-01 & 2005-02-07 &  7         & 2005-02-01 & 2         \\\\\n",
       "\t 1324356    & 276        & 2          & 2005-02-01 & 28         & 1          &   686.1900 &   285.5100 &  98        & 2005-02-02 & 2005-09-12 & 38         &  679.0700  &  625.1500  & 116        & 2005-02-02 & 2005-09-11 & 23         & 2005-02-02 & 2         \\\\\n",
       "\t 1324358    & 752        & 1          & 2005-02-01 & 24         & 1          &   247.6971 &   153.8756 &   7        & 2005-02-01 & 2005-05-06 &  5         &   88.5927  &   55.9819  &   4        & 2005-05-03 & 2005-05-03 &  1         & 2005-02-01 & 2         \\\\\n",
       "\t 1324360    & 792        & 7          & 2005-02-01 & 27         & 1          &    59.9993 &    39.9564 &  40        & 2005-02-02 & 2005-09-25 & 17         &    1.7434  &    1.2009  &   3        & 2005-02-12 & 2005-09-21 &  2         & 2005-02-02 & 2         \\\\\n",
       "\t 1324362    & 276        & 2          & 2005-02-01 & 22         & 1          &    22.0000 &     0.0000 &   7        & 2005-02-11 & 2005-09-17 &  5         &        NA  &        NA  &  NA        & NA         & NA         & NA         & 2005-02-11 & 2         \\\\\n",
       "\\end{tabular}\n"
      ],
      "text/markdown": [
       "\n",
       "| USERID | COUNTRY | LANGUAGE | RegistrationDate | AGE | GENDER | FOTotalStakes | FOTotalWinnings | FOTotalBets | FOFirstActiveDate | FOLastActiveDate | FOTotalDaysActive | LATotalStakes | LATotalWinnings | LATotalBets | LAFirstActiveDate | LALastActiveDate | LATotalDaysActive | FirstSportsActiveDate | Age_Group |\n",
       "|---|---|---|---|---|---|---|---|---|---|---|---|---|---|---|---|---|---|---|---|\n",
       "| 1324354    | 276        | 2          | 2005-02-01 | 42         | 1          | 10137.3300 | 10224.1200 | 236        | 2005-02-24 | 2005-09-30 | 97         | 1839.2800  | 1512.4900  |  43        | 2005-05-04 | 2005-09-26 | 18         | 2005-02-24 | 4          |\n",
       "| 1324355    | 300        | 8          | 2005-02-01 | 22         | 1          |   400.8600 |   453.3000 | 231        | 2005-02-01 | 2005-09-29 | 72         |   24.7000  |   11.2000  |  21        | 2005-02-01 | 2005-02-07 |  7         | 2005-02-01 | 2          |\n",
       "| 1324356    | 276        | 2          | 2005-02-01 | 28         | 1          |   686.1900 |   285.5100 |  98        | 2005-02-02 | 2005-09-12 | 38         |  679.0700  |  625.1500  | 116        | 2005-02-02 | 2005-09-11 | 23         | 2005-02-02 | 2          |\n",
       "| 1324358    | 752        | 1          | 2005-02-01 | 24         | 1          |   247.6971 |   153.8756 |   7        | 2005-02-01 | 2005-05-06 |  5         |   88.5927  |   55.9819  |   4        | 2005-05-03 | 2005-05-03 |  1         | 2005-02-01 | 2          |\n",
       "| 1324360    | 792        | 7          | 2005-02-01 | 27         | 1          |    59.9993 |    39.9564 |  40        | 2005-02-02 | 2005-09-25 | 17         |    1.7434  |    1.2009  |   3        | 2005-02-12 | 2005-09-21 |  2         | 2005-02-02 | 2          |\n",
       "| 1324362    | 276        | 2          | 2005-02-01 | 22         | 1          |    22.0000 |     0.0000 |   7        | 2005-02-11 | 2005-09-17 |  5         |        NA  |        NA  |  NA        | NA         | NA         | NA         | 2005-02-11 | 2          |\n",
       "\n"
      ],
      "text/plain": [
       "  USERID  COUNTRY LANGUAGE RegistrationDate AGE GENDER FOTotalStakes\n",
       "1 1324354 276     2        2005-02-01       42  1      10137.3300   \n",
       "2 1324355 300     8        2005-02-01       22  1        400.8600   \n",
       "3 1324356 276     2        2005-02-01       28  1        686.1900   \n",
       "4 1324358 752     1        2005-02-01       24  1        247.6971   \n",
       "5 1324360 792     7        2005-02-01       27  1         59.9993   \n",
       "6 1324362 276     2        2005-02-01       22  1         22.0000   \n",
       "  FOTotalWinnings FOTotalBets FOFirstActiveDate FOLastActiveDate\n",
       "1 10224.1200      236         2005-02-24        2005-09-30      \n",
       "2   453.3000      231         2005-02-01        2005-09-29      \n",
       "3   285.5100       98         2005-02-02        2005-09-12      \n",
       "4   153.8756        7         2005-02-01        2005-05-06      \n",
       "5    39.9564       40         2005-02-02        2005-09-25      \n",
       "6     0.0000        7         2005-02-11        2005-09-17      \n",
       "  FOTotalDaysActive LATotalStakes LATotalWinnings LATotalBets LAFirstActiveDate\n",
       "1 97                1839.2800     1512.4900        43         2005-05-04       \n",
       "2 72                  24.7000       11.2000        21         2005-02-01       \n",
       "3 38                 679.0700      625.1500       116         2005-02-02       \n",
       "4  5                  88.5927       55.9819         4         2005-05-03       \n",
       "5 17                   1.7434        1.2009         3         2005-02-12       \n",
       "6  5                       NA            NA        NA         <NA>             \n",
       "  LALastActiveDate LATotalDaysActive FirstSportsActiveDate Age_Group\n",
       "1 2005-09-26       18                2005-02-24            4        \n",
       "2 2005-02-07        7                2005-02-01            2        \n",
       "3 2005-09-11       23                2005-02-02            2        \n",
       "4 2005-05-03        1                2005-02-01            2        \n",
       "5 2005-09-21        2                2005-02-02            2        \n",
       "6 <NA>             NA                2005-02-11            2        "
      ]
     },
     "metadata": {},
     "output_type": "display_data"
    }
   ],
   "source": [
    "head(Internet_Gambling)"
   ]
  },
  {
   "cell_type": "code",
   "execution_count": 19,
   "metadata": {},
   "outputs": [
    {
     "data": {
      "text/html": [
       "<dl class=dl-horizontal>\n",
       "\t<dt>USERID</dt>\n",
       "\t\t<dd>0</dd>\n",
       "\t<dt>COUNTRY</dt>\n",
       "\t\t<dd>0</dd>\n",
       "\t<dt>LANGUAGE</dt>\n",
       "\t\t<dd>0</dd>\n",
       "\t<dt>RegistrationDate</dt>\n",
       "\t\t<dd>0</dd>\n",
       "\t<dt>AGE</dt>\n",
       "\t\t<dd>0</dd>\n",
       "\t<dt>GENDER</dt>\n",
       "\t\t<dd>1</dd>\n",
       "\t<dt>FOTotalStakes</dt>\n",
       "\t\t<dd>780</dd>\n",
       "\t<dt>FOTotalWinnings</dt>\n",
       "\t\t<dd>780</dd>\n",
       "\t<dt>FOTotalBets</dt>\n",
       "\t\t<dd>780</dd>\n",
       "\t<dt>FOFirstActiveDate</dt>\n",
       "\t\t<dd>780</dd>\n",
       "\t<dt>FOLastActiveDate</dt>\n",
       "\t\t<dd>780</dd>\n",
       "\t<dt>FOTotalDaysActive</dt>\n",
       "\t\t<dd>780</dd>\n",
       "\t<dt>LATotalStakes</dt>\n",
       "\t\t<dd>15705</dd>\n",
       "\t<dt>LATotalWinnings</dt>\n",
       "\t\t<dd>15705</dd>\n",
       "\t<dt>LATotalBets</dt>\n",
       "\t\t<dd>15705</dd>\n",
       "\t<dt>LAFirstActiveDate</dt>\n",
       "\t\t<dd>15705</dd>\n",
       "\t<dt>LALastActiveDate</dt>\n",
       "\t\t<dd>15705</dd>\n",
       "\t<dt>LATotalDaysActive</dt>\n",
       "\t\t<dd>15706</dd>\n",
       "\t<dt>FirstSportsActiveDate</dt>\n",
       "\t\t<dd>0</dd>\n",
       "\t<dt>Age_Group</dt>\n",
       "\t\t<dd>0</dd>\n",
       "</dl>\n"
      ],
      "text/latex": [
       "\\begin{description*}\n",
       "\\item[USERID] 0\n",
       "\\item[COUNTRY] 0\n",
       "\\item[LANGUAGE] 0\n",
       "\\item[RegistrationDate] 0\n",
       "\\item[AGE] 0\n",
       "\\item[GENDER] 1\n",
       "\\item[FOTotalStakes] 780\n",
       "\\item[FOTotalWinnings] 780\n",
       "\\item[FOTotalBets] 780\n",
       "\\item[FOFirstActiveDate] 780\n",
       "\\item[FOLastActiveDate] 780\n",
       "\\item[FOTotalDaysActive] 780\n",
       "\\item[LATotalStakes] 15705\n",
       "\\item[LATotalWinnings] 15705\n",
       "\\item[LATotalBets] 15705\n",
       "\\item[LAFirstActiveDate] 15705\n",
       "\\item[LALastActiveDate] 15705\n",
       "\\item[LATotalDaysActive] 15706\n",
       "\\item[FirstSportsActiveDate] 0\n",
       "\\item[Age\\textbackslash{}\\_Group] 0\n",
       "\\end{description*}\n"
      ],
      "text/markdown": [
       "USERID\n",
       ":   0COUNTRY\n",
       ":   0LANGUAGE\n",
       ":   0RegistrationDate\n",
       ":   0AGE\n",
       ":   0GENDER\n",
       ":   1FOTotalStakes\n",
       ":   780FOTotalWinnings\n",
       ":   780FOTotalBets\n",
       ":   780FOFirstActiveDate\n",
       ":   780FOLastActiveDate\n",
       ":   780FOTotalDaysActive\n",
       ":   780LATotalStakes\n",
       ":   15705LATotalWinnings\n",
       ":   15705LATotalBets\n",
       ":   15705LAFirstActiveDate\n",
       ":   15705LALastActiveDate\n",
       ":   15705LATotalDaysActive\n",
       ":   15706FirstSportsActiveDate\n",
       ":   0Age_Group\n",
       ":   0\n",
       "\n"
      ],
      "text/plain": [
       "               USERID               COUNTRY              LANGUAGE \n",
       "                    0                     0                     0 \n",
       "     RegistrationDate                   AGE                GENDER \n",
       "                    0                     0                     1 \n",
       "        FOTotalStakes       FOTotalWinnings           FOTotalBets \n",
       "                  780                   780                   780 \n",
       "    FOFirstActiveDate      FOLastActiveDate     FOTotalDaysActive \n",
       "                  780                   780                   780 \n",
       "        LATotalStakes       LATotalWinnings           LATotalBets \n",
       "                15705                 15705                 15705 \n",
       "    LAFirstActiveDate      LALastActiveDate     LATotalDaysActive \n",
       "                15705                 15705                 15706 \n",
       "FirstSportsActiveDate             Age_Group \n",
       "                    0                     0 "
      ]
     },
     "metadata": {},
     "output_type": "display_data"
    }
   ],
   "source": [
    "#Looking where the missing values are:\n",
    "sapply(Internet_Gambling,function(x) sum(is.na(x)))"
   ]
  },
  {
   "cell_type": "markdown",
   "metadata": {},
   "source": [
    "#### Demographic Table:"
   ]
  },
  {
   "cell_type": "code",
   "execution_count": 20,
   "metadata": {},
   "outputs": [
    {
     "data": {
      "text/html": [
       "<table>\n",
       "<thead><tr><th scope=col>UserID</th><th scope=col>Country</th><th scope=col>Language</th><th scope=col>RegDate</th><th scope=col>FirstPay</th><th scope=col>FirstAct</th><th scope=col>FirstSp</th><th scope=col>FirstCa</th><th scope=col>FirstGa</th><th scope=col>FirstPo</th><th scope=col>ApplicationID</th><th scope=col>Gender</th></tr></thead>\n",
       "<tbody>\n",
       "\t<tr><td>1324354   </td><td>276       </td><td>2         </td><td>2005-02-01</td><td>20050224  </td><td>20050224  </td><td>20050224  </td><td>NULL      </td><td>NULL      </td><td>NULL      </td><td>3         </td><td>1         </td></tr>\n",
       "\t<tr><td>1324355   </td><td>300       </td><td>8         </td><td>2005-02-01</td><td>20050201  </td><td>20050201  </td><td>20050201  </td><td>NULL      </td><td>NULL      </td><td>20050611  </td><td>1         </td><td>1         </td></tr>\n",
       "\t<tr><td>1324356   </td><td>276       </td><td>2         </td><td>2005-02-01</td><td>20050201  </td><td>20050202  </td><td>20050202  </td><td>NULL      </td><td>NULL      </td><td>NULL      </td><td>3         </td><td>1         </td></tr>\n",
       "\t<tr><td>1324358   </td><td>752       </td><td>1         </td><td>2005-02-01</td><td>20050201  </td><td>20050201  </td><td>20050201  </td><td>NULL      </td><td>NULL      </td><td>NULL      </td><td>1         </td><td>1         </td></tr>\n",
       "\t<tr><td>1324360   </td><td>792       </td><td>7         </td><td>2005-02-01</td><td>20050202  </td><td>20050202  </td><td>20050202  </td><td>20050203  </td><td>NULL      </td><td>NULL      </td><td>9         </td><td>1         </td></tr>\n",
       "\t<tr><td>1324362   </td><td>276       </td><td>2         </td><td>2005-02-01</td><td>20050211  </td><td>20050211  </td><td>20050211  </td><td>NULL      </td><td>NULL      </td><td>NULL      </td><td>3         </td><td>1         </td></tr>\n",
       "</tbody>\n",
       "</table>\n"
      ],
      "text/latex": [
       "\\begin{tabular}{r|llllllllllll}\n",
       " UserID & Country & Language & RegDate & FirstPay & FirstAct & FirstSp & FirstCa & FirstGa & FirstPo & ApplicationID & Gender\\\\\n",
       "\\hline\n",
       "\t 1324354    & 276        & 2          & 2005-02-01 & 20050224   & 20050224   & 20050224   & NULL       & NULL       & NULL       & 3          & 1         \\\\\n",
       "\t 1324355    & 300        & 8          & 2005-02-01 & 20050201   & 20050201   & 20050201   & NULL       & NULL       & 20050611   & 1          & 1         \\\\\n",
       "\t 1324356    & 276        & 2          & 2005-02-01 & 20050201   & 20050202   & 20050202   & NULL       & NULL       & NULL       & 3          & 1         \\\\\n",
       "\t 1324358    & 752        & 1          & 2005-02-01 & 20050201   & 20050201   & 20050201   & NULL       & NULL       & NULL       & 1          & 1         \\\\\n",
       "\t 1324360    & 792        & 7          & 2005-02-01 & 20050202   & 20050202   & 20050202   & 20050203   & NULL       & NULL       & 9          & 1         \\\\\n",
       "\t 1324362    & 276        & 2          & 2005-02-01 & 20050211   & 20050211   & 20050211   & NULL       & NULL       & NULL       & 3          & 1         \\\\\n",
       "\\end{tabular}\n"
      ],
      "text/markdown": [
       "\n",
       "| UserID | Country | Language | RegDate | FirstPay | FirstAct | FirstSp | FirstCa | FirstGa | FirstPo | ApplicationID | Gender |\n",
       "|---|---|---|---|---|---|---|---|---|---|---|---|\n",
       "| 1324354    | 276        | 2          | 2005-02-01 | 20050224   | 20050224   | 20050224   | NULL       | NULL       | NULL       | 3          | 1          |\n",
       "| 1324355    | 300        | 8          | 2005-02-01 | 20050201   | 20050201   | 20050201   | NULL       | NULL       | 20050611   | 1          | 1          |\n",
       "| 1324356    | 276        | 2          | 2005-02-01 | 20050201   | 20050202   | 20050202   | NULL       | NULL       | NULL       | 3          | 1          |\n",
       "| 1324358    | 752        | 1          | 2005-02-01 | 20050201   | 20050201   | 20050201   | NULL       | NULL       | NULL       | 1          | 1          |\n",
       "| 1324360    | 792        | 7          | 2005-02-01 | 20050202   | 20050202   | 20050202   | 20050203   | NULL       | NULL       | 9          | 1          |\n",
       "| 1324362    | 276        | 2          | 2005-02-01 | 20050211   | 20050211   | 20050211   | NULL       | NULL       | NULL       | 3          | 1          |\n",
       "\n"
      ],
      "text/plain": [
       "  UserID  Country Language RegDate    FirstPay FirstAct FirstSp  FirstCa \n",
       "1 1324354 276     2        2005-02-01 20050224 20050224 20050224 NULL    \n",
       "2 1324355 300     8        2005-02-01 20050201 20050201 20050201 NULL    \n",
       "3 1324356 276     2        2005-02-01 20050201 20050202 20050202 NULL    \n",
       "4 1324358 752     1        2005-02-01 20050201 20050201 20050201 NULL    \n",
       "5 1324360 792     7        2005-02-01 20050202 20050202 20050202 20050203\n",
       "6 1324362 276     2        2005-02-01 20050211 20050211 20050211 NULL    \n",
       "  FirstGa FirstPo  ApplicationID Gender\n",
       "1 NULL    NULL     3             1     \n",
       "2 NULL    20050611 1             1     \n",
       "3 NULL    NULL     3             1     \n",
       "4 NULL    NULL     1             1     \n",
       "5 NULL    NULL     9             1     \n",
       "6 NULL    NULL     3             1     "
      ]
     },
     "metadata": {},
     "output_type": "display_data"
    }
   ],
   "source": [
    "head(Demographics)"
   ]
  },
  {
   "cell_type": "markdown",
   "metadata": {},
   "source": [
    "Formating Dates:"
   ]
  },
  {
   "cell_type": "code",
   "execution_count": 21,
   "metadata": {},
   "outputs": [
    {
     "name": "stderr",
     "output_type": "stream",
     "text": [
      "Warning message:\n",
      "\" 1236 failed to parse.\"Warning message:\n",
      "\" 36761 failed to parse.\"Warning message:\n",
      "\" 39376 failed to parse.\"Warning message:\n",
      "\" 40507 failed to parse.\""
     ]
    }
   ],
   "source": [
    "#Here we need to covert firstpay, firstact,firstsp, FirstCa, FirstGa, FirstPo into date fromats\n",
    "Demographics$FirstPay= ymd(Demographics$FirstPay)\n",
    "Demographics$FirstAct= ymd(Demographics$FirstAct)\n",
    "Demographics$FirstSp= ymd(Demographics$FirstSp)\n",
    "Demographics$FirstCa= ymd(Demographics$FirstCa)\n",
    "Demographics$FirstGa= ymd(Demographics$FirstGa)\n",
    "Demographics$FirstPo= ymd(Demographics$FirstPo)"
   ]
  },
  {
   "cell_type": "code",
   "execution_count": 22,
   "metadata": {
    "scrolled": false
   },
   "outputs": [
    {
     "data": {
      "text/html": [
       "<table>\n",
       "<thead><tr><th scope=col>UserID</th><th scope=col>Country</th><th scope=col>Language</th><th scope=col>RegDate</th><th scope=col>FirstPay</th><th scope=col>FirstAct</th><th scope=col>FirstSp</th><th scope=col>FirstCa</th><th scope=col>FirstGa</th><th scope=col>FirstPo</th><th scope=col>ApplicationID</th><th scope=col>Gender</th></tr></thead>\n",
       "<tbody>\n",
       "\t<tr><td>1324354   </td><td>276       </td><td>2         </td><td>2005-02-01</td><td>2005-02-24</td><td>2005-02-24</td><td>2005-02-24</td><td>NA        </td><td>NA        </td><td>NA        </td><td>3         </td><td>1         </td></tr>\n",
       "\t<tr><td>1324355   </td><td>300       </td><td>8         </td><td>2005-02-01</td><td>2005-02-01</td><td>2005-02-01</td><td>2005-02-01</td><td>NA        </td><td>NA        </td><td>2005-06-11</td><td>1         </td><td>1         </td></tr>\n",
       "\t<tr><td>1324356   </td><td>276       </td><td>2         </td><td>2005-02-01</td><td>2005-02-01</td><td>2005-02-02</td><td>2005-02-02</td><td>NA        </td><td>NA        </td><td>NA        </td><td>3         </td><td>1         </td></tr>\n",
       "\t<tr><td>1324358   </td><td>752       </td><td>1         </td><td>2005-02-01</td><td>2005-02-01</td><td>2005-02-01</td><td>2005-02-01</td><td>NA        </td><td>NA        </td><td>NA        </td><td>1         </td><td>1         </td></tr>\n",
       "\t<tr><td>1324360   </td><td>792       </td><td>7         </td><td>2005-02-01</td><td>2005-02-02</td><td>2005-02-02</td><td>2005-02-02</td><td>2005-02-03</td><td>NA        </td><td>NA        </td><td>9         </td><td>1         </td></tr>\n",
       "\t<tr><td>1324362   </td><td>276       </td><td>2         </td><td>2005-02-01</td><td>2005-02-11</td><td>2005-02-11</td><td>2005-02-11</td><td>NA        </td><td>NA        </td><td>NA        </td><td>3         </td><td>1         </td></tr>\n",
       "</tbody>\n",
       "</table>\n"
      ],
      "text/latex": [
       "\\begin{tabular}{r|llllllllllll}\n",
       " UserID & Country & Language & RegDate & FirstPay & FirstAct & FirstSp & FirstCa & FirstGa & FirstPo & ApplicationID & Gender\\\\\n",
       "\\hline\n",
       "\t 1324354    & 276        & 2          & 2005-02-01 & 2005-02-24 & 2005-02-24 & 2005-02-24 & NA         & NA         & NA         & 3          & 1         \\\\\n",
       "\t 1324355    & 300        & 8          & 2005-02-01 & 2005-02-01 & 2005-02-01 & 2005-02-01 & NA         & NA         & 2005-06-11 & 1          & 1         \\\\\n",
       "\t 1324356    & 276        & 2          & 2005-02-01 & 2005-02-01 & 2005-02-02 & 2005-02-02 & NA         & NA         & NA         & 3          & 1         \\\\\n",
       "\t 1324358    & 752        & 1          & 2005-02-01 & 2005-02-01 & 2005-02-01 & 2005-02-01 & NA         & NA         & NA         & 1          & 1         \\\\\n",
       "\t 1324360    & 792        & 7          & 2005-02-01 & 2005-02-02 & 2005-02-02 & 2005-02-02 & 2005-02-03 & NA         & NA         & 9          & 1         \\\\\n",
       "\t 1324362    & 276        & 2          & 2005-02-01 & 2005-02-11 & 2005-02-11 & 2005-02-11 & NA         & NA         & NA         & 3          & 1         \\\\\n",
       "\\end{tabular}\n"
      ],
      "text/markdown": [
       "\n",
       "| UserID | Country | Language | RegDate | FirstPay | FirstAct | FirstSp | FirstCa | FirstGa | FirstPo | ApplicationID | Gender |\n",
       "|---|---|---|---|---|---|---|---|---|---|---|---|\n",
       "| 1324354    | 276        | 2          | 2005-02-01 | 2005-02-24 | 2005-02-24 | 2005-02-24 | NA         | NA         | NA         | 3          | 1          |\n",
       "| 1324355    | 300        | 8          | 2005-02-01 | 2005-02-01 | 2005-02-01 | 2005-02-01 | NA         | NA         | 2005-06-11 | 1          | 1          |\n",
       "| 1324356    | 276        | 2          | 2005-02-01 | 2005-02-01 | 2005-02-02 | 2005-02-02 | NA         | NA         | NA         | 3          | 1          |\n",
       "| 1324358    | 752        | 1          | 2005-02-01 | 2005-02-01 | 2005-02-01 | 2005-02-01 | NA         | NA         | NA         | 1          | 1          |\n",
       "| 1324360    | 792        | 7          | 2005-02-01 | 2005-02-02 | 2005-02-02 | 2005-02-02 | 2005-02-03 | NA         | NA         | 9          | 1          |\n",
       "| 1324362    | 276        | 2          | 2005-02-01 | 2005-02-11 | 2005-02-11 | 2005-02-11 | NA         | NA         | NA         | 3          | 1          |\n",
       "\n"
      ],
      "text/plain": [
       "  UserID  Country Language RegDate    FirstPay   FirstAct   FirstSp   \n",
       "1 1324354 276     2        2005-02-01 2005-02-24 2005-02-24 2005-02-24\n",
       "2 1324355 300     8        2005-02-01 2005-02-01 2005-02-01 2005-02-01\n",
       "3 1324356 276     2        2005-02-01 2005-02-01 2005-02-02 2005-02-02\n",
       "4 1324358 752     1        2005-02-01 2005-02-01 2005-02-01 2005-02-01\n",
       "5 1324360 792     7        2005-02-01 2005-02-02 2005-02-02 2005-02-02\n",
       "6 1324362 276     2        2005-02-01 2005-02-11 2005-02-11 2005-02-11\n",
       "  FirstCa    FirstGa FirstPo    ApplicationID Gender\n",
       "1 <NA>       <NA>    <NA>       3             1     \n",
       "2 <NA>       <NA>    2005-06-11 1             1     \n",
       "3 <NA>       <NA>    <NA>       3             1     \n",
       "4 <NA>       <NA>    <NA>       1             1     \n",
       "5 2005-02-03 <NA>    <NA>       9             1     \n",
       "6 <NA>       <NA>    <NA>       3             1     "
      ]
     },
     "metadata": {},
     "output_type": "display_data"
    }
   ],
   "source": [
    "head(Demographics)"
   ]
  },
  {
   "cell_type": "markdown",
   "metadata": {},
   "source": [
    "Dealing with missing values"
   ]
  },
  {
   "cell_type": "code",
   "execution_count": 23,
   "metadata": {},
   "outputs": [
    {
     "data": {
      "text/html": [
       "<dl class=dl-horizontal>\n",
       "\t<dt>UserID</dt>\n",
       "\t\t<dd>0</dd>\n",
       "\t<dt>Country</dt>\n",
       "\t\t<dd>0</dd>\n",
       "\t<dt>Language</dt>\n",
       "\t\t<dd>0</dd>\n",
       "\t<dt>RegDate</dt>\n",
       "\t\t<dd>0</dd>\n",
       "\t<dt>FirstPay</dt>\n",
       "\t\t<dd>0</dd>\n",
       "\t<dt>FirstAct</dt>\n",
       "\t\t<dd>2</dd>\n",
       "\t<dt>FirstSp</dt>\n",
       "\t\t<dd>1236</dd>\n",
       "\t<dt>FirstCa</dt>\n",
       "\t\t<dd>36761</dd>\n",
       "\t<dt>FirstGa</dt>\n",
       "\t\t<dd>39376</dd>\n",
       "\t<dt>FirstPo</dt>\n",
       "\t\t<dd>40507</dd>\n",
       "\t<dt>ApplicationID</dt>\n",
       "\t\t<dd>0</dd>\n",
       "\t<dt>Gender</dt>\n",
       "\t\t<dd>1</dd>\n",
       "</dl>\n"
      ],
      "text/latex": [
       "\\begin{description*}\n",
       "\\item[UserID] 0\n",
       "\\item[Country] 0\n",
       "\\item[Language] 0\n",
       "\\item[RegDate] 0\n",
       "\\item[FirstPay] 0\n",
       "\\item[FirstAct] 2\n",
       "\\item[FirstSp] 1236\n",
       "\\item[FirstCa] 36761\n",
       "\\item[FirstGa] 39376\n",
       "\\item[FirstPo] 40507\n",
       "\\item[ApplicationID] 0\n",
       "\\item[Gender] 1\n",
       "\\end{description*}\n"
      ],
      "text/markdown": [
       "UserID\n",
       ":   0Country\n",
       ":   0Language\n",
       ":   0RegDate\n",
       ":   0FirstPay\n",
       ":   0FirstAct\n",
       ":   2FirstSp\n",
       ":   1236FirstCa\n",
       ":   36761FirstGa\n",
       ":   39376FirstPo\n",
       ":   40507ApplicationID\n",
       ":   0Gender\n",
       ":   1\n",
       "\n"
      ],
      "text/plain": [
       "       UserID       Country      Language       RegDate      FirstPay \n",
       "            0             0             0             0             0 \n",
       "     FirstAct       FirstSp       FirstCa       FirstGa       FirstPo \n",
       "            2          1236         36761         39376         40507 \n",
       "ApplicationID        Gender \n",
       "            0             1 "
      ]
     },
     "metadata": {},
     "output_type": "display_data"
    }
   ],
   "source": [
    "#Looking where the missing values are:\n",
    "sapply(Demographics,function(x) sum(is.na(x)))\n",
    "# need to change missing value gender\n",
    "       \n",
    "# For the rest we decide not to replace the values as here missing values are only in dates of FirstSp, FirstCa, FirstGa and FirstPomean.\n",
    "# The null values here mean that the user never played that game so obviously there is no date."
   ]
  },
  {
   "cell_type": "code",
   "execution_count": 24,
   "metadata": {},
   "outputs": [
    {
     "data": {
      "text/html": [
       "<table>\n",
       "<thead><tr><th scope=col>UserID</th><th scope=col>Country</th><th scope=col>Language</th><th scope=col>RegDate</th><th scope=col>FirstPay</th><th scope=col>FirstAct</th><th scope=col>FirstSp</th><th scope=col>FirstCa</th><th scope=col>FirstGa</th><th scope=col>FirstPo</th><th scope=col>ApplicationID</th><th scope=col>Gender</th></tr></thead>\n",
       "<tbody>\n",
       "\t<tr><td>1393233   </td><td>724       </td><td>4         </td><td>2005-02-25</td><td>2005-03-14</td><td>2005-03-14</td><td>2005-03-14</td><td>NA        </td><td>NA        </td><td>NA        </td><td>1         </td><td>NA        </td></tr>\n",
       "</tbody>\n",
       "</table>\n"
      ],
      "text/latex": [
       "\\begin{tabular}{r|llllllllllll}\n",
       " UserID & Country & Language & RegDate & FirstPay & FirstAct & FirstSp & FirstCa & FirstGa & FirstPo & ApplicationID & Gender\\\\\n",
       "\\hline\n",
       "\t 1393233    & 724        & 4          & 2005-02-25 & 2005-03-14 & 2005-03-14 & 2005-03-14 & NA         & NA         & NA         & 1          & NA        \\\\\n",
       "\\end{tabular}\n"
      ],
      "text/markdown": [
       "\n",
       "| UserID | Country | Language | RegDate | FirstPay | FirstAct | FirstSp | FirstCa | FirstGa | FirstPo | ApplicationID | Gender |\n",
       "|---|---|---|---|---|---|---|---|---|---|---|---|\n",
       "| 1393233    | 724        | 4          | 2005-02-25 | 2005-03-14 | 2005-03-14 | 2005-03-14 | NA         | NA         | NA         | 1          | NA         |\n",
       "\n"
      ],
      "text/plain": [
       "  UserID  Country Language RegDate    FirstPay   FirstAct   FirstSp    FirstCa\n",
       "1 1393233 724     4        2005-02-25 2005-03-14 2005-03-14 2005-03-14 <NA>   \n",
       "  FirstGa FirstPo ApplicationID Gender\n",
       "1 <NA>    <NA>    1             NA    "
      ]
     },
     "metadata": {},
     "output_type": "display_data"
    }
   ],
   "source": [
    "# Looking for which country the missing value is:\n",
    "Demographics[is.na(Demographics$Gender),]"
   ]
  },
  {
   "cell_type": "code",
   "execution_count": 25,
   "metadata": {},
   "outputs": [
    {
     "data": {
      "text/plain": [
       "     UserID           Country       Language        RegDate         \n",
       " Min.   :1324405   Min.   :724   Min.   : 1.000   Length:2407       \n",
       " 1st Qu.:1341778   1st Qu.:724   1st Qu.: 4.000   Class :character  \n",
       " Median :1364481   Median :724   Median : 4.000   Mode  :character  \n",
       " Mean   :1363429   Mean   :724   Mean   : 4.598                     \n",
       " 3rd Qu.:1384511   3rd Qu.:724   3rd Qu.: 4.000                     \n",
       " Max.   :1402191   Max.   :724   Max.   :12.000                     \n",
       "                                                                    \n",
       "    FirstPay             FirstAct             FirstSp          \n",
       " Min.   :2005-02-01   Min.   :2005-02-01   Min.   :2005-02-01  \n",
       " 1st Qu.:2005-02-11   1st Qu.:2005-02-11   1st Qu.:2005-02-11  \n",
       " Median :2005-02-20   Median :2005-02-21   Median :2005-02-21  \n",
       " Mean   :2005-03-02   Mean   :2005-03-02   Mean   :2005-03-02  \n",
       " 3rd Qu.:2005-02-26   3rd Qu.:2005-02-26   3rd Qu.:2005-02-26  \n",
       " Max.   :2005-10-02   Max.   :2005-10-02   Max.   :2005-10-02  \n",
       "                                           NA's   :71          \n",
       "    FirstCa              FirstGa              FirstPo          \n",
       " Min.   :2005-02-01   Min.   :2005-02-02   Min.   :2005-02-02  \n",
       " 1st Qu.:2005-02-19   1st Qu.:2005-02-22   1st Qu.:2005-02-19  \n",
       " Median :2005-03-03   Median :2005-03-08   Median :2005-04-09  \n",
       " Mean   :2005-04-07   Mean   :2005-04-10   Mean   :2005-05-05  \n",
       " 3rd Qu.:2005-05-08   3rd Qu.:2005-05-11   3rd Qu.:2005-07-17  \n",
       " Max.   :2005-10-02   Max.   :2005-10-02   Max.   :2005-10-01  \n",
       " NA's   :1765         NA's   :2023         NA's   :2296        \n",
       " ApplicationID        Gender      \n",
       " Min.   : 1.000   Min.   :0.0000  \n",
       " 1st Qu.: 1.000   1st Qu.:1.0000  \n",
       " Median : 1.000   Median :1.0000  \n",
       " Mean   : 1.437   Mean   :0.9505  \n",
       " 3rd Qu.: 1.000   3rd Qu.:1.0000  \n",
       " Max.   :36.000   Max.   :1.0000  \n",
       "                  NA's   :1       "
      ]
     },
     "metadata": {},
     "output_type": "display_data"
    }
   ],
   "source": [
    "# Looking if there are more males or females in country 724:\n",
    "Demographics %>% \n",
    " filter(Country == 724) %>%\n",
    " summary (Gender = mean(Gender))"
   ]
  },
  {
   "cell_type": "code",
   "execution_count": 26,
   "metadata": {},
   "outputs": [],
   "source": [
    "# As mean of Gender for Country 724 is 0.95 there are more Males so we will replace the missing value by a male\n",
    "Demographics[is.na(Demographics$Gender),\"Gender\"] <- 1"
   ]
  },
  {
   "cell_type": "code",
   "execution_count": 27,
   "metadata": {},
   "outputs": [],
   "source": [
    "# Assigning the demographics dataframe to a new dataframe, keeping the original intact\n",
    "Demographics_new <- Demographics"
   ]
  },
  {
   "cell_type": "markdown",
   "metadata": {},
   "source": [
    "Replacing Language, Country and Website numbers by their names:"
   ]
  },
  {
   "cell_type": "code",
   "execution_count": 28,
   "metadata": {},
   "outputs": [],
   "source": [
    "# Replacing numbers by translated text from appendix tables by joining them with the demographics table\n",
    "Demographics_new <- left_join(Demographics_new, language, by = \"Language\")"
   ]
  },
  {
   "cell_type": "code",
   "execution_count": 29,
   "metadata": {},
   "outputs": [],
   "source": [
    "Demographics_new <- left_join(Demographics_new, country, by = \"Country\")"
   ]
  },
  {
   "cell_type": "code",
   "execution_count": 30,
   "metadata": {},
   "outputs": [],
   "source": [
    "Demographics_new <- left_join(Demographics_new, application, by = \"ApplicationID\")"
   ]
  },
  {
   "cell_type": "code",
   "execution_count": 31,
   "metadata": {},
   "outputs": [],
   "source": [
    "# Dropping the columns with number codes that are not required anymore\n",
    "Demographics_new <- select(Demographics_new,-c(\"Language\",\"Country\",\"ApplicationID\"))"
   ]
  },
  {
   "cell_type": "code",
   "execution_count": 32,
   "metadata": {},
   "outputs": [
    {
     "data": {
      "text/html": [
       "<table>\n",
       "<thead><tr><th scope=col>UserID</th><th scope=col>RegDate</th><th scope=col>FirstPay</th><th scope=col>FirstAct</th><th scope=col>FirstSp</th><th scope=col>FirstCa</th><th scope=col>FirstGa</th><th scope=col>FirstPo</th><th scope=col>Gender</th><th scope=col>ï..User_Language</th><th scope=col>ï..User_Country</th><th scope=col>ï..Website</th></tr></thead>\n",
       "<tbody>\n",
       "\t<tr><td>1324354      </td><td>2005-02-01   </td><td>2005-02-24   </td><td>2005-02-24   </td><td>2005-02-24   </td><td>NA           </td><td>NA           </td><td>NA           </td><td>Male         </td><td>German       </td><td>Germany      </td><td>BETANDWIN.DE </td></tr>\n",
       "\t<tr><td>1324355      </td><td>2005-02-01   </td><td>2005-02-01   </td><td>2005-02-01   </td><td>2005-02-01   </td><td>NA           </td><td>NA           </td><td>2005-06-11   </td><td>Male         </td><td>Greek        </td><td>Greece       </td><td>BETANDWIN.COM</td></tr>\n",
       "\t<tr><td>1324356      </td><td>2005-02-01   </td><td>2005-02-01   </td><td>2005-02-02   </td><td>2005-02-02   </td><td>NA           </td><td>NA           </td><td>NA           </td><td>Male         </td><td>German       </td><td>Germany      </td><td>BETANDWIN.DE </td></tr>\n",
       "\t<tr><td>1324358      </td><td>2005-02-01   </td><td>2005-02-01   </td><td>2005-02-01   </td><td>2005-02-01   </td><td>NA           </td><td>NA           </td><td>NA           </td><td>Male         </td><td>English      </td><td>Sweden       </td><td>BETANDWIN.COM</td></tr>\n",
       "\t<tr><td>1324360      </td><td>2005-02-01   </td><td>2005-02-02   </td><td>2005-02-02   </td><td>2005-02-02   </td><td>2005-02-03   </td><td>NA           </td><td>NA           </td><td>Male         </td><td>Turkish      </td><td>Turkey       </td><td>BETEUROPE.COM</td></tr>\n",
       "\t<tr><td>1324362      </td><td>2005-02-01   </td><td>2005-02-11   </td><td>2005-02-11   </td><td>2005-02-11   </td><td>NA           </td><td>NA           </td><td>NA           </td><td>Male         </td><td>German       </td><td>Germany      </td><td>BETANDWIN.DE </td></tr>\n",
       "</tbody>\n",
       "</table>\n"
      ],
      "text/latex": [
       "\\begin{tabular}{r|llllllllllll}\n",
       " UserID & RegDate & FirstPay & FirstAct & FirstSp & FirstCa & FirstGa & FirstPo & Gender & ï..User\\_Language & ï..User\\_Country & ï..Website\\\\\n",
       "\\hline\n",
       "\t 1324354       & 2005-02-01    & 2005-02-24    & 2005-02-24    & 2005-02-24    & NA            & NA            & NA            & Male          & German        & Germany       & BETANDWIN.DE \\\\\n",
       "\t 1324355       & 2005-02-01    & 2005-02-01    & 2005-02-01    & 2005-02-01    & NA            & NA            & 2005-06-11    & Male          & Greek         & Greece        & BETANDWIN.COM\\\\\n",
       "\t 1324356       & 2005-02-01    & 2005-02-01    & 2005-02-02    & 2005-02-02    & NA            & NA            & NA            & Male          & German        & Germany       & BETANDWIN.DE \\\\\n",
       "\t 1324358       & 2005-02-01    & 2005-02-01    & 2005-02-01    & 2005-02-01    & NA            & NA            & NA            & Male          & English       & Sweden        & BETANDWIN.COM\\\\\n",
       "\t 1324360       & 2005-02-01    & 2005-02-02    & 2005-02-02    & 2005-02-02    & 2005-02-03    & NA            & NA            & Male          & Turkish       & Turkey        & BETEUROPE.COM\\\\\n",
       "\t 1324362       & 2005-02-01    & 2005-02-11    & 2005-02-11    & 2005-02-11    & NA            & NA            & NA            & Male          & German        & Germany       & BETANDWIN.DE \\\\\n",
       "\\end{tabular}\n"
      ],
      "text/markdown": [
       "\n",
       "| UserID | RegDate | FirstPay | FirstAct | FirstSp | FirstCa | FirstGa | FirstPo | Gender | ï..User_Language | ï..User_Country | ï..Website |\n",
       "|---|---|---|---|---|---|---|---|---|---|---|---|\n",
       "| 1324354       | 2005-02-01    | 2005-02-24    | 2005-02-24    | 2005-02-24    | NA            | NA            | NA            | Male          | German        | Germany       | BETANDWIN.DE  |\n",
       "| 1324355       | 2005-02-01    | 2005-02-01    | 2005-02-01    | 2005-02-01    | NA            | NA            | 2005-06-11    | Male          | Greek         | Greece        | BETANDWIN.COM |\n",
       "| 1324356       | 2005-02-01    | 2005-02-01    | 2005-02-02    | 2005-02-02    | NA            | NA            | NA            | Male          | German        | Germany       | BETANDWIN.DE  |\n",
       "| 1324358       | 2005-02-01    | 2005-02-01    | 2005-02-01    | 2005-02-01    | NA            | NA            | NA            | Male          | English       | Sweden        | BETANDWIN.COM |\n",
       "| 1324360       | 2005-02-01    | 2005-02-02    | 2005-02-02    | 2005-02-02    | 2005-02-03    | NA            | NA            | Male          | Turkish       | Turkey        | BETEUROPE.COM |\n",
       "| 1324362       | 2005-02-01    | 2005-02-11    | 2005-02-11    | 2005-02-11    | NA            | NA            | NA            | Male          | German        | Germany       | BETANDWIN.DE  |\n",
       "\n"
      ],
      "text/plain": [
       "  UserID  RegDate    FirstPay   FirstAct   FirstSp    FirstCa    FirstGa\n",
       "1 1324354 2005-02-01 2005-02-24 2005-02-24 2005-02-24 <NA>       <NA>   \n",
       "2 1324355 2005-02-01 2005-02-01 2005-02-01 2005-02-01 <NA>       <NA>   \n",
       "3 1324356 2005-02-01 2005-02-01 2005-02-02 2005-02-02 <NA>       <NA>   \n",
       "4 1324358 2005-02-01 2005-02-01 2005-02-01 2005-02-01 <NA>       <NA>   \n",
       "5 1324360 2005-02-01 2005-02-02 2005-02-02 2005-02-02 2005-02-03 <NA>   \n",
       "6 1324362 2005-02-01 2005-02-11 2005-02-11 2005-02-11 <NA>       <NA>   \n",
       "  FirstPo    Gender ï..User_Language ï..User_Country ï..Website   \n",
       "1 <NA>       Male   German           Germany         BETANDWIN.DE \n",
       "2 2005-06-11 Male   Greek            Greece          BETANDWIN.COM\n",
       "3 <NA>       Male   German           Germany         BETANDWIN.DE \n",
       "4 <NA>       Male   English          Sweden          BETANDWIN.COM\n",
       "5 <NA>       Male   Turkish          Turkey          BETEUROPE.COM\n",
       "6 <NA>       Male   German           Germany         BETANDWIN.DE "
      ]
     },
     "metadata": {},
     "output_type": "display_data"
    }
   ],
   "source": [
    "# Converting integer values of gender to characters \n",
    "Demographics_new$Gender[Demographics_new$Gender  == 0]  <-  \"Female\"\n",
    "Demographics_new$Gender[Demographics_new$Gender  == 1]  <-  \"Male\"\n",
    "head(Demographics_new)"
   ]
  },
  {
   "cell_type": "code",
   "execution_count": 33,
   "metadata": {},
   "outputs": [],
   "source": [
    "# Renaming columns:\n",
    "Demographics_new <- Demographics_new %>% rename(Country = ï..User_Country, Language = ï..User_Language, Website = ï..Website)"
   ]
  },
  {
   "cell_type": "code",
   "execution_count": 34,
   "metadata": {},
   "outputs": [
    {
     "data": {
      "text/html": [
       "<table>\n",
       "<thead><tr><th scope=col>UserID</th><th scope=col>RegDate</th><th scope=col>FirstPay</th><th scope=col>FirstAct</th><th scope=col>FirstSp</th><th scope=col>FirstCa</th><th scope=col>FirstGa</th><th scope=col>FirstPo</th><th scope=col>Gender</th><th scope=col>Language</th><th scope=col>Country</th><th scope=col>Website</th></tr></thead>\n",
       "<tbody>\n",
       "\t<tr><td>1324354      </td><td>2005-02-01   </td><td>2005-02-24   </td><td>2005-02-24   </td><td>2005-02-24   </td><td>NA           </td><td>NA           </td><td>NA           </td><td>Male         </td><td>German       </td><td>Germany      </td><td>BETANDWIN.DE </td></tr>\n",
       "\t<tr><td>1324355      </td><td>2005-02-01   </td><td>2005-02-01   </td><td>2005-02-01   </td><td>2005-02-01   </td><td>NA           </td><td>NA           </td><td>2005-06-11   </td><td>Male         </td><td>Greek        </td><td>Greece       </td><td>BETANDWIN.COM</td></tr>\n",
       "\t<tr><td>1324356      </td><td>2005-02-01   </td><td>2005-02-01   </td><td>2005-02-02   </td><td>2005-02-02   </td><td>NA           </td><td>NA           </td><td>NA           </td><td>Male         </td><td>German       </td><td>Germany      </td><td>BETANDWIN.DE </td></tr>\n",
       "\t<tr><td>1324358      </td><td>2005-02-01   </td><td>2005-02-01   </td><td>2005-02-01   </td><td>2005-02-01   </td><td>NA           </td><td>NA           </td><td>NA           </td><td>Male         </td><td>English      </td><td>Sweden       </td><td>BETANDWIN.COM</td></tr>\n",
       "\t<tr><td>1324360      </td><td>2005-02-01   </td><td>2005-02-02   </td><td>2005-02-02   </td><td>2005-02-02   </td><td>2005-02-03   </td><td>NA           </td><td>NA           </td><td>Male         </td><td>Turkish      </td><td>Turkey       </td><td>BETEUROPE.COM</td></tr>\n",
       "\t<tr><td>1324362      </td><td>2005-02-01   </td><td>2005-02-11   </td><td>2005-02-11   </td><td>2005-02-11   </td><td>NA           </td><td>NA           </td><td>NA           </td><td>Male         </td><td>German       </td><td>Germany      </td><td>BETANDWIN.DE </td></tr>\n",
       "</tbody>\n",
       "</table>\n"
      ],
      "text/latex": [
       "\\begin{tabular}{r|llllllllllll}\n",
       " UserID & RegDate & FirstPay & FirstAct & FirstSp & FirstCa & FirstGa & FirstPo & Gender & Language & Country & Website\\\\\n",
       "\\hline\n",
       "\t 1324354       & 2005-02-01    & 2005-02-24    & 2005-02-24    & 2005-02-24    & NA            & NA            & NA            & Male          & German        & Germany       & BETANDWIN.DE \\\\\n",
       "\t 1324355       & 2005-02-01    & 2005-02-01    & 2005-02-01    & 2005-02-01    & NA            & NA            & 2005-06-11    & Male          & Greek         & Greece        & BETANDWIN.COM\\\\\n",
       "\t 1324356       & 2005-02-01    & 2005-02-01    & 2005-02-02    & 2005-02-02    & NA            & NA            & NA            & Male          & German        & Germany       & BETANDWIN.DE \\\\\n",
       "\t 1324358       & 2005-02-01    & 2005-02-01    & 2005-02-01    & 2005-02-01    & NA            & NA            & NA            & Male          & English       & Sweden        & BETANDWIN.COM\\\\\n",
       "\t 1324360       & 2005-02-01    & 2005-02-02    & 2005-02-02    & 2005-02-02    & 2005-02-03    & NA            & NA            & Male          & Turkish       & Turkey        & BETEUROPE.COM\\\\\n",
       "\t 1324362       & 2005-02-01    & 2005-02-11    & 2005-02-11    & 2005-02-11    & NA            & NA            & NA            & Male          & German        & Germany       & BETANDWIN.DE \\\\\n",
       "\\end{tabular}\n"
      ],
      "text/markdown": [
       "\n",
       "| UserID | RegDate | FirstPay | FirstAct | FirstSp | FirstCa | FirstGa | FirstPo | Gender | Language | Country | Website |\n",
       "|---|---|---|---|---|---|---|---|---|---|---|---|\n",
       "| 1324354       | 2005-02-01    | 2005-02-24    | 2005-02-24    | 2005-02-24    | NA            | NA            | NA            | Male          | German        | Germany       | BETANDWIN.DE  |\n",
       "| 1324355       | 2005-02-01    | 2005-02-01    | 2005-02-01    | 2005-02-01    | NA            | NA            | 2005-06-11    | Male          | Greek         | Greece        | BETANDWIN.COM |\n",
       "| 1324356       | 2005-02-01    | 2005-02-01    | 2005-02-02    | 2005-02-02    | NA            | NA            | NA            | Male          | German        | Germany       | BETANDWIN.DE  |\n",
       "| 1324358       | 2005-02-01    | 2005-02-01    | 2005-02-01    | 2005-02-01    | NA            | NA            | NA            | Male          | English       | Sweden        | BETANDWIN.COM |\n",
       "| 1324360       | 2005-02-01    | 2005-02-02    | 2005-02-02    | 2005-02-02    | 2005-02-03    | NA            | NA            | Male          | Turkish       | Turkey        | BETEUROPE.COM |\n",
       "| 1324362       | 2005-02-01    | 2005-02-11    | 2005-02-11    | 2005-02-11    | NA            | NA            | NA            | Male          | German        | Germany       | BETANDWIN.DE  |\n",
       "\n"
      ],
      "text/plain": [
       "  UserID  RegDate    FirstPay   FirstAct   FirstSp    FirstCa    FirstGa\n",
       "1 1324354 2005-02-01 2005-02-24 2005-02-24 2005-02-24 <NA>       <NA>   \n",
       "2 1324355 2005-02-01 2005-02-01 2005-02-01 2005-02-01 <NA>       <NA>   \n",
       "3 1324356 2005-02-01 2005-02-01 2005-02-02 2005-02-02 <NA>       <NA>   \n",
       "4 1324358 2005-02-01 2005-02-01 2005-02-01 2005-02-01 <NA>       <NA>   \n",
       "5 1324360 2005-02-01 2005-02-02 2005-02-02 2005-02-02 2005-02-03 <NA>   \n",
       "6 1324362 2005-02-01 2005-02-11 2005-02-11 2005-02-11 <NA>       <NA>   \n",
       "  FirstPo    Gender Language Country Website      \n",
       "1 <NA>       Male   German   Germany BETANDWIN.DE \n",
       "2 2005-06-11 Male   Greek    Greece  BETANDWIN.COM\n",
       "3 <NA>       Male   German   Germany BETANDWIN.DE \n",
       "4 <NA>       Male   English  Sweden  BETANDWIN.COM\n",
       "5 <NA>       Male   Turkish  Turkey  BETEUROPE.COM\n",
       "6 <NA>       Male   German   Germany BETANDWIN.DE "
      ]
     },
     "metadata": {},
     "output_type": "display_data"
    }
   ],
   "source": [
    "head(Demographics_new)"
   ]
  },
  {
   "cell_type": "markdown",
   "metadata": {},
   "source": [
    "#### User Daily Aggregation Table:"
   ]
  },
  {
   "cell_type": "markdown",
   "metadata": {},
   "source": [
    "Formating Dates"
   ]
  },
  {
   "cell_type": "code",
   "execution_count": 35,
   "metadata": {},
   "outputs": [],
   "source": [
    "#Converting Date into date fromats:\n",
    "User_Daily_Agg$Date= ymd(User_Daily_Agg$Date)"
   ]
  },
  {
   "cell_type": "code",
   "execution_count": 36,
   "metadata": {},
   "outputs": [
    {
     "data": {
      "text/html": [
       "<table>\n",
       "<thead><tr><th scope=col>UserID</th><th scope=col>Date</th><th scope=col>ProductID</th><th scope=col>Stakes</th><th scope=col>Winnings</th><th scope=col>Bets</th></tr></thead>\n",
       "<tbody>\n",
       "\t<tr><td>1324354   </td><td>2005-02-24</td><td>1         </td><td>20        </td><td>0         </td><td>2         </td></tr>\n",
       "\t<tr><td>1324354   </td><td>2005-02-25</td><td>1         </td><td> 0        </td><td>0         </td><td>0         </td></tr>\n",
       "\t<tr><td>1324354   </td><td>2005-02-27</td><td>1         </td><td>20        </td><td>0         </td><td>2         </td></tr>\n",
       "\t<tr><td>1324354   </td><td>2005-03-03</td><td>1         </td><td>10        </td><td>0         </td><td>1         </td></tr>\n",
       "\t<tr><td>1324354   </td><td>2005-03-04</td><td>1         </td><td>10        </td><td>0         </td><td>1         </td></tr>\n",
       "\t<tr><td>1324354   </td><td>2005-03-05</td><td>1         </td><td>10        </td><td>0         </td><td>1         </td></tr>\n",
       "</tbody>\n",
       "</table>\n"
      ],
      "text/latex": [
       "\\begin{tabular}{r|llllll}\n",
       " UserID & Date & ProductID & Stakes & Winnings & Bets\\\\\n",
       "\\hline\n",
       "\t 1324354    & 2005-02-24 & 1          & 20         & 0          & 2         \\\\\n",
       "\t 1324354    & 2005-02-25 & 1          &  0         & 0          & 0         \\\\\n",
       "\t 1324354    & 2005-02-27 & 1          & 20         & 0          & 2         \\\\\n",
       "\t 1324354    & 2005-03-03 & 1          & 10         & 0          & 1         \\\\\n",
       "\t 1324354    & 2005-03-04 & 1          & 10         & 0          & 1         \\\\\n",
       "\t 1324354    & 2005-03-05 & 1          & 10         & 0          & 1         \\\\\n",
       "\\end{tabular}\n"
      ],
      "text/markdown": [
       "\n",
       "| UserID | Date | ProductID | Stakes | Winnings | Bets |\n",
       "|---|---|---|---|---|---|\n",
       "| 1324354    | 2005-02-24 | 1          | 20         | 0          | 2          |\n",
       "| 1324354    | 2005-02-25 | 1          |  0         | 0          | 0          |\n",
       "| 1324354    | 2005-02-27 | 1          | 20         | 0          | 2          |\n",
       "| 1324354    | 2005-03-03 | 1          | 10         | 0          | 1          |\n",
       "| 1324354    | 2005-03-04 | 1          | 10         | 0          | 1          |\n",
       "| 1324354    | 2005-03-05 | 1          | 10         | 0          | 1          |\n",
       "\n"
      ],
      "text/plain": [
       "  UserID  Date       ProductID Stakes Winnings Bets\n",
       "1 1324354 2005-02-24 1         20     0        2   \n",
       "2 1324354 2005-02-25 1          0     0        0   \n",
       "3 1324354 2005-02-27 1         20     0        2   \n",
       "4 1324354 2005-03-03 1         10     0        1   \n",
       "5 1324354 2005-03-04 1         10     0        1   \n",
       "6 1324354 2005-03-05 1         10     0        1   "
      ]
     },
     "metadata": {},
     "output_type": "display_data"
    }
   ],
   "source": [
    "head(User_Daily_Agg)"
   ]
  },
  {
   "cell_type": "markdown",
   "metadata": {},
   "source": [
    "Looking for missing values:"
   ]
  },
  {
   "cell_type": "code",
   "execution_count": 37,
   "metadata": {},
   "outputs": [
    {
     "data": {
      "text/html": [
       "0"
      ],
      "text/latex": [
       "0"
      ],
      "text/markdown": [
       "0"
      ],
      "text/plain": [
       "[1] 0"
      ]
     },
     "metadata": {},
     "output_type": "display_data"
    }
   ],
   "source": [
    "# Making sure there are no missing values:\n",
    "sum(is.na(User_Daily_Agg))"
   ]
  },
  {
   "cell_type": "markdown",
   "metadata": {},
   "source": [
    "Creating new variables"
   ]
  },
  {
   "cell_type": "code",
   "execution_count": 38,
   "metadata": {},
   "outputs": [
    {
     "name": "stderr",
     "output_type": "stream",
     "text": [
      "`summarise()` ungrouping output (override with `.groups` argument)\n"
     ]
    },
    {
     "data": {
      "text/html": [
       "<table>\n",
       "<thead><tr><th scope=col>UserID</th><th scope=col>Last_Trans_Date</th><th scope=col>Nbr_of_Trans</th><th scope=col>Total_Stakes</th><th scope=col>Total_Winning</th><th scope=col>Total_Bets</th><th scope=col>Avg_Stakes</th><th scope=col>Avg_Winning</th><th scope=col>Avg_Bets</th><th scope=col>Prod1_SportsBook_FixedOdd</th><th scope=col>Prod2_SportsBook_LiveAct</th><th scope=col>Prod3_Poker_BossMedia</th><th scope=col>Prod4_Casino_BossMedia</th><th scope=col>Prod5_Supertoto</th><th scope=col>Prod6_Games_VS</th><th scope=col>Prod7_Games_bwin</th><th scope=col>Prod8_Casino_Chartwell</th></tr></thead>\n",
       "<tbody>\n",
       "\t<tr><td>1324354   </td><td>2005-09-30</td><td>136       </td><td>11977     </td><td>11737     </td><td>279       </td><td>88        </td><td>86        </td><td>2         </td><td>117       </td><td>19        </td><td>0         </td><td>0         </td><td>0         </td><td>0         </td><td>0         </td><td>0         </td></tr>\n",
       "\t<tr><td>1324355   </td><td>2005-09-29</td><td>106       </td><td>  426     </td><td>  464     </td><td>252       </td><td> 4        </td><td> 4        </td><td>2         </td><td> 99       </td><td> 7        </td><td>0         </td><td>0         </td><td>0         </td><td>0         </td><td>0         </td><td>0         </td></tr>\n",
       "\t<tr><td>1324356   </td><td>2005-09-12</td><td> 75       </td><td> 1365     </td><td>  911     </td><td>214       </td><td>18        </td><td>12        </td><td>3         </td><td> 51       </td><td>24        </td><td>0         </td><td>0         </td><td>0         </td><td>0         </td><td>0         </td><td>0         </td></tr>\n",
       "\t<tr><td>1324358   </td><td>2005-05-06</td><td>  9       </td><td>  336     </td><td>  210     </td><td> 11       </td><td>37        </td><td>23        </td><td>1         </td><td>  8       </td><td> 1        </td><td>0         </td><td>0         </td><td>0         </td><td>0         </td><td>0         </td><td>0         </td></tr>\n",
       "\t<tr><td>1324360   </td><td>2005-09-25</td><td> 32       </td><td>   66     </td><td>   43     </td><td> 47       </td><td> 2        </td><td> 1        </td><td>1         </td><td> 29       </td><td> 2        </td><td>0         </td><td>0         </td><td>0         </td><td>0         </td><td>0         </td><td>1         </td></tr>\n",
       "\t<tr><td>1324362   </td><td>2005-09-17</td><td>  7       </td><td>   22     </td><td>    0     </td><td>  7       </td><td> 3        </td><td> 0        </td><td>1         </td><td>  7       </td><td> 0        </td><td>0         </td><td>0         </td><td>0         </td><td>0         </td><td>0         </td><td>0         </td></tr>\n",
       "</tbody>\n",
       "</table>\n"
      ],
      "text/latex": [
       "\\begin{tabular}{r|lllllllllllllllll}\n",
       " UserID & Last\\_Trans\\_Date & Nbr\\_of\\_Trans & Total\\_Stakes & Total\\_Winning & Total\\_Bets & Avg\\_Stakes & Avg\\_Winning & Avg\\_Bets & Prod1\\_SportsBook\\_FixedOdd & Prod2\\_SportsBook\\_LiveAct & Prod3\\_Poker\\_BossMedia & Prod4\\_Casino\\_BossMedia & Prod5\\_Supertoto & Prod6\\_Games\\_VS & Prod7\\_Games\\_bwin & Prod8\\_Casino\\_Chartwell\\\\\n",
       "\\hline\n",
       "\t 1324354    & 2005-09-30 & 136        & 11977      & 11737      & 279        & 88         & 86         & 2          & 117        & 19         & 0          & 0          & 0          & 0          & 0          & 0         \\\\\n",
       "\t 1324355    & 2005-09-29 & 106        &   426      &   464      & 252        &  4         &  4         & 2          &  99        &  7         & 0          & 0          & 0          & 0          & 0          & 0         \\\\\n",
       "\t 1324356    & 2005-09-12 &  75        &  1365      &   911      & 214        & 18         & 12         & 3          &  51        & 24         & 0          & 0          & 0          & 0          & 0          & 0         \\\\\n",
       "\t 1324358    & 2005-05-06 &   9        &   336      &   210      &  11        & 37         & 23         & 1          &   8        &  1         & 0          & 0          & 0          & 0          & 0          & 0         \\\\\n",
       "\t 1324360    & 2005-09-25 &  32        &    66      &    43      &  47        &  2         &  1         & 1          &  29        &  2         & 0          & 0          & 0          & 0          & 0          & 1         \\\\\n",
       "\t 1324362    & 2005-09-17 &   7        &    22      &     0      &   7        &  3         &  0         & 1          &   7        &  0         & 0          & 0          & 0          & 0          & 0          & 0         \\\\\n",
       "\\end{tabular}\n"
      ],
      "text/markdown": [
       "\n",
       "| UserID | Last_Trans_Date | Nbr_of_Trans | Total_Stakes | Total_Winning | Total_Bets | Avg_Stakes | Avg_Winning | Avg_Bets | Prod1_SportsBook_FixedOdd | Prod2_SportsBook_LiveAct | Prod3_Poker_BossMedia | Prod4_Casino_BossMedia | Prod5_Supertoto | Prod6_Games_VS | Prod7_Games_bwin | Prod8_Casino_Chartwell |\n",
       "|---|---|---|---|---|---|---|---|---|---|---|---|---|---|---|---|---|\n",
       "| 1324354    | 2005-09-30 | 136        | 11977      | 11737      | 279        | 88         | 86         | 2          | 117        | 19         | 0          | 0          | 0          | 0          | 0          | 0          |\n",
       "| 1324355    | 2005-09-29 | 106        |   426      |   464      | 252        |  4         |  4         | 2          |  99        |  7         | 0          | 0          | 0          | 0          | 0          | 0          |\n",
       "| 1324356    | 2005-09-12 |  75        |  1365      |   911      | 214        | 18         | 12         | 3          |  51        | 24         | 0          | 0          | 0          | 0          | 0          | 0          |\n",
       "| 1324358    | 2005-05-06 |   9        |   336      |   210      |  11        | 37         | 23         | 1          |   8        |  1         | 0          | 0          | 0          | 0          | 0          | 0          |\n",
       "| 1324360    | 2005-09-25 |  32        |    66      |    43      |  47        |  2         |  1         | 1          |  29        |  2         | 0          | 0          | 0          | 0          | 0          | 1          |\n",
       "| 1324362    | 2005-09-17 |   7        |    22      |     0      |   7        |  3         |  0         | 1          |   7        |  0         | 0          | 0          | 0          | 0          | 0          | 0          |\n",
       "\n"
      ],
      "text/plain": [
       "  UserID  Last_Trans_Date Nbr_of_Trans Total_Stakes Total_Winning Total_Bets\n",
       "1 1324354 2005-09-30      136          11977        11737         279       \n",
       "2 1324355 2005-09-29      106            426          464         252       \n",
       "3 1324356 2005-09-12       75           1365          911         214       \n",
       "4 1324358 2005-05-06        9            336          210          11       \n",
       "5 1324360 2005-09-25       32             66           43          47       \n",
       "6 1324362 2005-09-17        7             22            0           7       \n",
       "  Avg_Stakes Avg_Winning Avg_Bets Prod1_SportsBook_FixedOdd\n",
       "1 88         86          2        117                      \n",
       "2  4          4          2         99                      \n",
       "3 18         12          3         51                      \n",
       "4 37         23          1          8                      \n",
       "5  2          1          1         29                      \n",
       "6  3          0          1          7                      \n",
       "  Prod2_SportsBook_LiveAct Prod3_Poker_BossMedia Prod4_Casino_BossMedia\n",
       "1 19                       0                     0                     \n",
       "2  7                       0                     0                     \n",
       "3 24                       0                     0                     \n",
       "4  1                       0                     0                     \n",
       "5  2                       0                     0                     \n",
       "6  0                       0                     0                     \n",
       "  Prod5_Supertoto Prod6_Games_VS Prod7_Games_bwin Prod8_Casino_Chartwell\n",
       "1 0               0              0                0                     \n",
       "2 0               0              0                0                     \n",
       "3 0               0              0                0                     \n",
       "4 0               0              0                0                     \n",
       "5 0               0              0                1                     \n",
       "6 0               0              0                0                     "
      ]
     },
     "metadata": {},
     "output_type": "display_data"
    }
   ],
   "source": [
    "# Making a new dataframe with number of transactions per UserID in the given period\n",
    "User_Daily_Agg1 <- User_Daily_Agg %>% group_by(UserID) %>% summarise(Last_Trans_Date=max(Date), Nbr_of_Trans=n(), Total_Stakes=round(sum(Stakes)), Total_Winning=round(sum(Winnings)), Total_Bets=round(sum(Bets)), \n",
    "                                                                     Avg_Stakes=round(mean(Stakes)), Avg_Winning=round(mean(Winnings)), Avg_Bets=round(mean(Bets)),\n",
    "                                                                     Prod1_SportsBook_FixedOdd=length(ProductID[ProductID == 1]), Prod2_SportsBook_LiveAct=length(ProductID[ProductID == 2]),Prod3_Poker_BossMedia=length(ProductID[ProductID == 3]),\n",
    "                                                                    Prod4_Casino_BossMedia=length(ProductID[ProductID == 4]),Prod5_Supertoto=length(ProductID[ProductID == 5]),Prod6_Games_VS=length(ProductID[ProductID == 6]),\n",
    "                                                                    Prod7_Games_bwin=length(ProductID[ProductID == 7]),Prod8_Casino_Chartwell=length(ProductID[ProductID == 8]))\n",
    "head(User_Daily_Agg1)"
   ]
  },
  {
   "cell_type": "code",
   "execution_count": 39,
   "metadata": {},
   "outputs": [
    {
     "data": {
      "text/html": [
       "<table>\n",
       "<thead><tr><th scope=col>UserID</th><th scope=col>TransDateTime</th><th scope=col>TransType</th><th scope=col>TransAmount</th></tr></thead>\n",
       "<tbody>\n",
       "\t<tr><td>1324355            </td><td>2005-06-12 00:37:00</td><td>124                </td><td>8.9999             </td></tr>\n",
       "\t<tr><td>1324355            </td><td>2005-06-12 00:51:00</td><td>124                </td><td>1.9999             </td></tr>\n",
       "\t<tr><td>1324355            </td><td>2005-06-12 01:14:00</td><td>124                </td><td>4.9999             </td></tr>\n",
       "\t<tr><td>1324355            </td><td>2005-06-12 02:01:00</td><td> 24                </td><td>1.8069             </td></tr>\n",
       "\t<tr><td>1324355            </td><td>2005-06-14 23:35:00</td><td>124                </td><td>4.9999             </td></tr>\n",
       "\t<tr><td>1324355            </td><td>2005-06-14 23:45:00</td><td>124                </td><td>4.9999             </td></tr>\n",
       "</tbody>\n",
       "</table>\n"
      ],
      "text/latex": [
       "\\begin{tabular}{r|llll}\n",
       " UserID & TransDateTime & TransType & TransAmount\\\\\n",
       "\\hline\n",
       "\t 1324355             & 2005-06-12 00:37:00 & 124                 & 8.9999             \\\\\n",
       "\t 1324355             & 2005-06-12 00:51:00 & 124                 & 1.9999             \\\\\n",
       "\t 1324355             & 2005-06-12 01:14:00 & 124                 & 4.9999             \\\\\n",
       "\t 1324355             & 2005-06-12 02:01:00 &  24                 & 1.8069             \\\\\n",
       "\t 1324355             & 2005-06-14 23:35:00 & 124                 & 4.9999             \\\\\n",
       "\t 1324355             & 2005-06-14 23:45:00 & 124                 & 4.9999             \\\\\n",
       "\\end{tabular}\n"
      ],
      "text/markdown": [
       "\n",
       "| UserID | TransDateTime | TransType | TransAmount |\n",
       "|---|---|---|---|\n",
       "| 1324355             | 2005-06-12 00:37:00 | 124                 | 8.9999              |\n",
       "| 1324355             | 2005-06-12 00:51:00 | 124                 | 1.9999              |\n",
       "| 1324355             | 2005-06-12 01:14:00 | 124                 | 4.9999              |\n",
       "| 1324355             | 2005-06-12 02:01:00 |  24                 | 1.8069              |\n",
       "| 1324355             | 2005-06-14 23:35:00 | 124                 | 4.9999              |\n",
       "| 1324355             | 2005-06-14 23:45:00 | 124                 | 4.9999              |\n",
       "\n"
      ],
      "text/plain": [
       "  UserID  TransDateTime       TransType TransAmount\n",
       "1 1324355 2005-06-12 00:37:00 124       8.9999     \n",
       "2 1324355 2005-06-12 00:51:00 124       1.9999     \n",
       "3 1324355 2005-06-12 01:14:00 124       4.9999     \n",
       "4 1324355 2005-06-12 02:01:00  24       1.8069     \n",
       "5 1324355 2005-06-14 23:35:00 124       4.9999     \n",
       "6 1324355 2005-06-14 23:45:00 124       4.9999     "
      ]
     },
     "metadata": {},
     "output_type": "display_data"
    }
   ],
   "source": [
    "head(Poker_Chip_Conversion)"
   ]
  },
  {
   "cell_type": "markdown",
   "metadata": {},
   "source": [
    "Extracting date from TransDate Time collumn"
   ]
  },
  {
   "cell_type": "code",
   "execution_count": 40,
   "metadata": {},
   "outputs": [
    {
     "data": {
      "text/html": [
       "<table>\n",
       "<thead><tr><th scope=col>UserID</th><th scope=col>TransDateTime</th><th scope=col>TransType</th><th scope=col>TransAmount</th><th scope=col>TransDate</th></tr></thead>\n",
       "<tbody>\n",
       "\t<tr><td>1324355            </td><td>2005-06-12 00:37:00</td><td>124                </td><td>8.9999             </td><td>2005-06-12         </td></tr>\n",
       "\t<tr><td>1324355            </td><td>2005-06-12 00:51:00</td><td>124                </td><td>1.9999             </td><td>2005-06-12         </td></tr>\n",
       "\t<tr><td>1324355            </td><td>2005-06-12 01:14:00</td><td>124                </td><td>4.9999             </td><td>2005-06-12         </td></tr>\n",
       "\t<tr><td>1324355            </td><td>2005-06-12 02:01:00</td><td> 24                </td><td>1.8069             </td><td>2005-06-12         </td></tr>\n",
       "\t<tr><td>1324355            </td><td>2005-06-14 23:35:00</td><td>124                </td><td>4.9999             </td><td>2005-06-14         </td></tr>\n",
       "\t<tr><td>1324355            </td><td>2005-06-14 23:45:00</td><td>124                </td><td>4.9999             </td><td>2005-06-14         </td></tr>\n",
       "</tbody>\n",
       "</table>\n"
      ],
      "text/latex": [
       "\\begin{tabular}{r|lllll}\n",
       " UserID & TransDateTime & TransType & TransAmount & TransDate\\\\\n",
       "\\hline\n",
       "\t 1324355             & 2005-06-12 00:37:00 & 124                 & 8.9999              & 2005-06-12         \\\\\n",
       "\t 1324355             & 2005-06-12 00:51:00 & 124                 & 1.9999              & 2005-06-12         \\\\\n",
       "\t 1324355             & 2005-06-12 01:14:00 & 124                 & 4.9999              & 2005-06-12         \\\\\n",
       "\t 1324355             & 2005-06-12 02:01:00 &  24                 & 1.8069              & 2005-06-12         \\\\\n",
       "\t 1324355             & 2005-06-14 23:35:00 & 124                 & 4.9999              & 2005-06-14         \\\\\n",
       "\t 1324355             & 2005-06-14 23:45:00 & 124                 & 4.9999              & 2005-06-14         \\\\\n",
       "\\end{tabular}\n"
      ],
      "text/markdown": [
       "\n",
       "| UserID | TransDateTime | TransType | TransAmount | TransDate |\n",
       "|---|---|---|---|---|\n",
       "| 1324355             | 2005-06-12 00:37:00 | 124                 | 8.9999              | 2005-06-12          |\n",
       "| 1324355             | 2005-06-12 00:51:00 | 124                 | 1.9999              | 2005-06-12          |\n",
       "| 1324355             | 2005-06-12 01:14:00 | 124                 | 4.9999              | 2005-06-12          |\n",
       "| 1324355             | 2005-06-12 02:01:00 |  24                 | 1.8069              | 2005-06-12          |\n",
       "| 1324355             | 2005-06-14 23:35:00 | 124                 | 4.9999              | 2005-06-14          |\n",
       "| 1324355             | 2005-06-14 23:45:00 | 124                 | 4.9999              | 2005-06-14          |\n",
       "\n"
      ],
      "text/plain": [
       "  UserID  TransDateTime       TransType TransAmount TransDate \n",
       "1 1324355 2005-06-12 00:37:00 124       8.9999      2005-06-12\n",
       "2 1324355 2005-06-12 00:51:00 124       1.9999      2005-06-12\n",
       "3 1324355 2005-06-12 01:14:00 124       4.9999      2005-06-12\n",
       "4 1324355 2005-06-12 02:01:00  24       1.8069      2005-06-12\n",
       "5 1324355 2005-06-14 23:35:00 124       4.9999      2005-06-14\n",
       "6 1324355 2005-06-14 23:45:00 124       4.9999      2005-06-14"
      ]
     },
     "metadata": {},
     "output_type": "display_data"
    }
   ],
   "source": [
    "# Extracting only transaction date from TransDateTime columns:\n",
    "Poker_Chip_Conversion$TransDate <- as.Date(Poker_Chip_Conversion$TransDateTime,\"%Y-%m-%d\")\n",
    "head(Poker_Chip_Conversion)"
   ]
  },
  {
   "cell_type": "markdown",
   "metadata": {},
   "source": [
    "Grouping Data "
   ]
  },
  {
   "cell_type": "code",
   "execution_count": 41,
   "metadata": {},
   "outputs": [
    {
     "name": "stderr",
     "output_type": "stream",
     "text": [
      "`summarise()` regrouping output by 'UserID' (override with `.groups` argument)\n"
     ]
    },
    {
     "data": {
      "text/html": [
       "<table>\n",
       "<thead><tr><th scope=col>UserID</th><th scope=col>TransType</th><th scope=col>Nbr_of_Conversions</th><th scope=col>Total_TransAmount</th></tr></thead>\n",
       "<tbody>\n",
       "\t<tr><td>1324355</td><td> 24    </td><td> 2     </td><td>   8   </td></tr>\n",
       "\t<tr><td>1324355</td><td>124    </td><td> 6     </td><td>  31   </td></tr>\n",
       "\t<tr><td>1324368</td><td> 24    </td><td>32     </td><td>9621   </td></tr>\n",
       "\t<tr><td>1324368</td><td>124    </td><td>67     </td><td>9162   </td></tr>\n",
       "\t<tr><td>1324369</td><td> 24    </td><td> 1     </td><td>   0   </td></tr>\n",
       "\t<tr><td>1324369</td><td>124    </td><td> 1     </td><td>   0   </td></tr>\n",
       "</tbody>\n",
       "</table>\n"
      ],
      "text/latex": [
       "\\begin{tabular}{r|llll}\n",
       " UserID & TransType & Nbr\\_of\\_Conversions & Total\\_TransAmount\\\\\n",
       "\\hline\n",
       "\t 1324355 &  24     &  2      &    8   \\\\\n",
       "\t 1324355 & 124     &  6      &   31   \\\\\n",
       "\t 1324368 &  24     & 32      & 9621   \\\\\n",
       "\t 1324368 & 124     & 67      & 9162   \\\\\n",
       "\t 1324369 &  24     &  1      &    0   \\\\\n",
       "\t 1324369 & 124     &  1      &    0   \\\\\n",
       "\\end{tabular}\n"
      ],
      "text/markdown": [
       "\n",
       "| UserID | TransType | Nbr_of_Conversions | Total_TransAmount |\n",
       "|---|---|---|---|\n",
       "| 1324355 |  24     |  2      |    8    |\n",
       "| 1324355 | 124     |  6      |   31    |\n",
       "| 1324368 |  24     | 32      | 9621    |\n",
       "| 1324368 | 124     | 67      | 9162    |\n",
       "| 1324369 |  24     |  1      |    0    |\n",
       "| 1324369 | 124     |  1      |    0    |\n",
       "\n"
      ],
      "text/plain": [
       "  UserID  TransType Nbr_of_Conversions Total_TransAmount\n",
       "1 1324355  24        2                    8             \n",
       "2 1324355 124        6                   31             \n",
       "3 1324368  24       32                 9621             \n",
       "4 1324368 124       67                 9162             \n",
       "5 1324369  24        1                    0             \n",
       "6 1324369 124        1                    0             "
      ]
     },
     "metadata": {},
     "output_type": "display_data"
    }
   ],
   "source": [
    "# Grouping the data by UserID and transaction type to count total number of buy and sell transactions and amount for each\n",
    "Poker_Chip_Conversion1 <- Poker_Chip_Conversion %>% group_by(UserID, TransType) %>% summarise(Nbr_of_Conversions=n(), Total_TransAmount=round(sum(TransAmount)))\n",
    "head(Poker_Chip_Conversion1)"
   ]
  },
  {
   "cell_type": "markdown",
   "metadata": {},
   "source": [
    "Making data wider"
   ]
  },
  {
   "cell_type": "code",
   "execution_count": 42,
   "metadata": {},
   "outputs": [],
   "source": [
    "# Making the dataframe wider to get a single entry for each UserID\n",
    "Poker_Chip_Conversion2 <- pivot_wider(Poker_Chip_Conversion1, id_cols=UserID, names_from=TransType, values_from=c(\"Nbr_of_Conversions\",\"Total_TransAmount\"))"
   ]
  },
  {
   "cell_type": "markdown",
   "metadata": {},
   "source": [
    "Finalising the new table"
   ]
  },
  {
   "cell_type": "code",
   "execution_count": 43,
   "metadata": {},
   "outputs": [],
   "source": [
    "# Renaming the variables for more clarity\n",
    "Poker_Chip_Conversion2 <- Poker_Chip_Conversion2 %>% rename(Nbr_PokerChip_Buy_Trans = Nbr_of_Conversions_24, Nbr_PokerChip_Sell_Trans = Nbr_of_Conversions_124, PokerChip_BuyTransAmt = Total_TransAmount_24, PokerChip_SellTransAmt = Total_TransAmount_124)"
   ]
  },
  {
   "cell_type": "code",
   "execution_count": 44,
   "metadata": {
    "scrolled": true
   },
   "outputs": [
    {
     "data": {
      "text/html": [
       "<table>\n",
       "<thead><tr><th scope=col>UserID</th><th scope=col>Nbr_PokerChip_Buy_Trans</th><th scope=col>PokerChip_BuyTransAmt</th><th scope=col>Nbr_PokerChip_Sell_Trans</th><th scope=col>PokerChip_SellTransAmt</th></tr></thead>\n",
       "<tbody>\n",
       "\t<tr><td>1324355</td><td>  2    </td><td>   8   </td><td>  6    </td><td>  31   </td></tr>\n",
       "\t<tr><td>1324368</td><td> 32    </td><td>9621   </td><td> 67    </td><td>9162   </td></tr>\n",
       "\t<tr><td>1324369</td><td>  1    </td><td>   0   </td><td>  1    </td><td>   0   </td></tr>\n",
       "\t<tr><td>1324371</td><td>  5    </td><td>  65   </td><td>  5    </td><td> 123   </td></tr>\n",
       "\t<tr><td>1324372</td><td>116    </td><td> 918   </td><td>122    </td><td> 861   </td></tr>\n",
       "\t<tr><td>1324377</td><td>  2    </td><td>  13   </td><td>  5    </td><td>  28   </td></tr>\n",
       "</tbody>\n",
       "</table>\n"
      ],
      "text/latex": [
       "\\begin{tabular}{r|lllll}\n",
       " UserID & Nbr\\_PokerChip\\_Buy\\_Trans & PokerChip\\_BuyTransAmt & Nbr\\_PokerChip\\_Sell\\_Trans & PokerChip\\_SellTransAmt\\\\\n",
       "\\hline\n",
       "\t 1324355 &   2     &    8    &   6     &   31   \\\\\n",
       "\t 1324368 &  32     & 9621    &  67     & 9162   \\\\\n",
       "\t 1324369 &   1     &    0    &   1     &    0   \\\\\n",
       "\t 1324371 &   5     &   65    &   5     &  123   \\\\\n",
       "\t 1324372 & 116     &  918    & 122     &  861   \\\\\n",
       "\t 1324377 &   2     &   13    &   5     &   28   \\\\\n",
       "\\end{tabular}\n"
      ],
      "text/markdown": [
       "\n",
       "| UserID | Nbr_PokerChip_Buy_Trans | PokerChip_BuyTransAmt | Nbr_PokerChip_Sell_Trans | PokerChip_SellTransAmt |\n",
       "|---|---|---|---|---|\n",
       "| 1324355 |   2     |    8    |   6     |   31    |\n",
       "| 1324368 |  32     | 9621    |  67     | 9162    |\n",
       "| 1324369 |   1     |    0    |   1     |    0    |\n",
       "| 1324371 |   5     |   65    |   5     |  123    |\n",
       "| 1324372 | 116     |  918    | 122     |  861    |\n",
       "| 1324377 |   2     |   13    |   5     |   28    |\n",
       "\n"
      ],
      "text/plain": [
       "  UserID  Nbr_PokerChip_Buy_Trans PokerChip_BuyTransAmt\n",
       "1 1324355   2                        8                 \n",
       "2 1324368  32                     9621                 \n",
       "3 1324369   1                        0                 \n",
       "4 1324371   5                       65                 \n",
       "5 1324372 116                      918                 \n",
       "6 1324377   2                       13                 \n",
       "  Nbr_PokerChip_Sell_Trans PokerChip_SellTransAmt\n",
       "1   6                        31                  \n",
       "2  67                      9162                  \n",
       "3   1                         0                  \n",
       "4   5                       123                  \n",
       "5 122                       861                  \n",
       "6   5                        28                  "
      ]
     },
     "metadata": {},
     "output_type": "display_data"
    }
   ],
   "source": [
    "# Rearranging the columns \n",
    "Poker_Chip_Conversion2 <- Poker_Chip_Conversion2 %>% select(1, 2, 4, 3, 5)  \n",
    "head(Poker_Chip_Conversion2)\n",
    "\n",
    "# Alternative:\n",
    "# Poker_Chip_Conversion2 %>% relocate(Nbr_PokerChip_Sell_Trans, .after = PokerChip_BuyTransAmt)"
   ]
  },
  {
   "cell_type": "code",
   "execution_count": 45,
   "metadata": {},
   "outputs": [
    {
     "data": {
      "text/html": [
       "0"
      ],
      "text/latex": [
       "0"
      ],
      "text/markdown": [
       "0"
      ],
      "text/plain": [
       "[1] 0"
      ]
     },
     "metadata": {},
     "output_type": "display_data"
    }
   ],
   "source": [
    "# Making sure there are no missing values:\n",
    "sum(is.na(Poker_Chip_Conversion))"
   ]
  },
  {
   "cell_type": "markdown",
   "metadata": {},
   "source": [
    "## III. Creating the Datamart:"
   ]
  },
  {
   "cell_type": "markdown",
   "metadata": {},
   "source": [
    "With left joins:"
   ]
  },
  {
   "cell_type": "code",
   "execution_count": 46,
   "metadata": {},
   "outputs": [
    {
     "data": {
      "text/html": [
       "<table>\n",
       "<thead><tr><th scope=col>UserID</th><th scope=col>RegDate</th><th scope=col>FirstPay</th><th scope=col>FirstAct</th><th scope=col>FirstSp</th><th scope=col>FirstCa</th><th scope=col>FirstGa</th><th scope=col>FirstPo</th><th scope=col>Gender</th><th scope=col>Language</th><th scope=col>...</th><th scope=col>Avg_Winning</th><th scope=col>Avg_Bets</th><th scope=col>Prod1_SportsBook_FixedOdd</th><th scope=col>Prod2_SportsBook_LiveAct</th><th scope=col>Prod3_Poker_BossMedia</th><th scope=col>Prod4_Casino_BossMedia</th><th scope=col>Prod5_Supertoto</th><th scope=col>Prod6_Games_VS</th><th scope=col>Prod7_Games_bwin</th><th scope=col>Prod8_Casino_Chartwell</th></tr></thead>\n",
       "<tbody>\n",
       "\t<tr><td>1324354   </td><td>2005-02-01</td><td>2005-02-24</td><td>2005-02-24</td><td>2005-02-24</td><td>NA        </td><td>NA        </td><td>NA        </td><td>Male      </td><td>German    </td><td>...       </td><td>86        </td><td>2         </td><td>117       </td><td>19        </td><td>0         </td><td>0         </td><td>0         </td><td>0         </td><td>0         </td><td>0         </td></tr>\n",
       "\t<tr><td>1324355   </td><td>2005-02-01</td><td>2005-02-01</td><td>2005-02-01</td><td>2005-02-01</td><td>NA        </td><td>NA        </td><td>2005-06-11</td><td>Male      </td><td>Greek     </td><td>...       </td><td> 4        </td><td>2         </td><td> 99       </td><td> 7        </td><td>0         </td><td>0         </td><td>0         </td><td>0         </td><td>0         </td><td>0         </td></tr>\n",
       "\t<tr><td>1324356   </td><td>2005-02-01</td><td>2005-02-01</td><td>2005-02-02</td><td>2005-02-02</td><td>NA        </td><td>NA        </td><td>NA        </td><td>Male      </td><td>German    </td><td>...       </td><td>12        </td><td>3         </td><td> 51       </td><td>24        </td><td>0         </td><td>0         </td><td>0         </td><td>0         </td><td>0         </td><td>0         </td></tr>\n",
       "\t<tr><td>1324358   </td><td>2005-02-01</td><td>2005-02-01</td><td>2005-02-01</td><td>2005-02-01</td><td>NA        </td><td>NA        </td><td>NA        </td><td>Male      </td><td>English   </td><td>...       </td><td>23        </td><td>1         </td><td>  8       </td><td> 1        </td><td>0         </td><td>0         </td><td>0         </td><td>0         </td><td>0         </td><td>0         </td></tr>\n",
       "\t<tr><td>1324360   </td><td>2005-02-01</td><td>2005-02-02</td><td>2005-02-02</td><td>2005-02-02</td><td>2005-02-03</td><td>NA        </td><td>NA        </td><td>Male      </td><td>Turkish   </td><td>...       </td><td> 1        </td><td>1         </td><td> 29       </td><td> 2        </td><td>0         </td><td>0         </td><td>0         </td><td>0         </td><td>0         </td><td>1         </td></tr>\n",
       "\t<tr><td>1324362   </td><td>2005-02-01</td><td>2005-02-11</td><td>2005-02-11</td><td>2005-02-11</td><td>NA        </td><td>NA        </td><td>NA        </td><td>Male      </td><td>German    </td><td>...       </td><td> 0        </td><td>1         </td><td>  7       </td><td> 0        </td><td>0         </td><td>0         </td><td>0         </td><td>0         </td><td>0         </td><td>0         </td></tr>\n",
       "</tbody>\n",
       "</table>\n"
      ],
      "text/latex": [
       "\\begin{tabular}{r|llllllllllllllllllllllllllll}\n",
       " UserID & RegDate & FirstPay & FirstAct & FirstSp & FirstCa & FirstGa & FirstPo & Gender & Language & ... & Avg\\_Winning & Avg\\_Bets & Prod1\\_SportsBook\\_FixedOdd & Prod2\\_SportsBook\\_LiveAct & Prod3\\_Poker\\_BossMedia & Prod4\\_Casino\\_BossMedia & Prod5\\_Supertoto & Prod6\\_Games\\_VS & Prod7\\_Games\\_bwin & Prod8\\_Casino\\_Chartwell\\\\\n",
       "\\hline\n",
       "\t 1324354    & 2005-02-01 & 2005-02-24 & 2005-02-24 & 2005-02-24 & NA         & NA         & NA         & Male       & German     & ...        & 86         & 2          & 117        & 19         & 0          & 0          & 0          & 0          & 0          & 0         \\\\\n",
       "\t 1324355    & 2005-02-01 & 2005-02-01 & 2005-02-01 & 2005-02-01 & NA         & NA         & 2005-06-11 & Male       & Greek      & ...        &  4         & 2          &  99        &  7         & 0          & 0          & 0          & 0          & 0          & 0         \\\\\n",
       "\t 1324356    & 2005-02-01 & 2005-02-01 & 2005-02-02 & 2005-02-02 & NA         & NA         & NA         & Male       & German     & ...        & 12         & 3          &  51        & 24         & 0          & 0          & 0          & 0          & 0          & 0         \\\\\n",
       "\t 1324358    & 2005-02-01 & 2005-02-01 & 2005-02-01 & 2005-02-01 & NA         & NA         & NA         & Male       & English    & ...        & 23         & 1          &   8        &  1         & 0          & 0          & 0          & 0          & 0          & 0         \\\\\n",
       "\t 1324360    & 2005-02-01 & 2005-02-02 & 2005-02-02 & 2005-02-02 & 2005-02-03 & NA         & NA         & Male       & Turkish    & ...        &  1         & 1          &  29        &  2         & 0          & 0          & 0          & 0          & 0          & 1         \\\\\n",
       "\t 1324362    & 2005-02-01 & 2005-02-11 & 2005-02-11 & 2005-02-11 & NA         & NA         & NA         & Male       & German     & ...        &  0         & 1          &   7        &  0         & 0          & 0          & 0          & 0          & 0          & 0         \\\\\n",
       "\\end{tabular}\n"
      ],
      "text/markdown": [
       "\n",
       "| UserID | RegDate | FirstPay | FirstAct | FirstSp | FirstCa | FirstGa | FirstPo | Gender | Language | ... | Avg_Winning | Avg_Bets | Prod1_SportsBook_FixedOdd | Prod2_SportsBook_LiveAct | Prod3_Poker_BossMedia | Prod4_Casino_BossMedia | Prod5_Supertoto | Prod6_Games_VS | Prod7_Games_bwin | Prod8_Casino_Chartwell |\n",
       "|---|---|---|---|---|---|---|---|---|---|---|---|---|---|---|---|---|---|---|---|---|\n",
       "| 1324354    | 2005-02-01 | 2005-02-24 | 2005-02-24 | 2005-02-24 | NA         | NA         | NA         | Male       | German     | ...        | 86         | 2          | 117        | 19         | 0          | 0          | 0          | 0          | 0          | 0          |\n",
       "| 1324355    | 2005-02-01 | 2005-02-01 | 2005-02-01 | 2005-02-01 | NA         | NA         | 2005-06-11 | Male       | Greek      | ...        |  4         | 2          |  99        |  7         | 0          | 0          | 0          | 0          | 0          | 0          |\n",
       "| 1324356    | 2005-02-01 | 2005-02-01 | 2005-02-02 | 2005-02-02 | NA         | NA         | NA         | Male       | German     | ...        | 12         | 3          |  51        | 24         | 0          | 0          | 0          | 0          | 0          | 0          |\n",
       "| 1324358    | 2005-02-01 | 2005-02-01 | 2005-02-01 | 2005-02-01 | NA         | NA         | NA         | Male       | English    | ...        | 23         | 1          |   8        |  1         | 0          | 0          | 0          | 0          | 0          | 0          |\n",
       "| 1324360    | 2005-02-01 | 2005-02-02 | 2005-02-02 | 2005-02-02 | 2005-02-03 | NA         | NA         | Male       | Turkish    | ...        |  1         | 1          |  29        |  2         | 0          | 0          | 0          | 0          | 0          | 1          |\n",
       "| 1324362    | 2005-02-01 | 2005-02-11 | 2005-02-11 | 2005-02-11 | NA         | NA         | NA         | Male       | German     | ...        |  0         | 1          |   7        |  0         | 0          | 0          | 0          | 0          | 0          | 0          |\n",
       "\n"
      ],
      "text/plain": [
       "  UserID  RegDate    FirstPay   FirstAct   FirstSp    FirstCa    FirstGa\n",
       "1 1324354 2005-02-01 2005-02-24 2005-02-24 2005-02-24 <NA>       <NA>   \n",
       "2 1324355 2005-02-01 2005-02-01 2005-02-01 2005-02-01 <NA>       <NA>   \n",
       "3 1324356 2005-02-01 2005-02-01 2005-02-02 2005-02-02 <NA>       <NA>   \n",
       "4 1324358 2005-02-01 2005-02-01 2005-02-01 2005-02-01 <NA>       <NA>   \n",
       "5 1324360 2005-02-01 2005-02-02 2005-02-02 2005-02-02 2005-02-03 <NA>   \n",
       "6 1324362 2005-02-01 2005-02-11 2005-02-11 2005-02-11 <NA>       <NA>   \n",
       "  FirstPo    Gender Language ... Avg_Winning Avg_Bets Prod1_SportsBook_FixedOdd\n",
       "1 <NA>       Male   German   ... 86          2        117                      \n",
       "2 2005-06-11 Male   Greek    ...  4          2         99                      \n",
       "3 <NA>       Male   German   ... 12          3         51                      \n",
       "4 <NA>       Male   English  ... 23          1          8                      \n",
       "5 <NA>       Male   Turkish  ...  1          1         29                      \n",
       "6 <NA>       Male   German   ...  0          1          7                      \n",
       "  Prod2_SportsBook_LiveAct Prod3_Poker_BossMedia Prod4_Casino_BossMedia\n",
       "1 19                       0                     0                     \n",
       "2  7                       0                     0                     \n",
       "3 24                       0                     0                     \n",
       "4  1                       0                     0                     \n",
       "5  2                       0                     0                     \n",
       "6  0                       0                     0                     \n",
       "  Prod5_Supertoto Prod6_Games_VS Prod7_Games_bwin Prod8_Casino_Chartwell\n",
       "1 0               0              0                0                     \n",
       "2 0               0              0                0                     \n",
       "3 0               0              0                0                     \n",
       "4 0               0              0                0                     \n",
       "5 0               0              0                1                     \n",
       "6 0               0              0                0                     "
      ]
     },
     "metadata": {},
     "output_type": "display_data"
    }
   ],
   "source": [
    "# Merging Demograpics and User Daily Aggregate 1 tables (Raw Datasets I & II)\n",
    "Merge1 <- left_join(Demographics_new, User_Daily_Agg1, by = \"UserID\")\n",
    "head(Merge1)"
   ]
  },
  {
   "cell_type": "code",
   "execution_count": 47,
   "metadata": {},
   "outputs": [
    {
     "data": {
      "text/html": [
       "<table>\n",
       "<thead><tr><th scope=col>UserID</th><th scope=col>RegDate</th><th scope=col>FirstPay</th><th scope=col>FirstAct</th><th scope=col>FirstSp</th><th scope=col>FirstCa</th><th scope=col>FirstGa</th><th scope=col>FirstPo</th><th scope=col>Gender</th><th scope=col>Language</th><th scope=col>...</th><th scope=col>Prod3_Poker_BossMedia</th><th scope=col>Prod4_Casino_BossMedia</th><th scope=col>Prod5_Supertoto</th><th scope=col>Prod6_Games_VS</th><th scope=col>Prod7_Games_bwin</th><th scope=col>Prod8_Casino_Chartwell</th><th scope=col>Nbr_PokerChip_Buy_Trans</th><th scope=col>PokerChip_BuyTransAmt</th><th scope=col>Nbr_PokerChip_Sell_Trans</th><th scope=col>PokerChip_SellTransAmt</th></tr></thead>\n",
       "<tbody>\n",
       "\t<tr><td>1324354   </td><td>2005-02-01</td><td>2005-02-24</td><td>2005-02-24</td><td>2005-02-24</td><td>NA        </td><td>NA        </td><td>NA        </td><td>Male      </td><td>German    </td><td>...       </td><td>0         </td><td>0         </td><td>0         </td><td>0         </td><td>0         </td><td>0         </td><td>NA        </td><td>NA        </td><td>NA        </td><td>NA        </td></tr>\n",
       "\t<tr><td>1324355   </td><td>2005-02-01</td><td>2005-02-01</td><td>2005-02-01</td><td>2005-02-01</td><td>NA        </td><td>NA        </td><td>2005-06-11</td><td>Male      </td><td>Greek     </td><td>...       </td><td>0         </td><td>0         </td><td>0         </td><td>0         </td><td>0         </td><td>0         </td><td> 2        </td><td> 8        </td><td> 6        </td><td>31        </td></tr>\n",
       "\t<tr><td>1324356   </td><td>2005-02-01</td><td>2005-02-01</td><td>2005-02-02</td><td>2005-02-02</td><td>NA        </td><td>NA        </td><td>NA        </td><td>Male      </td><td>German    </td><td>...       </td><td>0         </td><td>0         </td><td>0         </td><td>0         </td><td>0         </td><td>0         </td><td>NA        </td><td>NA        </td><td>NA        </td><td>NA        </td></tr>\n",
       "\t<tr><td>1324358   </td><td>2005-02-01</td><td>2005-02-01</td><td>2005-02-01</td><td>2005-02-01</td><td>NA        </td><td>NA        </td><td>NA        </td><td>Male      </td><td>English   </td><td>...       </td><td>0         </td><td>0         </td><td>0         </td><td>0         </td><td>0         </td><td>0         </td><td>NA        </td><td>NA        </td><td>NA        </td><td>NA        </td></tr>\n",
       "\t<tr><td>1324360   </td><td>2005-02-01</td><td>2005-02-02</td><td>2005-02-02</td><td>2005-02-02</td><td>2005-02-03</td><td>NA        </td><td>NA        </td><td>Male      </td><td>Turkish   </td><td>...       </td><td>0         </td><td>0         </td><td>0         </td><td>0         </td><td>0         </td><td>1         </td><td>NA        </td><td>NA        </td><td>NA        </td><td>NA        </td></tr>\n",
       "\t<tr><td>1324362   </td><td>2005-02-01</td><td>2005-02-11</td><td>2005-02-11</td><td>2005-02-11</td><td>NA        </td><td>NA        </td><td>NA        </td><td>Male      </td><td>German    </td><td>...       </td><td>0         </td><td>0         </td><td>0         </td><td>0         </td><td>0         </td><td>0         </td><td>NA        </td><td>NA        </td><td>NA        </td><td>NA        </td></tr>\n",
       "</tbody>\n",
       "</table>\n"
      ],
      "text/latex": [
       "\\begin{tabular}{r|llllllllllllllllllllllllllllllll}\n",
       " UserID & RegDate & FirstPay & FirstAct & FirstSp & FirstCa & FirstGa & FirstPo & Gender & Language & ... & Prod3\\_Poker\\_BossMedia & Prod4\\_Casino\\_BossMedia & Prod5\\_Supertoto & Prod6\\_Games\\_VS & Prod7\\_Games\\_bwin & Prod8\\_Casino\\_Chartwell & Nbr\\_PokerChip\\_Buy\\_Trans & PokerChip\\_BuyTransAmt & Nbr\\_PokerChip\\_Sell\\_Trans & PokerChip\\_SellTransAmt\\\\\n",
       "\\hline\n",
       "\t 1324354    & 2005-02-01 & 2005-02-24 & 2005-02-24 & 2005-02-24 & NA         & NA         & NA         & Male       & German     & ...        & 0          & 0          & 0          & 0          & 0          & 0          & NA         & NA         & NA         & NA        \\\\\n",
       "\t 1324355    & 2005-02-01 & 2005-02-01 & 2005-02-01 & 2005-02-01 & NA         & NA         & 2005-06-11 & Male       & Greek      & ...        & 0          & 0          & 0          & 0          & 0          & 0          &  2         &  8         &  6         & 31        \\\\\n",
       "\t 1324356    & 2005-02-01 & 2005-02-01 & 2005-02-02 & 2005-02-02 & NA         & NA         & NA         & Male       & German     & ...        & 0          & 0          & 0          & 0          & 0          & 0          & NA         & NA         & NA         & NA        \\\\\n",
       "\t 1324358    & 2005-02-01 & 2005-02-01 & 2005-02-01 & 2005-02-01 & NA         & NA         & NA         & Male       & English    & ...        & 0          & 0          & 0          & 0          & 0          & 0          & NA         & NA         & NA         & NA        \\\\\n",
       "\t 1324360    & 2005-02-01 & 2005-02-02 & 2005-02-02 & 2005-02-02 & 2005-02-03 & NA         & NA         & Male       & Turkish    & ...        & 0          & 0          & 0          & 0          & 0          & 1          & NA         & NA         & NA         & NA        \\\\\n",
       "\t 1324362    & 2005-02-01 & 2005-02-11 & 2005-02-11 & 2005-02-11 & NA         & NA         & NA         & Male       & German     & ...        & 0          & 0          & 0          & 0          & 0          & 0          & NA         & NA         & NA         & NA        \\\\\n",
       "\\end{tabular}\n"
      ],
      "text/markdown": [
       "\n",
       "| UserID | RegDate | FirstPay | FirstAct | FirstSp | FirstCa | FirstGa | FirstPo | Gender | Language | ... | Prod3_Poker_BossMedia | Prod4_Casino_BossMedia | Prod5_Supertoto | Prod6_Games_VS | Prod7_Games_bwin | Prod8_Casino_Chartwell | Nbr_PokerChip_Buy_Trans | PokerChip_BuyTransAmt | Nbr_PokerChip_Sell_Trans | PokerChip_SellTransAmt |\n",
       "|---|---|---|---|---|---|---|---|---|---|---|---|---|---|---|---|---|---|---|---|---|\n",
       "| 1324354    | 2005-02-01 | 2005-02-24 | 2005-02-24 | 2005-02-24 | NA         | NA         | NA         | Male       | German     | ...        | 0          | 0          | 0          | 0          | 0          | 0          | NA         | NA         | NA         | NA         |\n",
       "| 1324355    | 2005-02-01 | 2005-02-01 | 2005-02-01 | 2005-02-01 | NA         | NA         | 2005-06-11 | Male       | Greek      | ...        | 0          | 0          | 0          | 0          | 0          | 0          |  2         |  8         |  6         | 31         |\n",
       "| 1324356    | 2005-02-01 | 2005-02-01 | 2005-02-02 | 2005-02-02 | NA         | NA         | NA         | Male       | German     | ...        | 0          | 0          | 0          | 0          | 0          | 0          | NA         | NA         | NA         | NA         |\n",
       "| 1324358    | 2005-02-01 | 2005-02-01 | 2005-02-01 | 2005-02-01 | NA         | NA         | NA         | Male       | English    | ...        | 0          | 0          | 0          | 0          | 0          | 0          | NA         | NA         | NA         | NA         |\n",
       "| 1324360    | 2005-02-01 | 2005-02-02 | 2005-02-02 | 2005-02-02 | 2005-02-03 | NA         | NA         | Male       | Turkish    | ...        | 0          | 0          | 0          | 0          | 0          | 1          | NA         | NA         | NA         | NA         |\n",
       "| 1324362    | 2005-02-01 | 2005-02-11 | 2005-02-11 | 2005-02-11 | NA         | NA         | NA         | Male       | German     | ...        | 0          | 0          | 0          | 0          | 0          | 0          | NA         | NA         | NA         | NA         |\n",
       "\n"
      ],
      "text/plain": [
       "  UserID  RegDate    FirstPay   FirstAct   FirstSp    FirstCa    FirstGa\n",
       "1 1324354 2005-02-01 2005-02-24 2005-02-24 2005-02-24 <NA>       <NA>   \n",
       "2 1324355 2005-02-01 2005-02-01 2005-02-01 2005-02-01 <NA>       <NA>   \n",
       "3 1324356 2005-02-01 2005-02-01 2005-02-02 2005-02-02 <NA>       <NA>   \n",
       "4 1324358 2005-02-01 2005-02-01 2005-02-01 2005-02-01 <NA>       <NA>   \n",
       "5 1324360 2005-02-01 2005-02-02 2005-02-02 2005-02-02 2005-02-03 <NA>   \n",
       "6 1324362 2005-02-01 2005-02-11 2005-02-11 2005-02-11 <NA>       <NA>   \n",
       "  FirstPo    Gender Language ... Prod3_Poker_BossMedia Prod4_Casino_BossMedia\n",
       "1 <NA>       Male   German   ... 0                     0                     \n",
       "2 2005-06-11 Male   Greek    ... 0                     0                     \n",
       "3 <NA>       Male   German   ... 0                     0                     \n",
       "4 <NA>       Male   English  ... 0                     0                     \n",
       "5 <NA>       Male   Turkish  ... 0                     0                     \n",
       "6 <NA>       Male   German   ... 0                     0                     \n",
       "  Prod5_Supertoto Prod6_Games_VS Prod7_Games_bwin Prod8_Casino_Chartwell\n",
       "1 0               0              0                0                     \n",
       "2 0               0              0                0                     \n",
       "3 0               0              0                0                     \n",
       "4 0               0              0                0                     \n",
       "5 0               0              0                1                     \n",
       "6 0               0              0                0                     \n",
       "  Nbr_PokerChip_Buy_Trans PokerChip_BuyTransAmt Nbr_PokerChip_Sell_Trans\n",
       "1 NA                      NA                    NA                      \n",
       "2  2                       8                     6                      \n",
       "3 NA                      NA                    NA                      \n",
       "4 NA                      NA                    NA                      \n",
       "5 NA                      NA                    NA                      \n",
       "6 NA                      NA                    NA                      \n",
       "  PokerChip_SellTransAmt\n",
       "1 NA                    \n",
       "2 31                    \n",
       "3 NA                    \n",
       "4 NA                    \n",
       "5 NA                    \n",
       "6 NA                    "
      ]
     },
     "metadata": {},
     "output_type": "display_data"
    }
   ],
   "source": [
    "# Merge 2: A concatenated database for every registered user from February 1, 2005 through September 30, 2005\n",
    "# Created from Raw Dataset I, II and III\n",
    "Merge2 <- left_join(Merge1, Poker_Chip_Conversion2, by = \"UserID\")\n",
    "head(Merge2)"
   ]
  },
  {
   "cell_type": "code",
   "execution_count": 48,
   "metadata": {},
   "outputs": [],
   "source": [
    "# Final Merge: A comprehensive database of all registered users from February 1, 2005 through September 30, 2005 \n",
    "# Combining data from all three Raw Datasets and the Analytic Dataset\n",
    "\n",
    "Datamart <- left_join(Merge2, Internet_Gambling, by = c(\"UserID\" = \"USERID\"))"
   ]
  },
  {
   "cell_type": "code",
   "execution_count": 49,
   "metadata": {
    "scrolled": false
   },
   "outputs": [],
   "source": [
    "# Removing duplicate columns\n",
    "Datamart <- select (Datamart,-c(COUNTRY, GENDER, LANGUAGE, RegistrationDate, FirstSportsActiveDate))"
   ]
  },
  {
   "cell_type": "code",
   "execution_count": 50,
   "metadata": {},
   "outputs": [
    {
     "data": {
      "text/html": [
       "<table>\n",
       "<thead><tr><th scope=col>UserID</th><th scope=col>Gender</th><th scope=col>AGE</th><th scope=col>Language</th><th scope=col>Country</th><th scope=col>Website</th><th scope=col>RegDate</th><th scope=col>FirstPay</th><th scope=col>FirstAct</th><th scope=col>FirstSp</th><th scope=col>...</th><th scope=col>FOFirstActiveDate</th><th scope=col>FOLastActiveDate</th><th scope=col>FOTotalDaysActive</th><th scope=col>LATotalStakes</th><th scope=col>LATotalWinnings</th><th scope=col>LATotalBets</th><th scope=col>LAFirstActiveDate</th><th scope=col>LALastActiveDate</th><th scope=col>LATotalDaysActive</th><th scope=col>Age_Group</th></tr></thead>\n",
       "<tbody>\n",
       "\t<tr><td>1324354       </td><td>Male          </td><td>42            </td><td>German        </td><td>Germany       </td><td>BETANDWIN.DE  </td><td>2005-02-01    </td><td>2005-02-24    </td><td>2005-02-24    </td><td>2005-02-24    </td><td>...           </td><td>2005-02-24    </td><td>2005-09-30    </td><td> 97           </td><td> 1839.2800    </td><td> 1512.4900    </td><td> 43           </td><td>2005-05-04    </td><td>2005-09-26    </td><td> 18           </td><td> 4            </td></tr>\n",
       "\t<tr><td>1324355       </td><td>Male          </td><td>22            </td><td>Greek         </td><td>Greece        </td><td>BETANDWIN.COM </td><td>2005-02-01    </td><td>2005-02-01    </td><td>2005-02-01    </td><td>2005-02-01    </td><td>...           </td><td>2005-02-01    </td><td>2005-09-29    </td><td> 72           </td><td>   24.7000    </td><td>   11.2000    </td><td> 21           </td><td>2005-02-01    </td><td>2005-02-07    </td><td>  7           </td><td> 2            </td></tr>\n",
       "\t<tr><td>1324356       </td><td>Male          </td><td>28            </td><td>German        </td><td>Germany       </td><td>BETANDWIN.DE  </td><td>2005-02-01    </td><td>2005-02-01    </td><td>2005-02-02    </td><td>2005-02-02    </td><td>...           </td><td>2005-02-02    </td><td>2005-09-12    </td><td> 38           </td><td>  679.0700    </td><td>  625.1500    </td><td>116           </td><td>2005-02-02    </td><td>2005-09-11    </td><td> 23           </td><td> 2            </td></tr>\n",
       "\t<tr><td>1324358       </td><td>Male          </td><td>24            </td><td>English       </td><td>Sweden        </td><td>BETANDWIN.COM </td><td>2005-02-01    </td><td>2005-02-01    </td><td>2005-02-01    </td><td>2005-02-01    </td><td>...           </td><td>2005-02-01    </td><td>2005-05-06    </td><td>  5           </td><td>   88.5927    </td><td>   55.9819    </td><td>  4           </td><td>2005-05-03    </td><td>2005-05-03    </td><td>  1           </td><td> 2            </td></tr>\n",
       "\t<tr><td>1324360       </td><td>Male          </td><td>27            </td><td>Turkish       </td><td>Turkey        </td><td>BETEUROPE.COM </td><td>2005-02-01    </td><td>2005-02-02    </td><td>2005-02-02    </td><td>2005-02-02    </td><td>...           </td><td>2005-02-02    </td><td>2005-09-25    </td><td> 17           </td><td>    1.7434    </td><td>    1.2009    </td><td>  3           </td><td>2005-02-12    </td><td>2005-09-21    </td><td>  2           </td><td> 2            </td></tr>\n",
       "\t<tr><td>1324362       </td><td>Male          </td><td>22            </td><td>German        </td><td>Germany       </td><td>BETANDWIN.DE  </td><td>2005-02-01    </td><td>2005-02-11    </td><td>2005-02-11    </td><td>2005-02-11    </td><td>...           </td><td>2005-02-11    </td><td>2005-09-17    </td><td>  5           </td><td>        NA    </td><td>        NA    </td><td> NA           </td><td>NA            </td><td>NA            </td><td> NA           </td><td> 2            </td></tr>\n",
       "\t<tr><td>1324363       </td><td>Male          </td><td>22            </td><td>Danish        </td><td>Denmark       </td><td>BETANDWIN.COM </td><td>2005-02-01    </td><td>2005-02-01    </td><td>2005-02-01    </td><td>2005-02-01    </td><td>...           </td><td>2005-02-01    </td><td>2005-02-22    </td><td>  3           </td><td>        NA    </td><td>        NA    </td><td> NA           </td><td>NA            </td><td>NA            </td><td> NA           </td><td> 2            </td></tr>\n",
       "\t<tr><td>1324364       </td><td>Male          </td><td>37            </td><td>German        </td><td>Germany       </td><td>BETANDWIN.DE  </td><td>2005-02-01    </td><td>2005-02-03    </td><td>2005-02-03    </td><td>2005-02-03    </td><td>...           </td><td>2005-02-04    </td><td>2005-09-11    </td><td>  8           </td><td>  210.0000    </td><td>   40.1500    </td><td> 37           </td><td>2005-02-03    </td><td>2005-09-28    </td><td> 12           </td><td> 3            </td></tr>\n",
       "\t<tr><td>1324368       </td><td>Male          </td><td>22            </td><td>Portuguese    </td><td>Portugal      </td><td>BETANDWIN.COM </td><td>2005-02-01    </td><td>2005-03-18    </td><td>2005-03-18    </td><td>2005-03-18    </td><td>...           </td><td>2005-03-18    </td><td>2005-08-28    </td><td> 56           </td><td> 6086.2800    </td><td> 6074.8400    </td><td>328           </td><td>2005-03-31    </td><td>2005-08-21    </td><td> 60           </td><td> 2            </td></tr>\n",
       "\t<tr><td>1324369       </td><td>Male          </td><td>20            </td><td>Turkish       </td><td>Turkey        </td><td>BETEUROPE.COM </td><td>2005-02-01    </td><td>2005-02-01    </td><td>2005-02-01    </td><td>2005-02-01    </td><td>...           </td><td>2005-02-01    </td><td>2005-05-06    </td><td> 32           </td><td>  147.3645    </td><td>  119.3069    </td><td>112           </td><td>2005-02-01    </td><td>2005-05-04    </td><td> 35           </td><td> 2            </td></tr>\n",
       "\t<tr><td>1324371       </td><td>Male          </td><td>NA            </td><td>Turkish       </td><td>Turkey        </td><td>BETEUROPE.COM </td><td>2005-02-01    </td><td>2005-02-01    </td><td>2005-02-01    </td><td>NA            </td><td>...           </td><td>NA            </td><td>NA            </td><td> NA           </td><td>        NA    </td><td>        NA    </td><td> NA           </td><td>NA            </td><td>NA            </td><td> NA           </td><td>NA            </td></tr>\n",
       "\t<tr><td>1324372       </td><td>Male          </td><td>31            </td><td>Polish        </td><td>Poland        </td><td>BETANDWIN.COM </td><td>2005-02-01    </td><td>2005-03-04    </td><td>2005-03-04    </td><td>2005-03-04    </td><td>...           </td><td>2005-03-04    </td><td>2005-09-18    </td><td> 44           </td><td>  202.4992    </td><td>  174.2289    </td><td>197           </td><td>2005-03-04    </td><td>2005-09-11    </td><td> 27           </td><td> 3            </td></tr>\n",
       "\t<tr><td>1324377       </td><td>Male          </td><td>25            </td><td>Danish        </td><td>Denmark       </td><td>BETANDWIN.COM </td><td>2005-02-01    </td><td>2005-02-01    </td><td>2005-02-01    </td><td>2005-02-01    </td><td>...           </td><td>2005-02-01    </td><td>2005-02-04    </td><td>  2           </td><td>    6.7201    </td><td>    0.0000    </td><td>  4           </td><td>2005-02-03    </td><td>2005-02-03    </td><td>  1           </td><td> 2            </td></tr>\n",
       "\t<tr><td>1324378       </td><td>Male          </td><td>22            </td><td>German        </td><td>Germany       </td><td>BETANDWIN.COM </td><td>2005-02-01    </td><td>2005-02-01    </td><td>2005-02-01    </td><td>2005-02-01    </td><td>...           </td><td>2005-02-01    </td><td>2005-05-14    </td><td>  4           </td><td>   11.0000    </td><td>    0.0000    </td><td>  4           </td><td>2005-02-02    </td><td>2005-02-20    </td><td>  2           </td><td> 2            </td></tr>\n",
       "\t<tr><td>1324379       </td><td>Male          </td><td>23            </td><td>Greek         </td><td>Greece        </td><td>BETANDWIN.COM </td><td>2005-02-01    </td><td>2005-03-12    </td><td>2005-03-12    </td><td>2005-03-12    </td><td>...           </td><td>2005-03-12    </td><td>2005-09-30    </td><td>115           </td><td> 3889.7129    </td><td> 3792.1300    </td><td>868           </td><td>2005-04-03    </td><td>2005-09-30    </td><td> 88           </td><td> 2            </td></tr>\n",
       "\t<tr><td>1324383       </td><td>Male          </td><td>53            </td><td>Norwegian     </td><td>Norway        </td><td>PLAYIT.COM    </td><td>2005-02-01    </td><td>2005-02-03    </td><td>2005-02-03    </td><td>2005-05-12    </td><td>...           </td><td>2005-05-12    </td><td>2005-06-12    </td><td>  3           </td><td>        NA    </td><td>        NA    </td><td> NA           </td><td>NA            </td><td>NA            </td><td> NA           </td><td> 5            </td></tr>\n",
       "\t<tr><td>1324385       </td><td>Male          </td><td>30            </td><td>German        </td><td>Germany       </td><td>BETANDWIN.DE  </td><td>2005-02-01    </td><td>2005-02-01    </td><td>2005-02-01    </td><td>2005-02-01    </td><td>...           </td><td>2005-02-01    </td><td>2005-05-01    </td><td> 12           </td><td>        NA    </td><td>        NA    </td><td> NA           </td><td>NA            </td><td>NA            </td><td> NA           </td><td> 3            </td></tr>\n",
       "\t<tr><td>1324386       </td><td>Male          </td><td>27            </td><td>English       </td><td>Switzerland   </td><td>BETANDWIN.COM </td><td>2005-02-01    </td><td>2005-02-09    </td><td>2005-02-09    </td><td>2005-02-09    </td><td>...           </td><td>2005-02-09    </td><td>2005-09-29    </td><td> 60           </td><td> 7327.8246    </td><td> 7023.4414    </td><td>265           </td><td>2005-04-21    </td><td>2005-09-29    </td><td> 52           </td><td> 2            </td></tr>\n",
       "\t<tr><td>1324391       </td><td>Male          </td><td>NA            </td><td>Danish        </td><td>Denmark       </td><td>BETANDWIN.COM </td><td>2005-02-01    </td><td>2005-02-01    </td><td>2005-02-01    </td><td>NA            </td><td>...           </td><td>NA            </td><td>NA            </td><td> NA           </td><td>        NA    </td><td>        NA    </td><td> NA           </td><td>NA            </td><td>NA            </td><td> NA           </td><td>NA            </td></tr>\n",
       "\t<tr><td>1324393       </td><td>Male          </td><td>19            </td><td>English       </td><td>United Kingdom</td><td>BETANDWIN.COM </td><td>2005-02-01    </td><td>2005-02-01    </td><td>2005-02-01    </td><td>2005-02-01    </td><td>...           </td><td>2005-02-01    </td><td>2005-04-28    </td><td> 43           </td><td>        NA    </td><td>        NA    </td><td> NA           </td><td>NA            </td><td>NA            </td><td> NA           </td><td> 1            </td></tr>\n",
       "\t<tr><td>1324396       </td><td>Male          </td><td>22            </td><td>German        </td><td>Germany       </td><td>BETANDWIN.DE  </td><td>2005-02-01    </td><td>2005-02-08    </td><td>2005-02-08    </td><td>2005-02-08    </td><td>...           </td><td>2005-02-08    </td><td>2005-02-24    </td><td> 15           </td><td>        NA    </td><td>        NA    </td><td> NA           </td><td>NA            </td><td>NA            </td><td> NA           </td><td> 2            </td></tr>\n",
       "\t<tr><td>1324400       </td><td>Male          </td><td>45            </td><td>English       </td><td>Germany       </td><td>PLAYIT.COM    </td><td>2005-02-01    </td><td>2005-02-01    </td><td>2005-02-01    </td><td>2005-02-01    </td><td>...           </td><td>2005-02-01    </td><td>2005-03-30    </td><td> 34           </td><td>        NA    </td><td>        NA    </td><td> NA           </td><td>NA            </td><td>NA            </td><td> NA           </td><td> 4            </td></tr>\n",
       "\t<tr><td>1324402       </td><td>Female        </td><td>28            </td><td>German        </td><td>Germany       </td><td>BETANDWIN.DE  </td><td>2005-02-01    </td><td>2005-02-01    </td><td>2005-02-01    </td><td>2005-02-01    </td><td>...           </td><td>2005-02-01    </td><td>2005-02-12    </td><td>  5           </td><td>        NA    </td><td>        NA    </td><td> NA           </td><td>NA            </td><td>NA            </td><td> NA           </td><td> 2            </td></tr>\n",
       "\t<tr><td>1324403       </td><td>Male          </td><td>23            </td><td>German        </td><td>Germany       </td><td>BETANDWIN.DE  </td><td>2005-02-01    </td><td>2005-02-01    </td><td>2005-02-01    </td><td>2005-02-01    </td><td>...           </td><td>2005-02-01    </td><td>2005-06-04    </td><td> 32           </td><td>   82.0000    </td><td>  121.5000    </td><td>  5           </td><td>2005-02-11    </td><td>2005-05-31    </td><td>  2           </td><td> 2            </td></tr>\n",
       "\t<tr><td>1324404       </td><td>Male          </td><td>55            </td><td>German        </td><td>Germany       </td><td>BETANDWIN.DE  </td><td>2005-02-01    </td><td>2005-02-01    </td><td>2005-02-01    </td><td>2005-02-01    </td><td>...           </td><td>2005-02-01    </td><td>2005-09-30    </td><td>185           </td><td>14276.7300    </td><td>14539.8000    </td><td>369           </td><td>2005-02-02    </td><td>2005-09-29    </td><td>112           </td><td> 5            </td></tr>\n",
       "\t<tr><td>1324405       </td><td>Male          </td><td>25            </td><td>Spanish       </td><td>Spain         </td><td>BETANDWIN.COM </td><td>2005-02-01    </td><td>2005-02-18    </td><td>2005-02-20    </td><td>2005-02-20    </td><td>...           </td><td>2005-02-20    </td><td>2005-09-26    </td><td> 47           </td><td>   51.2300    </td><td>   55.1800    </td><td> 67           </td><td>2005-02-25    </td><td>2005-09-11    </td><td> 20           </td><td> 2            </td></tr>\n",
       "\t<tr><td>1324408       </td><td>Male          </td><td>38            </td><td>French        </td><td>France        </td><td>BETANDWIN.COM </td><td>2005-02-01    </td><td>2005-02-08    </td><td>2005-02-08    </td><td>2005-02-08    </td><td>...           </td><td>2005-02-08    </td><td>2005-09-20    </td><td> 38           </td><td>  139.5000    </td><td>   88.9000    </td><td>100           </td><td>2005-02-08    </td><td>2005-05-04    </td><td> 17           </td><td> 3            </td></tr>\n",
       "\t<tr><td>1324411       </td><td>Female        </td><td>45            </td><td>German        </td><td>Germany       </td><td>BETANDWIN.COM </td><td>2005-02-01    </td><td>2005-02-04    </td><td>2005-02-16    </td><td>2005-02-16    </td><td>...           </td><td>2005-02-16    </td><td>2005-02-18    </td><td>  2           </td><td>        NA    </td><td>        NA    </td><td> NA           </td><td>NA            </td><td>NA            </td><td> NA           </td><td> 4            </td></tr>\n",
       "\t<tr><td>1324413       </td><td>Male          </td><td>23            </td><td>Greek         </td><td>Greece        </td><td>BETOTO.COM    </td><td>2005-02-01    </td><td>2005-02-08    </td><td>2005-02-08    </td><td>2005-02-08    </td><td>...           </td><td>2005-02-08    </td><td>2005-05-08    </td><td> 47           </td><td>        NA    </td><td>        NA    </td><td> NA           </td><td>NA            </td><td>NA            </td><td> NA           </td><td> 2            </td></tr>\n",
       "\t<tr><td>1324416       </td><td>Male          </td><td>37            </td><td>German        </td><td>Germany       </td><td>BETANDWIN.DE  </td><td>2005-02-01    </td><td>2005-02-01    </td><td>2005-02-01    </td><td>2005-02-01    </td><td>...           </td><td>2005-02-01    </td><td>2005-06-15    </td><td> 47           </td><td> 7480.4900    </td><td> 6337.6200    </td><td>985           </td><td>2005-02-02    </td><td>2005-07-18    </td><td> 73           </td><td> 3            </td></tr>\n",
       "\t<tr><td>...</td><td>...</td><td>...</td><td>...</td><td>...</td><td>...</td><td>...</td><td>...</td><td>...</td><td>...</td><td>   </td><td>...</td><td>...</td><td>...</td><td>...</td><td>...</td><td>...</td><td>...</td><td>...</td><td>...</td><td>...</td></tr>\n",
       "\t<tr><td>1402144         </td><td>Male            </td><td>24              </td><td>German          </td><td>Germany         </td><td>BETANDWIN.DE    </td><td>2005-02-27      </td><td>2005-02-27      </td><td>2005-02-27      </td><td>2005-02-27      </td><td>...             </td><td>2005-02-27      </td><td>2005-02-28      </td><td> 1              </td><td>         NA     </td><td>         NA     </td><td> NA             </td><td>NA              </td><td>NA              </td><td>NA              </td><td> 2              </td></tr>\n",
       "\t<tr><td>1402145         </td><td>Male            </td><td>28              </td><td>German          </td><td>Germany         </td><td>BETANDWIN.DE    </td><td>2005-02-27      </td><td>2005-02-27      </td><td>2005-02-27      </td><td>2005-02-27      </td><td>...             </td><td>2005-02-27      </td><td>2005-02-28      </td><td> 1              </td><td>         NA     </td><td>         NA     </td><td> NA             </td><td>NA              </td><td>NA              </td><td>NA              </td><td> 2              </td></tr>\n",
       "\t<tr><td>1402146         </td><td>Male            </td><td>NA              </td><td>German          </td><td>Germany         </td><td>BETANDWIN.DE    </td><td>2005-02-27      </td><td>2005-09-24      </td><td>2005-09-24      </td><td>2005-09-24      </td><td>...             </td><td>NA              </td><td>NA              </td><td>NA              </td><td>         NA     </td><td>         NA     </td><td> NA             </td><td>NA              </td><td>NA              </td><td>NA              </td><td>NA              </td></tr>\n",
       "\t<tr><td>1402149         </td><td>Male            </td><td>41              </td><td>German          </td><td>Germany         </td><td>BETANDWIN.DE    </td><td>2005-02-27      </td><td>2005-03-23      </td><td>2005-03-23      </td><td>2005-03-23      </td><td>...             </td><td>2005-03-23      </td><td>2005-04-04      </td><td> 5              </td><td>         NA     </td><td>         NA     </td><td> NA             </td><td>NA              </td><td>NA              </td><td>NA              </td><td> 4              </td></tr>\n",
       "\t<tr><td>1402150         </td><td>Male            </td><td>30              </td><td>German          </td><td>Germany         </td><td>BETANDWIN.DE    </td><td>2005-02-27      </td><td>2005-02-27      </td><td>2005-02-27      </td><td>2005-02-27      </td><td>...             </td><td>2005-02-27      </td><td>2005-02-28      </td><td> 1              </td><td>         NA     </td><td>         NA     </td><td> NA             </td><td>NA              </td><td>NA              </td><td>NA              </td><td> 3              </td></tr>\n",
       "\t<tr><td>1402153         </td><td>Male            </td><td>26              </td><td>German          </td><td>Germany         </td><td>BETANDWIN.DE    </td><td>2005-02-27      </td><td>2005-02-28      </td><td>2005-02-28      </td><td>2005-02-28      </td><td>...             </td><td>2005-02-28      </td><td>2005-09-24      </td><td>51              </td><td>    49.7800     </td><td>    35.6900     </td><td> 34             </td><td>2005-02-28      </td><td>2005-09-03      </td><td>12              </td><td> 2              </td></tr>\n",
       "\t<tr><td>1402155         </td><td>Male            </td><td>43              </td><td>German          </td><td>Germany         </td><td>BETANDWIN.DE    </td><td>2005-02-27      </td><td>2005-04-09      </td><td>2005-03-22      </td><td>2005-03-22      </td><td>...             </td><td>2005-04-09      </td><td>2005-04-17      </td><td> 4              </td><td>         NA     </td><td>         NA     </td><td> NA             </td><td>NA              </td><td>NA              </td><td>NA              </td><td> 4              </td></tr>\n",
       "\t<tr><td>1402156         </td><td>Male            </td><td>28              </td><td>German          </td><td>Germany         </td><td>BETANDWIN.DE    </td><td>2005-02-27      </td><td>2005-03-02      </td><td>2005-03-02      </td><td>2005-03-02      </td><td>...             </td><td>2005-03-02      </td><td>2005-09-29      </td><td> 8              </td><td>    60.8000     </td><td>    24.1500     </td><td> 43             </td><td>2005-03-02      </td><td>2005-09-29      </td><td> 5              </td><td> 2              </td></tr>\n",
       "\t<tr><td>1402160         </td><td>Male            </td><td>NA              </td><td>Italian         </td><td>Italy           </td><td>BETANDWIN POKER </td><td>2005-02-27      </td><td>2005-06-09      </td><td>2005-06-09      </td><td>NA              </td><td>...             </td><td>NA              </td><td>NA              </td><td>NA              </td><td>         NA     </td><td>         NA     </td><td> NA             </td><td>NA              </td><td>NA              </td><td>NA              </td><td>NA              </td></tr>\n",
       "\t<tr><td>1402161         </td><td>Male            </td><td>26              </td><td>Spanish         </td><td>Spain           </td><td>BETANDWIN.COM   </td><td>2005-02-27      </td><td>2005-03-18      </td><td>2005-03-18      </td><td>2005-03-18      </td><td>...             </td><td>2005-03-18      </td><td>2005-04-10      </td><td>11              </td><td>   350.0000     </td><td>   436.2000     </td><td> 21             </td><td>2005-03-20      </td><td>2005-04-07      </td><td> 5              </td><td> 2              </td></tr>\n",
       "\t<tr><td>1402163         </td><td>Male            </td><td>30              </td><td>Greek           </td><td>Greece          </td><td>BETOTO.COM      </td><td>2005-02-27      </td><td>2005-03-01      </td><td>2005-03-01      </td><td>2005-03-01      </td><td>...             </td><td>2005-03-01      </td><td>2005-04-03      </td><td> 9              </td><td>         NA     </td><td>         NA     </td><td> NA             </td><td>NA              </td><td>NA              </td><td>NA              </td><td> 3              </td></tr>\n",
       "\t<tr><td>1402164         </td><td>Male            </td><td>56              </td><td>German          </td><td>Germany         </td><td>BETANDWIN.DE    </td><td>2005-02-27      </td><td>2005-03-02      </td><td>2005-03-02      </td><td>2005-03-02      </td><td>...             </td><td>2005-03-02      </td><td>2005-09-28      </td><td>30              </td><td>         NA     </td><td>         NA     </td><td> NA             </td><td>NA              </td><td>NA              </td><td>NA              </td><td> 5              </td></tr>\n",
       "\t<tr><td>1402165         </td><td>Male            </td><td>23              </td><td>German          </td><td>Germany         </td><td>BETANDWIN.DE    </td><td>2005-02-27      </td><td>2005-03-01      </td><td>2005-03-01      </td><td>2005-03-01      </td><td>...             </td><td>2005-03-01      </td><td>2005-03-20      </td><td>15              </td><td>         NA     </td><td>         NA     </td><td> NA             </td><td>NA              </td><td>NA              </td><td>NA              </td><td> 2              </td></tr>\n",
       "\t<tr><td>1402166         </td><td>Male            </td><td>31              </td><td>Greek           </td><td>Greece          </td><td>BETOTO.COM      </td><td>2005-02-27      </td><td>2005-03-03      </td><td>2005-03-05      </td><td>2005-03-05      </td><td>...             </td><td>2005-03-05      </td><td>2005-03-06      </td><td> 2              </td><td>         NA     </td><td>         NA     </td><td> NA             </td><td>NA              </td><td>NA              </td><td>NA              </td><td> 3              </td></tr>\n",
       "\t<tr><td>1402167         </td><td>Male            </td><td>23              </td><td>Spanish         </td><td>Spain           </td><td>BETANDWIN.COM   </td><td>2005-02-27      </td><td>2005-03-05      </td><td>2005-03-05      </td><td>2005-03-05      </td><td>...             </td><td>2005-03-05      </td><td>2005-09-13      </td><td>19              </td><td>         NA     </td><td>         NA     </td><td> NA             </td><td>NA              </td><td>NA              </td><td>NA              </td><td> 2              </td></tr>\n",
       "\t<tr><td>1402169         </td><td>Male            </td><td>38              </td><td>Spanish         </td><td>Spain           </td><td>BETANDWIN.COM   </td><td>2005-02-27      </td><td>2005-03-07      </td><td>2005-03-07      </td><td>2005-03-07      </td><td>...             </td><td>2005-03-07      </td><td>2005-03-16      </td><td> 6              </td><td>         NA     </td><td>         NA     </td><td> NA             </td><td>NA              </td><td>NA              </td><td>NA              </td><td> 3              </td></tr>\n",
       "\t<tr><td>1402176         </td><td>Male            </td><td>NA              </td><td>Spanish         </td><td>Spain           </td><td>BETANDWIN.COM   </td><td>2005-02-27      </td><td>2005-09-22      </td><td>2005-09-22      </td><td>2005-09-22      </td><td>...             </td><td>NA              </td><td>NA              </td><td>NA              </td><td>         NA     </td><td>         NA     </td><td> NA             </td><td>NA              </td><td>NA              </td><td>NA              </td><td>NA              </td></tr>\n",
       "\t<tr><td>1402177         </td><td>Male            </td><td>28              </td><td>German          </td><td>Germany         </td><td>BETANDWIN.DE    </td><td>2005-02-27      </td><td>2005-03-01      </td><td>2005-03-01      </td><td>2005-03-01      </td><td>...             </td><td>2005-03-01      </td><td>2005-09-30      </td><td>30              </td><td>    20.7100     </td><td>    14.7000     </td><td> 12             </td><td>2005-03-08      </td><td>2005-03-13      </td><td> 4              </td><td> 2              </td></tr>\n",
       "\t<tr><td>1402178         </td><td>Female          </td><td>NA              </td><td>Italian         </td><td>Italy           </td><td>BETANDWIN CASINO</td><td>2005-02-27      </td><td>2005-02-27      </td><td>2005-03-02      </td><td>NA              </td><td>...             </td><td>NA              </td><td>NA              </td><td>NA              </td><td>         NA     </td><td>         NA     </td><td> NA             </td><td>NA              </td><td>NA              </td><td>NA              </td><td>NA              </td></tr>\n",
       "\t<tr><td>1402179         </td><td>Male            </td><td>24              </td><td>Italian         </td><td>Italy           </td><td>BETANDWIN.COM   </td><td>2005-02-27      </td><td>2005-04-13      </td><td>2005-04-13      </td><td>2005-04-13      </td><td>...             </td><td>2005-04-13      </td><td>2005-09-07      </td><td>55              </td><td>120045.2000     </td><td>114000.2700     </td><td>711             </td><td>2005-04-15      </td><td>2005-09-07      </td><td>63              </td><td> 2              </td></tr>\n",
       "\t<tr><td>1402180         </td><td>Male            </td><td>19              </td><td>German          </td><td>Germany         </td><td>BETANDWIN.DE    </td><td>2005-02-27      </td><td>2005-03-01      </td><td>2005-03-01      </td><td>2005-03-01      </td><td>...             </td><td>2005-03-01      </td><td>2005-04-16      </td><td> 4              </td><td>    34.0000     </td><td>    21.5000     </td><td>  9             </td><td>2005-03-01      </td><td>2005-03-05      </td><td> 3              </td><td> 1              </td></tr>\n",
       "\t<tr><td>1402183         </td><td>Male            </td><td>29              </td><td>German          </td><td>Germany         </td><td>BETANDWIN.DE    </td><td>2005-02-27      </td><td>2005-03-06      </td><td>2005-03-06      </td><td>2005-03-06      </td><td>...             </td><td>2005-03-06      </td><td>2005-09-30      </td><td>63              </td><td>         NA     </td><td>         NA     </td><td> NA             </td><td>NA              </td><td>NA              </td><td>NA              </td><td> 2              </td></tr>\n",
       "\t<tr><td>1402187         </td><td>Male            </td><td>41              </td><td>German          </td><td>Germany         </td><td>BETANDWIN.DE    </td><td>2005-02-27      </td><td>2005-03-03      </td><td>2005-03-03      </td><td>2005-03-03      </td><td>...             </td><td>2005-03-03      </td><td>2005-03-05      </td><td> 1              </td><td>    38.0000     </td><td>     0.0000     </td><td>  1             </td><td>2005-03-03      </td><td>2005-03-03      </td><td> 1              </td><td> 4              </td></tr>\n",
       "\t<tr><td>1402188         </td><td>Male            </td><td>23              </td><td>Turkish         </td><td>Turkey          </td><td>BETEUROPE.COM   </td><td>2005-02-27      </td><td>2005-03-02      </td><td>2005-03-02      </td><td>2005-03-02      </td><td>...             </td><td>2005-03-03      </td><td>2005-03-14      </td><td> 8              </td><td>    45.7227     </td><td>    47.8761     </td><td>  9             </td><td>2005-03-02      </td><td>2005-03-04      </td><td> 3              </td><td> 2              </td></tr>\n",
       "\t<tr><td>1402189         </td><td>Male            </td><td>20              </td><td>German          </td><td>Germany         </td><td>BETANDWIN.DE    </td><td>2005-02-27      </td><td>2005-04-21      </td><td>2005-04-23      </td><td>2005-04-23      </td><td>...             </td><td>2005-04-23      </td><td>2005-09-28      </td><td>26              </td><td>     2.0000     </td><td>     0.0000     </td><td>  2             </td><td>2005-04-27      </td><td>2005-05-03      </td><td> 2              </td><td> 2              </td></tr>\n",
       "\t<tr><td>1402190         </td><td>Male            </td><td>30              </td><td>Greek           </td><td>Greece          </td><td>BETOTO.COM      </td><td>2005-02-27      </td><td>2005-02-27      </td><td>2005-02-28      </td><td>2005-02-28      </td><td>...             </td><td>2005-02-28      </td><td>2005-09-15      </td><td>21              </td><td>  1462.2900     </td><td>  1768.8300     </td><td> 41             </td><td>2005-02-28      </td><td>2005-09-20      </td><td>19              </td><td> 3              </td></tr>\n",
       "\t<tr><td>1402191         </td><td>Male            </td><td>26              </td><td>Spanish         </td><td>Spain           </td><td>BETANDWIN.COM   </td><td>2005-02-27      </td><td>2005-02-27      </td><td>2005-02-27      </td><td>2005-02-27      </td><td>...             </td><td>2005-02-27      </td><td>2005-04-03      </td><td> 5              </td><td>    60.0000     </td><td>    91.0000     </td><td>  6             </td><td>2005-02-28      </td><td>2005-02-28      </td><td> 1              </td><td> 2              </td></tr>\n",
       "\t<tr><td>1402192         </td><td>Male            </td><td>33              </td><td>Turkish         </td><td>Turkey          </td><td>BETEUROPE.COM   </td><td>2005-02-27      </td><td>2005-04-28      </td><td>2005-04-28      </td><td>2005-04-28      </td><td>...             </td><td>2005-04-28      </td><td>2005-05-20      </td><td> 3              </td><td>     2.8011     </td><td>     1.6807     </td><td>  5             </td><td>2005-05-05      </td><td>2005-05-06      </td><td> 1              </td><td> 3              </td></tr>\n",
       "\t<tr><td>1402197         </td><td>Male            </td><td>31              </td><td>Greek           </td><td>Greece          </td><td>BETOTO.COM      </td><td>2005-02-27      </td><td>2005-02-28      </td><td>2005-03-02      </td><td>2005-03-02      </td><td>...             </td><td>2005-03-02      </td><td>2005-09-28      </td><td>25              </td><td>    60.0000     </td><td>   187.5000     </td><td>  2             </td><td>2005-05-18      </td><td>2005-09-27      </td><td> 2              </td><td> 3              </td></tr>\n",
       "\t<tr><td>1402198         </td><td>Male            </td><td>NA              </td><td>Swedish         </td><td>Sweden          </td><td>BETANDWIN CASINO</td><td>2005-02-27      </td><td>2005-07-22      </td><td>2005-02-28      </td><td>NA              </td><td>...             </td><td>NA              </td><td>NA              </td><td>NA              </td><td>         NA     </td><td>         NA     </td><td> NA             </td><td>NA              </td><td>NA              </td><td>NA              </td><td>NA              </td></tr>\n",
       "</tbody>\n",
       "</table>\n"
      ],
      "text/latex": [
       "\\begin{tabular}{r|llllllllllllllllllllllllllllllllllllllllllllll}\n",
       " UserID & Gender & AGE & Language & Country & Website & RegDate & FirstPay & FirstAct & FirstSp & ... & FOFirstActiveDate & FOLastActiveDate & FOTotalDaysActive & LATotalStakes & LATotalWinnings & LATotalBets & LAFirstActiveDate & LALastActiveDate & LATotalDaysActive & Age\\_Group\\\\\n",
       "\\hline\n",
       "\t 1324354        & Male           & 42             & German         & Germany        & BETANDWIN.DE   & 2005-02-01     & 2005-02-24     & 2005-02-24     & 2005-02-24     & ...            & 2005-02-24     & 2005-09-30     &  97            &  1839.2800     &  1512.4900     &  43            & 2005-05-04     & 2005-09-26     &  18            &  4            \\\\\n",
       "\t 1324355        & Male           & 22             & Greek          & Greece         & BETANDWIN.COM  & 2005-02-01     & 2005-02-01     & 2005-02-01     & 2005-02-01     & ...            & 2005-02-01     & 2005-09-29     &  72            &    24.7000     &    11.2000     &  21            & 2005-02-01     & 2005-02-07     &   7            &  2            \\\\\n",
       "\t 1324356        & Male           & 28             & German         & Germany        & BETANDWIN.DE   & 2005-02-01     & 2005-02-01     & 2005-02-02     & 2005-02-02     & ...            & 2005-02-02     & 2005-09-12     &  38            &   679.0700     &   625.1500     & 116            & 2005-02-02     & 2005-09-11     &  23            &  2            \\\\\n",
       "\t 1324358        & Male           & 24             & English        & Sweden         & BETANDWIN.COM  & 2005-02-01     & 2005-02-01     & 2005-02-01     & 2005-02-01     & ...            & 2005-02-01     & 2005-05-06     &   5            &    88.5927     &    55.9819     &   4            & 2005-05-03     & 2005-05-03     &   1            &  2            \\\\\n",
       "\t 1324360        & Male           & 27             & Turkish        & Turkey         & BETEUROPE.COM  & 2005-02-01     & 2005-02-02     & 2005-02-02     & 2005-02-02     & ...            & 2005-02-02     & 2005-09-25     &  17            &     1.7434     &     1.2009     &   3            & 2005-02-12     & 2005-09-21     &   2            &  2            \\\\\n",
       "\t 1324362        & Male           & 22             & German         & Germany        & BETANDWIN.DE   & 2005-02-01     & 2005-02-11     & 2005-02-11     & 2005-02-11     & ...            & 2005-02-11     & 2005-09-17     &   5            &         NA     &         NA     &  NA            & NA             & NA             &  NA            &  2            \\\\\n",
       "\t 1324363        & Male           & 22             & Danish         & Denmark        & BETANDWIN.COM  & 2005-02-01     & 2005-02-01     & 2005-02-01     & 2005-02-01     & ...            & 2005-02-01     & 2005-02-22     &   3            &         NA     &         NA     &  NA            & NA             & NA             &  NA            &  2            \\\\\n",
       "\t 1324364        & Male           & 37             & German         & Germany        & BETANDWIN.DE   & 2005-02-01     & 2005-02-03     & 2005-02-03     & 2005-02-03     & ...            & 2005-02-04     & 2005-09-11     &   8            &   210.0000     &    40.1500     &  37            & 2005-02-03     & 2005-09-28     &  12            &  3            \\\\\n",
       "\t 1324368        & Male           & 22             & Portuguese     & Portugal       & BETANDWIN.COM  & 2005-02-01     & 2005-03-18     & 2005-03-18     & 2005-03-18     & ...            & 2005-03-18     & 2005-08-28     &  56            &  6086.2800     &  6074.8400     & 328            & 2005-03-31     & 2005-08-21     &  60            &  2            \\\\\n",
       "\t 1324369        & Male           & 20             & Turkish        & Turkey         & BETEUROPE.COM  & 2005-02-01     & 2005-02-01     & 2005-02-01     & 2005-02-01     & ...            & 2005-02-01     & 2005-05-06     &  32            &   147.3645     &   119.3069     & 112            & 2005-02-01     & 2005-05-04     &  35            &  2            \\\\\n",
       "\t 1324371        & Male           & NA             & Turkish        & Turkey         & BETEUROPE.COM  & 2005-02-01     & 2005-02-01     & 2005-02-01     & NA             & ...            & NA             & NA             &  NA            &         NA     &         NA     &  NA            & NA             & NA             &  NA            & NA            \\\\\n",
       "\t 1324372        & Male           & 31             & Polish         & Poland         & BETANDWIN.COM  & 2005-02-01     & 2005-03-04     & 2005-03-04     & 2005-03-04     & ...            & 2005-03-04     & 2005-09-18     &  44            &   202.4992     &   174.2289     & 197            & 2005-03-04     & 2005-09-11     &  27            &  3            \\\\\n",
       "\t 1324377        & Male           & 25             & Danish         & Denmark        & BETANDWIN.COM  & 2005-02-01     & 2005-02-01     & 2005-02-01     & 2005-02-01     & ...            & 2005-02-01     & 2005-02-04     &   2            &     6.7201     &     0.0000     &   4            & 2005-02-03     & 2005-02-03     &   1            &  2            \\\\\n",
       "\t 1324378        & Male           & 22             & German         & Germany        & BETANDWIN.COM  & 2005-02-01     & 2005-02-01     & 2005-02-01     & 2005-02-01     & ...            & 2005-02-01     & 2005-05-14     &   4            &    11.0000     &     0.0000     &   4            & 2005-02-02     & 2005-02-20     &   2            &  2            \\\\\n",
       "\t 1324379        & Male           & 23             & Greek          & Greece         & BETANDWIN.COM  & 2005-02-01     & 2005-03-12     & 2005-03-12     & 2005-03-12     & ...            & 2005-03-12     & 2005-09-30     & 115            &  3889.7129     &  3792.1300     & 868            & 2005-04-03     & 2005-09-30     &  88            &  2            \\\\\n",
       "\t 1324383        & Male           & 53             & Norwegian      & Norway         & PLAYIT.COM     & 2005-02-01     & 2005-02-03     & 2005-02-03     & 2005-05-12     & ...            & 2005-05-12     & 2005-06-12     &   3            &         NA     &         NA     &  NA            & NA             & NA             &  NA            &  5            \\\\\n",
       "\t 1324385        & Male           & 30             & German         & Germany        & BETANDWIN.DE   & 2005-02-01     & 2005-02-01     & 2005-02-01     & 2005-02-01     & ...            & 2005-02-01     & 2005-05-01     &  12            &         NA     &         NA     &  NA            & NA             & NA             &  NA            &  3            \\\\\n",
       "\t 1324386        & Male           & 27             & English        & Switzerland    & BETANDWIN.COM  & 2005-02-01     & 2005-02-09     & 2005-02-09     & 2005-02-09     & ...            & 2005-02-09     & 2005-09-29     &  60            &  7327.8246     &  7023.4414     & 265            & 2005-04-21     & 2005-09-29     &  52            &  2            \\\\\n",
       "\t 1324391        & Male           & NA             & Danish         & Denmark        & BETANDWIN.COM  & 2005-02-01     & 2005-02-01     & 2005-02-01     & NA             & ...            & NA             & NA             &  NA            &         NA     &         NA     &  NA            & NA             & NA             &  NA            & NA            \\\\\n",
       "\t 1324393        & Male           & 19             & English        & United Kingdom & BETANDWIN.COM  & 2005-02-01     & 2005-02-01     & 2005-02-01     & 2005-02-01     & ...            & 2005-02-01     & 2005-04-28     &  43            &         NA     &         NA     &  NA            & NA             & NA             &  NA            &  1            \\\\\n",
       "\t 1324396        & Male           & 22             & German         & Germany        & BETANDWIN.DE   & 2005-02-01     & 2005-02-08     & 2005-02-08     & 2005-02-08     & ...            & 2005-02-08     & 2005-02-24     &  15            &         NA     &         NA     &  NA            & NA             & NA             &  NA            &  2            \\\\\n",
       "\t 1324400        & Male           & 45             & English        & Germany        & PLAYIT.COM     & 2005-02-01     & 2005-02-01     & 2005-02-01     & 2005-02-01     & ...            & 2005-02-01     & 2005-03-30     &  34            &         NA     &         NA     &  NA            & NA             & NA             &  NA            &  4            \\\\\n",
       "\t 1324402        & Female         & 28             & German         & Germany        & BETANDWIN.DE   & 2005-02-01     & 2005-02-01     & 2005-02-01     & 2005-02-01     & ...            & 2005-02-01     & 2005-02-12     &   5            &         NA     &         NA     &  NA            & NA             & NA             &  NA            &  2            \\\\\n",
       "\t 1324403        & Male           & 23             & German         & Germany        & BETANDWIN.DE   & 2005-02-01     & 2005-02-01     & 2005-02-01     & 2005-02-01     & ...            & 2005-02-01     & 2005-06-04     &  32            &    82.0000     &   121.5000     &   5            & 2005-02-11     & 2005-05-31     &   2            &  2            \\\\\n",
       "\t 1324404        & Male           & 55             & German         & Germany        & BETANDWIN.DE   & 2005-02-01     & 2005-02-01     & 2005-02-01     & 2005-02-01     & ...            & 2005-02-01     & 2005-09-30     & 185            & 14276.7300     & 14539.8000     & 369            & 2005-02-02     & 2005-09-29     & 112            &  5            \\\\\n",
       "\t 1324405        & Male           & 25             & Spanish        & Spain          & BETANDWIN.COM  & 2005-02-01     & 2005-02-18     & 2005-02-20     & 2005-02-20     & ...            & 2005-02-20     & 2005-09-26     &  47            &    51.2300     &    55.1800     &  67            & 2005-02-25     & 2005-09-11     &  20            &  2            \\\\\n",
       "\t 1324408        & Male           & 38             & French         & France         & BETANDWIN.COM  & 2005-02-01     & 2005-02-08     & 2005-02-08     & 2005-02-08     & ...            & 2005-02-08     & 2005-09-20     &  38            &   139.5000     &    88.9000     & 100            & 2005-02-08     & 2005-05-04     &  17            &  3            \\\\\n",
       "\t 1324411        & Female         & 45             & German         & Germany        & BETANDWIN.COM  & 2005-02-01     & 2005-02-04     & 2005-02-16     & 2005-02-16     & ...            & 2005-02-16     & 2005-02-18     &   2            &         NA     &         NA     &  NA            & NA             & NA             &  NA            &  4            \\\\\n",
       "\t 1324413        & Male           & 23             & Greek          & Greece         & BETOTO.COM     & 2005-02-01     & 2005-02-08     & 2005-02-08     & 2005-02-08     & ...            & 2005-02-08     & 2005-05-08     &  47            &         NA     &         NA     &  NA            & NA             & NA             &  NA            &  2            \\\\\n",
       "\t 1324416        & Male           & 37             & German         & Germany        & BETANDWIN.DE   & 2005-02-01     & 2005-02-01     & 2005-02-01     & 2005-02-01     & ...            & 2005-02-01     & 2005-06-15     &  47            &  7480.4900     &  6337.6200     & 985            & 2005-02-02     & 2005-07-18     &  73            &  3            \\\\\n",
       "\t ... & ... & ... & ... & ... & ... & ... & ... & ... & ... &     & ... & ... & ... & ... & ... & ... & ... & ... & ... & ...\\\\\n",
       "\t 1402144          & Male             & 24               & German           & Germany          & BETANDWIN.DE     & 2005-02-27       & 2005-02-27       & 2005-02-27       & 2005-02-27       & ...              & 2005-02-27       & 2005-02-28       &  1               &          NA      &          NA      &  NA              & NA               & NA               & NA               &  2              \\\\\n",
       "\t 1402145          & Male             & 28               & German           & Germany          & BETANDWIN.DE     & 2005-02-27       & 2005-02-27       & 2005-02-27       & 2005-02-27       & ...              & 2005-02-27       & 2005-02-28       &  1               &          NA      &          NA      &  NA              & NA               & NA               & NA               &  2              \\\\\n",
       "\t 1402146          & Male             & NA               & German           & Germany          & BETANDWIN.DE     & 2005-02-27       & 2005-09-24       & 2005-09-24       & 2005-09-24       & ...              & NA               & NA               & NA               &          NA      &          NA      &  NA              & NA               & NA               & NA               & NA              \\\\\n",
       "\t 1402149          & Male             & 41               & German           & Germany          & BETANDWIN.DE     & 2005-02-27       & 2005-03-23       & 2005-03-23       & 2005-03-23       & ...              & 2005-03-23       & 2005-04-04       &  5               &          NA      &          NA      &  NA              & NA               & NA               & NA               &  4              \\\\\n",
       "\t 1402150          & Male             & 30               & German           & Germany          & BETANDWIN.DE     & 2005-02-27       & 2005-02-27       & 2005-02-27       & 2005-02-27       & ...              & 2005-02-27       & 2005-02-28       &  1               &          NA      &          NA      &  NA              & NA               & NA               & NA               &  3              \\\\\n",
       "\t 1402153          & Male             & 26               & German           & Germany          & BETANDWIN.DE     & 2005-02-27       & 2005-02-28       & 2005-02-28       & 2005-02-28       & ...              & 2005-02-28       & 2005-09-24       & 51               &     49.7800      &     35.6900      &  34              & 2005-02-28       & 2005-09-03       & 12               &  2              \\\\\n",
       "\t 1402155          & Male             & 43               & German           & Germany          & BETANDWIN.DE     & 2005-02-27       & 2005-04-09       & 2005-03-22       & 2005-03-22       & ...              & 2005-04-09       & 2005-04-17       &  4               &          NA      &          NA      &  NA              & NA               & NA               & NA               &  4              \\\\\n",
       "\t 1402156          & Male             & 28               & German           & Germany          & BETANDWIN.DE     & 2005-02-27       & 2005-03-02       & 2005-03-02       & 2005-03-02       & ...              & 2005-03-02       & 2005-09-29       &  8               &     60.8000      &     24.1500      &  43              & 2005-03-02       & 2005-09-29       &  5               &  2              \\\\\n",
       "\t 1402160          & Male             & NA               & Italian          & Italy            & BETANDWIN POKER  & 2005-02-27       & 2005-06-09       & 2005-06-09       & NA               & ...              & NA               & NA               & NA               &          NA      &          NA      &  NA              & NA               & NA               & NA               & NA              \\\\\n",
       "\t 1402161          & Male             & 26               & Spanish          & Spain            & BETANDWIN.COM    & 2005-02-27       & 2005-03-18       & 2005-03-18       & 2005-03-18       & ...              & 2005-03-18       & 2005-04-10       & 11               &    350.0000      &    436.2000      &  21              & 2005-03-20       & 2005-04-07       &  5               &  2              \\\\\n",
       "\t 1402163          & Male             & 30               & Greek            & Greece           & BETOTO.COM       & 2005-02-27       & 2005-03-01       & 2005-03-01       & 2005-03-01       & ...              & 2005-03-01       & 2005-04-03       &  9               &          NA      &          NA      &  NA              & NA               & NA               & NA               &  3              \\\\\n",
       "\t 1402164          & Male             & 56               & German           & Germany          & BETANDWIN.DE     & 2005-02-27       & 2005-03-02       & 2005-03-02       & 2005-03-02       & ...              & 2005-03-02       & 2005-09-28       & 30               &          NA      &          NA      &  NA              & NA               & NA               & NA               &  5              \\\\\n",
       "\t 1402165          & Male             & 23               & German           & Germany          & BETANDWIN.DE     & 2005-02-27       & 2005-03-01       & 2005-03-01       & 2005-03-01       & ...              & 2005-03-01       & 2005-03-20       & 15               &          NA      &          NA      &  NA              & NA               & NA               & NA               &  2              \\\\\n",
       "\t 1402166          & Male             & 31               & Greek            & Greece           & BETOTO.COM       & 2005-02-27       & 2005-03-03       & 2005-03-05       & 2005-03-05       & ...              & 2005-03-05       & 2005-03-06       &  2               &          NA      &          NA      &  NA              & NA               & NA               & NA               &  3              \\\\\n",
       "\t 1402167          & Male             & 23               & Spanish          & Spain            & BETANDWIN.COM    & 2005-02-27       & 2005-03-05       & 2005-03-05       & 2005-03-05       & ...              & 2005-03-05       & 2005-09-13       & 19               &          NA      &          NA      &  NA              & NA               & NA               & NA               &  2              \\\\\n",
       "\t 1402169          & Male             & 38               & Spanish          & Spain            & BETANDWIN.COM    & 2005-02-27       & 2005-03-07       & 2005-03-07       & 2005-03-07       & ...              & 2005-03-07       & 2005-03-16       &  6               &          NA      &          NA      &  NA              & NA               & NA               & NA               &  3              \\\\\n",
       "\t 1402176          & Male             & NA               & Spanish          & Spain            & BETANDWIN.COM    & 2005-02-27       & 2005-09-22       & 2005-09-22       & 2005-09-22       & ...              & NA               & NA               & NA               &          NA      &          NA      &  NA              & NA               & NA               & NA               & NA              \\\\\n",
       "\t 1402177          & Male             & 28               & German           & Germany          & BETANDWIN.DE     & 2005-02-27       & 2005-03-01       & 2005-03-01       & 2005-03-01       & ...              & 2005-03-01       & 2005-09-30       & 30               &     20.7100      &     14.7000      &  12              & 2005-03-08       & 2005-03-13       &  4               &  2              \\\\\n",
       "\t 1402178          & Female           & NA               & Italian          & Italy            & BETANDWIN CASINO & 2005-02-27       & 2005-02-27       & 2005-03-02       & NA               & ...              & NA               & NA               & NA               &          NA      &          NA      &  NA              & NA               & NA               & NA               & NA              \\\\\n",
       "\t 1402179          & Male             & 24               & Italian          & Italy            & BETANDWIN.COM    & 2005-02-27       & 2005-04-13       & 2005-04-13       & 2005-04-13       & ...              & 2005-04-13       & 2005-09-07       & 55               & 120045.2000      & 114000.2700      & 711              & 2005-04-15       & 2005-09-07       & 63               &  2              \\\\\n",
       "\t 1402180          & Male             & 19               & German           & Germany          & BETANDWIN.DE     & 2005-02-27       & 2005-03-01       & 2005-03-01       & 2005-03-01       & ...              & 2005-03-01       & 2005-04-16       &  4               &     34.0000      &     21.5000      &   9              & 2005-03-01       & 2005-03-05       &  3               &  1              \\\\\n",
       "\t 1402183          & Male             & 29               & German           & Germany          & BETANDWIN.DE     & 2005-02-27       & 2005-03-06       & 2005-03-06       & 2005-03-06       & ...              & 2005-03-06       & 2005-09-30       & 63               &          NA      &          NA      &  NA              & NA               & NA               & NA               &  2              \\\\\n",
       "\t 1402187          & Male             & 41               & German           & Germany          & BETANDWIN.DE     & 2005-02-27       & 2005-03-03       & 2005-03-03       & 2005-03-03       & ...              & 2005-03-03       & 2005-03-05       &  1               &     38.0000      &      0.0000      &   1              & 2005-03-03       & 2005-03-03       &  1               &  4              \\\\\n",
       "\t 1402188          & Male             & 23               & Turkish          & Turkey           & BETEUROPE.COM    & 2005-02-27       & 2005-03-02       & 2005-03-02       & 2005-03-02       & ...              & 2005-03-03       & 2005-03-14       &  8               &     45.7227      &     47.8761      &   9              & 2005-03-02       & 2005-03-04       &  3               &  2              \\\\\n",
       "\t 1402189          & Male             & 20               & German           & Germany          & BETANDWIN.DE     & 2005-02-27       & 2005-04-21       & 2005-04-23       & 2005-04-23       & ...              & 2005-04-23       & 2005-09-28       & 26               &      2.0000      &      0.0000      &   2              & 2005-04-27       & 2005-05-03       &  2               &  2              \\\\\n",
       "\t 1402190          & Male             & 30               & Greek            & Greece           & BETOTO.COM       & 2005-02-27       & 2005-02-27       & 2005-02-28       & 2005-02-28       & ...              & 2005-02-28       & 2005-09-15       & 21               &   1462.2900      &   1768.8300      &  41              & 2005-02-28       & 2005-09-20       & 19               &  3              \\\\\n",
       "\t 1402191          & Male             & 26               & Spanish          & Spain            & BETANDWIN.COM    & 2005-02-27       & 2005-02-27       & 2005-02-27       & 2005-02-27       & ...              & 2005-02-27       & 2005-04-03       &  5               &     60.0000      &     91.0000      &   6              & 2005-02-28       & 2005-02-28       &  1               &  2              \\\\\n",
       "\t 1402192          & Male             & 33               & Turkish          & Turkey           & BETEUROPE.COM    & 2005-02-27       & 2005-04-28       & 2005-04-28       & 2005-04-28       & ...              & 2005-04-28       & 2005-05-20       &  3               &      2.8011      &      1.6807      &   5              & 2005-05-05       & 2005-05-06       &  1               &  3              \\\\\n",
       "\t 1402197          & Male             & 31               & Greek            & Greece           & BETOTO.COM       & 2005-02-27       & 2005-02-28       & 2005-03-02       & 2005-03-02       & ...              & 2005-03-02       & 2005-09-28       & 25               &     60.0000      &    187.5000      &   2              & 2005-05-18       & 2005-09-27       &  2               &  3              \\\\\n",
       "\t 1402198          & Male             & NA               & Swedish          & Sweden           & BETANDWIN CASINO & 2005-02-27       & 2005-07-22       & 2005-02-28       & NA               & ...              & NA               & NA               & NA               &          NA      &          NA      &  NA              & NA               & NA               & NA               & NA              \\\\\n",
       "\\end{tabular}\n"
      ],
      "text/markdown": [
       "\n",
       "| UserID | Gender | AGE | Language | Country | Website | RegDate | FirstPay | FirstAct | FirstSp | ... | FOFirstActiveDate | FOLastActiveDate | FOTotalDaysActive | LATotalStakes | LATotalWinnings | LATotalBets | LAFirstActiveDate | LALastActiveDate | LATotalDaysActive | Age_Group |\n",
       "|---|---|---|---|---|---|---|---|---|---|---|---|---|---|---|---|---|---|---|---|---|\n",
       "| 1324354        | Male           | 42             | German         | Germany        | BETANDWIN.DE   | 2005-02-01     | 2005-02-24     | 2005-02-24     | 2005-02-24     | ...            | 2005-02-24     | 2005-09-30     |  97            |  1839.2800     |  1512.4900     |  43            | 2005-05-04     | 2005-09-26     |  18            |  4             |\n",
       "| 1324355        | Male           | 22             | Greek          | Greece         | BETANDWIN.COM  | 2005-02-01     | 2005-02-01     | 2005-02-01     | 2005-02-01     | ...            | 2005-02-01     | 2005-09-29     |  72            |    24.7000     |    11.2000     |  21            | 2005-02-01     | 2005-02-07     |   7            |  2             |\n",
       "| 1324356        | Male           | 28             | German         | Germany        | BETANDWIN.DE   | 2005-02-01     | 2005-02-01     | 2005-02-02     | 2005-02-02     | ...            | 2005-02-02     | 2005-09-12     |  38            |   679.0700     |   625.1500     | 116            | 2005-02-02     | 2005-09-11     |  23            |  2             |\n",
       "| 1324358        | Male           | 24             | English        | Sweden         | BETANDWIN.COM  | 2005-02-01     | 2005-02-01     | 2005-02-01     | 2005-02-01     | ...            | 2005-02-01     | 2005-05-06     |   5            |    88.5927     |    55.9819     |   4            | 2005-05-03     | 2005-05-03     |   1            |  2             |\n",
       "| 1324360        | Male           | 27             | Turkish        | Turkey         | BETEUROPE.COM  | 2005-02-01     | 2005-02-02     | 2005-02-02     | 2005-02-02     | ...            | 2005-02-02     | 2005-09-25     |  17            |     1.7434     |     1.2009     |   3            | 2005-02-12     | 2005-09-21     |   2            |  2             |\n",
       "| 1324362        | Male           | 22             | German         | Germany        | BETANDWIN.DE   | 2005-02-01     | 2005-02-11     | 2005-02-11     | 2005-02-11     | ...            | 2005-02-11     | 2005-09-17     |   5            |         NA     |         NA     |  NA            | NA             | NA             |  NA            |  2             |\n",
       "| 1324363        | Male           | 22             | Danish         | Denmark        | BETANDWIN.COM  | 2005-02-01     | 2005-02-01     | 2005-02-01     | 2005-02-01     | ...            | 2005-02-01     | 2005-02-22     |   3            |         NA     |         NA     |  NA            | NA             | NA             |  NA            |  2             |\n",
       "| 1324364        | Male           | 37             | German         | Germany        | BETANDWIN.DE   | 2005-02-01     | 2005-02-03     | 2005-02-03     | 2005-02-03     | ...            | 2005-02-04     | 2005-09-11     |   8            |   210.0000     |    40.1500     |  37            | 2005-02-03     | 2005-09-28     |  12            |  3             |\n",
       "| 1324368        | Male           | 22             | Portuguese     | Portugal       | BETANDWIN.COM  | 2005-02-01     | 2005-03-18     | 2005-03-18     | 2005-03-18     | ...            | 2005-03-18     | 2005-08-28     |  56            |  6086.2800     |  6074.8400     | 328            | 2005-03-31     | 2005-08-21     |  60            |  2             |\n",
       "| 1324369        | Male           | 20             | Turkish        | Turkey         | BETEUROPE.COM  | 2005-02-01     | 2005-02-01     | 2005-02-01     | 2005-02-01     | ...            | 2005-02-01     | 2005-05-06     |  32            |   147.3645     |   119.3069     | 112            | 2005-02-01     | 2005-05-04     |  35            |  2             |\n",
       "| 1324371        | Male           | NA             | Turkish        | Turkey         | BETEUROPE.COM  | 2005-02-01     | 2005-02-01     | 2005-02-01     | NA             | ...            | NA             | NA             |  NA            |         NA     |         NA     |  NA            | NA             | NA             |  NA            | NA             |\n",
       "| 1324372        | Male           | 31             | Polish         | Poland         | BETANDWIN.COM  | 2005-02-01     | 2005-03-04     | 2005-03-04     | 2005-03-04     | ...            | 2005-03-04     | 2005-09-18     |  44            |   202.4992     |   174.2289     | 197            | 2005-03-04     | 2005-09-11     |  27            |  3             |\n",
       "| 1324377        | Male           | 25             | Danish         | Denmark        | BETANDWIN.COM  | 2005-02-01     | 2005-02-01     | 2005-02-01     | 2005-02-01     | ...            | 2005-02-01     | 2005-02-04     |   2            |     6.7201     |     0.0000     |   4            | 2005-02-03     | 2005-02-03     |   1            |  2             |\n",
       "| 1324378        | Male           | 22             | German         | Germany        | BETANDWIN.COM  | 2005-02-01     | 2005-02-01     | 2005-02-01     | 2005-02-01     | ...            | 2005-02-01     | 2005-05-14     |   4            |    11.0000     |     0.0000     |   4            | 2005-02-02     | 2005-02-20     |   2            |  2             |\n",
       "| 1324379        | Male           | 23             | Greek          | Greece         | BETANDWIN.COM  | 2005-02-01     | 2005-03-12     | 2005-03-12     | 2005-03-12     | ...            | 2005-03-12     | 2005-09-30     | 115            |  3889.7129     |  3792.1300     | 868            | 2005-04-03     | 2005-09-30     |  88            |  2             |\n",
       "| 1324383        | Male           | 53             | Norwegian      | Norway         | PLAYIT.COM     | 2005-02-01     | 2005-02-03     | 2005-02-03     | 2005-05-12     | ...            | 2005-05-12     | 2005-06-12     |   3            |         NA     |         NA     |  NA            | NA             | NA             |  NA            |  5             |\n",
       "| 1324385        | Male           | 30             | German         | Germany        | BETANDWIN.DE   | 2005-02-01     | 2005-02-01     | 2005-02-01     | 2005-02-01     | ...            | 2005-02-01     | 2005-05-01     |  12            |         NA     |         NA     |  NA            | NA             | NA             |  NA            |  3             |\n",
       "| 1324386        | Male           | 27             | English        | Switzerland    | BETANDWIN.COM  | 2005-02-01     | 2005-02-09     | 2005-02-09     | 2005-02-09     | ...            | 2005-02-09     | 2005-09-29     |  60            |  7327.8246     |  7023.4414     | 265            | 2005-04-21     | 2005-09-29     |  52            |  2             |\n",
       "| 1324391        | Male           | NA             | Danish         | Denmark        | BETANDWIN.COM  | 2005-02-01     | 2005-02-01     | 2005-02-01     | NA             | ...            | NA             | NA             |  NA            |         NA     |         NA     |  NA            | NA             | NA             |  NA            | NA             |\n",
       "| 1324393        | Male           | 19             | English        | United Kingdom | BETANDWIN.COM  | 2005-02-01     | 2005-02-01     | 2005-02-01     | 2005-02-01     | ...            | 2005-02-01     | 2005-04-28     |  43            |         NA     |         NA     |  NA            | NA             | NA             |  NA            |  1             |\n",
       "| 1324396        | Male           | 22             | German         | Germany        | BETANDWIN.DE   | 2005-02-01     | 2005-02-08     | 2005-02-08     | 2005-02-08     | ...            | 2005-02-08     | 2005-02-24     |  15            |         NA     |         NA     |  NA            | NA             | NA             |  NA            |  2             |\n",
       "| 1324400        | Male           | 45             | English        | Germany        | PLAYIT.COM     | 2005-02-01     | 2005-02-01     | 2005-02-01     | 2005-02-01     | ...            | 2005-02-01     | 2005-03-30     |  34            |         NA     |         NA     |  NA            | NA             | NA             |  NA            |  4             |\n",
       "| 1324402        | Female         | 28             | German         | Germany        | BETANDWIN.DE   | 2005-02-01     | 2005-02-01     | 2005-02-01     | 2005-02-01     | ...            | 2005-02-01     | 2005-02-12     |   5            |         NA     |         NA     |  NA            | NA             | NA             |  NA            |  2             |\n",
       "| 1324403        | Male           | 23             | German         | Germany        | BETANDWIN.DE   | 2005-02-01     | 2005-02-01     | 2005-02-01     | 2005-02-01     | ...            | 2005-02-01     | 2005-06-04     |  32            |    82.0000     |   121.5000     |   5            | 2005-02-11     | 2005-05-31     |   2            |  2             |\n",
       "| 1324404        | Male           | 55             | German         | Germany        | BETANDWIN.DE   | 2005-02-01     | 2005-02-01     | 2005-02-01     | 2005-02-01     | ...            | 2005-02-01     | 2005-09-30     | 185            | 14276.7300     | 14539.8000     | 369            | 2005-02-02     | 2005-09-29     | 112            |  5             |\n",
       "| 1324405        | Male           | 25             | Spanish        | Spain          | BETANDWIN.COM  | 2005-02-01     | 2005-02-18     | 2005-02-20     | 2005-02-20     | ...            | 2005-02-20     | 2005-09-26     |  47            |    51.2300     |    55.1800     |  67            | 2005-02-25     | 2005-09-11     |  20            |  2             |\n",
       "| 1324408        | Male           | 38             | French         | France         | BETANDWIN.COM  | 2005-02-01     | 2005-02-08     | 2005-02-08     | 2005-02-08     | ...            | 2005-02-08     | 2005-09-20     |  38            |   139.5000     |    88.9000     | 100            | 2005-02-08     | 2005-05-04     |  17            |  3             |\n",
       "| 1324411        | Female         | 45             | German         | Germany        | BETANDWIN.COM  | 2005-02-01     | 2005-02-04     | 2005-02-16     | 2005-02-16     | ...            | 2005-02-16     | 2005-02-18     |   2            |         NA     |         NA     |  NA            | NA             | NA             |  NA            |  4             |\n",
       "| 1324413        | Male           | 23             | Greek          | Greece         | BETOTO.COM     | 2005-02-01     | 2005-02-08     | 2005-02-08     | 2005-02-08     | ...            | 2005-02-08     | 2005-05-08     |  47            |         NA     |         NA     |  NA            | NA             | NA             |  NA            |  2             |\n",
       "| 1324416        | Male           | 37             | German         | Germany        | BETANDWIN.DE   | 2005-02-01     | 2005-02-01     | 2005-02-01     | 2005-02-01     | ...            | 2005-02-01     | 2005-06-15     |  47            |  7480.4900     |  6337.6200     | 985            | 2005-02-02     | 2005-07-18     |  73            |  3             |\n",
       "| ... | ... | ... | ... | ... | ... | ... | ... | ... | ... |     | ... | ... | ... | ... | ... | ... | ... | ... | ... | ... |\n",
       "| 1402144          | Male             | 24               | German           | Germany          | BETANDWIN.DE     | 2005-02-27       | 2005-02-27       | 2005-02-27       | 2005-02-27       | ...              | 2005-02-27       | 2005-02-28       |  1               |          NA      |          NA      |  NA              | NA               | NA               | NA               |  2               |\n",
       "| 1402145          | Male             | 28               | German           | Germany          | BETANDWIN.DE     | 2005-02-27       | 2005-02-27       | 2005-02-27       | 2005-02-27       | ...              | 2005-02-27       | 2005-02-28       |  1               |          NA      |          NA      |  NA              | NA               | NA               | NA               |  2               |\n",
       "| 1402146          | Male             | NA               | German           | Germany          | BETANDWIN.DE     | 2005-02-27       | 2005-09-24       | 2005-09-24       | 2005-09-24       | ...              | NA               | NA               | NA               |          NA      |          NA      |  NA              | NA               | NA               | NA               | NA               |\n",
       "| 1402149          | Male             | 41               | German           | Germany          | BETANDWIN.DE     | 2005-02-27       | 2005-03-23       | 2005-03-23       | 2005-03-23       | ...              | 2005-03-23       | 2005-04-04       |  5               |          NA      |          NA      |  NA              | NA               | NA               | NA               |  4               |\n",
       "| 1402150          | Male             | 30               | German           | Germany          | BETANDWIN.DE     | 2005-02-27       | 2005-02-27       | 2005-02-27       | 2005-02-27       | ...              | 2005-02-27       | 2005-02-28       |  1               |          NA      |          NA      |  NA              | NA               | NA               | NA               |  3               |\n",
       "| 1402153          | Male             | 26               | German           | Germany          | BETANDWIN.DE     | 2005-02-27       | 2005-02-28       | 2005-02-28       | 2005-02-28       | ...              | 2005-02-28       | 2005-09-24       | 51               |     49.7800      |     35.6900      |  34              | 2005-02-28       | 2005-09-03       | 12               |  2               |\n",
       "| 1402155          | Male             | 43               | German           | Germany          | BETANDWIN.DE     | 2005-02-27       | 2005-04-09       | 2005-03-22       | 2005-03-22       | ...              | 2005-04-09       | 2005-04-17       |  4               |          NA      |          NA      |  NA              | NA               | NA               | NA               |  4               |\n",
       "| 1402156          | Male             | 28               | German           | Germany          | BETANDWIN.DE     | 2005-02-27       | 2005-03-02       | 2005-03-02       | 2005-03-02       | ...              | 2005-03-02       | 2005-09-29       |  8               |     60.8000      |     24.1500      |  43              | 2005-03-02       | 2005-09-29       |  5               |  2               |\n",
       "| 1402160          | Male             | NA               | Italian          | Italy            | BETANDWIN POKER  | 2005-02-27       | 2005-06-09       | 2005-06-09       | NA               | ...              | NA               | NA               | NA               |          NA      |          NA      |  NA              | NA               | NA               | NA               | NA               |\n",
       "| 1402161          | Male             | 26               | Spanish          | Spain            | BETANDWIN.COM    | 2005-02-27       | 2005-03-18       | 2005-03-18       | 2005-03-18       | ...              | 2005-03-18       | 2005-04-10       | 11               |    350.0000      |    436.2000      |  21              | 2005-03-20       | 2005-04-07       |  5               |  2               |\n",
       "| 1402163          | Male             | 30               | Greek            | Greece           | BETOTO.COM       | 2005-02-27       | 2005-03-01       | 2005-03-01       | 2005-03-01       | ...              | 2005-03-01       | 2005-04-03       |  9               |          NA      |          NA      |  NA              | NA               | NA               | NA               |  3               |\n",
       "| 1402164          | Male             | 56               | German           | Germany          | BETANDWIN.DE     | 2005-02-27       | 2005-03-02       | 2005-03-02       | 2005-03-02       | ...              | 2005-03-02       | 2005-09-28       | 30               |          NA      |          NA      |  NA              | NA               | NA               | NA               |  5               |\n",
       "| 1402165          | Male             | 23               | German           | Germany          | BETANDWIN.DE     | 2005-02-27       | 2005-03-01       | 2005-03-01       | 2005-03-01       | ...              | 2005-03-01       | 2005-03-20       | 15               |          NA      |          NA      |  NA              | NA               | NA               | NA               |  2               |\n",
       "| 1402166          | Male             | 31               | Greek            | Greece           | BETOTO.COM       | 2005-02-27       | 2005-03-03       | 2005-03-05       | 2005-03-05       | ...              | 2005-03-05       | 2005-03-06       |  2               |          NA      |          NA      |  NA              | NA               | NA               | NA               |  3               |\n",
       "| 1402167          | Male             | 23               | Spanish          | Spain            | BETANDWIN.COM    | 2005-02-27       | 2005-03-05       | 2005-03-05       | 2005-03-05       | ...              | 2005-03-05       | 2005-09-13       | 19               |          NA      |          NA      |  NA              | NA               | NA               | NA               |  2               |\n",
       "| 1402169          | Male             | 38               | Spanish          | Spain            | BETANDWIN.COM    | 2005-02-27       | 2005-03-07       | 2005-03-07       | 2005-03-07       | ...              | 2005-03-07       | 2005-03-16       |  6               |          NA      |          NA      |  NA              | NA               | NA               | NA               |  3               |\n",
       "| 1402176          | Male             | NA               | Spanish          | Spain            | BETANDWIN.COM    | 2005-02-27       | 2005-09-22       | 2005-09-22       | 2005-09-22       | ...              | NA               | NA               | NA               |          NA      |          NA      |  NA              | NA               | NA               | NA               | NA               |\n",
       "| 1402177          | Male             | 28               | German           | Germany          | BETANDWIN.DE     | 2005-02-27       | 2005-03-01       | 2005-03-01       | 2005-03-01       | ...              | 2005-03-01       | 2005-09-30       | 30               |     20.7100      |     14.7000      |  12              | 2005-03-08       | 2005-03-13       |  4               |  2               |\n",
       "| 1402178          | Female           | NA               | Italian          | Italy            | BETANDWIN CASINO | 2005-02-27       | 2005-02-27       | 2005-03-02       | NA               | ...              | NA               | NA               | NA               |          NA      |          NA      |  NA              | NA               | NA               | NA               | NA               |\n",
       "| 1402179          | Male             | 24               | Italian          | Italy            | BETANDWIN.COM    | 2005-02-27       | 2005-04-13       | 2005-04-13       | 2005-04-13       | ...              | 2005-04-13       | 2005-09-07       | 55               | 120045.2000      | 114000.2700      | 711              | 2005-04-15       | 2005-09-07       | 63               |  2               |\n",
       "| 1402180          | Male             | 19               | German           | Germany          | BETANDWIN.DE     | 2005-02-27       | 2005-03-01       | 2005-03-01       | 2005-03-01       | ...              | 2005-03-01       | 2005-04-16       |  4               |     34.0000      |     21.5000      |   9              | 2005-03-01       | 2005-03-05       |  3               |  1               |\n",
       "| 1402183          | Male             | 29               | German           | Germany          | BETANDWIN.DE     | 2005-02-27       | 2005-03-06       | 2005-03-06       | 2005-03-06       | ...              | 2005-03-06       | 2005-09-30       | 63               |          NA      |          NA      |  NA              | NA               | NA               | NA               |  2               |\n",
       "| 1402187          | Male             | 41               | German           | Germany          | BETANDWIN.DE     | 2005-02-27       | 2005-03-03       | 2005-03-03       | 2005-03-03       | ...              | 2005-03-03       | 2005-03-05       |  1               |     38.0000      |      0.0000      |   1              | 2005-03-03       | 2005-03-03       |  1               |  4               |\n",
       "| 1402188          | Male             | 23               | Turkish          | Turkey           | BETEUROPE.COM    | 2005-02-27       | 2005-03-02       | 2005-03-02       | 2005-03-02       | ...              | 2005-03-03       | 2005-03-14       |  8               |     45.7227      |     47.8761      |   9              | 2005-03-02       | 2005-03-04       |  3               |  2               |\n",
       "| 1402189          | Male             | 20               | German           | Germany          | BETANDWIN.DE     | 2005-02-27       | 2005-04-21       | 2005-04-23       | 2005-04-23       | ...              | 2005-04-23       | 2005-09-28       | 26               |      2.0000      |      0.0000      |   2              | 2005-04-27       | 2005-05-03       |  2               |  2               |\n",
       "| 1402190          | Male             | 30               | Greek            | Greece           | BETOTO.COM       | 2005-02-27       | 2005-02-27       | 2005-02-28       | 2005-02-28       | ...              | 2005-02-28       | 2005-09-15       | 21               |   1462.2900      |   1768.8300      |  41              | 2005-02-28       | 2005-09-20       | 19               |  3               |\n",
       "| 1402191          | Male             | 26               | Spanish          | Spain            | BETANDWIN.COM    | 2005-02-27       | 2005-02-27       | 2005-02-27       | 2005-02-27       | ...              | 2005-02-27       | 2005-04-03       |  5               |     60.0000      |     91.0000      |   6              | 2005-02-28       | 2005-02-28       |  1               |  2               |\n",
       "| 1402192          | Male             | 33               | Turkish          | Turkey           | BETEUROPE.COM    | 2005-02-27       | 2005-04-28       | 2005-04-28       | 2005-04-28       | ...              | 2005-04-28       | 2005-05-20       |  3               |      2.8011      |      1.6807      |   5              | 2005-05-05       | 2005-05-06       |  1               |  3               |\n",
       "| 1402197          | Male             | 31               | Greek            | Greece           | BETOTO.COM       | 2005-02-27       | 2005-02-28       | 2005-03-02       | 2005-03-02       | ...              | 2005-03-02       | 2005-09-28       | 25               |     60.0000      |    187.5000      |   2              | 2005-05-18       | 2005-09-27       |  2               |  3               |\n",
       "| 1402198          | Male             | NA               | Swedish          | Sweden           | BETANDWIN CASINO | 2005-02-27       | 2005-07-22       | 2005-02-28       | NA               | ...              | NA               | NA               | NA               |          NA      |          NA      |  NA              | NA               | NA               | NA               | NA               |\n",
       "\n"
      ],
      "text/plain": [
       "      UserID  Gender AGE Language   Country        Website          RegDate   \n",
       "1     1324354 Male   42  German     Germany        BETANDWIN.DE     2005-02-01\n",
       "2     1324355 Male   22  Greek      Greece         BETANDWIN.COM    2005-02-01\n",
       "3     1324356 Male   28  German     Germany        BETANDWIN.DE     2005-02-01\n",
       "4     1324358 Male   24  English    Sweden         BETANDWIN.COM    2005-02-01\n",
       "5     1324360 Male   27  Turkish    Turkey         BETEUROPE.COM    2005-02-01\n",
       "6     1324362 Male   22  German     Germany        BETANDWIN.DE     2005-02-01\n",
       "7     1324363 Male   22  Danish     Denmark        BETANDWIN.COM    2005-02-01\n",
       "8     1324364 Male   37  German     Germany        BETANDWIN.DE     2005-02-01\n",
       "9     1324368 Male   22  Portuguese Portugal       BETANDWIN.COM    2005-02-01\n",
       "10    1324369 Male   20  Turkish    Turkey         BETEUROPE.COM    2005-02-01\n",
       "11    1324371 Male   NA  Turkish    Turkey         BETEUROPE.COM    2005-02-01\n",
       "12    1324372 Male   31  Polish     Poland         BETANDWIN.COM    2005-02-01\n",
       "13    1324377 Male   25  Danish     Denmark        BETANDWIN.COM    2005-02-01\n",
       "14    1324378 Male   22  German     Germany        BETANDWIN.COM    2005-02-01\n",
       "15    1324379 Male   23  Greek      Greece         BETANDWIN.COM    2005-02-01\n",
       "16    1324383 Male   53  Norwegian  Norway         PLAYIT.COM       2005-02-01\n",
       "17    1324385 Male   30  German     Germany        BETANDWIN.DE     2005-02-01\n",
       "18    1324386 Male   27  English    Switzerland    BETANDWIN.COM    2005-02-01\n",
       "19    1324391 Male   NA  Danish     Denmark        BETANDWIN.COM    2005-02-01\n",
       "20    1324393 Male   19  English    United Kingdom BETANDWIN.COM    2005-02-01\n",
       "21    1324396 Male   22  German     Germany        BETANDWIN.DE     2005-02-01\n",
       "22    1324400 Male   45  English    Germany        PLAYIT.COM       2005-02-01\n",
       "23    1324402 Female 28  German     Germany        BETANDWIN.DE     2005-02-01\n",
       "24    1324403 Male   23  German     Germany        BETANDWIN.DE     2005-02-01\n",
       "25    1324404 Male   55  German     Germany        BETANDWIN.DE     2005-02-01\n",
       "26    1324405 Male   25  Spanish    Spain          BETANDWIN.COM    2005-02-01\n",
       "27    1324408 Male   38  French     France         BETANDWIN.COM    2005-02-01\n",
       "28    1324411 Female 45  German     Germany        BETANDWIN.COM    2005-02-01\n",
       "29    1324413 Male   23  Greek      Greece         BETOTO.COM       2005-02-01\n",
       "30    1324416 Male   37  German     Germany        BETANDWIN.DE     2005-02-01\n",
       "...   ...     ...    ... ...        ...            ...              ...       \n",
       "42620 1402144 Male   24  German     Germany        BETANDWIN.DE     2005-02-27\n",
       "42621 1402145 Male   28  German     Germany        BETANDWIN.DE     2005-02-27\n",
       "42622 1402146 Male   NA  German     Germany        BETANDWIN.DE     2005-02-27\n",
       "42623 1402149 Male   41  German     Germany        BETANDWIN.DE     2005-02-27\n",
       "42624 1402150 Male   30  German     Germany        BETANDWIN.DE     2005-02-27\n",
       "42625 1402153 Male   26  German     Germany        BETANDWIN.DE     2005-02-27\n",
       "42626 1402155 Male   43  German     Germany        BETANDWIN.DE     2005-02-27\n",
       "42627 1402156 Male   28  German     Germany        BETANDWIN.DE     2005-02-27\n",
       "42628 1402160 Male   NA  Italian    Italy          BETANDWIN POKER  2005-02-27\n",
       "42629 1402161 Male   26  Spanish    Spain          BETANDWIN.COM    2005-02-27\n",
       "42630 1402163 Male   30  Greek      Greece         BETOTO.COM       2005-02-27\n",
       "42631 1402164 Male   56  German     Germany        BETANDWIN.DE     2005-02-27\n",
       "42632 1402165 Male   23  German     Germany        BETANDWIN.DE     2005-02-27\n",
       "42633 1402166 Male   31  Greek      Greece         BETOTO.COM       2005-02-27\n",
       "42634 1402167 Male   23  Spanish    Spain          BETANDWIN.COM    2005-02-27\n",
       "42635 1402169 Male   38  Spanish    Spain          BETANDWIN.COM    2005-02-27\n",
       "42636 1402176 Male   NA  Spanish    Spain          BETANDWIN.COM    2005-02-27\n",
       "42637 1402177 Male   28  German     Germany        BETANDWIN.DE     2005-02-27\n",
       "42638 1402178 Female NA  Italian    Italy          BETANDWIN CASINO 2005-02-27\n",
       "42639 1402179 Male   24  Italian    Italy          BETANDWIN.COM    2005-02-27\n",
       "42640 1402180 Male   19  German     Germany        BETANDWIN.DE     2005-02-27\n",
       "42641 1402183 Male   29  German     Germany        BETANDWIN.DE     2005-02-27\n",
       "42642 1402187 Male   41  German     Germany        BETANDWIN.DE     2005-02-27\n",
       "42643 1402188 Male   23  Turkish    Turkey         BETEUROPE.COM    2005-02-27\n",
       "42644 1402189 Male   20  German     Germany        BETANDWIN.DE     2005-02-27\n",
       "42645 1402190 Male   30  Greek      Greece         BETOTO.COM       2005-02-27\n",
       "42646 1402191 Male   26  Spanish    Spain          BETANDWIN.COM    2005-02-27\n",
       "42647 1402192 Male   33  Turkish    Turkey         BETEUROPE.COM    2005-02-27\n",
       "42648 1402197 Male   31  Greek      Greece         BETOTO.COM       2005-02-27\n",
       "42649 1402198 Male   NA  Swedish    Sweden         BETANDWIN CASINO 2005-02-27\n",
       "      FirstPay   FirstAct   FirstSp    ... FOFirstActiveDate FOLastActiveDate\n",
       "1     2005-02-24 2005-02-24 2005-02-24 ... 2005-02-24        2005-09-30      \n",
       "2     2005-02-01 2005-02-01 2005-02-01 ... 2005-02-01        2005-09-29      \n",
       "3     2005-02-01 2005-02-02 2005-02-02 ... 2005-02-02        2005-09-12      \n",
       "4     2005-02-01 2005-02-01 2005-02-01 ... 2005-02-01        2005-05-06      \n",
       "5     2005-02-02 2005-02-02 2005-02-02 ... 2005-02-02        2005-09-25      \n",
       "6     2005-02-11 2005-02-11 2005-02-11 ... 2005-02-11        2005-09-17      \n",
       "7     2005-02-01 2005-02-01 2005-02-01 ... 2005-02-01        2005-02-22      \n",
       "8     2005-02-03 2005-02-03 2005-02-03 ... 2005-02-04        2005-09-11      \n",
       "9     2005-03-18 2005-03-18 2005-03-18 ... 2005-03-18        2005-08-28      \n",
       "10    2005-02-01 2005-02-01 2005-02-01 ... 2005-02-01        2005-05-06      \n",
       "11    2005-02-01 2005-02-01 <NA>       ... <NA>              <NA>            \n",
       "12    2005-03-04 2005-03-04 2005-03-04 ... 2005-03-04        2005-09-18      \n",
       "13    2005-02-01 2005-02-01 2005-02-01 ... 2005-02-01        2005-02-04      \n",
       "14    2005-02-01 2005-02-01 2005-02-01 ... 2005-02-01        2005-05-14      \n",
       "15    2005-03-12 2005-03-12 2005-03-12 ... 2005-03-12        2005-09-30      \n",
       "16    2005-02-03 2005-02-03 2005-05-12 ... 2005-05-12        2005-06-12      \n",
       "17    2005-02-01 2005-02-01 2005-02-01 ... 2005-02-01        2005-05-01      \n",
       "18    2005-02-09 2005-02-09 2005-02-09 ... 2005-02-09        2005-09-29      \n",
       "19    2005-02-01 2005-02-01 <NA>       ... <NA>              <NA>            \n",
       "20    2005-02-01 2005-02-01 2005-02-01 ... 2005-02-01        2005-04-28      \n",
       "21    2005-02-08 2005-02-08 2005-02-08 ... 2005-02-08        2005-02-24      \n",
       "22    2005-02-01 2005-02-01 2005-02-01 ... 2005-02-01        2005-03-30      \n",
       "23    2005-02-01 2005-02-01 2005-02-01 ... 2005-02-01        2005-02-12      \n",
       "24    2005-02-01 2005-02-01 2005-02-01 ... 2005-02-01        2005-06-04      \n",
       "25    2005-02-01 2005-02-01 2005-02-01 ... 2005-02-01        2005-09-30      \n",
       "26    2005-02-18 2005-02-20 2005-02-20 ... 2005-02-20        2005-09-26      \n",
       "27    2005-02-08 2005-02-08 2005-02-08 ... 2005-02-08        2005-09-20      \n",
       "28    2005-02-04 2005-02-16 2005-02-16 ... 2005-02-16        2005-02-18      \n",
       "29    2005-02-08 2005-02-08 2005-02-08 ... 2005-02-08        2005-05-08      \n",
       "30    2005-02-01 2005-02-01 2005-02-01 ... 2005-02-01        2005-06-15      \n",
       "...   ...        ...        ...            ...               ...             \n",
       "42620 2005-02-27 2005-02-27 2005-02-27 ... 2005-02-27        2005-02-28      \n",
       "42621 2005-02-27 2005-02-27 2005-02-27 ... 2005-02-27        2005-02-28      \n",
       "42622 2005-09-24 2005-09-24 2005-09-24 ... <NA>              <NA>            \n",
       "42623 2005-03-23 2005-03-23 2005-03-23 ... 2005-03-23        2005-04-04      \n",
       "42624 2005-02-27 2005-02-27 2005-02-27 ... 2005-02-27        2005-02-28      \n",
       "42625 2005-02-28 2005-02-28 2005-02-28 ... 2005-02-28        2005-09-24      \n",
       "42626 2005-04-09 2005-03-22 2005-03-22 ... 2005-04-09        2005-04-17      \n",
       "42627 2005-03-02 2005-03-02 2005-03-02 ... 2005-03-02        2005-09-29      \n",
       "42628 2005-06-09 2005-06-09 <NA>       ... <NA>              <NA>            \n",
       "42629 2005-03-18 2005-03-18 2005-03-18 ... 2005-03-18        2005-04-10      \n",
       "42630 2005-03-01 2005-03-01 2005-03-01 ... 2005-03-01        2005-04-03      \n",
       "42631 2005-03-02 2005-03-02 2005-03-02 ... 2005-03-02        2005-09-28      \n",
       "42632 2005-03-01 2005-03-01 2005-03-01 ... 2005-03-01        2005-03-20      \n",
       "42633 2005-03-03 2005-03-05 2005-03-05 ... 2005-03-05        2005-03-06      \n",
       "42634 2005-03-05 2005-03-05 2005-03-05 ... 2005-03-05        2005-09-13      \n",
       "42635 2005-03-07 2005-03-07 2005-03-07 ... 2005-03-07        2005-03-16      \n",
       "42636 2005-09-22 2005-09-22 2005-09-22 ... <NA>              <NA>            \n",
       "42637 2005-03-01 2005-03-01 2005-03-01 ... 2005-03-01        2005-09-30      \n",
       "42638 2005-02-27 2005-03-02 <NA>       ... <NA>              <NA>            \n",
       "42639 2005-04-13 2005-04-13 2005-04-13 ... 2005-04-13        2005-09-07      \n",
       "42640 2005-03-01 2005-03-01 2005-03-01 ... 2005-03-01        2005-04-16      \n",
       "42641 2005-03-06 2005-03-06 2005-03-06 ... 2005-03-06        2005-09-30      \n",
       "42642 2005-03-03 2005-03-03 2005-03-03 ... 2005-03-03        2005-03-05      \n",
       "42643 2005-03-02 2005-03-02 2005-03-02 ... 2005-03-03        2005-03-14      \n",
       "42644 2005-04-21 2005-04-23 2005-04-23 ... 2005-04-23        2005-09-28      \n",
       "42645 2005-02-27 2005-02-28 2005-02-28 ... 2005-02-28        2005-09-15      \n",
       "42646 2005-02-27 2005-02-27 2005-02-27 ... 2005-02-27        2005-04-03      \n",
       "42647 2005-04-28 2005-04-28 2005-04-28 ... 2005-04-28        2005-05-20      \n",
       "42648 2005-02-28 2005-03-02 2005-03-02 ... 2005-03-02        2005-09-28      \n",
       "42649 2005-07-22 2005-02-28 <NA>       ... <NA>              <NA>            \n",
       "      FOTotalDaysActive LATotalStakes LATotalWinnings LATotalBets\n",
       "1      97                1839.2800     1512.4900       43        \n",
       "2      72                  24.7000       11.2000       21        \n",
       "3      38                 679.0700      625.1500      116        \n",
       "4       5                  88.5927       55.9819        4        \n",
       "5      17                   1.7434        1.2009        3        \n",
       "6       5                       NA            NA       NA        \n",
       "7       3                       NA            NA       NA        \n",
       "8       8                 210.0000       40.1500       37        \n",
       "9      56                6086.2800     6074.8400      328        \n",
       "10     32                 147.3645      119.3069      112        \n",
       "11     NA                       NA            NA       NA        \n",
       "12     44                 202.4992      174.2289      197        \n",
       "13      2                   6.7201        0.0000        4        \n",
       "14      4                  11.0000        0.0000        4        \n",
       "15    115                3889.7129     3792.1300      868        \n",
       "16      3                       NA            NA       NA        \n",
       "17     12                       NA            NA       NA        \n",
       "18     60                7327.8246     7023.4414      265        \n",
       "19     NA                       NA            NA       NA        \n",
       "20     43                       NA            NA       NA        \n",
       "21     15                       NA            NA       NA        \n",
       "22     34                       NA            NA       NA        \n",
       "23      5                       NA            NA       NA        \n",
       "24     32                  82.0000      121.5000        5        \n",
       "25    185               14276.7300    14539.8000      369        \n",
       "26     47                  51.2300       55.1800       67        \n",
       "27     38                 139.5000       88.9000      100        \n",
       "28      2                       NA            NA       NA        \n",
       "29     47                       NA            NA       NA        \n",
       "30     47                7480.4900     6337.6200      985        \n",
       "...   ...               ...           ...             ...        \n",
       "42620  1                         NA            NA      NA        \n",
       "42621  1                         NA            NA      NA        \n",
       "42622 NA                         NA            NA      NA        \n",
       "42623  5                         NA            NA      NA        \n",
       "42624  1                         NA            NA      NA        \n",
       "42625 51                    49.7800       35.6900      34        \n",
       "42626  4                         NA            NA      NA        \n",
       "42627  8                    60.8000       24.1500      43        \n",
       "42628 NA                         NA            NA      NA        \n",
       "42629 11                   350.0000      436.2000      21        \n",
       "42630  9                         NA            NA      NA        \n",
       "42631 30                         NA            NA      NA        \n",
       "42632 15                         NA            NA      NA        \n",
       "42633  2                         NA            NA      NA        \n",
       "42634 19                         NA            NA      NA        \n",
       "42635  6                         NA            NA      NA        \n",
       "42636 NA                         NA            NA      NA        \n",
       "42637 30                    20.7100       14.7000      12        \n",
       "42638 NA                         NA            NA      NA        \n",
       "42639 55                120045.2000   114000.2700     711        \n",
       "42640  4                    34.0000       21.5000       9        \n",
       "42641 63                         NA            NA      NA        \n",
       "42642  1                    38.0000        0.0000       1        \n",
       "42643  8                    45.7227       47.8761       9        \n",
       "42644 26                     2.0000        0.0000       2        \n",
       "42645 21                  1462.2900     1768.8300      41        \n",
       "42646  5                    60.0000       91.0000       6        \n",
       "42647  3                     2.8011        1.6807       5        \n",
       "42648 25                    60.0000      187.5000       2        \n",
       "42649 NA                         NA            NA      NA        \n",
       "      LAFirstActiveDate LALastActiveDate LATotalDaysActive Age_Group\n",
       "1     2005-05-04        2005-09-26        18                4       \n",
       "2     2005-02-01        2005-02-07         7                2       \n",
       "3     2005-02-02        2005-09-11        23                2       \n",
       "4     2005-05-03        2005-05-03         1                2       \n",
       "5     2005-02-12        2005-09-21         2                2       \n",
       "6     <NA>              <NA>              NA                2       \n",
       "7     <NA>              <NA>              NA                2       \n",
       "8     2005-02-03        2005-09-28        12                3       \n",
       "9     2005-03-31        2005-08-21        60                2       \n",
       "10    2005-02-01        2005-05-04        35                2       \n",
       "11    <NA>              <NA>              NA               NA       \n",
       "12    2005-03-04        2005-09-11        27                3       \n",
       "13    2005-02-03        2005-02-03         1                2       \n",
       "14    2005-02-02        2005-02-20         2                2       \n",
       "15    2005-04-03        2005-09-30        88                2       \n",
       "16    <NA>              <NA>              NA                5       \n",
       "17    <NA>              <NA>              NA                3       \n",
       "18    2005-04-21        2005-09-29        52                2       \n",
       "19    <NA>              <NA>              NA               NA       \n",
       "20    <NA>              <NA>              NA                1       \n",
       "21    <NA>              <NA>              NA                2       \n",
       "22    <NA>              <NA>              NA                4       \n",
       "23    <NA>              <NA>              NA                2       \n",
       "24    2005-02-11        2005-05-31         2                2       \n",
       "25    2005-02-02        2005-09-29       112                5       \n",
       "26    2005-02-25        2005-09-11        20                2       \n",
       "27    2005-02-08        2005-05-04        17                3       \n",
       "28    <NA>              <NA>              NA                4       \n",
       "29    <NA>              <NA>              NA                2       \n",
       "30    2005-02-02        2005-07-18        73                3       \n",
       "...   ...               ...              ...               ...      \n",
       "42620 <NA>              <NA>             NA                 2       \n",
       "42621 <NA>              <NA>             NA                 2       \n",
       "42622 <NA>              <NA>             NA                NA       \n",
       "42623 <NA>              <NA>             NA                 4       \n",
       "42624 <NA>              <NA>             NA                 3       \n",
       "42625 2005-02-28        2005-09-03       12                 2       \n",
       "42626 <NA>              <NA>             NA                 4       \n",
       "42627 2005-03-02        2005-09-29        5                 2       \n",
       "42628 <NA>              <NA>             NA                NA       \n",
       "42629 2005-03-20        2005-04-07        5                 2       \n",
       "42630 <NA>              <NA>             NA                 3       \n",
       "42631 <NA>              <NA>             NA                 5       \n",
       "42632 <NA>              <NA>             NA                 2       \n",
       "42633 <NA>              <NA>             NA                 3       \n",
       "42634 <NA>              <NA>             NA                 2       \n",
       "42635 <NA>              <NA>             NA                 3       \n",
       "42636 <NA>              <NA>             NA                NA       \n",
       "42637 2005-03-08        2005-03-13        4                 2       \n",
       "42638 <NA>              <NA>             NA                NA       \n",
       "42639 2005-04-15        2005-09-07       63                 2       \n",
       "42640 2005-03-01        2005-03-05        3                 1       \n",
       "42641 <NA>              <NA>             NA                 2       \n",
       "42642 2005-03-03        2005-03-03        1                 4       \n",
       "42643 2005-03-02        2005-03-04        3                 2       \n",
       "42644 2005-04-27        2005-05-03        2                 2       \n",
       "42645 2005-02-28        2005-09-20       19                 3       \n",
       "42646 2005-02-28        2005-02-28        1                 2       \n",
       "42647 2005-05-05        2005-05-06        1                 3       \n",
       "42648 2005-05-18        2005-09-27        2                 3       \n",
       "42649 <NA>              <NA>             NA                NA       "
      ]
     },
     "metadata": {},
     "output_type": "display_data"
    }
   ],
   "source": [
    "# Reordering the datamart\n",
    "Datamart %>% dplyr::relocate(Gender,AGE,Language,Country,Website, .after = UserID)"
   ]
  },
  {
   "cell_type": "code",
   "execution_count": 51,
   "metadata": {
    "scrolled": true
   },
   "outputs": [],
   "source": [
    "#str(Datamart)"
   ]
  },
  {
   "cell_type": "code",
   "execution_count": 52,
   "metadata": {},
   "outputs": [],
   "source": [
    "# Exporting the data into a csv file\n",
    "write.csv(Datamart,\"created_data/final_datamart.csv\", row.names = FALSE)"
   ]
  },
  {
   "cell_type": "code",
   "execution_count": 53,
   "metadata": {},
   "outputs": [
    {
     "data": {
      "text/html": [
       "<table>\n",
       "<thead><tr><th scope=col>n</th></tr></thead>\n",
       "<tbody>\n",
       "\t<tr><td>42649</td></tr>\n",
       "</tbody>\n",
       "</table>\n"
      ],
      "text/latex": [
       "\\begin{tabular}{r|l}\n",
       " n\\\\\n",
       "\\hline\n",
       "\t 42649\\\\\n",
       "\\end{tabular}\n"
      ],
      "text/markdown": [
       "\n",
       "| n |\n",
       "|---|\n",
       "| 42649 |\n",
       "\n"
      ],
      "text/plain": [
       "  n    \n",
       "1 42649"
      ]
     },
     "metadata": {},
     "output_type": "display_data"
    }
   ],
   "source": [
    "Datamart %>%\n",
    "count"
   ]
  },
  {
   "cell_type": "code",
   "execution_count": 54,
   "metadata": {},
   "outputs": [
    {
     "data": {
      "text/html": [
       "<dl class=dl-horizontal>\n",
       "\t<dt>UserID</dt>\n",
       "\t\t<dd>0</dd>\n",
       "\t<dt>RegDate</dt>\n",
       "\t\t<dd>0</dd>\n",
       "\t<dt>FirstPay</dt>\n",
       "\t\t<dd>0</dd>\n",
       "\t<dt>FirstAct</dt>\n",
       "\t\t<dd>2</dd>\n",
       "\t<dt>FirstSp</dt>\n",
       "\t\t<dd>1236</dd>\n",
       "\t<dt>FirstCa</dt>\n",
       "\t\t<dd>36761</dd>\n",
       "\t<dt>FirstGa</dt>\n",
       "\t\t<dd>39376</dd>\n",
       "\t<dt>FirstPo</dt>\n",
       "\t\t<dd>40507</dd>\n",
       "\t<dt>Gender</dt>\n",
       "\t\t<dd>0</dd>\n",
       "\t<dt>Language</dt>\n",
       "\t\t<dd>0</dd>\n",
       "\t<dt>Country</dt>\n",
       "\t\t<dd>0</dd>\n",
       "\t<dt>Website</dt>\n",
       "\t\t<dd>0</dd>\n",
       "\t<dt>Last_Trans_Date</dt>\n",
       "\t\t<dd>444</dd>\n",
       "\t<dt>Nbr_of_Trans</dt>\n",
       "\t\t<dd>444</dd>\n",
       "\t<dt>Total_Stakes</dt>\n",
       "\t\t<dd>444</dd>\n",
       "\t<dt>Total_Winning</dt>\n",
       "\t\t<dd>444</dd>\n",
       "\t<dt>Total_Bets</dt>\n",
       "\t\t<dd>444</dd>\n",
       "\t<dt>Avg_Stakes</dt>\n",
       "\t\t<dd>444</dd>\n",
       "\t<dt>Avg_Winning</dt>\n",
       "\t\t<dd>444</dd>\n",
       "\t<dt>Avg_Bets</dt>\n",
       "\t\t<dd>444</dd>\n",
       "\t<dt>Prod1_SportsBook_FixedOdd</dt>\n",
       "\t\t<dd>444</dd>\n",
       "\t<dt>Prod2_SportsBook_LiveAct</dt>\n",
       "\t\t<dd>444</dd>\n",
       "\t<dt>Prod3_Poker_BossMedia</dt>\n",
       "\t\t<dd>444</dd>\n",
       "\t<dt>Prod4_Casino_BossMedia</dt>\n",
       "\t\t<dd>444</dd>\n",
       "\t<dt>Prod5_Supertoto</dt>\n",
       "\t\t<dd>444</dd>\n",
       "\t<dt>Prod6_Games_VS</dt>\n",
       "\t\t<dd>444</dd>\n",
       "\t<dt>Prod7_Games_bwin</dt>\n",
       "\t\t<dd>444</dd>\n",
       "\t<dt>Prod8_Casino_Chartwell</dt>\n",
       "\t\t<dd>444</dd>\n",
       "\t<dt>Nbr_PokerChip_Buy_Trans</dt>\n",
       "\t\t<dd>40296</dd>\n",
       "\t<dt>PokerChip_BuyTransAmt</dt>\n",
       "\t\t<dd>40296</dd>\n",
       "\t<dt>Nbr_PokerChip_Sell_Trans</dt>\n",
       "\t\t<dd>40264</dd>\n",
       "\t<dt>PokerChip_SellTransAmt</dt>\n",
       "\t\t<dd>40264</dd>\n",
       "\t<dt>AGE</dt>\n",
       "\t\t<dd>2150</dd>\n",
       "\t<dt>FOTotalStakes</dt>\n",
       "\t\t<dd>2930</dd>\n",
       "\t<dt>FOTotalWinnings</dt>\n",
       "\t\t<dd>2930</dd>\n",
       "\t<dt>FOTotalBets</dt>\n",
       "\t\t<dd>2930</dd>\n",
       "\t<dt>FOFirstActiveDate</dt>\n",
       "\t\t<dd>2930</dd>\n",
       "\t<dt>FOLastActiveDate</dt>\n",
       "\t\t<dd>2930</dd>\n",
       "\t<dt>FOTotalDaysActive</dt>\n",
       "\t\t<dd>2930</dd>\n",
       "\t<dt>LATotalStakes</dt>\n",
       "\t\t<dd>17855</dd>\n",
       "\t<dt>LATotalWinnings</dt>\n",
       "\t\t<dd>17855</dd>\n",
       "\t<dt>LATotalBets</dt>\n",
       "\t\t<dd>17855</dd>\n",
       "\t<dt>LAFirstActiveDate</dt>\n",
       "\t\t<dd>17855</dd>\n",
       "\t<dt>LALastActiveDate</dt>\n",
       "\t\t<dd>17855</dd>\n",
       "\t<dt>LATotalDaysActive</dt>\n",
       "\t\t<dd>17856</dd>\n",
       "\t<dt>Age_Group</dt>\n",
       "\t\t<dd>2150</dd>\n",
       "</dl>\n"
      ],
      "text/latex": [
       "\\begin{description*}\n",
       "\\item[UserID] 0\n",
       "\\item[RegDate] 0\n",
       "\\item[FirstPay] 0\n",
       "\\item[FirstAct] 2\n",
       "\\item[FirstSp] 1236\n",
       "\\item[FirstCa] 36761\n",
       "\\item[FirstGa] 39376\n",
       "\\item[FirstPo] 40507\n",
       "\\item[Gender] 0\n",
       "\\item[Language] 0\n",
       "\\item[Country] 0\n",
       "\\item[Website] 0\n",
       "\\item[Last\\textbackslash{}\\_Trans\\textbackslash{}\\_Date] 444\n",
       "\\item[Nbr\\textbackslash{}\\_of\\textbackslash{}\\_Trans] 444\n",
       "\\item[Total\\textbackslash{}\\_Stakes] 444\n",
       "\\item[Total\\textbackslash{}\\_Winning] 444\n",
       "\\item[Total\\textbackslash{}\\_Bets] 444\n",
       "\\item[Avg\\textbackslash{}\\_Stakes] 444\n",
       "\\item[Avg\\textbackslash{}\\_Winning] 444\n",
       "\\item[Avg\\textbackslash{}\\_Bets] 444\n",
       "\\item[Prod1\\textbackslash{}\\_SportsBook\\textbackslash{}\\_FixedOdd] 444\n",
       "\\item[Prod2\\textbackslash{}\\_SportsBook\\textbackslash{}\\_LiveAct] 444\n",
       "\\item[Prod3\\textbackslash{}\\_Poker\\textbackslash{}\\_BossMedia] 444\n",
       "\\item[Prod4\\textbackslash{}\\_Casino\\textbackslash{}\\_BossMedia] 444\n",
       "\\item[Prod5\\textbackslash{}\\_Supertoto] 444\n",
       "\\item[Prod6\\textbackslash{}\\_Games\\textbackslash{}\\_VS] 444\n",
       "\\item[Prod7\\textbackslash{}\\_Games\\textbackslash{}\\_bwin] 444\n",
       "\\item[Prod8\\textbackslash{}\\_Casino\\textbackslash{}\\_Chartwell] 444\n",
       "\\item[Nbr\\textbackslash{}\\_PokerChip\\textbackslash{}\\_Buy\\textbackslash{}\\_Trans] 40296\n",
       "\\item[PokerChip\\textbackslash{}\\_BuyTransAmt] 40296\n",
       "\\item[Nbr\\textbackslash{}\\_PokerChip\\textbackslash{}\\_Sell\\textbackslash{}\\_Trans] 40264\n",
       "\\item[PokerChip\\textbackslash{}\\_SellTransAmt] 40264\n",
       "\\item[AGE] 2150\n",
       "\\item[FOTotalStakes] 2930\n",
       "\\item[FOTotalWinnings] 2930\n",
       "\\item[FOTotalBets] 2930\n",
       "\\item[FOFirstActiveDate] 2930\n",
       "\\item[FOLastActiveDate] 2930\n",
       "\\item[FOTotalDaysActive] 2930\n",
       "\\item[LATotalStakes] 17855\n",
       "\\item[LATotalWinnings] 17855\n",
       "\\item[LATotalBets] 17855\n",
       "\\item[LAFirstActiveDate] 17855\n",
       "\\item[LALastActiveDate] 17855\n",
       "\\item[LATotalDaysActive] 17856\n",
       "\\item[Age\\textbackslash{}\\_Group] 2150\n",
       "\\end{description*}\n"
      ],
      "text/markdown": [
       "UserID\n",
       ":   0RegDate\n",
       ":   0FirstPay\n",
       ":   0FirstAct\n",
       ":   2FirstSp\n",
       ":   1236FirstCa\n",
       ":   36761FirstGa\n",
       ":   39376FirstPo\n",
       ":   40507Gender\n",
       ":   0Language\n",
       ":   0Country\n",
       ":   0Website\n",
       ":   0Last_Trans_Date\n",
       ":   444Nbr_of_Trans\n",
       ":   444Total_Stakes\n",
       ":   444Total_Winning\n",
       ":   444Total_Bets\n",
       ":   444Avg_Stakes\n",
       ":   444Avg_Winning\n",
       ":   444Avg_Bets\n",
       ":   444Prod1_SportsBook_FixedOdd\n",
       ":   444Prod2_SportsBook_LiveAct\n",
       ":   444Prod3_Poker_BossMedia\n",
       ":   444Prod4_Casino_BossMedia\n",
       ":   444Prod5_Supertoto\n",
       ":   444Prod6_Games_VS\n",
       ":   444Prod7_Games_bwin\n",
       ":   444Prod8_Casino_Chartwell\n",
       ":   444Nbr_PokerChip_Buy_Trans\n",
       ":   40296PokerChip_BuyTransAmt\n",
       ":   40296Nbr_PokerChip_Sell_Trans\n",
       ":   40264PokerChip_SellTransAmt\n",
       ":   40264AGE\n",
       ":   2150FOTotalStakes\n",
       ":   2930FOTotalWinnings\n",
       ":   2930FOTotalBets\n",
       ":   2930FOFirstActiveDate\n",
       ":   2930FOLastActiveDate\n",
       ":   2930FOTotalDaysActive\n",
       ":   2930LATotalStakes\n",
       ":   17855LATotalWinnings\n",
       ":   17855LATotalBets\n",
       ":   17855LAFirstActiveDate\n",
       ":   17855LALastActiveDate\n",
       ":   17855LATotalDaysActive\n",
       ":   17856Age_Group\n",
       ":   2150\n",
       "\n"
      ],
      "text/plain": [
       "                   UserID                   RegDate                  FirstPay \n",
       "                        0                         0                         0 \n",
       "                 FirstAct                   FirstSp                   FirstCa \n",
       "                        2                      1236                     36761 \n",
       "                  FirstGa                   FirstPo                    Gender \n",
       "                    39376                     40507                         0 \n",
       "                 Language                   Country                   Website \n",
       "                        0                         0                         0 \n",
       "          Last_Trans_Date              Nbr_of_Trans              Total_Stakes \n",
       "                      444                       444                       444 \n",
       "            Total_Winning                Total_Bets                Avg_Stakes \n",
       "                      444                       444                       444 \n",
       "              Avg_Winning                  Avg_Bets Prod1_SportsBook_FixedOdd \n",
       "                      444                       444                       444 \n",
       " Prod2_SportsBook_LiveAct     Prod3_Poker_BossMedia    Prod4_Casino_BossMedia \n",
       "                      444                       444                       444 \n",
       "          Prod5_Supertoto            Prod6_Games_VS          Prod7_Games_bwin \n",
       "                      444                       444                       444 \n",
       "   Prod8_Casino_Chartwell   Nbr_PokerChip_Buy_Trans     PokerChip_BuyTransAmt \n",
       "                      444                     40296                     40296 \n",
       " Nbr_PokerChip_Sell_Trans    PokerChip_SellTransAmt                       AGE \n",
       "                    40264                     40264                      2150 \n",
       "            FOTotalStakes           FOTotalWinnings               FOTotalBets \n",
       "                     2930                      2930                      2930 \n",
       "        FOFirstActiveDate          FOLastActiveDate         FOTotalDaysActive \n",
       "                     2930                      2930                      2930 \n",
       "            LATotalStakes           LATotalWinnings               LATotalBets \n",
       "                    17855                     17855                     17855 \n",
       "        LAFirstActiveDate          LALastActiveDate         LATotalDaysActive \n",
       "                    17855                     17855                     17856 \n",
       "                Age_Group \n",
       "                     2150 "
      ]
     },
     "metadata": {},
     "output_type": "display_data"
    }
   ],
   "source": [
    "sapply(Datamart,function(x) sum(is.na(x)))"
   ]
  },
  {
   "cell_type": "markdown",
   "metadata": {},
   "source": [
    "## III. Data Analysis for Customer Descriptive:"
   ]
  },
  {
   "cell_type": "markdown",
   "metadata": {},
   "source": [
    "####  This section is a base for our graphs in the shiny app. It also has some insights not included in the final app as it wasn't important"
   ]
  },
  {
   "cell_type": "markdown",
   "metadata": {},
   "source": [
    "### Gender"
   ]
  },
  {
   "cell_type": "code",
   "execution_count": 55,
   "metadata": {},
   "outputs": [
    {
     "name": "stderr",
     "output_type": "stream",
     "text": [
      "`summarise()` ungrouping output (override with `.groups` argument)\n"
     ]
    },
    {
     "data": {
      "text/html": [
       "<table>\n",
       "<thead><tr><th scope=col>Gender</th><th scope=col>NbrUsers</th><th scope=col>Percentage</th></tr></thead>\n",
       "<tbody>\n",
       "\t<tr><td>Female   </td><td> 3588    </td><td> 8.412858</td></tr>\n",
       "\t<tr><td>Male     </td><td>39061    </td><td>91.587142</td></tr>\n",
       "</tbody>\n",
       "</table>\n"
      ],
      "text/latex": [
       "\\begin{tabular}{r|lll}\n",
       " Gender & NbrUsers & Percentage\\\\\n",
       "\\hline\n",
       "\t Female    &  3588     &  8.412858\\\\\n",
       "\t Male      & 39061     & 91.587142\\\\\n",
       "\\end{tabular}\n"
      ],
      "text/markdown": [
       "\n",
       "| Gender | NbrUsers | Percentage |\n",
       "|---|---|---|\n",
       "| Female    |  3588     |  8.412858 |\n",
       "| Male      | 39061     | 91.587142 |\n",
       "\n"
      ],
      "text/plain": [
       "  Gender NbrUsers Percentage\n",
       "1 Female  3588     8.412858 \n",
       "2 Male   39061    91.587142 "
      ]
     },
     "metadata": {},
     "output_type": "display_data"
    }
   ],
   "source": [
    "#Create groupby of gender\n",
    "Gender <- Datamart %>%\n",
    "  group_by(Gender) %>% \n",
    "  summarize(NbrUsers = n()) %>%\n",
    "  transmute(Gender,NbrUsers, Percentage=NbrUsers*100/sum(NbrUsers))\n",
    "\n",
    "Gender"
   ]
  },
  {
   "cell_type": "code",
   "execution_count": 56,
   "metadata": {},
   "outputs": [
    {
     "name": "stderr",
     "output_type": "stream",
     "text": [
      "`summarise()` ungrouping output (override with `.groups` argument)\n"
     ]
    },
    {
     "data": {
      "text/html": [
       "<table>\n",
       "<thead><tr><th scope=col>Country</th><th scope=col>NbrUsers</th><th scope=col>Percent</th></tr></thead>\n",
       "<tbody>\n",
       "\t<tr><td>Germany    </td><td>24171      </td><td>56.674248  </td></tr>\n",
       "\t<tr><td>Turkey     </td><td> 2477      </td><td> 5.807874  </td></tr>\n",
       "\t<tr><td>Poland     </td><td> 2417      </td><td> 5.667190  </td></tr>\n",
       "\t<tr><td>Spain      </td><td> 2407      </td><td> 5.643743  </td></tr>\n",
       "\t<tr><td>Greece     </td><td> 2392      </td><td> 5.608572  </td></tr>\n",
       "\t<tr><td>France     </td><td> 2087      </td><td> 4.893432  </td></tr>\n",
       "\t<tr><td>Denmark    </td><td> 1825      </td><td> 4.279116  </td></tr>\n",
       "\t<tr><td>Austria    </td><td> 1459      </td><td> 3.420948  </td></tr>\n",
       "\t<tr><td>Italy      </td><td> 1006      </td><td> 2.358789  </td></tr>\n",
       "\t<tr><td>Switzerland</td><td>  577      </td><td> 1.352904  </td></tr>\n",
       "</tbody>\n",
       "</table>\n"
      ],
      "text/latex": [
       "\\begin{tabular}{r|lll}\n",
       " Country & NbrUsers & Percent\\\\\n",
       "\\hline\n",
       "\t Germany     & 24171       & 56.674248  \\\\\n",
       "\t Turkey      &  2477       &  5.807874  \\\\\n",
       "\t Poland      &  2417       &  5.667190  \\\\\n",
       "\t Spain       &  2407       &  5.643743  \\\\\n",
       "\t Greece      &  2392       &  5.608572  \\\\\n",
       "\t France      &  2087       &  4.893432  \\\\\n",
       "\t Denmark     &  1825       &  4.279116  \\\\\n",
       "\t Austria     &  1459       &  3.420948  \\\\\n",
       "\t Italy       &  1006       &  2.358789  \\\\\n",
       "\t Switzerland &   577       &  1.352904  \\\\\n",
       "\\end{tabular}\n"
      ],
      "text/markdown": [
       "\n",
       "| Country | NbrUsers | Percent |\n",
       "|---|---|---|\n",
       "| Germany     | 24171       | 56.674248   |\n",
       "| Turkey      |  2477       |  5.807874   |\n",
       "| Poland      |  2417       |  5.667190   |\n",
       "| Spain       |  2407       |  5.643743   |\n",
       "| Greece      |  2392       |  5.608572   |\n",
       "| France      |  2087       |  4.893432   |\n",
       "| Denmark     |  1825       |  4.279116   |\n",
       "| Austria     |  1459       |  3.420948   |\n",
       "| Italy       |  1006       |  2.358789   |\n",
       "| Switzerland |   577       |  1.352904   |\n",
       "\n"
      ],
      "text/plain": [
       "   Country     NbrUsers Percent  \n",
       "1  Germany     24171    56.674248\n",
       "2  Turkey       2477     5.807874\n",
       "3  Poland       2417     5.667190\n",
       "4  Spain        2407     5.643743\n",
       "5  Greece       2392     5.608572\n",
       "6  France       2087     4.893432\n",
       "7  Denmark      1825     4.279116\n",
       "8  Austria      1459     3.420948\n",
       "9  Italy        1006     2.358789\n",
       "10 Switzerland   577     1.352904"
      ]
     },
     "metadata": {},
     "output_type": "display_data"
    }
   ],
   "source": [
    "# Selecting top 10 countries with maximum users\n",
    "\n",
    "MaxUsers <- Datamart %>%\n",
    "  group_by(Country) %>% \n",
    "  summarize(NbrUsers = n()) %>%\n",
    "  mutate(Percent=NbrUsers*100/sum(NbrUsers)) %>%\n",
    "  top_n(10, wt=NbrUsers) %>%\n",
    "  arrange(desc(NbrUsers))\n",
    "\n",
    "MaxUsers"
   ]
  },
  {
   "cell_type": "code",
   "execution_count": 57,
   "metadata": {},
   "outputs": [],
   "source": [
    "#Exporting MaxUsers \n",
    "write.csv(MaxUsers,\"created_data/max_users.csv\", row.names = FALSE)"
   ]
  },
  {
   "cell_type": "code",
   "execution_count": 58,
   "metadata": {},
   "outputs": [
    {
     "name": "stderr",
     "output_type": "stream",
     "text": [
      "`summarise()` regrouping output by 'Country' (override with `.groups` argument)\n"
     ]
    }
   ],
   "source": [
    "# How much of each gender per country:\n",
    "\n",
    "#Create groupby of gender per country\n",
    "GenderCountry <- Datamart %>%\n",
    "  group_by(Country,Gender) %>%\n",
    "  summarize(NbrUsers = n())"
   ]
  },
  {
   "cell_type": "code",
   "execution_count": 59,
   "metadata": {},
   "outputs": [],
   "source": [
    "# Filtering the users per gender per country for top 10 countries with max users\n",
    "GenderCountry_top10 <- dplyr::filter(GenderCountry, grepl('Germany|Turkey|Poland|Spain|Greece|France|Denmark|Austria|Italy|Switzerland', Country))"
   ]
  },
  {
   "cell_type": "code",
   "execution_count": 60,
   "metadata": {},
   "outputs": [],
   "source": [
    "#Exporting Gender by country table\n",
    "write.csv(GenderCountry_top10,\"created_data/gender_country.csv\", row.names = FALSE)"
   ]
  },
  {
   "cell_type": "markdown",
   "metadata": {},
   "source": [
    "##### Specific Preferences of Females:"
   ]
  },
  {
   "cell_type": "code",
   "execution_count": 61,
   "metadata": {},
   "outputs": [
    {
     "data": {
      "text/html": [
       "<table>\n",
       "<thead><tr><th scope=col>UserID</th><th scope=col>RegDate</th><th scope=col>FirstPay</th><th scope=col>FirstAct</th><th scope=col>FirstSp</th><th scope=col>FirstCa</th><th scope=col>FirstGa</th><th scope=col>FirstPo</th><th scope=col>Gender</th><th scope=col>Language</th><th scope=col>...</th><th scope=col>FOFirstActiveDate</th><th scope=col>FOLastActiveDate</th><th scope=col>FOTotalDaysActive</th><th scope=col>LATotalStakes</th><th scope=col>LATotalWinnings</th><th scope=col>LATotalBets</th><th scope=col>LAFirstActiveDate</th><th scope=col>LALastActiveDate</th><th scope=col>LATotalDaysActive</th><th scope=col>Age_Group</th></tr></thead>\n",
       "<tbody>\n",
       "\t<tr><td>1324402   </td><td>2005-02-01</td><td>2005-02-01</td><td>2005-02-01</td><td>2005-02-01</td><td>NA        </td><td>NA        </td><td>NA        </td><td>Female    </td><td>German    </td><td>...       </td><td>2005-02-01</td><td>2005-02-12</td><td> 5        </td><td>NA        </td><td>NA        </td><td>NA        </td><td>NA        </td><td>NA        </td><td>NA        </td><td>2         </td></tr>\n",
       "\t<tr><td>1324411   </td><td>2005-02-01</td><td>2005-02-04</td><td>2005-02-16</td><td>2005-02-16</td><td>NA        </td><td>NA        </td><td>NA        </td><td>Female    </td><td>German    </td><td>...       </td><td>2005-02-16</td><td>2005-02-18</td><td> 2        </td><td>NA        </td><td>NA        </td><td>NA        </td><td>NA        </td><td>NA        </td><td>NA        </td><td>4         </td></tr>\n",
       "\t<tr><td>1324427   </td><td>2005-02-01</td><td>2005-02-08</td><td>2005-02-08</td><td>2005-02-08</td><td>NA        </td><td>NA        </td><td>NA        </td><td>Female    </td><td>Greek     </td><td>...       </td><td>2005-02-08</td><td>2005-03-11</td><td>12        </td><td>NA        </td><td>NA        </td><td>NA        </td><td>NA        </td><td>NA        </td><td>NA        </td><td>4         </td></tr>\n",
       "\t<tr><td>1324441   </td><td>2005-02-01</td><td>2005-03-09</td><td>2005-03-11</td><td>2005-03-11</td><td>NA        </td><td>NA        </td><td>NA        </td><td>Female    </td><td>German    </td><td>...       </td><td>2005-03-11</td><td>2005-04-09</td><td> 5        </td><td>NA        </td><td>NA        </td><td>NA        </td><td>NA        </td><td>NA        </td><td>NA        </td><td>2         </td></tr>\n",
       "\t<tr><td>1324448   </td><td>2005-02-01</td><td>2005-02-02</td><td>2005-02-02</td><td>2005-02-02</td><td>NA        </td><td>NA        </td><td>NA        </td><td>Female    </td><td>English   </td><td>...       </td><td>2005-02-02</td><td>2005-02-03</td><td> 1        </td><td>NA        </td><td>NA        </td><td>NA        </td><td>NA        </td><td>NA        </td><td>NA        </td><td>3         </td></tr>\n",
       "\t<tr><td>1324491   </td><td>2005-02-01</td><td>2005-02-03</td><td>2005-02-03</td><td>2005-02-03</td><td>NA        </td><td>NA        </td><td>NA        </td><td>Female    </td><td>German    </td><td>...       </td><td>2005-02-03</td><td>2005-04-09</td><td>31        </td><td>NA        </td><td>NA        </td><td>NA        </td><td>NA        </td><td>NA        </td><td>NA        </td><td>3         </td></tr>\n",
       "</tbody>\n",
       "</table>\n"
      ],
      "text/latex": [
       "\\begin{tabular}{r|llllllllllllllllllllllllllllllllllllllllllllll}\n",
       " UserID & RegDate & FirstPay & FirstAct & FirstSp & FirstCa & FirstGa & FirstPo & Gender & Language & ... & FOFirstActiveDate & FOLastActiveDate & FOTotalDaysActive & LATotalStakes & LATotalWinnings & LATotalBets & LAFirstActiveDate & LALastActiveDate & LATotalDaysActive & Age\\_Group\\\\\n",
       "\\hline\n",
       "\t 1324402    & 2005-02-01 & 2005-02-01 & 2005-02-01 & 2005-02-01 & NA         & NA         & NA         & Female     & German     & ...        & 2005-02-01 & 2005-02-12 &  5         & NA         & NA         & NA         & NA         & NA         & NA         & 2         \\\\\n",
       "\t 1324411    & 2005-02-01 & 2005-02-04 & 2005-02-16 & 2005-02-16 & NA         & NA         & NA         & Female     & German     & ...        & 2005-02-16 & 2005-02-18 &  2         & NA         & NA         & NA         & NA         & NA         & NA         & 4         \\\\\n",
       "\t 1324427    & 2005-02-01 & 2005-02-08 & 2005-02-08 & 2005-02-08 & NA         & NA         & NA         & Female     & Greek      & ...        & 2005-02-08 & 2005-03-11 & 12         & NA         & NA         & NA         & NA         & NA         & NA         & 4         \\\\\n",
       "\t 1324441    & 2005-02-01 & 2005-03-09 & 2005-03-11 & 2005-03-11 & NA         & NA         & NA         & Female     & German     & ...        & 2005-03-11 & 2005-04-09 &  5         & NA         & NA         & NA         & NA         & NA         & NA         & 2         \\\\\n",
       "\t 1324448    & 2005-02-01 & 2005-02-02 & 2005-02-02 & 2005-02-02 & NA         & NA         & NA         & Female     & English    & ...        & 2005-02-02 & 2005-02-03 &  1         & NA         & NA         & NA         & NA         & NA         & NA         & 3         \\\\\n",
       "\t 1324491    & 2005-02-01 & 2005-02-03 & 2005-02-03 & 2005-02-03 & NA         & NA         & NA         & Female     & German     & ...        & 2005-02-03 & 2005-04-09 & 31         & NA         & NA         & NA         & NA         & NA         & NA         & 3         \\\\\n",
       "\\end{tabular}\n"
      ],
      "text/markdown": [
       "\n",
       "| UserID | RegDate | FirstPay | FirstAct | FirstSp | FirstCa | FirstGa | FirstPo | Gender | Language | ... | FOFirstActiveDate | FOLastActiveDate | FOTotalDaysActive | LATotalStakes | LATotalWinnings | LATotalBets | LAFirstActiveDate | LALastActiveDate | LATotalDaysActive | Age_Group |\n",
       "|---|---|---|---|---|---|---|---|---|---|---|---|---|---|---|---|---|---|---|---|---|\n",
       "| 1324402    | 2005-02-01 | 2005-02-01 | 2005-02-01 | 2005-02-01 | NA         | NA         | NA         | Female     | German     | ...        | 2005-02-01 | 2005-02-12 |  5         | NA         | NA         | NA         | NA         | NA         | NA         | 2          |\n",
       "| 1324411    | 2005-02-01 | 2005-02-04 | 2005-02-16 | 2005-02-16 | NA         | NA         | NA         | Female     | German     | ...        | 2005-02-16 | 2005-02-18 |  2         | NA         | NA         | NA         | NA         | NA         | NA         | 4          |\n",
       "| 1324427    | 2005-02-01 | 2005-02-08 | 2005-02-08 | 2005-02-08 | NA         | NA         | NA         | Female     | Greek      | ...        | 2005-02-08 | 2005-03-11 | 12         | NA         | NA         | NA         | NA         | NA         | NA         | 4          |\n",
       "| 1324441    | 2005-02-01 | 2005-03-09 | 2005-03-11 | 2005-03-11 | NA         | NA         | NA         | Female     | German     | ...        | 2005-03-11 | 2005-04-09 |  5         | NA         | NA         | NA         | NA         | NA         | NA         | 2          |\n",
       "| 1324448    | 2005-02-01 | 2005-02-02 | 2005-02-02 | 2005-02-02 | NA         | NA         | NA         | Female     | English    | ...        | 2005-02-02 | 2005-02-03 |  1         | NA         | NA         | NA         | NA         | NA         | NA         | 3          |\n",
       "| 1324491    | 2005-02-01 | 2005-02-03 | 2005-02-03 | 2005-02-03 | NA         | NA         | NA         | Female     | German     | ...        | 2005-02-03 | 2005-04-09 | 31         | NA         | NA         | NA         | NA         | NA         | NA         | 3          |\n",
       "\n"
      ],
      "text/plain": [
       "  UserID  RegDate    FirstPay   FirstAct   FirstSp    FirstCa FirstGa FirstPo\n",
       "1 1324402 2005-02-01 2005-02-01 2005-02-01 2005-02-01 <NA>    <NA>    <NA>   \n",
       "2 1324411 2005-02-01 2005-02-04 2005-02-16 2005-02-16 <NA>    <NA>    <NA>   \n",
       "3 1324427 2005-02-01 2005-02-08 2005-02-08 2005-02-08 <NA>    <NA>    <NA>   \n",
       "4 1324441 2005-02-01 2005-03-09 2005-03-11 2005-03-11 <NA>    <NA>    <NA>   \n",
       "5 1324448 2005-02-01 2005-02-02 2005-02-02 2005-02-02 <NA>    <NA>    <NA>   \n",
       "6 1324491 2005-02-01 2005-02-03 2005-02-03 2005-02-03 <NA>    <NA>    <NA>   \n",
       "  Gender Language ... FOFirstActiveDate FOLastActiveDate FOTotalDaysActive\n",
       "1 Female German   ... 2005-02-01        2005-02-12        5               \n",
       "2 Female German   ... 2005-02-16        2005-02-18        2               \n",
       "3 Female Greek    ... 2005-02-08        2005-03-11       12               \n",
       "4 Female German   ... 2005-03-11        2005-04-09        5               \n",
       "5 Female English  ... 2005-02-02        2005-02-03        1               \n",
       "6 Female German   ... 2005-02-03        2005-04-09       31               \n",
       "  LATotalStakes LATotalWinnings LATotalBets LAFirstActiveDate LALastActiveDate\n",
       "1 NA            NA              NA          <NA>              <NA>            \n",
       "2 NA            NA              NA          <NA>              <NA>            \n",
       "3 NA            NA              NA          <NA>              <NA>            \n",
       "4 NA            NA              NA          <NA>              <NA>            \n",
       "5 NA            NA              NA          <NA>              <NA>            \n",
       "6 NA            NA              NA          <NA>              <NA>            \n",
       "  LATotalDaysActive Age_Group\n",
       "1 NA                2        \n",
       "2 NA                4        \n",
       "3 NA                4        \n",
       "4 NA                2        \n",
       "5 NA                3        \n",
       "6 NA                3        "
      ]
     },
     "metadata": {},
     "output_type": "display_data"
    }
   ],
   "source": [
    "#Create a subset of females\n",
    "Female <- subset(Datamart, Gender == \"Female\")\n",
    "head(Female)"
   ]
  },
  {
   "cell_type": "code",
   "execution_count": 62,
   "metadata": {},
   "outputs": [
    {
     "data": {
      "text/html": [
       "<table>\n",
       "<thead><tr><th scope=col>n</th></tr></thead>\n",
       "<tbody>\n",
       "\t<tr><td>3588</td></tr>\n",
       "</tbody>\n",
       "</table>\n"
      ],
      "text/latex": [
       "\\begin{tabular}{r|l}\n",
       " n\\\\\n",
       "\\hline\n",
       "\t 3588\\\\\n",
       "\\end{tabular}\n"
      ],
      "text/markdown": [
       "\n",
       "| n |\n",
       "|---|\n",
       "| 3588 |\n",
       "\n"
      ],
      "text/plain": [
       "  n   \n",
       "1 3588"
      ]
     },
     "metadata": {},
     "output_type": "display_data"
    }
   ],
   "source": [
    "#How many female users are there?\n",
    "Female %>%\n",
    "count()"
   ]
  },
  {
   "cell_type": "code",
   "execution_count": 63,
   "metadata": {},
   "outputs": [
    {
     "name": "stderr",
     "output_type": "stream",
     "text": [
      "Warning message:\n",
      "\"Removed 198 rows containing non-finite values (stat_bin).\""
     ]
    },
    {
     "data": {
      "image/png": "[encoded data removed]",
      "text/plain": [
       "plot without title"
      ]
     },
     "metadata": {},
     "output_type": "display_data"
    }
   ],
   "source": [
    "# Age of Female users:\n",
    "ggplot(Female, aes(x = AGE)) + \n",
    "theme_bw() + \n",
    "theme(panel.grid.major = element_blank(), panel.grid.minor = element_blank(),\n",
    "panel.border = element_blank(),  # remove borders\n",
    "axis.line = element_line()) + \n",
    "scale_x_continuous(breaks=seq(0,90,5)) +\n",
    "  geom_histogram(fill = \"#CC5500\",bins=30, binwidth=2,color=\"white\") +\n",
    "  labs(title = \"Age of female Clients\", x = \"Age\", y = \"Number of Female Clients\")\n",
    "options(repr.plot.width=3, repr.plot.height=2)\n",
    "\n",
    "#Looks simialr to overall age just in smaller amounts "
   ]
  },
  {
   "cell_type": "code",
   "execution_count": 64,
   "metadata": {},
   "outputs": [
    {
     "data": {
      "text/html": [
       "<table>\n",
       "<thead><tr><th scope=col>Product</th><th scope=col>Total_Sales</th><th scope=col>Percent</th></tr></thead>\n",
       "<tbody>\n",
       "\t<tr><td>Prod1_SportsBook_FixedOdd</td><td>82973                    </td><td>72.8421182               </td></tr>\n",
       "\t<tr><td>Prod2_SportsBook_LiveAct </td><td>24172                    </td><td>21.2206342               </td></tr>\n",
       "\t<tr><td>Prod3_Poker_BossMedia    </td><td>    0                    </td><td> 0.0000000               </td></tr>\n",
       "\t<tr><td>Prod4_Casino_BossMedia   </td><td> 1720                    </td><td> 1.5099905               </td></tr>\n",
       "\t<tr><td>Prod5_Supertoto          </td><td>  363                    </td><td> 0.3186782               </td></tr>\n",
       "\t<tr><td>Prod6_Games_VS           </td><td> 1196                    </td><td> 1.0499702               </td></tr>\n",
       "\t<tr><td>Prod7_Games_bwin         </td><td>  755                    </td><td> 0.6628156               </td></tr>\n",
       "\t<tr><td>Prod8_Casino_Chartwell   </td><td> 2729                    </td><td> 2.3957931               </td></tr>\n",
       "</tbody>\n",
       "</table>\n"
      ],
      "text/latex": [
       "\\begin{tabular}{r|lll}\n",
       " Product & Total\\_Sales & Percent\\\\\n",
       "\\hline\n",
       "\t Prod1\\_SportsBook\\_FixedOdd & 82973                         & 72.8421182                   \\\\\n",
       "\t Prod2\\_SportsBook\\_LiveAct  & 24172                         & 21.2206342                   \\\\\n",
       "\t Prod3\\_Poker\\_BossMedia     &     0                         &  0.0000000                   \\\\\n",
       "\t Prod4\\_Casino\\_BossMedia    &  1720                         &  1.5099905                   \\\\\n",
       "\t Prod5\\_Supertoto           &   363                       &  0.3186782                 \\\\\n",
       "\t Prod6\\_Games\\_VS            &  1196                         &  1.0499702                   \\\\\n",
       "\t Prod7\\_Games\\_bwin          &   755                         &  0.6628156                   \\\\\n",
       "\t Prod8\\_Casino\\_Chartwell    &  2729                         &  2.3957931                   \\\\\n",
       "\\end{tabular}\n"
      ],
      "text/markdown": [
       "\n",
       "| Product | Total_Sales | Percent |\n",
       "|---|---|---|\n",
       "| Prod1_SportsBook_FixedOdd | 82973                     | 72.8421182                |\n",
       "| Prod2_SportsBook_LiveAct  | 24172                     | 21.2206342                |\n",
       "| Prod3_Poker_BossMedia     |     0                     |  0.0000000                |\n",
       "| Prod4_Casino_BossMedia    |  1720                     |  1.5099905                |\n",
       "| Prod5_Supertoto           |   363                     |  0.3186782                |\n",
       "| Prod6_Games_VS            |  1196                     |  1.0499702                |\n",
       "| Prod7_Games_bwin          |   755                     |  0.6628156                |\n",
       "| Prod8_Casino_Chartwell    |  2729                     |  2.3957931                |\n",
       "\n"
      ],
      "text/plain": [
       "  Product                   Total_Sales Percent   \n",
       "1 Prod1_SportsBook_FixedOdd 82973       72.8421182\n",
       "2 Prod2_SportsBook_LiveAct  24172       21.2206342\n",
       "3 Prod3_Poker_BossMedia         0        0.0000000\n",
       "4 Prod4_Casino_BossMedia     1720        1.5099905\n",
       "5 Prod5_Supertoto             363        0.3186782\n",
       "6 Prod6_Games_VS             1196        1.0499702\n",
       "7 Prod7_Games_bwin            755        0.6628156\n",
       "8 Prod8_Casino_Chartwell     2729        2.3957931"
      ]
     },
     "metadata": {},
     "output_type": "display_data"
    }
   ],
   "source": [
    "# Which product is used more by females:\n",
    "Total_Prod1_F = sum(Female$Prod1_SportsBook_FixedOdd, na.rm = TRUE)\n",
    "Total_Prod2_F = sum(Female$Prod2_SportsBook_LiveAct, na.rm = TRUE)\n",
    "Total_Prod3_F = sum(Female$Prod3_Poker_BossMedia, na.rm = TRUE)\n",
    "Total_Prod4_F = sum(Female$Prod4_Casino_BossMedia, na.rm = TRUE)\n",
    "Total_Prod5_F = sum(Female$Prod5_Supertoto, na.rm = TRUE)\n",
    "Total_Prod6_F = sum(Female$Prod6_Games_VS, na.rm = TRUE)\n",
    "Total_Prod7_F = sum(Female$Prod7_Games_bwin, na.rm = TRUE)\n",
    "Total_Prod8_F = sum(Female$Prod8_Casino_Chartwell, na.rm = TRUE)\n",
    "\n",
    "Product = c(\"Prod1_SportsBook_FixedOdd\",\"Prod2_SportsBook_LiveAct\",\"Prod3_Poker_BossMedia\",\"Prod4_Casino_BossMedia\",\"Prod5_Supertoto\",\"Prod6_Games_VS\",\"Prod7_Games_bwin\",\"Prod8_Casino_Chartwell\")\n",
    "Total_Sales = c(Total_Prod1_F,Total_Prod2_F,Total_Prod3_F,Total_Prod4_F,Total_Prod5_F,Total_Prod6_F,Total_Prod7_F,Total_Prod8_F)\n",
    "\n",
    "product_sale_Female = data.frame(Product,Total_Sales)\n",
    "product_sale_Female <- product_sale_Female %>% transmute(Product, Total_Sales, Percent = Total_Sales*100/sum(Total_Sales))\n",
    "product_sale_Female"
   ]
  },
  {
   "cell_type": "code",
   "execution_count": 65,
   "metadata": {},
   "outputs": [
    {
     "data": {
      "image/png": "[encoded data removed]",
      "text/plain": [
       "plot without title"
      ]
     },
     "metadata": {},
     "output_type": "display_data"
    }
   ],
   "source": [
    "ggplot(product_sale_Female, aes(x = Product, y = Percent)) +  \n",
    "theme_bw() + \n",
    "theme(panel.grid.major = element_blank(), panel.grid.minor = element_blank(),\n",
    "panel.border = element_blank(),  # remove borders\n",
    "axis.line = element_line()) + \n",
    "scale_y_continuous(breaks=seq(0,80,5)) +\n",
    "geom_bar(stat = \"identity\", fill = \"#CC5500\", position = \"dodge\") + \n",
    "labs(title = \"Female Product Sales\", x = \"Product\", y = \"Sales\") +\n",
    "coord_flip() \n",
    "options(repr.plot.width=6, repr.plot.height=4)"
   ]
  },
  {
   "cell_type": "markdown",
   "metadata": {},
   "source": [
    "### Location of Users"
   ]
  },
  {
   "cell_type": "code",
   "execution_count": 66,
   "metadata": {},
   "outputs": [
    {
     "data": {
      "text/html": [
       "<table>\n",
       "<thead><tr><th scope=col>region</th><th scope=col>NbrUsers</th></tr></thead>\n",
       "<tbody>\n",
       "\t<tr><td>Albania  </td><td>   2     </td></tr>\n",
       "\t<tr><td>Andorra  </td><td>   7     </td></tr>\n",
       "\t<tr><td>Argentina</td><td>   2     </td></tr>\n",
       "\t<tr><td>Australia</td><td>  31     </td></tr>\n",
       "\t<tr><td>Austria  </td><td>1459     </td></tr>\n",
       "\t<tr><td>Belarus  </td><td>   2     </td></tr>\n",
       "</tbody>\n",
       "</table>\n"
      ],
      "text/latex": [
       "\\begin{tabular}{r|ll}\n",
       " region & NbrUsers\\\\\n",
       "\\hline\n",
       "\t Albania   &    2     \\\\\n",
       "\t Andorra   &    7     \\\\\n",
       "\t Argentina &    2     \\\\\n",
       "\t Australia &   31     \\\\\n",
       "\t Austria   & 1459     \\\\\n",
       "\t Belarus   &    2     \\\\\n",
       "\\end{tabular}\n"
      ],
      "text/markdown": [
       "\n",
       "| region | NbrUsers |\n",
       "|---|---|\n",
       "| Albania   |    2      |\n",
       "| Andorra   |    7      |\n",
       "| Argentina |    2      |\n",
       "| Australia |   31      |\n",
       "| Austria   | 1459      |\n",
       "| Belarus   |    2      |\n",
       "\n"
      ],
      "text/plain": [
       "  region    NbrUsers\n",
       "1 Albania      2    \n",
       "2 Andorra      7    \n",
       "3 Argentina    2    \n",
       "4 Australia   31    \n",
       "5 Austria   1459    \n",
       "6 Belarus      2    "
      ]
     },
     "metadata": {},
     "output_type": "display_data"
    }
   ],
   "source": [
    "#Create groupby of clients per region\n",
    "UserRegion <- Datamart %>%\n",
    " count(Country) %>%\n",
    " rename(region = Country, NbrUsers=n)\n",
    "head(UserRegion)"
   ]
  },
  {
   "cell_type": "markdown",
   "metadata": {},
   "source": [
    " ### Source:"
   ]
  },
  {
   "cell_type": "code",
   "execution_count": 67,
   "metadata": {},
   "outputs": [
    {
     "name": "stderr",
     "output_type": "stream",
     "text": [
      "`summarise()` ungrouping output (override with `.groups` argument)\n"
     ]
    }
   ],
   "source": [
    "# Counting users for each website/application\n",
    "PreferredRoute <- Datamart %>% group_by(Website) %>% summarize(Number_of_Users = n())"
   ]
  },
  {
   "cell_type": "code",
   "execution_count": 68,
   "metadata": {},
   "outputs": [
    {
     "name": "stderr",
     "output_type": "stream",
     "text": [
      "`summarise()` ungrouping output (override with `.groups` argument)\n"
     ]
    }
   ],
   "source": [
    "# Selecting websites through which more than 20 users were acquired\n",
    "    PreferredRoute1 <- Datamart %>% group_by(Website) %>% summarize(Number_of_Users = n()) %>% filter(Number_of_Users > 20)"
   ]
  },
  {
   "cell_type": "code",
   "execution_count": 69,
   "metadata": {},
   "outputs": [],
   "source": [
    " # Grouping together websites through which less than 20 users were acquired\n",
    "    PreferredRoute2 <- PreferredRoute %>% filter(Number_of_Users <= 20) %>% \n",
    "      summarize (Website = \"OTHER WEBSITES\", Number_of_Users = sum(Number_of_Users))"
   ]
  },
  {
   "cell_type": "code",
   "execution_count": 70,
   "metadata": {},
   "outputs": [],
   "source": [
    " # stacking both tables togther and sorting them in descending order\n",
    "    AcquisitionSources <- rbind(PreferredRoute1, PreferredRoute2)\n",
    "    AcquisitionSources <- AcquisitionSources[order(-AcquisitionSources$Number_of_Users),]"
   ]
  },
  {
   "cell_type": "code",
   "execution_count": 71,
   "metadata": {},
   "outputs": [],
   "source": [
    "# Exporting the data into a csv file\n",
    "write.csv(AcquisitionSources ,\"created_data/acquisition_sources.csv\", row.names = FALSE)"
   ]
  },
  {
   "cell_type": "markdown",
   "metadata": {},
   "source": [
    "### Registrations & Subscriptions:"
   ]
  },
  {
   "cell_type": "code",
   "execution_count": 72,
   "metadata": {},
   "outputs": [
    {
     "name": "stderr",
     "output_type": "stream",
     "text": [
      "`summarise()` ungrouping output (override with `.groups` argument)\n"
     ]
    },
    {
     "data": {
      "text/html": [
       "<table>\n",
       "<thead><tr><th scope=col>month</th><th scope=col>Registrations</th></tr></thead>\n",
       "<tbody>\n",
       "\t<tr><td>02   </td><td>42649</td></tr>\n",
       "</tbody>\n",
       "</table>\n"
      ],
      "text/latex": [
       "\\begin{tabular}{r|ll}\n",
       " month & Registrations\\\\\n",
       "\\hline\n",
       "\t 02    & 42649\\\\\n",
       "\\end{tabular}\n"
      ],
      "text/markdown": [
       "\n",
       "| month | Registrations |\n",
       "|---|---|\n",
       "| 02    | 42649 |\n",
       "\n"
      ],
      "text/plain": [
       "  month Registrations\n",
       "1 02    42649        "
      ]
     },
     "metadata": {},
     "output_type": "display_data"
    },
    {
     "name": "stderr",
     "output_type": "stream",
     "text": [
      "`summarise()` ungrouping output (override with `.groups` argument)\n"
     ]
    },
    {
     "data": {
      "text/html": [
       "<table>\n",
       "<thead><tr><th scope=col>month</th><th scope=col>TotalSubscribers</th></tr></thead>\n",
       "<tbody>\n",
       "\t<tr><td>02   </td><td>33972</td></tr>\n",
       "\t<tr><td>03   </td><td> 5074</td></tr>\n",
       "\t<tr><td>04   </td><td> 1250</td></tr>\n",
       "\t<tr><td>05   </td><td>  595</td></tr>\n",
       "\t<tr><td>06   </td><td>  262</td></tr>\n",
       "\t<tr><td>07   </td><td>  232</td></tr>\n",
       "\t<tr><td>08   </td><td>  406</td></tr>\n",
       "\t<tr><td>09   </td><td>  840</td></tr>\n",
       "\t<tr><td>10   </td><td>   18</td></tr>\n",
       "</tbody>\n",
       "</table>\n"
      ],
      "text/latex": [
       "\\begin{tabular}{r|ll}\n",
       " month & TotalSubscribers\\\\\n",
       "\\hline\n",
       "\t 02    & 33972\\\\\n",
       "\t 03    &  5074\\\\\n",
       "\t 04    &  1250\\\\\n",
       "\t 05    &   595\\\\\n",
       "\t 06    &   262\\\\\n",
       "\t 07    &   232\\\\\n",
       "\t 08    &   406\\\\\n",
       "\t 09    &   840\\\\\n",
       "\t 10    &    18\\\\\n",
       "\\end{tabular}\n"
      ],
      "text/markdown": [
       "\n",
       "| month | TotalSubscribers |\n",
       "|---|---|\n",
       "| 02    | 33972 |\n",
       "| 03    |  5074 |\n",
       "| 04    |  1250 |\n",
       "| 05    |   595 |\n",
       "| 06    |   262 |\n",
       "| 07    |   232 |\n",
       "| 08    |   406 |\n",
       "| 09    |   840 |\n",
       "| 10    |    18 |\n",
       "\n"
      ],
      "text/plain": [
       "  month TotalSubscribers\n",
       "1 02    33972           \n",
       "2 03     5074           \n",
       "3 04     1250           \n",
       "4 05      595           \n",
       "5 06      262           \n",
       "6 07      232           \n",
       "7 08      406           \n",
       "8 09      840           \n",
       "9 10       18           "
      ]
     },
     "metadata": {},
     "output_type": "display_data"
    }
   ],
   "source": [
    "#- Comparison graph of number of customers who registered VS number of customers who paid in the same month (per month-year)\n",
    "#- Which country + age-group has max pay ratio (dropdown of countries Top 12 and others)\n",
    "#- Average, min and max time gap between reg date and pay date\n",
    "\n",
    "\n",
    "Datamart$RegDate <- as.Date(Datamart$RegDate, format='%Y-%m-%d')\n",
    "count_of_reg <- Datamart %>% mutate(month = format(RegDate, \"%m\")) %>% group_by(month) %>% summarise(Registrations = n())\n",
    "count_of_reg\n",
    "count_of_pay <- Datamart %>% mutate(month = format(FirstPay, \"%m\")) %>% group_by(month) %>% summarise(TotalSubscribers = n())\n",
    "count_of_pay\n"
   ]
  },
  {
   "cell_type": "code",
   "execution_count": 103,
   "metadata": {},
   "outputs": [],
   "source": [
    "# Exporting the data into a csv file\n",
    "write.csv(count_of_pay,\"created_data/count_of_pay.csv\", row.names = FALSE)"
   ]
  },
  {
   "cell_type": "markdown",
   "metadata": {},
   "source": [
    "### Products:"
   ]
  },
  {
   "cell_type": "markdown",
   "metadata": {},
   "source": [
    "Product 1: Sports Book Fixed Odd"
   ]
  },
  {
   "cell_type": "code",
   "execution_count": 73,
   "metadata": {},
   "outputs": [
    {
     "data": {
      "text/html": [
       "<table>\n",
       "<thead><tr><th scope=col>Product</th><th scope=col>Total_Sales</th><th scope=col>Percent</th></tr></thead>\n",
       "<tbody>\n",
       "\t<tr><td>Prod1_SportsBook_FixedOdd</td><td>1260352                  </td><td>75.2266166               </td></tr>\n",
       "\t<tr><td>Prod2_SportsBook_LiveAct </td><td> 343321                  </td><td>20.4917969               </td></tr>\n",
       "\t<tr><td>Prod3_Poker_BossMedia    </td><td>      0                  </td><td> 0.0000000               </td></tr>\n",
       "\t<tr><td>Prod4_Casino_BossMedia   </td><td>  16307                  </td><td> 0.9733157               </td></tr>\n",
       "\t<tr><td>Prod5_Supertoto          </td><td>   4409                  </td><td> 0.2631599               </td></tr>\n",
       "\t<tr><td>Prod6_Games_VS           </td><td>  11630                  </td><td> 0.6941597               </td></tr>\n",
       "\t<tr><td>Prod7_Games_bwin         </td><td>   7396                  </td><td> 0.4414450               </td></tr>\n",
       "\t<tr><td>Prod8_Casino_Chartwell   </td><td>  31992                  </td><td> 1.9095062               </td></tr>\n",
       "</tbody>\n",
       "</table>\n"
      ],
      "text/latex": [
       "\\begin{tabular}{r|lll}\n",
       " Product & Total\\_Sales & Percent\\\\\n",
       "\\hline\n",
       "\t Prod1\\_SportsBook\\_FixedOdd & 1260352                       & 75.2266166                   \\\\\n",
       "\t Prod2\\_SportsBook\\_LiveAct  &  343321                       & 20.4917969                   \\\\\n",
       "\t Prod3\\_Poker\\_BossMedia     &       0                       &  0.0000000                   \\\\\n",
       "\t Prod4\\_Casino\\_BossMedia    &   16307                       &  0.9733157                   \\\\\n",
       "\t Prod5\\_Supertoto           &    4409                     &  0.2631599                 \\\\\n",
       "\t Prod6\\_Games\\_VS            &   11630                       &  0.6941597                   \\\\\n",
       "\t Prod7\\_Games\\_bwin          &    7396                       &  0.4414450                   \\\\\n",
       "\t Prod8\\_Casino\\_Chartwell    &   31992                       &  1.9095062                   \\\\\n",
       "\\end{tabular}\n"
      ],
      "text/markdown": [
       "\n",
       "| Product | Total_Sales | Percent |\n",
       "|---|---|---|\n",
       "| Prod1_SportsBook_FixedOdd | 1260352                   | 75.2266166                |\n",
       "| Prod2_SportsBook_LiveAct  |  343321                   | 20.4917969                |\n",
       "| Prod3_Poker_BossMedia     |       0                   |  0.0000000                |\n",
       "| Prod4_Casino_BossMedia    |   16307                   |  0.9733157                |\n",
       "| Prod5_Supertoto           |    4409                   |  0.2631599                |\n",
       "| Prod6_Games_VS            |   11630                   |  0.6941597                |\n",
       "| Prod7_Games_bwin          |    7396                   |  0.4414450                |\n",
       "| Prod8_Casino_Chartwell    |   31992                   |  1.9095062                |\n",
       "\n"
      ],
      "text/plain": [
       "  Product                   Total_Sales Percent   \n",
       "1 Prod1_SportsBook_FixedOdd 1260352     75.2266166\n",
       "2 Prod2_SportsBook_LiveAct   343321     20.4917969\n",
       "3 Prod3_Poker_BossMedia           0      0.0000000\n",
       "4 Prod4_Casino_BossMedia      16307      0.9733157\n",
       "5 Prod5_Supertoto              4409      0.2631599\n",
       "6 Prod6_Games_VS              11630      0.6941597\n",
       "7 Prod7_Games_bwin             7396      0.4414450\n",
       "8 Prod8_Casino_Chartwell      31992      1.9095062"
      ]
     },
     "metadata": {},
     "output_type": "display_data"
    }
   ],
   "source": [
    "# Which product is used more:\n",
    "Total_Prod1 = sum(Datamart$Prod1_SportsBook_FixedOdd, na.rm = TRUE)\n",
    "Total_Prod2 = sum(Datamart$Prod2_SportsBook_LiveAct, na.rm = TRUE)\n",
    "Total_Prod3 = sum(Datamart$Prod3_Poker_BossMedia, na.rm = TRUE)\n",
    "Total_Prod4 = sum(Datamart$Prod4_Casino_BossMedia, na.rm = TRUE)\n",
    "Total_Prod5 = sum(Datamart$Prod5_Supertoto, na.rm = TRUE)\n",
    "Total_Prod6 = sum(Datamart$Prod6_Games_VS, na.rm = TRUE)\n",
    "Total_Prod7 = sum(Datamart$Prod7_Games_bwin, na.rm = TRUE)\n",
    "Total_Prod8 = sum(Datamart$Prod8_Casino_Chartwell, na.rm = TRUE)\n",
    "\n",
    "Product = c(\"Prod1_SportsBook_FixedOdd\",\"Prod2_SportsBook_LiveAct\",\"Prod3_Poker_BossMedia\",\"Prod4_Casino_BossMedia\",\"Prod5_Supertoto\",\"Prod6_Games_VS\",\"Prod7_Games_bwin\",\"Prod8_Casino_Chartwell\")\n",
    "Total_Sales = c(Total_Prod1,Total_Prod2,Total_Prod3,Total_Prod4,Total_Prod5,Total_Prod6,Total_Prod7,Total_Prod8)\n",
    "\n",
    "product_sale = data.frame(Product,Total_Sales)\n",
    "product_sale <- product_sale %>% transmute(Product, Total_Sales, Percent = Total_Sales*100/sum(Total_Sales))\n",
    "product_sale"
   ]
  },
  {
   "cell_type": "code",
   "execution_count": 74,
   "metadata": {},
   "outputs": [],
   "source": [
    "# Exporting the data into a csv file\n",
    "write.csv(product_sale,\"created_data/product_sale.csv\", row.names = FALSE)"
   ]
  },
  {
   "cell_type": "markdown",
   "metadata": {},
   "source": [
    "#### Most Popular Products by Age Group"
   ]
  },
  {
   "cell_type": "code",
   "execution_count": 75,
   "metadata": {},
   "outputs": [
    {
     "name": "stderr",
     "output_type": "stream",
     "text": [
      "`summarise()` ungrouping output (override with `.groups` argument)\n"
     ]
    }
   ],
   "source": [
    "Prod_Age <- Datamart %>%\n",
    "    select(Prod1_SportsBook_FixedOdd,Prod2_SportsBook_LiveAct,Prod3_Poker_BossMedia,Prod4_Casino_BossMedia,Prod5_Supertoto,Prod6_Games_VS,Prod7_Games_bwin,Prod8_Casino_Chartwell, Age_Group) %>%\n",
    "    group_by(Age_Group) %>%\n",
    "    summarise(Prod1 = sum(Prod1_SportsBook_FixedOdd),Prod2 = sum(Prod2_SportsBook_LiveAct), Prod3 = sum(Prod3_Poker_BossMedia),Prod4 = sum(Prod4_Casino_BossMedia),Prod5 = sum(Prod5_Supertoto),Prod6 = sum(Prod6_Games_VS), Prod7 = sum(Prod7_Games_bwin),Prod8 = sum(Prod8_Casino_Chartwell))"
   ]
  },
  {
   "cell_type": "code",
   "execution_count": 76,
   "metadata": {},
   "outputs": [
    {
     "data": {
      "text/html": [
       "<table>\n",
       "<thead><tr><th scope=col>Age_Group</th><th scope=col>Prod1</th><th scope=col>Prod2</th><th scope=col>Prod3</th><th scope=col>Prod4</th><th scope=col>Prod5</th><th scope=col>Prod6</th><th scope=col>Prod7</th><th scope=col>Prod8</th></tr></thead>\n",
       "<tbody>\n",
       "\t<tr><td>1     </td><td> 46704</td><td> 13013</td><td>0     </td><td> 553  </td><td> 110  </td><td> 485  </td><td> 305  </td><td>  806 </td></tr>\n",
       "\t<tr><td>2     </td><td>536482</td><td>146890</td><td>0     </td><td>5738  </td><td>1836  </td><td>5282  </td><td>3175  </td><td>12288 </td></tr>\n",
       "\t<tr><td>3     </td><td>390254</td><td>107337</td><td>0     </td><td>4931  </td><td>1599  </td><td>3490  </td><td>2489  </td><td>10755 </td></tr>\n",
       "</tbody>\n",
       "</table>\n"
      ],
      "text/latex": [
       "\\begin{tabular}{r|lllllllll}\n",
       " Age\\_Group & Prod1 & Prod2 & Prod3 & Prod4 & Prod5 & Prod6 & Prod7 & Prod8\\\\\n",
       "\\hline\n",
       "\t 1      &  46704 &  13013 & 0      &  553   &  110   &  485   &  305   &   806 \\\\\n",
       "\t 2      & 536482 & 146890 & 0      & 5738   & 1836   & 5282   & 3175   & 12288 \\\\\n",
       "\t 3      & 390254 & 107337 & 0      & 4931   & 1599   & 3490   & 2489   & 10755 \\\\\n",
       "\\end{tabular}\n"
      ],
      "text/markdown": [
       "\n",
       "| Age_Group | Prod1 | Prod2 | Prod3 | Prod4 | Prod5 | Prod6 | Prod7 | Prod8 |\n",
       "|---|---|---|---|---|---|---|---|---|\n",
       "| 1      |  46704 |  13013 | 0      |  553   |  110   |  485   |  305   |   806  |\n",
       "| 2      | 536482 | 146890 | 0      | 5738   | 1836   | 5282   | 3175   | 12288  |\n",
       "| 3      | 390254 | 107337 | 0      | 4931   | 1599   | 3490   | 2489   | 10755  |\n",
       "\n"
      ],
      "text/plain": [
       "  Age_Group Prod1  Prod2  Prod3 Prod4 Prod5 Prod6 Prod7 Prod8\n",
       "1 1          46704  13013 0      553   110   485   305    806\n",
       "2 2         536482 146890 0     5738  1836  5282  3175  12288\n",
       "3 3         390254 107337 0     4931  1599  3490  2489  10755"
      ]
     },
     "metadata": {},
     "output_type": "display_data"
    }
   ],
   "source": [
    "head(Prod_Age, 3)"
   ]
  },
  {
   "cell_type": "code",
   "execution_count": 77,
   "metadata": {},
   "outputs": [
    {
     "data": {
      "text/html": [
       "<table>\n",
       "<thead><tr><th scope=col>Age_Group</th><th scope=col>Prod1</th><th scope=col>Prod2</th><th scope=col>Prod3</th><th scope=col>Prod4</th><th scope=col>Prod5</th><th scope=col>Prod6</th><th scope=col>Prod7</th><th scope=col>Prod8</th><th scope=col>Prod_Count</th><th scope=col>Popular_Prod</th></tr></thead>\n",
       "<tbody>\n",
       "\t<tr><td>1     </td><td> 46704</td><td> 13013</td><td>0     </td><td> 553  </td><td> 110  </td><td> 485  </td><td> 305  </td><td>  806 </td><td> 46704</td><td>Prod1 </td></tr>\n",
       "\t<tr><td>2     </td><td>536482</td><td>146890</td><td>0     </td><td>5738  </td><td>1836  </td><td>5282  </td><td>3175  </td><td>12288 </td><td>536482</td><td>Prod1 </td></tr>\n",
       "\t<tr><td>3     </td><td>390254</td><td>107337</td><td>0     </td><td>4931  </td><td>1599  </td><td>3490  </td><td>2489  </td><td>10755 </td><td>390254</td><td>Prod1 </td></tr>\n",
       "</tbody>\n",
       "</table>\n"
      ],
      "text/latex": [
       "\\begin{tabular}{r|lllllllllll}\n",
       " Age\\_Group & Prod1 & Prod2 & Prod3 & Prod4 & Prod5 & Prod6 & Prod7 & Prod8 & Prod\\_Count & Popular\\_Prod\\\\\n",
       "\\hline\n",
       "\t 1      &  46704 &  13013 & 0      &  553   &  110   &  485   &  305   &   806  &  46704 & Prod1 \\\\\n",
       "\t 2      & 536482 & 146890 & 0      & 5738   & 1836   & 5282   & 3175   & 12288  & 536482 & Prod1 \\\\\n",
       "\t 3      & 390254 & 107337 & 0      & 4931   & 1599   & 3490   & 2489   & 10755  & 390254 & Prod1 \\\\\n",
       "\\end{tabular}\n"
      ],
      "text/markdown": [
       "\n",
       "| Age_Group | Prod1 | Prod2 | Prod3 | Prod4 | Prod5 | Prod6 | Prod7 | Prod8 | Prod_Count | Popular_Prod |\n",
       "|---|---|---|---|---|---|---|---|---|---|---|\n",
       "| 1      |  46704 |  13013 | 0      |  553   |  110   |  485   |  305   |   806  |  46704 | Prod1  |\n",
       "| 2      | 536482 | 146890 | 0      | 5738   | 1836   | 5282   | 3175   | 12288  | 536482 | Prod1  |\n",
       "| 3      | 390254 | 107337 | 0      | 4931   | 1599   | 3490   | 2489   | 10755  | 390254 | Prod1  |\n",
       "\n"
      ],
      "text/plain": [
       "  Age_Group Prod1  Prod2  Prod3 Prod4 Prod5 Prod6 Prod7 Prod8 Prod_Count\n",
       "1 1          46704  13013 0      553   110   485   305    806  46704    \n",
       "2 2         536482 146890 0     5738  1836  5282  3175  12288 536482    \n",
       "3 3         390254 107337 0     4931  1599  3490  2489  10755 390254    \n",
       "  Popular_Prod\n",
       "1 Prod1       \n",
       "2 Prod1       \n",
       "3 Prod1       "
      ]
     },
     "metadata": {},
     "output_type": "display_data"
    }
   ],
   "source": [
    "# Getting a temporary dataset for Prod1 to Prod8 columns\n",
    "Prod_Age_Temp <- Prod_Age %>% select(-Age_Group)\n",
    "\n",
    "# Getting the max of Prod1 to Prod8\n",
    "Prod_Age$Prod_Count<-apply(X=Prod_Age_Temp, MARGIN=1, FUN=max)\n",
    "\n",
    "# Getting the name of the max column Prod1 to Prod8\n",
    "Popular_Prod <- colnames(Prod_Age)[max.col(Prod_Age,ties.method=\"first\")]\n",
    "Prod_Age <- cbind(Prod_Age, Popular_Prod)\n",
    "head(Prod_Age, 3)"
   ]
  },
  {
   "cell_type": "code",
   "execution_count": 78,
   "metadata": {},
   "outputs": [
    {
     "data": {
      "text/html": [
       "<table>\n",
       "<thead><tr><th scope=col>Age_Group</th><th scope=col>Prod1</th><th scope=col>Prod2</th><th scope=col>Prod3</th><th scope=col>Prod4</th><th scope=col>Prod5</th><th scope=col>Prod6</th><th scope=col>Prod7</th><th scope=col>Prod8</th><th scope=col>Prod_Count</th><th scope=col>Popular_Prod</th></tr></thead>\n",
       "<tbody>\n",
       "\t<tr><td> 1    </td><td> 46704</td><td> 13013</td><td>0     </td><td> 553  </td><td> 110  </td><td> 485  </td><td> 305  </td><td>  806 </td><td> 46704</td><td>Prod1 </td></tr>\n",
       "\t<tr><td> 2    </td><td>536482</td><td>146890</td><td>0     </td><td>5738  </td><td>1836  </td><td>5282  </td><td>3175  </td><td>12288 </td><td>536482</td><td>Prod1 </td></tr>\n",
       "\t<tr><td> 3    </td><td>390254</td><td>107337</td><td>0     </td><td>4931  </td><td>1599  </td><td>3490  </td><td>2489  </td><td>10755 </td><td>390254</td><td>Prod1 </td></tr>\n",
       "\t<tr><td> 4    </td><td>193055</td><td> 53030</td><td>0     </td><td>1634  </td><td> 590  </td><td>1427  </td><td> 676  </td><td> 4146 </td><td>193055</td><td>Prod1 </td></tr>\n",
       "\t<tr><td> 5    </td><td> 69104</td><td> 17146</td><td>0     </td><td>1136  </td><td> 193  </td><td> 366  </td><td> 413  </td><td>  865 </td><td> 69104</td><td>Prod1 </td></tr>\n",
       "\t<tr><td> 6    </td><td> 15939</td><td>  3467</td><td>0     </td><td> 118  </td><td>  28  </td><td>  83  </td><td>  57  </td><td>  204 </td><td> 15939</td><td>Prod1 </td></tr>\n",
       "\t<tr><td> 7    </td><td>  1848</td><td>   629</td><td>0     </td><td>  41  </td><td>   8  </td><td>   7  </td><td>   5  </td><td>   93 </td><td>  1848</td><td>Prod1 </td></tr>\n",
       "\t<tr><td> 8    </td><td>   205</td><td>    71</td><td>0     </td><td>   3  </td><td>   0  </td><td>   0  </td><td>   0  </td><td>   34 </td><td>   205</td><td>Prod1 </td></tr>\n",
       "\t<tr><td> 9    </td><td>    38</td><td>     2</td><td>0     </td><td>   0  </td><td>   0  </td><td>   0  </td><td>   0  </td><td>    0 </td><td>    38</td><td>Prod1 </td></tr>\n",
       "\t<tr><td>10    </td><td>    77</td><td>     0</td><td>0     </td><td>   0  </td><td>   0  </td><td>   0  </td><td>   0  </td><td>    0 </td><td>    77</td><td>Prod1 </td></tr>\n",
       "</tbody>\n",
       "</table>\n"
      ],
      "text/latex": [
       "\\begin{tabular}{r|lllllllllll}\n",
       " Age\\_Group & Prod1 & Prod2 & Prod3 & Prod4 & Prod5 & Prod6 & Prod7 & Prod8 & Prod\\_Count & Popular\\_Prod\\\\\n",
       "\\hline\n",
       "\t  1     &  46704 &  13013 & 0      &  553   &  110   &  485   &  305   &   806  &  46704 & Prod1 \\\\\n",
       "\t  2     & 536482 & 146890 & 0      & 5738   & 1836   & 5282   & 3175   & 12288  & 536482 & Prod1 \\\\\n",
       "\t  3     & 390254 & 107337 & 0      & 4931   & 1599   & 3490   & 2489   & 10755  & 390254 & Prod1 \\\\\n",
       "\t  4     & 193055 &  53030 & 0      & 1634   &  590   & 1427   &  676   &  4146  & 193055 & Prod1 \\\\\n",
       "\t  5     &  69104 &  17146 & 0      & 1136   &  193   &  366   &  413   &   865  &  69104 & Prod1 \\\\\n",
       "\t  6     &  15939 &   3467 & 0      &  118   &   28   &   83   &   57   &   204  &  15939 & Prod1 \\\\\n",
       "\t  7     &   1848 &    629 & 0      &   41   &    8   &    7   &    5   &    93  &   1848 & Prod1 \\\\\n",
       "\t  8     &    205 &     71 & 0      &    3   &    0   &    0   &    0   &    34  &    205 & Prod1 \\\\\n",
       "\t  9     &     38 &      2 & 0      &    0   &    0   &    0   &    0   &     0  &     38 & Prod1 \\\\\n",
       "\t 10     &     77 &      0 & 0      &    0   &    0   &    0   &    0   &     0  &     77 & Prod1 \\\\\n",
       "\\end{tabular}\n"
      ],
      "text/markdown": [
       "\n",
       "| Age_Group | Prod1 | Prod2 | Prod3 | Prod4 | Prod5 | Prod6 | Prod7 | Prod8 | Prod_Count | Popular_Prod |\n",
       "|---|---|---|---|---|---|---|---|---|---|---|\n",
       "|  1     |  46704 |  13013 | 0      |  553   |  110   |  485   |  305   |   806  |  46704 | Prod1  |\n",
       "|  2     | 536482 | 146890 | 0      | 5738   | 1836   | 5282   | 3175   | 12288  | 536482 | Prod1  |\n",
       "|  3     | 390254 | 107337 | 0      | 4931   | 1599   | 3490   | 2489   | 10755  | 390254 | Prod1  |\n",
       "|  4     | 193055 |  53030 | 0      | 1634   |  590   | 1427   |  676   |  4146  | 193055 | Prod1  |\n",
       "|  5     |  69104 |  17146 | 0      | 1136   |  193   |  366   |  413   |   865  |  69104 | Prod1  |\n",
       "|  6     |  15939 |   3467 | 0      |  118   |   28   |   83   |   57   |   204  |  15939 | Prod1  |\n",
       "|  7     |   1848 |    629 | 0      |   41   |    8   |    7   |    5   |    93  |   1848 | Prod1  |\n",
       "|  8     |    205 |     71 | 0      |    3   |    0   |    0   |    0   |    34  |    205 | Prod1  |\n",
       "|  9     |     38 |      2 | 0      |    0   |    0   |    0   |    0   |     0  |     38 | Prod1  |\n",
       "| 10     |     77 |      0 | 0      |    0   |    0   |    0   |    0   |     0  |     77 | Prod1  |\n",
       "\n"
      ],
      "text/plain": [
       "   Age_Group Prod1  Prod2  Prod3 Prod4 Prod5 Prod6 Prod7 Prod8 Prod_Count\n",
       "1   1         46704  13013 0      553   110   485   305    806  46704    \n",
       "2   2        536482 146890 0     5738  1836  5282  3175  12288 536482    \n",
       "3   3        390254 107337 0     4931  1599  3490  2489  10755 390254    \n",
       "4   4        193055  53030 0     1634   590  1427   676   4146 193055    \n",
       "5   5         69104  17146 0     1136   193   366   413    865  69104    \n",
       "6   6         15939   3467 0      118    28    83    57    204  15939    \n",
       "7   7          1848    629 0       41     8     7     5     93   1848    \n",
       "8   8           205     71 0        3     0     0     0     34    205    \n",
       "9   9            38      2 0        0     0     0     0      0     38    \n",
       "10 10            77      0 0        0     0     0     0      0     77    \n",
       "   Popular_Prod\n",
       "1  Prod1       \n",
       "2  Prod1       \n",
       "3  Prod1       \n",
       "4  Prod1       \n",
       "5  Prod1       \n",
       "6  Prod1       \n",
       "7  Prod1       \n",
       "8  Prod1       \n",
       "9  Prod1       \n",
       "10 Prod1       "
      ]
     },
     "metadata": {},
     "output_type": "display_data"
    }
   ],
   "source": [
    "# Dropping the last row, as it contains NA\n",
    "n<-dim(Prod_Age)[1]\n",
    "Prod_Age <- Prod_Age[1:(n-1), ]\n",
    "Prod_Age"
   ]
  },
  {
   "cell_type": "markdown",
   "metadata": {},
   "source": [
    "Prod1 is the most popular product for all age groups"
   ]
  },
  {
   "cell_type": "markdown",
   "metadata": {},
   "source": [
    "#### Most Popular Products by Country"
   ]
  },
  {
   "cell_type": "code",
   "execution_count": 79,
   "metadata": {},
   "outputs": [
    {
     "name": "stderr",
     "output_type": "stream",
     "text": [
      "`summarise()` ungrouping output (override with `.groups` argument)\n"
     ]
    }
   ],
   "source": [
    "Prod_Country <- Datamart %>%\n",
    "    select(Prod1_SportsBook_FixedOdd,Prod2_SportsBook_LiveAct,Prod3_Poker_BossMedia,Prod4_Casino_BossMedia,Prod5_Supertoto,Prod6_Games_VS,Prod7_Games_bwin,Prod8_Casino_Chartwell, Country) %>%\n",
    "    group_by(Country) %>%\n",
    "    summarise(Prod1 = sum(Prod1_SportsBook_FixedOdd),Prod2 = sum(Prod2_SportsBook_LiveAct), Prod3 = sum(Prod3_Poker_BossMedia),Prod4 = sum(Prod4_Casino_BossMedia),Prod5 = sum(Prod5_Supertoto),Prod6 = sum(Prod6_Games_VS), Prod7 = sum(Prod7_Games_bwin),Prod8 = sum(Prod8_Casino_Chartwell))"
   ]
  },
  {
   "cell_type": "code",
   "execution_count": 80,
   "metadata": {},
   "outputs": [
    {
     "data": {
      "text/html": [
       "<table>\n",
       "<thead><tr><th scope=col>Country</th><th scope=col>Prod1</th><th scope=col>Prod2</th><th scope=col>Prod3</th><th scope=col>Prod4</th><th scope=col>Prod5</th><th scope=col>Prod6</th><th scope=col>Prod7</th><th scope=col>Prod8</th></tr></thead>\n",
       "<tbody>\n",
       "\t<tr><td>Albania  </td><td> 46      </td><td>26       </td><td>0        </td><td>0        </td><td>0        </td><td>9        </td><td>9        </td><td> 0       </td></tr>\n",
       "\t<tr><td>Andorra  </td><td>219      </td><td>38       </td><td>0        </td><td>5        </td><td>0        </td><td>0        </td><td>0        </td><td> 2       </td></tr>\n",
       "\t<tr><td>Argentina</td><td> 43      </td><td> 6       </td><td>0        </td><td>0        </td><td>0        </td><td>1        </td><td>0        </td><td>13       </td></tr>\n",
       "</tbody>\n",
       "</table>\n"
      ],
      "text/latex": [
       "\\begin{tabular}{r|lllllllll}\n",
       " Country & Prod1 & Prod2 & Prod3 & Prod4 & Prod5 & Prod6 & Prod7 & Prod8\\\\\n",
       "\\hline\n",
       "\t Albania   &  46       & 26        & 0         & 0         & 0         & 9         & 9         &  0       \\\\\n",
       "\t Andorra   & 219       & 38        & 0         & 5         & 0         & 0         & 0         &  2       \\\\\n",
       "\t Argentina &  43       &  6        & 0         & 0         & 0         & 1         & 0         & 13       \\\\\n",
       "\\end{tabular}\n"
      ],
      "text/markdown": [
       "\n",
       "| Country | Prod1 | Prod2 | Prod3 | Prod4 | Prod5 | Prod6 | Prod7 | Prod8 |\n",
       "|---|---|---|---|---|---|---|---|---|\n",
       "| Albania   |  46       | 26        | 0         | 0         | 0         | 9         | 9         |  0        |\n",
       "| Andorra   | 219       | 38        | 0         | 5         | 0         | 0         | 0         |  2        |\n",
       "| Argentina |  43       |  6        | 0         | 0         | 0         | 1         | 0         | 13        |\n",
       "\n"
      ],
      "text/plain": [
       "  Country   Prod1 Prod2 Prod3 Prod4 Prod5 Prod6 Prod7 Prod8\n",
       "1 Albania    46   26    0     0     0     9     9      0   \n",
       "2 Andorra   219   38    0     5     0     0     0      2   \n",
       "3 Argentina  43    6    0     0     0     1     0     13   "
      ]
     },
     "metadata": {},
     "output_type": "display_data"
    }
   ],
   "source": [
    "head(Prod_Country, 3)"
   ]
  },
  {
   "cell_type": "code",
   "execution_count": 81,
   "metadata": {},
   "outputs": [],
   "source": [
    "# Getting a temporary dataset for Prod1 to Prod8 columns\n",
    "Prod_Country_Temp <- Prod_Country %>% select(-Country)\n",
    "\n",
    "# Getting the max of Prod1 to Prod8\n",
    "Prod_Country$Prod_Count<-apply(X=Prod_Country_Temp, MARGIN=1, FUN=max)\n"
   ]
  },
  {
   "cell_type": "code",
   "execution_count": 82,
   "metadata": {},
   "outputs": [
    {
     "data": {
      "text/html": [
       "<table>\n",
       "<thead><tr><th scope=col>Country</th><th scope=col>Prod1</th><th scope=col>Prod2</th><th scope=col>Prod3</th><th scope=col>Prod4</th><th scope=col>Prod5</th><th scope=col>Prod6</th><th scope=col>Prod7</th><th scope=col>Prod8</th><th scope=col>Prod_Count</th></tr></thead>\n",
       "<tbody>\n",
       "\t<tr><td>Albania  </td><td> 46      </td><td>26       </td><td>0        </td><td>0        </td><td>0        </td><td>9        </td><td>9        </td><td> 0       </td><td> 46      </td></tr>\n",
       "\t<tr><td>Andorra  </td><td>219      </td><td>38       </td><td>0        </td><td>5        </td><td>0        </td><td>0        </td><td>0        </td><td> 2       </td><td>219      </td></tr>\n",
       "\t<tr><td>Argentina</td><td> 43      </td><td> 6       </td><td>0        </td><td>0        </td><td>0        </td><td>1        </td><td>0        </td><td>13       </td><td> 43      </td></tr>\n",
       "</tbody>\n",
       "</table>\n"
      ],
      "text/latex": [
       "\\begin{tabular}{r|llllllllll}\n",
       " Country & Prod1 & Prod2 & Prod3 & Prod4 & Prod5 & Prod6 & Prod7 & Prod8 & Prod\\_Count\\\\\n",
       "\\hline\n",
       "\t Albania   &  46       & 26        & 0         & 0         & 0         & 9         & 9         &  0        &  46      \\\\\n",
       "\t Andorra   & 219       & 38        & 0         & 5         & 0         & 0         & 0         &  2        & 219      \\\\\n",
       "\t Argentina &  43       &  6        & 0         & 0         & 0         & 1         & 0         & 13        &  43      \\\\\n",
       "\\end{tabular}\n"
      ],
      "text/markdown": [
       "\n",
       "| Country | Prod1 | Prod2 | Prod3 | Prod4 | Prod5 | Prod6 | Prod7 | Prod8 | Prod_Count |\n",
       "|---|---|---|---|---|---|---|---|---|---|\n",
       "| Albania   |  46       | 26        | 0         | 0         | 0         | 9         | 9         |  0        |  46       |\n",
       "| Andorra   | 219       | 38        | 0         | 5         | 0         | 0         | 0         |  2        | 219       |\n",
       "| Argentina |  43       |  6        | 0         | 0         | 0         | 1         | 0         | 13        |  43       |\n",
       "\n"
      ],
      "text/plain": [
       "  Country   Prod1 Prod2 Prod3 Prod4 Prod5 Prod6 Prod7 Prod8 Prod_Count\n",
       "1 Albania    46   26    0     0     0     9     9      0     46       \n",
       "2 Andorra   219   38    0     5     0     0     0      2    219       \n",
       "3 Argentina  43    6    0     0     0     1     0     13     43       "
      ]
     },
     "metadata": {},
     "output_type": "display_data"
    }
   ],
   "source": [
    "head(Prod_Country, 3)"
   ]
  },
  {
   "cell_type": "code",
   "execution_count": 83,
   "metadata": {},
   "outputs": [],
   "source": [
    "# Dropping countries where all values is NA\n",
    "Prod_Country <- Prod_Country %>%\n",
    "    drop_na(Prod_Count)"
   ]
  },
  {
   "cell_type": "code",
   "execution_count": 84,
   "metadata": {},
   "outputs": [],
   "source": [
    "Prod_Country <- suppressWarnings(as.data.frame(Prod_Country)) "
   ]
  },
  {
   "cell_type": "code",
   "execution_count": 85,
   "metadata": {
    "scrolled": true
   },
   "outputs": [
    {
     "name": "stderr",
     "output_type": "stream",
     "text": [
      "Warning message in FUN(newX[, i], ...):\n",
      "\"NAs introduced by coercion\"Warning message in FUN(newX[, i], ...):\n",
      "\"NAs introduced by coercion\"Warning message in FUN(newX[, i], ...):\n",
      "\"NAs introduced by coercion\"Warning message in FUN(newX[, i], ...):\n",
      "\"NAs introduced by coercion\"Warning message in FUN(newX[, i], ...):\n",
      "\"NAs introduced by coercion\"Warning message in FUN(newX[, i], ...):\n",
      "\"NAs introduced by coercion\"Warning message in FUN(newX[, i], ...):\n",
      "\"NAs introduced by coercion\"Warning message in FUN(newX[, i], ...):\n",
      "\"NAs introduced by coercion\"Warning message in FUN(newX[, i], ...):\n",
      "\"NAs introduced by coercion\"Warning message in FUN(newX[, i], ...):\n",
      "\"NAs introduced by coercion\"Warning message in FUN(newX[, i], ...):\n",
      "\"NAs introduced by coercion\"Warning message in FUN(newX[, i], ...):\n",
      "\"NAs introduced by coercion\"Warning message in FUN(newX[, i], ...):\n",
      "\"NAs introduced by coercion\"Warning message in FUN(newX[, i], ...):\n",
      "\"NAs introduced by coercion\"Warning message in FUN(newX[, i], ...):\n",
      "\"NAs introduced by coercion\"Warning message in FUN(newX[, i], ...):\n",
      "\"NAs introduced by coercion\"Warning message in FUN(newX[, i], ...):\n",
      "\"NAs introduced by coercion\"Warning message in FUN(newX[, i], ...):\n",
      "\"NAs introduced by coercion\"Warning message in FUN(newX[, i], ...):\n",
      "\"NAs introduced by coercion\"Warning message in FUN(newX[, i], ...):\n",
      "\"NAs introduced by coercion\"Warning message in FUN(newX[, i], ...):\n",
      "\"NAs introduced by coercion\"Warning message in FUN(newX[, i], ...):\n",
      "\"NAs introduced by coercion\"Warning message in FUN(newX[, i], ...):\n",
      "\"NAs introduced by coercion\"Warning message in FUN(newX[, i], ...):\n",
      "\"NAs introduced by coercion\"Warning message in FUN(newX[, i], ...):\n",
      "\"NAs introduced by coercion\"Warning message in FUN(newX[, i], ...):\n",
      "\"NAs introduced by coercion\"Warning message in FUN(newX[, i], ...):\n",
      "\"NAs introduced by coercion\"Warning message in FUN(newX[, i], ...):\n",
      "\"NAs introduced by coercion\"Warning message in FUN(newX[, i], ...):\n",
      "\"NAs introduced by coercion\"Warning message in FUN(newX[, i], ...):\n",
      "\"NAs introduced by coercion\"Warning message in FUN(newX[, i], ...):\n",
      "\"NAs introduced by coercion\"Warning message in FUN(newX[, i], ...):\n",
      "\"NAs introduced by coercion\"Warning message in FUN(newX[, i], ...):\n",
      "\"NAs introduced by coercion\"Warning message in FUN(newX[, i], ...):\n",
      "\"NAs introduced by coercion\"Warning message in FUN(newX[, i], ...):\n",
      "\"NAs introduced by coercion\"Warning message in FUN(newX[, i], ...):\n",
      "\"NAs introduced by coercion\"Warning message in FUN(newX[, i], ...):\n",
      "\"NAs introduced by coercion\"Warning message in FUN(newX[, i], ...):\n",
      "\"NAs introduced by coercion\"Warning message in FUN(newX[, i], ...):\n",
      "\"NAs introduced by coercion\"Warning message in FUN(newX[, i], ...):\n",
      "\"NAs introduced by coercion\"Warning message in FUN(newX[, i], ...):\n",
      "\"NAs introduced by coercion\"Warning message in FUN(newX[, i], ...):\n",
      "\"NAs introduced by coercion\"Warning message in FUN(newX[, i], ...):\n",
      "\"NAs introduced by coercion\"Warning message in FUN(newX[, i], ...):\n",
      "\"NAs introduced by coercion\"Warning message in FUN(newX[, i], ...):\n",
      "\"NAs introduced by coercion\"Warning message in FUN(newX[, i], ...):\n",
      "\"NAs introduced by coercion\"Warning message in FUN(newX[, i], ...):\n",
      "\"NAs introduced by coercion\"Warning message in FUN(newX[, i], ...):\n",
      "\"NAs introduced by coercion\"Warning message in FUN(newX[, i], ...):\n",
      "\"NAs introduced by coercion\"Warning message in FUN(newX[, i], ...):\n",
      "\"NAs introduced by coercion\"Warning message in FUN(newX[, i], ...):\n",
      "\"NAs introduced by coercion\"Warning message in FUN(newX[, i], ...):\n",
      "\"NAs introduced by coercion\"Warning message in FUN(newX[, i], ...):\n",
      "\"NAs introduced by coercion\"Warning message in FUN(newX[, i], ...):\n",
      "\"NAs introduced by coercion\"Warning message in FUN(newX[, i], ...):\n",
      "\"NAs introduced by coercion\"Warning message in FUN(newX[, i], ...):\n",
      "\"NAs introduced by coercion\"Warning message in FUN(newX[, i], ...):\n",
      "\"NAs introduced by coercion\"Warning message in FUN(newX[, i], ...):\n",
      "\"NAs introduced by coercion\"Warning message in FUN(newX[, i], ...):\n",
      "\"NAs introduced by coercion\""
     ]
    }
   ],
   "source": [
    "# Getting the name of the max column Prod1 to Prod8\n",
    "Popu_Prod <- colnames(Prod_Country)[apply(Prod_Country,1,which.max)]\n",
    "\n",
    "Prod_Country <- cbind(Prod_Country, Popu_Prod)"
   ]
  },
  {
   "cell_type": "code",
   "execution_count": 86,
   "metadata": {},
   "outputs": [
    {
     "data": {
      "text/html": [
       "<table>\n",
       "<thead><tr><th scope=col>Country</th><th scope=col>Prod1</th><th scope=col>Prod2</th><th scope=col>Prod3</th><th scope=col>Prod4</th><th scope=col>Prod5</th><th scope=col>Prod6</th><th scope=col>Prod7</th><th scope=col>Prod8</th><th scope=col>Prod_Count</th><th scope=col>Popu_Prod</th></tr></thead>\n",
       "<tbody>\n",
       "\t<tr><td>Albania               </td><td> 46                   </td><td>26                    </td><td>0                     </td><td>0                     </td><td>0                     </td><td>9                     </td><td>9                     </td><td> 0                    </td><td> 46                   </td><td>Prod1                 </td></tr>\n",
       "\t<tr><td>Andorra               </td><td>219                   </td><td>38                    </td><td>0                     </td><td>5                     </td><td>0                     </td><td>0                     </td><td>0                     </td><td> 2                    </td><td>219                   </td><td>Prod1                 </td></tr>\n",
       "\t<tr><td>Argentina             </td><td> 43                   </td><td> 6                    </td><td>0                     </td><td>0                     </td><td>0                     </td><td>1                     </td><td>0                     </td><td>13                    </td><td> 43                   </td><td>Prod1                 </td></tr>\n",
       "\t<tr><td>Belarus               </td><td> 72                   </td><td> 0                    </td><td>0                     </td><td>0                     </td><td>0                     </td><td>0                     </td><td>0                     </td><td> 1                    </td><td> 72                   </td><td>Prod1                 </td></tr>\n",
       "\t<tr><td>Bermuda               </td><td> 74                   </td><td>39                    </td><td>0                     </td><td>0                     </td><td>0                     </td><td>0                     </td><td>0                     </td><td> 0                    </td><td> 74                   </td><td>Prod1                 </td></tr>\n",
       "\t<tr><td>Bosnia and Herzegovina</td><td> 98                   </td><td>33                    </td><td>0                     </td><td>0                     </td><td>1                     </td><td>4                     </td><td>2                     </td><td> 8                    </td><td> 98                   </td><td>Prod1                 </td></tr>\n",
       "</tbody>\n",
       "</table>\n"
      ],
      "text/latex": [
       "\\begin{tabular}{r|lllllllllll}\n",
       " Country & Prod1 & Prod2 & Prod3 & Prod4 & Prod5 & Prod6 & Prod7 & Prod8 & Prod\\_Count & Popu\\_Prod\\\\\n",
       "\\hline\n",
       "\t Albania                &  46                    & 26                     & 0                      & 0                      & 0                      & 9                      & 9                      &  0                     &  46                    & Prod1                 \\\\\n",
       "\t Andorra                & 219                    & 38                     & 0                      & 5                      & 0                      & 0                      & 0                      &  2                     & 219                    & Prod1                 \\\\\n",
       "\t Argentina              &  43                    &  6                     & 0                      & 0                      & 0                      & 1                      & 0                      & 13                     &  43                    & Prod1                 \\\\\n",
       "\t Belarus                &  72                    &  0                     & 0                      & 0                      & 0                      & 0                      & 0                      &  1                     &  72                    & Prod1                 \\\\\n",
       "\t Bermuda                &  74                    & 39                     & 0                      & 0                      & 0                      & 0                      & 0                      &  0                     &  74                    & Prod1                 \\\\\n",
       "\t Bosnia and Herzegovina &  98                    & 33                     & 0                      & 0                      & 1                      & 4                      & 2                      &  8                     &  98                    & Prod1                 \\\\\n",
       "\\end{tabular}\n"
      ],
      "text/markdown": [
       "\n",
       "| Country | Prod1 | Prod2 | Prod3 | Prod4 | Prod5 | Prod6 | Prod7 | Prod8 | Prod_Count | Popu_Prod |\n",
       "|---|---|---|---|---|---|---|---|---|---|---|\n",
       "| Albania                |  46                    | 26                     | 0                      | 0                      | 0                      | 9                      | 9                      |  0                     |  46                    | Prod1                  |\n",
       "| Andorra                | 219                    | 38                     | 0                      | 5                      | 0                      | 0                      | 0                      |  2                     | 219                    | Prod1                  |\n",
       "| Argentina              |  43                    |  6                     | 0                      | 0                      | 0                      | 1                      | 0                      | 13                     |  43                    | Prod1                  |\n",
       "| Belarus                |  72                    |  0                     | 0                      | 0                      | 0                      | 0                      | 0                      |  1                     |  72                    | Prod1                  |\n",
       "| Bermuda                |  74                    | 39                     | 0                      | 0                      | 0                      | 0                      | 0                      |  0                     |  74                    | Prod1                  |\n",
       "| Bosnia and Herzegovina |  98                    | 33                     | 0                      | 0                      | 1                      | 4                      | 2                      |  8                     |  98                    | Prod1                  |\n",
       "\n"
      ],
      "text/plain": [
       "  Country                Prod1 Prod2 Prod3 Prod4 Prod5 Prod6 Prod7 Prod8\n",
       "1 Albania                 46   26    0     0     0     9     9      0   \n",
       "2 Andorra                219   38    0     5     0     0     0      2   \n",
       "3 Argentina               43    6    0     0     0     1     0     13   \n",
       "4 Belarus                 72    0    0     0     0     0     0      1   \n",
       "5 Bermuda                 74   39    0     0     0     0     0      0   \n",
       "6 Bosnia and Herzegovina  98   33    0     0     1     4     2      8   \n",
       "  Prod_Count Popu_Prod\n",
       "1  46        Prod1    \n",
       "2 219        Prod1    \n",
       "3  43        Prod1    \n",
       "4  72        Prod1    \n",
       "5  74        Prod1    \n",
       "6  98        Prod1    "
      ]
     },
     "metadata": {},
     "output_type": "display_data"
    }
   ],
   "source": [
    "head(Prod_Country)"
   ]
  },
  {
   "cell_type": "markdown",
   "metadata": {},
   "source": [
    "### Best Customers:"
   ]
  },
  {
   "cell_type": "markdown",
   "metadata": {},
   "source": [
    "By Bets:"
   ]
  },
  {
   "cell_type": "code",
   "execution_count": 87,
   "metadata": {},
   "outputs": [
    {
     "name": "stderr",
     "output_type": "stream",
     "text": [
      "`summarise()` ungrouping output (override with `.groups` argument)\n"
     ]
    },
    {
     "data": {
      "text/html": [
       "<table>\n",
       "<thead><tr><th scope=col>UserID</th><th scope=col>Total_Bets</th></tr></thead>\n",
       "<tbody>\n",
       "\t<tr><td>1375090</td><td>193442 </td></tr>\n",
       "\t<tr><td>1394515</td><td> 70183 </td></tr>\n",
       "\t<tr><td>1387195</td><td> 67295 </td></tr>\n",
       "\t<tr><td>1342512</td><td> 60946 </td></tr>\n",
       "\t<tr><td>1379004</td><td> 59437 </td></tr>\n",
       "\t<tr><td>1348152</td><td> 59313 </td></tr>\n",
       "\t<tr><td>1333785</td><td> 55165 </td></tr>\n",
       "\t<tr><td>1332238</td><td> 52159 </td></tr>\n",
       "\t<tr><td>1377081</td><td> 51510 </td></tr>\n",
       "\t<tr><td>1357078</td><td> 49562 </td></tr>\n",
       "</tbody>\n",
       "</table>\n"
      ],
      "text/latex": [
       "\\begin{tabular}{r|ll}\n",
       " UserID & Total\\_Bets\\\\\n",
       "\\hline\n",
       "\t 1375090 & 193442 \\\\\n",
       "\t 1394515 &  70183 \\\\\n",
       "\t 1387195 &  67295 \\\\\n",
       "\t 1342512 &  60946 \\\\\n",
       "\t 1379004 &  59437 \\\\\n",
       "\t 1348152 &  59313 \\\\\n",
       "\t 1333785 &  55165 \\\\\n",
       "\t 1332238 &  52159 \\\\\n",
       "\t 1377081 &  51510 \\\\\n",
       "\t 1357078 &  49562 \\\\\n",
       "\\end{tabular}\n"
      ],
      "text/markdown": [
       "\n",
       "| UserID | Total_Bets |\n",
       "|---|---|\n",
       "| 1375090 | 193442  |\n",
       "| 1394515 |  70183  |\n",
       "| 1387195 |  67295  |\n",
       "| 1342512 |  60946  |\n",
       "| 1379004 |  59437  |\n",
       "| 1348152 |  59313  |\n",
       "| 1333785 |  55165  |\n",
       "| 1332238 |  52159  |\n",
       "| 1377081 |  51510  |\n",
       "| 1357078 |  49562  |\n",
       "\n"
      ],
      "text/plain": [
       "   UserID  Total_Bets\n",
       "1  1375090 193442    \n",
       "2  1394515  70183    \n",
       "3  1387195  67295    \n",
       "4  1342512  60946    \n",
       "5  1379004  59437    \n",
       "6  1348152  59313    \n",
       "7  1333785  55165    \n",
       "8  1332238  52159    \n",
       "9  1377081  51510    \n",
       "10 1357078  49562    "
      ]
     },
     "metadata": {},
     "output_type": "display_data"
    }
   ],
   "source": [
    "# Selecting top 10 users with maximum total bets\n",
    "\n",
    "MaxBets <- Datamart %>%\n",
    "  group_by(UserID) %>% \n",
    "  summarize(Total_Bets) %>%\n",
    "  top_n(10, wt=Total_Bets) %>%\n",
    "  arrange(desc(Total_Bets))\n",
    "\n",
    "MaxBets"
   ]
  },
  {
   "cell_type": "code",
   "execution_count": 88,
   "metadata": {},
   "outputs": [
    {
     "name": "stderr",
     "output_type": "stream",
     "text": [
      "`summarise()` ungrouping output (override with `.groups` argument)\n"
     ]
    },
    {
     "data": {
      "text/html": [
       "<table>\n",
       "<thead><tr><th scope=col>UserID</th><th scope=col>Avg_Bets</th></tr></thead>\n",
       "<tbody>\n",
       "\t<tr><td>1350987</td><td>1630   </td></tr>\n",
       "\t<tr><td>1398623</td><td>1508   </td></tr>\n",
       "\t<tr><td>1349130</td><td>1343   </td></tr>\n",
       "\t<tr><td>1347984</td><td>1256   </td></tr>\n",
       "\t<tr><td>1336746</td><td>1228   </td></tr>\n",
       "\t<tr><td>1359313</td><td>1090   </td></tr>\n",
       "\t<tr><td>1336143</td><td>1069   </td></tr>\n",
       "\t<tr><td>1353740</td><td>1006   </td></tr>\n",
       "\t<tr><td>1381779</td><td>1006   </td></tr>\n",
       "\t<tr><td>1399711</td><td>1004   </td></tr>\n",
       "</tbody>\n",
       "</table>\n"
      ],
      "text/latex": [
       "\\begin{tabular}{r|ll}\n",
       " UserID & Avg\\_Bets\\\\\n",
       "\\hline\n",
       "\t 1350987 & 1630   \\\\\n",
       "\t 1398623 & 1508   \\\\\n",
       "\t 1349130 & 1343   \\\\\n",
       "\t 1347984 & 1256   \\\\\n",
       "\t 1336746 & 1228   \\\\\n",
       "\t 1359313 & 1090   \\\\\n",
       "\t 1336143 & 1069   \\\\\n",
       "\t 1353740 & 1006   \\\\\n",
       "\t 1381779 & 1006   \\\\\n",
       "\t 1399711 & 1004   \\\\\n",
       "\\end{tabular}\n"
      ],
      "text/markdown": [
       "\n",
       "| UserID | Avg_Bets |\n",
       "|---|---|\n",
       "| 1350987 | 1630    |\n",
       "| 1398623 | 1508    |\n",
       "| 1349130 | 1343    |\n",
       "| 1347984 | 1256    |\n",
       "| 1336746 | 1228    |\n",
       "| 1359313 | 1090    |\n",
       "| 1336143 | 1069    |\n",
       "| 1353740 | 1006    |\n",
       "| 1381779 | 1006    |\n",
       "| 1399711 | 1004    |\n",
       "\n"
      ],
      "text/plain": [
       "   UserID  Avg_Bets\n",
       "1  1350987 1630    \n",
       "2  1398623 1508    \n",
       "3  1349130 1343    \n",
       "4  1347984 1256    \n",
       "5  1336746 1228    \n",
       "6  1359313 1090    \n",
       "7  1336143 1069    \n",
       "8  1353740 1006    \n",
       "9  1381779 1006    \n",
       "10 1399711 1004    "
      ]
     },
     "metadata": {},
     "output_type": "display_data"
    }
   ],
   "source": [
    "# Selecting top 10 users with maximum average bets\n",
    "\n",
    "Max_Avg_Bets <- Datamart %>%\n",
    "  group_by(UserID) %>% \n",
    "  summarize(Avg_Bets) %>%\n",
    "  top_n(10, wt=Avg_Bets) %>%\n",
    "  arrange(desc(Avg_Bets))\n",
    "\n",
    "Max_Avg_Bets"
   ]
  },
  {
   "cell_type": "markdown",
   "metadata": {},
   "source": [
    "By stakes: "
   ]
  },
  {
   "cell_type": "code",
   "execution_count": 89,
   "metadata": {},
   "outputs": [
    {
     "name": "stderr",
     "output_type": "stream",
     "text": [
      "`summarise()` ungrouping output (override with `.groups` argument)\n"
     ]
    },
    {
     "data": {
      "text/html": [
       "<table>\n",
       "<thead><tr><th scope=col>UserID</th><th scope=col>Total_Stakes</th></tr></thead>\n",
       "<tbody>\n",
       "\t<tr><td>1340382</td><td>1127196</td></tr>\n",
       "\t<tr><td>1343220</td><td> 668609</td></tr>\n",
       "\t<tr><td>1394515</td><td> 656567</td></tr>\n",
       "\t<tr><td>1358163</td><td> 652967</td></tr>\n",
       "\t<tr><td>1325682</td><td> 648395</td></tr>\n",
       "\t<tr><td>1353019</td><td> 643206</td></tr>\n",
       "\t<tr><td>1330571</td><td> 634105</td></tr>\n",
       "\t<tr><td>1341464</td><td> 630348</td></tr>\n",
       "\t<tr><td>1399166</td><td> 609296</td></tr>\n",
       "\t<tr><td>1362814</td><td> 567712</td></tr>\n",
       "</tbody>\n",
       "</table>\n"
      ],
      "text/latex": [
       "\\begin{tabular}{r|ll}\n",
       " UserID & Total\\_Stakes\\\\\n",
       "\\hline\n",
       "\t 1340382 & 1127196\\\\\n",
       "\t 1343220 &  668609\\\\\n",
       "\t 1394515 &  656567\\\\\n",
       "\t 1358163 &  652967\\\\\n",
       "\t 1325682 &  648395\\\\\n",
       "\t 1353019 &  643206\\\\\n",
       "\t 1330571 &  634105\\\\\n",
       "\t 1341464 &  630348\\\\\n",
       "\t 1399166 &  609296\\\\\n",
       "\t 1362814 &  567712\\\\\n",
       "\\end{tabular}\n"
      ],
      "text/markdown": [
       "\n",
       "| UserID | Total_Stakes |\n",
       "|---|---|\n",
       "| 1340382 | 1127196 |\n",
       "| 1343220 |  668609 |\n",
       "| 1394515 |  656567 |\n",
       "| 1358163 |  652967 |\n",
       "| 1325682 |  648395 |\n",
       "| 1353019 |  643206 |\n",
       "| 1330571 |  634105 |\n",
       "| 1341464 |  630348 |\n",
       "| 1399166 |  609296 |\n",
       "| 1362814 |  567712 |\n",
       "\n"
      ],
      "text/plain": [
       "   UserID  Total_Stakes\n",
       "1  1340382 1127196     \n",
       "2  1343220  668609     \n",
       "3  1394515  656567     \n",
       "4  1358163  652967     \n",
       "5  1325682  648395     \n",
       "6  1353019  643206     \n",
       "7  1330571  634105     \n",
       "8  1341464  630348     \n",
       "9  1399166  609296     \n",
       "10 1362814  567712     "
      ]
     },
     "metadata": {},
     "output_type": "display_data"
    }
   ],
   "source": [
    "# Selecting top 10 users with maximum Stakes\n",
    "\n",
    "MaxStakes <- Datamart %>%\n",
    "  group_by(UserID) %>% \n",
    "  summarize(Total_Stakes) %>%\n",
    "  top_n(10, wt=Total_Stakes) %>%\n",
    "  arrange(desc(Total_Stakes))\n",
    "\n",
    "MaxStakes"
   ]
  },
  {
   "cell_type": "code",
   "execution_count": 90,
   "metadata": {},
   "outputs": [
    {
     "name": "stderr",
     "output_type": "stream",
     "text": [
      "`summarise()` ungrouping output (override with `.groups` argument)\n"
     ]
    },
    {
     "data": {
      "text/html": [
       "<table>\n",
       "<thead><tr><th scope=col>UserID</th><th scope=col>Avg_Stakes</th></tr></thead>\n",
       "<tbody>\n",
       "\t<tr><td>1364538</td><td>64600  </td></tr>\n",
       "\t<tr><td>1353740</td><td>62555  </td></tr>\n",
       "\t<tr><td>1391806</td><td>26220  </td></tr>\n",
       "\t<tr><td>1369811</td><td>20830  </td></tr>\n",
       "\t<tr><td>1348602</td><td>18325  </td></tr>\n",
       "\t<tr><td>1384273</td><td>17515  </td></tr>\n",
       "\t<tr><td>1342957</td><td>17491  </td></tr>\n",
       "\t<tr><td>1367295</td><td>15532  </td></tr>\n",
       "\t<tr><td>1336746</td><td>15388  </td></tr>\n",
       "\t<tr><td>1346118</td><td>14918  </td></tr>\n",
       "</tbody>\n",
       "</table>\n"
      ],
      "text/latex": [
       "\\begin{tabular}{r|ll}\n",
       " UserID & Avg\\_Stakes\\\\\n",
       "\\hline\n",
       "\t 1364538 & 64600  \\\\\n",
       "\t 1353740 & 62555  \\\\\n",
       "\t 1391806 & 26220  \\\\\n",
       "\t 1369811 & 20830  \\\\\n",
       "\t 1348602 & 18325  \\\\\n",
       "\t 1384273 & 17515  \\\\\n",
       "\t 1342957 & 17491  \\\\\n",
       "\t 1367295 & 15532  \\\\\n",
       "\t 1336746 & 15388  \\\\\n",
       "\t 1346118 & 14918  \\\\\n",
       "\\end{tabular}\n"
      ],
      "text/markdown": [
       "\n",
       "| UserID | Avg_Stakes |\n",
       "|---|---|\n",
       "| 1364538 | 64600   |\n",
       "| 1353740 | 62555   |\n",
       "| 1391806 | 26220   |\n",
       "| 1369811 | 20830   |\n",
       "| 1348602 | 18325   |\n",
       "| 1384273 | 17515   |\n",
       "| 1342957 | 17491   |\n",
       "| 1367295 | 15532   |\n",
       "| 1336746 | 15388   |\n",
       "| 1346118 | 14918   |\n",
       "\n"
      ],
      "text/plain": [
       "   UserID  Avg_Stakes\n",
       "1  1364538 64600     \n",
       "2  1353740 62555     \n",
       "3  1391806 26220     \n",
       "4  1369811 20830     \n",
       "5  1348602 18325     \n",
       "6  1384273 17515     \n",
       "7  1342957 17491     \n",
       "8  1367295 15532     \n",
       "9  1336746 15388     \n",
       "10 1346118 14918     "
      ]
     },
     "metadata": {},
     "output_type": "display_data"
    }
   ],
   "source": [
    "# Selecting top 10 users with average Stakes\n",
    "\n",
    "Max_Avg_Stakes <- Datamart %>%\n",
    "  group_by(UserID) %>% \n",
    "  summarize(Avg_Stakes) %>%\n",
    "  top_n(10, wt=Avg_Stakes) %>%\n",
    "  arrange(desc(Avg_Stakes))\n",
    "\n",
    "Max_Avg_Stakes"
   ]
  },
  {
   "cell_type": "markdown",
   "metadata": {},
   "source": [
    "By Winnings:"
   ]
  },
  {
   "cell_type": "code",
   "execution_count": 91,
   "metadata": {},
   "outputs": [
    {
     "name": "stderr",
     "output_type": "stream",
     "text": [
      "`summarise()` ungrouping output (override with `.groups` argument)\n"
     ]
    },
    {
     "data": {
      "text/html": [
       "<table>\n",
       "<thead><tr><th scope=col>UserID</th><th scope=col>Total_Winning</th></tr></thead>\n",
       "<tbody>\n",
       "\t<tr><td>1340382</td><td>1093423</td></tr>\n",
       "\t<tr><td>1343220</td><td> 661790</td></tr>\n",
       "\t<tr><td>1394515</td><td> 651707</td></tr>\n",
       "\t<tr><td>1325682</td><td> 650021</td></tr>\n",
       "\t<tr><td>1353019</td><td> 628520</td></tr>\n",
       "\t<tr><td>1341464</td><td> 620557</td></tr>\n",
       "\t<tr><td>1358163</td><td> 619258</td></tr>\n",
       "\t<tr><td>1330571</td><td> 614661</td></tr>\n",
       "\t<tr><td>1399166</td><td> 567083</td></tr>\n",
       "\t<tr><td>1362814</td><td> 547184</td></tr>\n",
       "</tbody>\n",
       "</table>\n"
      ],
      "text/latex": [
       "\\begin{tabular}{r|ll}\n",
       " UserID & Total\\_Winning\\\\\n",
       "\\hline\n",
       "\t 1340382 & 1093423\\\\\n",
       "\t 1343220 &  661790\\\\\n",
       "\t 1394515 &  651707\\\\\n",
       "\t 1325682 &  650021\\\\\n",
       "\t 1353019 &  628520\\\\\n",
       "\t 1341464 &  620557\\\\\n",
       "\t 1358163 &  619258\\\\\n",
       "\t 1330571 &  614661\\\\\n",
       "\t 1399166 &  567083\\\\\n",
       "\t 1362814 &  547184\\\\\n",
       "\\end{tabular}\n"
      ],
      "text/markdown": [
       "\n",
       "| UserID | Total_Winning |\n",
       "|---|---|\n",
       "| 1340382 | 1093423 |\n",
       "| 1343220 |  661790 |\n",
       "| 1394515 |  651707 |\n",
       "| 1325682 |  650021 |\n",
       "| 1353019 |  628520 |\n",
       "| 1341464 |  620557 |\n",
       "| 1358163 |  619258 |\n",
       "| 1330571 |  614661 |\n",
       "| 1399166 |  567083 |\n",
       "| 1362814 |  547184 |\n",
       "\n"
      ],
      "text/plain": [
       "   UserID  Total_Winning\n",
       "1  1340382 1093423      \n",
       "2  1343220  661790      \n",
       "3  1394515  651707      \n",
       "4  1325682  650021      \n",
       "5  1353019  628520      \n",
       "6  1341464  620557      \n",
       "7  1358163  619258      \n",
       "8  1330571  614661      \n",
       "9  1399166  567083      \n",
       "10 1362814  547184      "
      ]
     },
     "metadata": {},
     "output_type": "display_data"
    }
   ],
   "source": [
    "# Selecting top 10 users with maximum Winning\n",
    "\n",
    "MaxWinning <- Datamart %>%\n",
    "  group_by(UserID) %>% \n",
    "  summarize(Total_Winning) %>%\n",
    "  top_n(10, wt=Total_Winning) %>%\n",
    "  arrange(desc(Total_Winning))\n",
    "\n",
    "MaxWinning"
   ]
  },
  {
   "cell_type": "code",
   "execution_count": 92,
   "metadata": {},
   "outputs": [
    {
     "name": "stderr",
     "output_type": "stream",
     "text": [
      "`summarise()` ungrouping output (override with `.groups` argument)\n"
     ]
    },
    {
     "data": {
      "text/html": [
       "<table>\n",
       "<thead><tr><th scope=col>UserID</th><th scope=col>Avg_Winning</th></tr></thead>\n",
       "<tbody>\n",
       "\t<tr><td>1364538</td><td>63100  </td></tr>\n",
       "\t<tr><td>1353740</td><td>62305  </td></tr>\n",
       "\t<tr><td>1391806</td><td>25916  </td></tr>\n",
       "\t<tr><td>1369811</td><td>20914  </td></tr>\n",
       "\t<tr><td>1348602</td><td>17925  </td></tr>\n",
       "\t<tr><td>1342957</td><td>17553  </td></tr>\n",
       "\t<tr><td>1384273</td><td>17113  </td></tr>\n",
       "\t<tr><td>1336746</td><td>15188  </td></tr>\n",
       "\t<tr><td>1346118</td><td>14747  </td></tr>\n",
       "\t<tr><td>1367295</td><td>14632  </td></tr>\n",
       "</tbody>\n",
       "</table>\n"
      ],
      "text/latex": [
       "\\begin{tabular}{r|ll}\n",
       " UserID & Avg\\_Winning\\\\\n",
       "\\hline\n",
       "\t 1364538 & 63100  \\\\\n",
       "\t 1353740 & 62305  \\\\\n",
       "\t 1391806 & 25916  \\\\\n",
       "\t 1369811 & 20914  \\\\\n",
       "\t 1348602 & 17925  \\\\\n",
       "\t 1342957 & 17553  \\\\\n",
       "\t 1384273 & 17113  \\\\\n",
       "\t 1336746 & 15188  \\\\\n",
       "\t 1346118 & 14747  \\\\\n",
       "\t 1367295 & 14632  \\\\\n",
       "\\end{tabular}\n"
      ],
      "text/markdown": [
       "\n",
       "| UserID | Avg_Winning |\n",
       "|---|---|\n",
       "| 1364538 | 63100   |\n",
       "| 1353740 | 62305   |\n",
       "| 1391806 | 25916   |\n",
       "| 1369811 | 20914   |\n",
       "| 1348602 | 17925   |\n",
       "| 1342957 | 17553   |\n",
       "| 1384273 | 17113   |\n",
       "| 1336746 | 15188   |\n",
       "| 1346118 | 14747   |\n",
       "| 1367295 | 14632   |\n",
       "\n"
      ],
      "text/plain": [
       "   UserID  Avg_Winning\n",
       "1  1364538 63100      \n",
       "2  1353740 62305      \n",
       "3  1391806 25916      \n",
       "4  1369811 20914      \n",
       "5  1348602 17925      \n",
       "6  1342957 17553      \n",
       "7  1384273 17113      \n",
       "8  1336746 15188      \n",
       "9  1346118 14747      \n",
       "10 1367295 14632      "
      ]
     },
     "metadata": {},
     "output_type": "display_data"
    }
   ],
   "source": [
    "# Selecting top 10 users with maximum average Winning\n",
    "\n",
    "Max_Avg_Winning <- Datamart %>%\n",
    "  group_by(UserID) %>% \n",
    "  summarize(Avg_Winning) %>%\n",
    "  top_n(10, wt=Avg_Winning) %>%\n",
    "  arrange(desc(Avg_Winning))\n",
    "\n",
    "Max_Avg_Winning "
   ]
  },
  {
   "cell_type": "markdown",
   "metadata": {},
   "source": [
    "By Poker Chips Buys:"
   ]
  },
  {
   "cell_type": "code",
   "execution_count": 93,
   "metadata": {},
   "outputs": [
    {
     "name": "stderr",
     "output_type": "stream",
     "text": [
      "`summarise()` ungrouping output (override with `.groups` argument)\n"
     ]
    },
    {
     "data": {
      "text/html": [
       "<table>\n",
       "<thead><tr><th scope=col>UserID</th><th scope=col>Nbr_PokerChip_Buy_Trans</th></tr></thead>\n",
       "<tbody>\n",
       "\t<tr><td>1372492</td><td>1090   </td></tr>\n",
       "\t<tr><td>1391794</td><td> 832   </td></tr>\n",
       "\t<tr><td>1350419</td><td> 800   </td></tr>\n",
       "\t<tr><td>1362773</td><td> 782   </td></tr>\n",
       "\t<tr><td>1394401</td><td> 722   </td></tr>\n",
       "\t<tr><td>1401481</td><td> 612   </td></tr>\n",
       "\t<tr><td>1344571</td><td> 605   </td></tr>\n",
       "\t<tr><td>1337912</td><td> 574   </td></tr>\n",
       "\t<tr><td>1331834</td><td> 572   </td></tr>\n",
       "\t<tr><td>1360421</td><td> 550   </td></tr>\n",
       "</tbody>\n",
       "</table>\n"
      ],
      "text/latex": [
       "\\begin{tabular}{r|ll}\n",
       " UserID & Nbr\\_PokerChip\\_Buy\\_Trans\\\\\n",
       "\\hline\n",
       "\t 1372492 & 1090   \\\\\n",
       "\t 1391794 &  832   \\\\\n",
       "\t 1350419 &  800   \\\\\n",
       "\t 1362773 &  782   \\\\\n",
       "\t 1394401 &  722   \\\\\n",
       "\t 1401481 &  612   \\\\\n",
       "\t 1344571 &  605   \\\\\n",
       "\t 1337912 &  574   \\\\\n",
       "\t 1331834 &  572   \\\\\n",
       "\t 1360421 &  550   \\\\\n",
       "\\end{tabular}\n"
      ],
      "text/markdown": [
       "\n",
       "| UserID | Nbr_PokerChip_Buy_Trans |\n",
       "|---|---|\n",
       "| 1372492 | 1090    |\n",
       "| 1391794 |  832    |\n",
       "| 1350419 |  800    |\n",
       "| 1362773 |  782    |\n",
       "| 1394401 |  722    |\n",
       "| 1401481 |  612    |\n",
       "| 1344571 |  605    |\n",
       "| 1337912 |  574    |\n",
       "| 1331834 |  572    |\n",
       "| 1360421 |  550    |\n",
       "\n"
      ],
      "text/plain": [
       "   UserID  Nbr_PokerChip_Buy_Trans\n",
       "1  1372492 1090                   \n",
       "2  1391794  832                   \n",
       "3  1350419  800                   \n",
       "4  1362773  782                   \n",
       "5  1394401  722                   \n",
       "6  1401481  612                   \n",
       "7  1344571  605                   \n",
       "8  1337912  574                   \n",
       "9  1331834  572                   \n",
       "10 1360421  550                   "
      ]
     },
     "metadata": {},
     "output_type": "display_data"
    }
   ],
   "source": [
    "# Selecting top 10 users with maximum Poker Chips buy \n",
    "\n",
    "Max_PC_Buy <- Datamart %>%\n",
    "  group_by(UserID) %>% \n",
    "  summarize(Nbr_PokerChip_Buy_Trans) %>%\n",
    "  top_n(10, wt=Nbr_PokerChip_Buy_Trans) %>%\n",
    "  arrange(desc(Nbr_PokerChip_Buy_Trans))\n",
    "\n",
    "Max_PC_Buy"
   ]
  },
  {
   "cell_type": "code",
   "execution_count": 94,
   "metadata": {},
   "outputs": [
    {
     "name": "stderr",
     "output_type": "stream",
     "text": [
      "`summarise()` ungrouping output (override with `.groups` argument)\n"
     ]
    },
    {
     "data": {
      "text/html": [
       "<table>\n",
       "<thead><tr><th scope=col>UserID</th><th scope=col>PokerChip_BuyTransAmt</th></tr></thead>\n",
       "<tbody>\n",
       "\t<tr><td>1337123</td><td>2259812</td></tr>\n",
       "\t<tr><td>1348361</td><td> 666715</td></tr>\n",
       "\t<tr><td>1373039</td><td> 374983</td></tr>\n",
       "\t<tr><td>1391794</td><td> 312955</td></tr>\n",
       "\t<tr><td>1398537</td><td> 305222</td></tr>\n",
       "\t<tr><td>1324742</td><td> 229050</td></tr>\n",
       "\t<tr><td>1363427</td><td> 173986</td></tr>\n",
       "\t<tr><td>1328842</td><td> 155044</td></tr>\n",
       "\t<tr><td>1357506</td><td> 111586</td></tr>\n",
       "\t<tr><td>1343338</td><td> 104340</td></tr>\n",
       "</tbody>\n",
       "</table>\n"
      ],
      "text/latex": [
       "\\begin{tabular}{r|ll}\n",
       " UserID & PokerChip\\_BuyTransAmt\\\\\n",
       "\\hline\n",
       "\t 1337123 & 2259812\\\\\n",
       "\t 1348361 &  666715\\\\\n",
       "\t 1373039 &  374983\\\\\n",
       "\t 1391794 &  312955\\\\\n",
       "\t 1398537 &  305222\\\\\n",
       "\t 1324742 &  229050\\\\\n",
       "\t 1363427 &  173986\\\\\n",
       "\t 1328842 &  155044\\\\\n",
       "\t 1357506 &  111586\\\\\n",
       "\t 1343338 &  104340\\\\\n",
       "\\end{tabular}\n"
      ],
      "text/markdown": [
       "\n",
       "| UserID | PokerChip_BuyTransAmt |\n",
       "|---|---|\n",
       "| 1337123 | 2259812 |\n",
       "| 1348361 |  666715 |\n",
       "| 1373039 |  374983 |\n",
       "| 1391794 |  312955 |\n",
       "| 1398537 |  305222 |\n",
       "| 1324742 |  229050 |\n",
       "| 1363427 |  173986 |\n",
       "| 1328842 |  155044 |\n",
       "| 1357506 |  111586 |\n",
       "| 1343338 |  104340 |\n",
       "\n"
      ],
      "text/plain": [
       "   UserID  PokerChip_BuyTransAmt\n",
       "1  1337123 2259812              \n",
       "2  1348361  666715              \n",
       "3  1373039  374983              \n",
       "4  1391794  312955              \n",
       "5  1398537  305222              \n",
       "6  1324742  229050              \n",
       "7  1363427  173986              \n",
       "8  1328842  155044              \n",
       "9  1357506  111586              \n",
       "10 1343338  104340              "
      ]
     },
     "metadata": {},
     "output_type": "display_data"
    }
   ],
   "source": [
    "# Selecting top 10 users with maximum Poker Chips amount buy \n",
    "\n",
    "Max_PC_Buy_Amount <- Datamart %>%\n",
    "  group_by(UserID) %>% \n",
    "  summarize(PokerChip_BuyTransAmt) %>%\n",
    "  top_n(10, wt=PokerChip_BuyTransAmt) %>%\n",
    "  arrange(desc(PokerChip_BuyTransAmt))\n",
    "\n",
    "Max_PC_Buy_Amount"
   ]
  },
  {
   "cell_type": "markdown",
   "metadata": {},
   "source": [
    "By Poker Chips Sales:"
   ]
  },
  {
   "cell_type": "code",
   "execution_count": 95,
   "metadata": {},
   "outputs": [
    {
     "name": "stderr",
     "output_type": "stream",
     "text": [
      "`summarise()` ungrouping output (override with `.groups` argument)\n"
     ]
    },
    {
     "data": {
      "text/html": [
       "<table>\n",
       "<thead><tr><th scope=col>UserID</th><th scope=col>Nbr_PokerChip_Sell_Trans</th></tr></thead>\n",
       "<tbody>\n",
       "\t<tr><td>1372492</td><td>1878   </td></tr>\n",
       "\t<tr><td>1362773</td><td>1217   </td></tr>\n",
       "\t<tr><td>1337912</td><td>1128   </td></tr>\n",
       "\t<tr><td>1330855</td><td> 936   </td></tr>\n",
       "\t<tr><td>1391794</td><td> 897   </td></tr>\n",
       "\t<tr><td>1350419</td><td> 859   </td></tr>\n",
       "\t<tr><td>1394401</td><td> 857   </td></tr>\n",
       "\t<tr><td>1344571</td><td> 843   </td></tr>\n",
       "\t<tr><td>1398537</td><td> 818   </td></tr>\n",
       "\t<tr><td>1399625</td><td> 757   </td></tr>\n",
       "</tbody>\n",
       "</table>\n"
      ],
      "text/latex": [
       "\\begin{tabular}{r|ll}\n",
       " UserID & Nbr\\_PokerChip\\_Sell\\_Trans\\\\\n",
       "\\hline\n",
       "\t 1372492 & 1878   \\\\\n",
       "\t 1362773 & 1217   \\\\\n",
       "\t 1337912 & 1128   \\\\\n",
       "\t 1330855 &  936   \\\\\n",
       "\t 1391794 &  897   \\\\\n",
       "\t 1350419 &  859   \\\\\n",
       "\t 1394401 &  857   \\\\\n",
       "\t 1344571 &  843   \\\\\n",
       "\t 1398537 &  818   \\\\\n",
       "\t 1399625 &  757   \\\\\n",
       "\\end{tabular}\n"
      ],
      "text/markdown": [
       "\n",
       "| UserID | Nbr_PokerChip_Sell_Trans |\n",
       "|---|---|\n",
       "| 1372492 | 1878    |\n",
       "| 1362773 | 1217    |\n",
       "| 1337912 | 1128    |\n",
       "| 1330855 |  936    |\n",
       "| 1391794 |  897    |\n",
       "| 1350419 |  859    |\n",
       "| 1394401 |  857    |\n",
       "| 1344571 |  843    |\n",
       "| 1398537 |  818    |\n",
       "| 1399625 |  757    |\n",
       "\n"
      ],
      "text/plain": [
       "   UserID  Nbr_PokerChip_Sell_Trans\n",
       "1  1372492 1878                    \n",
       "2  1362773 1217                    \n",
       "3  1337912 1128                    \n",
       "4  1330855  936                    \n",
       "5  1391794  897                    \n",
       "6  1350419  859                    \n",
       "7  1394401  857                    \n",
       "8  1344571  843                    \n",
       "9  1398537  818                    \n",
       "10 1399625  757                    "
      ]
     },
     "metadata": {},
     "output_type": "display_data"
    }
   ],
   "source": [
    "# Selecting top 10 users with maximum Poker Chips sales\n",
    "\n",
    "Max_PC_Sell <- Datamart %>%\n",
    "  group_by(UserID) %>% \n",
    "  summarize(Nbr_PokerChip_Sell_Trans) %>%\n",
    "  top_n(10, wt=Nbr_PokerChip_Sell_Trans) %>%\n",
    "  arrange(desc(Nbr_PokerChip_Sell_Trans))\n",
    "\n",
    "Max_PC_Sell"
   ]
  },
  {
   "cell_type": "code",
   "execution_count": 96,
   "metadata": {},
   "outputs": [
    {
     "name": "stderr",
     "output_type": "stream",
     "text": [
      "`summarise()` ungrouping output (override with `.groups` argument)\n"
     ]
    },
    {
     "data": {
      "text/html": [
       "<table>\n",
       "<thead><tr><th scope=col>UserID</th><th scope=col>PokerChip_SellTransAmt</th></tr></thead>\n",
       "<tbody>\n",
       "\t<tr><td>1337123</td><td>2246246</td></tr>\n",
       "\t<tr><td>1348361</td><td> 633409</td></tr>\n",
       "\t<tr><td>1373039</td><td> 367788</td></tr>\n",
       "\t<tr><td>1391794</td><td> 301076</td></tr>\n",
       "\t<tr><td>1398537</td><td> 297722</td></tr>\n",
       "\t<tr><td>1324742</td><td> 224973</td></tr>\n",
       "\t<tr><td>1363427</td><td> 170084</td></tr>\n",
       "\t<tr><td>1328842</td><td> 150041</td></tr>\n",
       "\t<tr><td>1343338</td><td> 124490</td></tr>\n",
       "\t<tr><td>1357506</td><td> 111257</td></tr>\n",
       "</tbody>\n",
       "</table>\n"
      ],
      "text/latex": [
       "\\begin{tabular}{r|ll}\n",
       " UserID & PokerChip\\_SellTransAmt\\\\\n",
       "\\hline\n",
       "\t 1337123 & 2246246\\\\\n",
       "\t 1348361 &  633409\\\\\n",
       "\t 1373039 &  367788\\\\\n",
       "\t 1391794 &  301076\\\\\n",
       "\t 1398537 &  297722\\\\\n",
       "\t 1324742 &  224973\\\\\n",
       "\t 1363427 &  170084\\\\\n",
       "\t 1328842 &  150041\\\\\n",
       "\t 1343338 &  124490\\\\\n",
       "\t 1357506 &  111257\\\\\n",
       "\\end{tabular}\n"
      ],
      "text/markdown": [
       "\n",
       "| UserID | PokerChip_SellTransAmt |\n",
       "|---|---|\n",
       "| 1337123 | 2246246 |\n",
       "| 1348361 |  633409 |\n",
       "| 1373039 |  367788 |\n",
       "| 1391794 |  301076 |\n",
       "| 1398537 |  297722 |\n",
       "| 1324742 |  224973 |\n",
       "| 1363427 |  170084 |\n",
       "| 1328842 |  150041 |\n",
       "| 1343338 |  124490 |\n",
       "| 1357506 |  111257 |\n",
       "\n"
      ],
      "text/plain": [
       "   UserID  PokerChip_SellTransAmt\n",
       "1  1337123 2246246               \n",
       "2  1348361  633409               \n",
       "3  1373039  367788               \n",
       "4  1391794  301076               \n",
       "5  1398537  297722               \n",
       "6  1324742  224973               \n",
       "7  1363427  170084               \n",
       "8  1328842  150041               \n",
       "9  1343338  124490               \n",
       "10 1357506  111257               "
      ]
     },
     "metadata": {},
     "output_type": "display_data"
    }
   ],
   "source": [
    "# Selecting top 10 users with maximum Poker Chips sales\n",
    "\n",
    "Max_PC_Sell_Amount <- Datamart %>%\n",
    "  group_by(UserID) %>% \n",
    "  summarize(PokerChip_SellTransAmt) %>%\n",
    "  top_n(10, wt=PokerChip_SellTransAmt) %>%\n",
    "  arrange(desc(PokerChip_SellTransAmt))\n",
    "\n",
    "Max_PC_Sell_Amount"
   ]
  },
  {
   "cell_type": "markdown",
   "metadata": {},
   "source": [
    "By Transaction:"
   ]
  },
  {
   "cell_type": "code",
   "execution_count": 97,
   "metadata": {},
   "outputs": [
    {
     "name": "stderr",
     "output_type": "stream",
     "text": [
      "`summarise()` ungrouping output (override with `.groups` argument)\n"
     ]
    },
    {
     "data": {
      "text/html": [
       "<table>\n",
       "<thead><tr><th scope=col>UserID</th><th scope=col>Nbr_of_Trans</th></tr></thead>\n",
       "<tbody>\n",
       "\t<tr><td>1348152</td><td>548    </td></tr>\n",
       "\t<tr><td>1342807</td><td>497    </td></tr>\n",
       "\t<tr><td>1334406</td><td>480    </td></tr>\n",
       "\t<tr><td>1399581</td><td>467    </td></tr>\n",
       "\t<tr><td>1367214</td><td>460    </td></tr>\n",
       "\t<tr><td>1357929</td><td>445    </td></tr>\n",
       "\t<tr><td>1368475</td><td>445    </td></tr>\n",
       "\t<tr><td>1357151</td><td>442    </td></tr>\n",
       "\t<tr><td>1330813</td><td>433    </td></tr>\n",
       "\t<tr><td>1384193</td><td>432    </td></tr>\n",
       "</tbody>\n",
       "</table>\n"
      ],
      "text/latex": [
       "\\begin{tabular}{r|ll}\n",
       " UserID & Nbr\\_of\\_Trans\\\\\n",
       "\\hline\n",
       "\t 1348152 & 548    \\\\\n",
       "\t 1342807 & 497    \\\\\n",
       "\t 1334406 & 480    \\\\\n",
       "\t 1399581 & 467    \\\\\n",
       "\t 1367214 & 460    \\\\\n",
       "\t 1357929 & 445    \\\\\n",
       "\t 1368475 & 445    \\\\\n",
       "\t 1357151 & 442    \\\\\n",
       "\t 1330813 & 433    \\\\\n",
       "\t 1384193 & 432    \\\\\n",
       "\\end{tabular}\n"
      ],
      "text/markdown": [
       "\n",
       "| UserID | Nbr_of_Trans |\n",
       "|---|---|\n",
       "| 1348152 | 548     |\n",
       "| 1342807 | 497     |\n",
       "| 1334406 | 480     |\n",
       "| 1399581 | 467     |\n",
       "| 1367214 | 460     |\n",
       "| 1357929 | 445     |\n",
       "| 1368475 | 445     |\n",
       "| 1357151 | 442     |\n",
       "| 1330813 | 433     |\n",
       "| 1384193 | 432     |\n",
       "\n"
      ],
      "text/plain": [
       "   UserID  Nbr_of_Trans\n",
       "1  1348152 548         \n",
       "2  1342807 497         \n",
       "3  1334406 480         \n",
       "4  1399581 467         \n",
       "5  1367214 460         \n",
       "6  1357929 445         \n",
       "7  1368475 445         \n",
       "8  1357151 442         \n",
       "9  1330813 433         \n",
       "10 1384193 432         "
      ]
     },
     "metadata": {},
     "output_type": "display_data"
    }
   ],
   "source": [
    "# Selecting top 10 users with maximum Number of Transactions\n",
    "\n",
    "Max_Transactions <- Datamart %>%\n",
    "  group_by(UserID) %>% \n",
    "  summarize(Nbr_of_Trans) %>%\n",
    "  top_n(10, wt=Nbr_of_Trans) %>%\n",
    "  arrange(desc(Nbr_of_Trans))\n",
    "\n",
    "Max_Transactions"
   ]
  },
  {
   "cell_type": "markdown",
   "metadata": {},
   "source": [
    "#### Analysis of top Customers"
   ]
  },
  {
   "cell_type": "code",
   "execution_count": 98,
   "metadata": {},
   "outputs": [
    {
     "name": "stderr",
     "output_type": "stream",
     "text": [
      "`summarise()` ungrouping output (override with `.groups` argument)\n",
      "`summarise()` ungrouping output (override with `.groups` argument)\n",
      "`summarise()` ungrouping output (override with `.groups` argument)\n",
      "`summarise()` ungrouping output (override with `.groups` argument)\n",
      "`summarise()` ungrouping output (override with `.groups` argument)\n",
      "`summarise()` ungrouping output (override with `.groups` argument)\n"
     ]
    }
   ],
   "source": [
    "# filtering top customers for each segment\n",
    "MaxBets <- Datamart %>% group_by(UserID) %>% summarize(Total_Bets) %>% top_n(10, wt=Total_Bets) %>% arrange(desc(Total_Bets))\n",
    "MaxStakes <- Datamart %>% group_by(UserID) %>% summarize(Total_Stakes) %>% top_n(10, wt=Total_Stakes) %>% arrange(desc(Total_Stakes))\n",
    "MaxWinning <- Datamart %>% group_by(UserID) %>% summarize(Total_Winning) %>% top_n(10, wt=Total_Winning) %>% arrange(desc(Total_Winning))\n",
    "Max_PC_Buy <- Datamart %>% group_by(UserID) %>% summarize(Nbr_PokerChip_Buy_Trans) %>% top_n(10, wt=Nbr_PokerChip_Buy_Trans) %>% arrange(desc(Nbr_PokerChip_Buy_Trans))\n",
    "Max_PC_Sell <- Datamart %>% group_by(UserID) %>%  summarize(Nbr_PokerChip_Sell_Trans) %>% top_n(10, wt=Nbr_PokerChip_Sell_Trans) %>% arrange(desc(Nbr_PokerChip_Sell_Trans))\n",
    "Max_Transactions <- Datamart %>% group_by(UserID) %>% summarize(Nbr_of_Trans) %>%top_n(10, wt=Nbr_of_Trans) %>% arrange(desc(Nbr_of_Trans))\n"
   ]
  },
  {
   "cell_type": "code",
   "execution_count": 99,
   "metadata": {},
   "outputs": [],
   "source": [
    "# Fetching a list of all unique users that belong to any of the top customers category\n",
    "TopUsers_overall <- Datamart %>% filter(UserID %in% c(MaxBets$UserID, MaxStakes$UserID, MaxWinning$UserID, Max_PC_Buy$UserID, Max_PC_Sell$UserID, Max_Transactions$UserID))"
   ]
  },
  {
   "cell_type": "code",
   "execution_count": 100,
   "metadata": {
    "scrolled": true
   },
   "outputs": [
    {
     "data": {
      "text/html": [
       "<table>\n",
       "<thead><tr><th scope=col>UserID</th><th scope=col>RegDate</th><th scope=col>FirstPay</th><th scope=col>FirstAct</th><th scope=col>FirstSp</th><th scope=col>FirstCa</th><th scope=col>FirstGa</th><th scope=col>FirstPo</th><th scope=col>Gender</th><th scope=col>Language</th><th scope=col>...</th><th scope=col>FOFirstActiveDate</th><th scope=col>FOLastActiveDate</th><th scope=col>FOTotalDaysActive</th><th scope=col>LATotalStakes</th><th scope=col>LATotalWinnings</th><th scope=col>LATotalBets</th><th scope=col>LAFirstActiveDate</th><th scope=col>LALastActiveDate</th><th scope=col>LATotalDaysActive</th><th scope=col>Age_Group</th></tr></thead>\n",
       "<tbody>\n",
       "\t<tr><td>1325682    </td><td>2005-02-01 </td><td>2005-02-01 </td><td>2005-02-01 </td><td>2005-02-01 </td><td>2005-02-02 </td><td>NA         </td><td>NA         </td><td>Male       </td><td>Greek      </td><td>...        </td><td>2005-02-01 </td><td>2005-03-17 </td><td> 15        </td><td>   187.0000</td><td>     0.0000</td><td>  13       </td><td>2005-02-02 </td><td>2005-03-10 </td><td>  6        </td><td> 3         </td></tr>\n",
       "\t<tr><td>1330571    </td><td>2005-02-03 </td><td>2005-02-03 </td><td>2005-02-03 </td><td>2005-02-03 </td><td>2005-02-03 </td><td>NA         </td><td>NA         </td><td>Male       </td><td>German     </td><td>...        </td><td>2005-02-03 </td><td>2005-09-18 </td><td> 14        </td><td>     1.4500</td><td>     2.6800</td><td>   1       </td><td>2005-02-13 </td><td>2005-02-13 </td><td>  1        </td><td> 2         </td></tr>\n",
       "\t<tr><td>1330813    </td><td>2005-02-03 </td><td>2005-02-08 </td><td>2005-02-08 </td><td>2005-02-08 </td><td>NA         </td><td>2005-02-08 </td><td>NA         </td><td>Male       </td><td>Catalan    </td><td>...        </td><td>2005-02-08 </td><td>2005-09-30 </td><td>209        </td><td>148375.1365</td><td>135610.1700</td><td>3267       </td><td>2005-02-13 </td><td>2005-09-30 </td><td>198        </td><td> 4         </td></tr>\n",
       "\t<tr><td>1330855    </td><td>2005-02-03 </td><td>2005-03-09 </td><td>2005-02-03 </td><td>NA         </td><td>NA         </td><td>NA         </td><td>2005-02-03 </td><td>Male       </td><td>Danish     </td><td>...        </td><td>NA         </td><td>NA         </td><td> NA        </td><td>         NA</td><td>         NA</td><td>  NA       </td><td>NA         </td><td>NA         </td><td> NA        </td><td>NA         </td></tr>\n",
       "\t<tr><td>1331834    </td><td>2005-02-04 </td><td>2005-02-04 </td><td>2005-02-04 </td><td>2005-02-11 </td><td>2005-02-04 </td><td>2005-07-08 </td><td>2005-02-04 </td><td>Male       </td><td>Danish     </td><td>...        </td><td>2005-02-11 </td><td>2005-08-07 </td><td>  9        </td><td>         NA</td><td>         NA</td><td>  NA       </td><td>NA         </td><td>NA         </td><td> NA        </td><td> 3         </td></tr>\n",
       "\t<tr><td>1332238    </td><td>2005-02-04 </td><td>2005-04-16 </td><td>2005-04-16 </td><td>2005-05-24 </td><td>2005-04-16 </td><td>2005-07-01 </td><td>2005-07-08 </td><td>Male       </td><td>German     </td><td>...        </td><td>2005-05-24 </td><td>2005-09-30 </td><td> 17        </td><td>    35.0500</td><td>    40.0000</td><td>  12       </td><td>2005-06-15 </td><td>2005-09-11 </td><td>  4        </td><td> 2         </td></tr>\n",
       "\t<tr><td>1333785    </td><td>2005-02-05 </td><td>2005-02-05 </td><td>2005-02-05 </td><td>2005-02-05 </td><td>2005-02-05 </td><td>2005-02-08 </td><td>NA         </td><td>Male       </td><td>German     </td><td>...        </td><td>2005-02-05 </td><td>2005-08-23 </td><td>  8        </td><td>         NA</td><td>         NA</td><td>  NA       </td><td>NA         </td><td>NA         </td><td> NA        </td><td> 3         </td></tr>\n",
       "\t<tr><td>1334406    </td><td>2005-02-05 </td><td>2005-02-16 </td><td>2005-02-16 </td><td>2005-02-16 </td><td>2005-02-17 </td><td>2005-02-16 </td><td>NA         </td><td>Male       </td><td>Italian    </td><td>...        </td><td>2005-02-16 </td><td>2005-09-30 </td><td>214        </td><td> 15953.7879</td><td> 15599.0700</td><td> 802       </td><td>2005-02-16 </td><td>2005-09-30 </td><td>171        </td><td> 3         </td></tr>\n",
       "\t<tr><td>1337912    </td><td>2005-02-06 </td><td>2005-02-06 </td><td>2005-02-06 </td><td>2005-02-23 </td><td>2005-02-08 </td><td>2005-02-24 </td><td>2005-02-06 </td><td>Male       </td><td>Danish     </td><td>...        </td><td>2005-02-23 </td><td>2005-04-09 </td><td>  6        </td><td>         NA</td><td>         NA</td><td>  NA       </td><td>NA         </td><td>NA         </td><td> NA        </td><td> 3         </td></tr>\n",
       "\t<tr><td>1340382    </td><td>2005-02-07 </td><td>2005-02-07 </td><td>2005-02-07 </td><td>2005-02-11 </td><td>2005-02-07 </td><td>NA         </td><td>NA         </td><td>Male       </td><td>German     </td><td>...        </td><td>2005-02-11 </td><td>2005-02-13 </td><td>  2        </td><td>         NA</td><td>         NA</td><td>  NA       </td><td>NA         </td><td>NA         </td><td> NA        </td><td> 4         </td></tr>\n",
       "\t<tr><td>1341464    </td><td>2005-02-07 </td><td>2005-02-07 </td><td>2005-02-07 </td><td>2005-02-07 </td><td>2005-02-08 </td><td>NA         </td><td>NA         </td><td>Male       </td><td>German     </td><td>...        </td><td>2005-02-08 </td><td>2005-09-17 </td><td> 58        </td><td>  6351.7400</td><td>  6424.3600</td><td> 281       </td><td>2005-02-07 </td><td>2005-09-16 </td><td> 46        </td><td> 3         </td></tr>\n",
       "\t<tr><td>1342512    </td><td>2005-02-08 </td><td>2005-02-08 </td><td>2005-02-08 </td><td>2005-02-08 </td><td>2005-03-18 </td><td>2005-05-04 </td><td>2005-03-24 </td><td>Male       </td><td>Danish     </td><td>...        </td><td>2005-02-08 </td><td>2005-09-30 </td><td>135        </td><td>   705.3760</td><td>   482.6014</td><td>  83       </td><td>2005-02-20 </td><td>2005-09-09 </td><td> 37        </td><td> 4         </td></tr>\n",
       "\t<tr><td>1342807    </td><td>2005-02-08 </td><td>2005-02-12 </td><td>2005-02-13 </td><td>2005-02-13 </td><td>NA         </td><td>NA         </td><td>NA         </td><td>Male       </td><td>German     </td><td>...        </td><td>2005-02-13 </td><td>2005-09-30 </td><td>310        </td><td>  4043.7500</td><td>  3747.3600</td><td>1032       </td><td>2005-02-15 </td><td>2005-09-30 </td><td>154        </td><td> 3         </td></tr>\n",
       "\t<tr><td>1343220    </td><td>2005-02-08 </td><td>2005-02-08 </td><td>2005-02-08 </td><td>2005-03-01 </td><td>2005-02-08 </td><td>NA         </td><td>NA         </td><td>Male       </td><td>German     </td><td>...        </td><td>2005-03-01 </td><td>2005-04-30 </td><td>  2        </td><td>         NA</td><td>         NA</td><td>  NA       </td><td>NA         </td><td>NA         </td><td> NA        </td><td> 5         </td></tr>\n",
       "\t<tr><td>1344571    </td><td>2005-02-09 </td><td>2005-02-09 </td><td>2005-02-09 </td><td>2005-02-09 </td><td>2005-02-13 </td><td>2005-02-10 </td><td>2005-02-15 </td><td>Male       </td><td>German     </td><td>...        </td><td>2005-02-09 </td><td>2005-09-29 </td><td> 72        </td><td>  5868.5999</td><td>  5294.7100</td><td> 396       </td><td>2005-02-09 </td><td>2005-09-24 </td><td> 40        </td><td> 4         </td></tr>\n",
       "\t<tr><td>1348152    </td><td>2005-02-10 </td><td>2005-02-21 </td><td>2005-02-15 </td><td>2005-02-15 </td><td>2005-02-15 </td><td>2005-02-15 </td><td>NA         </td><td>Male       </td><td>Italian    </td><td>...        </td><td>2005-02-22 </td><td>2005-09-30 </td><td>146        </td><td>   812.4300</td><td>   556.3200</td><td>1354       </td><td>2005-02-21 </td><td>2005-09-30 </td><td>112        </td><td> 4         </td></tr>\n",
       "\t<tr><td>1350419    </td><td>2005-02-11 </td><td>2005-02-16 </td><td>2005-02-16 </td><td>2005-02-16 </td><td>2005-03-04 </td><td>2005-05-14 </td><td>2005-05-11 </td><td>Male       </td><td>French     </td><td>...        </td><td>2005-02-17 </td><td>2005-09-27 </td><td> 61        </td><td>  1787.1000</td><td>  1892.2000</td><td> 267       </td><td>2005-02-16 </td><td>2005-09-23 </td><td> 58        </td><td> 2         </td></tr>\n",
       "\t<tr><td>1353019    </td><td>2005-02-12 </td><td>2005-02-12 </td><td>2005-02-12 </td><td>2005-02-12 </td><td>2005-02-12 </td><td>NA         </td><td>NA         </td><td>Male       </td><td>German     </td><td>...        </td><td>2005-02-13 </td><td>2005-09-18 </td><td> 19        </td><td> 44660.6255</td><td> 44765.9200</td><td> 592       </td><td>2005-02-12 </td><td>2005-09-19 </td><td> 34        </td><td> 6         </td></tr>\n",
       "\t<tr><td>1357078    </td><td>2005-02-14 </td><td>2005-02-14 </td><td>2005-02-14 </td><td>NA         </td><td>2005-02-14 </td><td>NA         </td><td>NA         </td><td>Male       </td><td>German     </td><td>...        </td><td>NA         </td><td>NA         </td><td> NA        </td><td>         NA</td><td>         NA</td><td>  NA       </td><td>NA         </td><td>NA         </td><td> NA        </td><td>NA         </td></tr>\n",
       "\t<tr><td>1357151    </td><td>2005-02-14 </td><td>2005-02-21 </td><td>2005-02-21 </td><td>2005-02-21 </td><td>2005-05-09 </td><td>2005-02-21 </td><td>NA         </td><td>Male       </td><td>Polish     </td><td>...        </td><td>2005-02-21 </td><td>2005-09-30 </td><td>183        </td><td> 14443.6308</td><td> 13866.0993</td><td>5339       </td><td>2005-02-21 </td><td>2005-09-30 </td><td>180        </td><td> 3         </td></tr>\n",
       "\t<tr><td>1357929    </td><td>2005-02-14 </td><td>2005-02-14 </td><td>2005-02-14 </td><td>2005-02-14 </td><td>NA         </td><td>NA         </td><td>NA         </td><td>Male       </td><td>German     </td><td>...        </td><td>2005-02-14 </td><td>2005-09-30 </td><td>228        </td><td>  3769.8000</td><td>  3703.4700</td><td>4118       </td><td>2005-02-17 </td><td>2005-09-29 </td><td>215        </td><td> 5         </td></tr>\n",
       "\t<tr><td>1358163    </td><td>2005-02-14 </td><td>2005-02-14 </td><td>2005-02-14 </td><td>2005-02-18 </td><td>2005-02-14 </td><td>2005-02-15 </td><td>NA         </td><td>Male       </td><td>German     </td><td>...        </td><td>2005-02-18 </td><td>2005-03-24 </td><td>  7        </td><td>         NA</td><td>         NA</td><td>  NA       </td><td>NA         </td><td>NA         </td><td> NA        </td><td> 3         </td></tr>\n",
       "\t<tr><td>1360421    </td><td>2005-02-15 </td><td>2005-02-15 </td><td>2005-02-15 </td><td>2005-03-01 </td><td>2005-09-07 </td><td>NA         </td><td>2005-02-15 </td><td>Male       </td><td>Danish     </td><td>...        </td><td>2005-03-01 </td><td>2005-09-30 </td><td> 69        </td><td>    66.9600</td><td>    10.9278</td><td>  13       </td><td>2005-03-01 </td><td>2005-06-08 </td><td>  6        </td><td> 2         </td></tr>\n",
       "\t<tr><td>1362773    </td><td>2005-02-16 </td><td>2005-02-16 </td><td>2005-02-16 </td><td>2005-04-13 </td><td>2005-04-30 </td><td>2005-04-17 </td><td>2005-02-16 </td><td>Male       </td><td>Danish     </td><td>...        </td><td>2005-04-13 </td><td>2005-09-30 </td><td> 33        </td><td>    27.6498</td><td>     0.0000</td><td>   2       </td><td>2005-04-17 </td><td>2005-07-06 </td><td>  2        </td><td> 2         </td></tr>\n",
       "\t<tr><td>1362814    </td><td>2005-02-16 </td><td>2005-02-17 </td><td>2005-02-17 </td><td>NA         </td><td>2005-02-17 </td><td>NA         </td><td>NA         </td><td>Female     </td><td>German     </td><td>...        </td><td>NA         </td><td>NA         </td><td> NA        </td><td>         NA</td><td>         NA</td><td>  NA       </td><td>NA         </td><td>NA         </td><td> NA        </td><td>NA         </td></tr>\n",
       "\t<tr><td>1367214    </td><td>2005-02-18 </td><td>2005-02-18 </td><td>2005-02-18 </td><td>2005-02-18 </td><td>NA         </td><td>NA         </td><td>NA         </td><td>Male       </td><td>German     </td><td>...        </td><td>2005-02-18 </td><td>2005-09-30 </td><td>203        </td><td> 13926.5300</td><td> 13284.6100</td><td>3878       </td><td>2005-02-18 </td><td>2005-09-30 </td><td>230        </td><td> 2         </td></tr>\n",
       "\t<tr><td>1368475    </td><td>2005-02-18 </td><td>2005-02-18 </td><td>2005-02-18 </td><td>2005-02-18 </td><td>2005-06-28 </td><td>2005-05-04 </td><td>NA         </td><td>Male       </td><td>English    </td><td>...        </td><td>2005-02-18 </td><td>2005-09-30 </td><td>154        </td><td> 37983.3781</td><td> 36230.6500</td><td>3524       </td><td>2005-02-18 </td><td>2005-09-30 </td><td>208        </td><td> 3         </td></tr>\n",
       "\t<tr><td>1372492    </td><td>2005-02-19 </td><td>2005-02-19 </td><td>2005-02-19 </td><td>2005-02-19 </td><td>NA         </td><td>NA         </td><td>2005-02-19 </td><td>Male       </td><td>Danish     </td><td>...        </td><td>2005-02-20 </td><td>2005-09-03 </td><td> 14        </td><td>   136.3945</td><td>   240.5266</td><td>  11       </td><td>2005-02-19 </td><td>2005-03-10 </td><td>  7        </td><td> 2         </td></tr>\n",
       "\t<tr><td>1375090    </td><td>2005-02-20 </td><td>2005-02-20 </td><td>2005-02-20 </td><td>2005-02-27 </td><td>2005-02-27 </td><td>2005-02-20 </td><td>NA         </td><td>Female     </td><td>Norwegian  </td><td>...        </td><td>2005-02-27 </td><td>2005-09-30 </td><td> 68        </td><td>         NA</td><td>         NA</td><td>  NA       </td><td>NA         </td><td>NA         </td><td> NA        </td><td> 5         </td></tr>\n",
       "\t<tr><td>1377081    </td><td>2005-02-21 </td><td>2005-02-21 </td><td>2005-02-21 </td><td>2005-02-21 </td><td>2005-02-21 </td><td>2005-02-21 </td><td>2005-02-21 </td><td>Male       </td><td>Italian    </td><td>...        </td><td>2005-02-21 </td><td>2005-03-06 </td><td>  3        </td><td>     3.0000</td><td>     0.0000</td><td>   1       </td><td>2005-02-22 </td><td>2005-02-22 </td><td>  1        </td><td> 3         </td></tr>\n",
       "\t<tr><td>1379004    </td><td>2005-02-21 </td><td>2005-02-27 </td><td>2005-02-27 </td><td>2005-02-27 </td><td>2005-02-27 </td><td>2005-02-27 </td><td>NA         </td><td>Male       </td><td>Greek      </td><td>...        </td><td>2005-02-27 </td><td>2005-09-24 </td><td> 23        </td><td>         NA</td><td>         NA</td><td>  NA       </td><td>NA         </td><td>NA         </td><td> NA        </td><td> 2         </td></tr>\n",
       "\t<tr><td>1384193    </td><td>2005-02-23 </td><td>2005-02-23 </td><td>2005-02-23 </td><td>2005-02-23 </td><td>2005-02-24 </td><td>2005-04-05 </td><td>NA         </td><td>Male       </td><td>English    </td><td>...        </td><td>2005-02-23 </td><td>2005-09-30 </td><td>146        </td><td>  5764.2600</td><td>  5596.9600</td><td>2143       </td><td>2005-03-06 </td><td>2005-09-30 </td><td>135        </td><td> 3         </td></tr>\n",
       "\t<tr><td>1387195    </td><td>2005-02-23 </td><td>2005-02-23 </td><td>2005-02-23 </td><td>2005-02-23 </td><td>2005-05-25 </td><td>NA         </td><td>NA         </td><td>Male       </td><td>French     </td><td>...        </td><td>2005-02-23 </td><td>2005-08-30 </td><td> 93        </td><td>     2.0000</td><td>     0.0000</td><td>   1       </td><td>2005-04-29 </td><td>2005-04-29 </td><td>  1        </td><td> 4         </td></tr>\n",
       "\t<tr><td>1391794    </td><td>2005-02-25 </td><td>2005-02-26 </td><td>2005-02-26 </td><td>2005-06-12 </td><td>NA         </td><td>NA         </td><td>2005-02-26 </td><td>Male       </td><td>Danish     </td><td>...        </td><td>2005-06-12 </td><td>2005-07-16 </td><td>  3        </td><td>         NA</td><td>         NA</td><td>  NA       </td><td>NA         </td><td>NA         </td><td> NA        </td><td> 2         </td></tr>\n",
       "\t<tr><td>1394401    </td><td>2005-02-25 </td><td>2005-02-25 </td><td>2005-02-25 </td><td>2005-06-15 </td><td>NA         </td><td>NA         </td><td>2005-02-25 </td><td>Male       </td><td>Danish     </td><td>...        </td><td>2005-06-19 </td><td>2005-08-21 </td><td> 15        </td><td>   399.2020</td><td>   373.9183</td><td>  24       </td><td>2005-06-15 </td><td>2005-07-16 </td><td>  8        </td><td> 2         </td></tr>\n",
       "\t<tr><td>1394515    </td><td>2005-02-25 </td><td>2005-02-25 </td><td>2005-02-25 </td><td>2005-02-25 </td><td>2005-02-26 </td><td>2005-05-01 </td><td>NA         </td><td>Female     </td><td>Italian    </td><td>...        </td><td>2005-02-26 </td><td>2005-05-01 </td><td> 11        </td><td> 15372.2600</td><td> 14846.8800</td><td> 971       </td><td>2005-02-25 </td><td>2005-09-17 </td><td> 83        </td><td> 4         </td></tr>\n",
       "\t<tr><td>1398537    </td><td>2005-02-26 </td><td>2005-02-27 </td><td>2005-02-27 </td><td>2005-02-27 </td><td>2005-02-27 </td><td>NA         </td><td>2005-02-27 </td><td>Male       </td><td>Danish     </td><td>...        </td><td>2005-02-27 </td><td>2005-09-01 </td><td>128        </td><td>  8975.5700</td><td>  6286.3300</td><td> 221       </td><td>2005-02-27 </td><td>2005-08-27 </td><td> 72        </td><td> 3         </td></tr>\n",
       "\t<tr><td>1399166    </td><td>2005-02-27 </td><td>2005-02-27 </td><td>2005-02-27 </td><td>2005-03-09 </td><td>2005-02-27 </td><td>NA         </td><td>NA         </td><td>Male       </td><td>German     </td><td>...        </td><td>2005-03-09 </td><td>2005-09-03 </td><td> 62        </td><td>         NA</td><td>         NA</td><td>  NA       </td><td>NA         </td><td>NA         </td><td> NA        </td><td> 4         </td></tr>\n",
       "\t<tr><td>1399581    </td><td>2005-02-27 </td><td>2005-02-27 </td><td>2005-02-27 </td><td>2005-02-27 </td><td>NA         </td><td>2005-05-31 </td><td>NA         </td><td>Male       </td><td>Spanish    </td><td>...        </td><td>2005-02-27 </td><td>2005-09-30 </td><td>149        </td><td> 33590.9800</td><td> 31639.6600</td><td>2988       </td><td>2005-03-01 </td><td>2005-09-30 </td><td>233        </td><td> 3         </td></tr>\n",
       "\t<tr><td>1399625    </td><td>2005-02-27 </td><td>2005-02-27 </td><td>2005-02-27 </td><td>2005-04-24 </td><td>2005-09-01 </td><td>NA         </td><td>2005-02-27 </td><td>Female     </td><td>German     </td><td>...        </td><td>2005-04-24 </td><td>2005-04-27 </td><td>  1        </td><td>         NA</td><td>         NA</td><td>  NA       </td><td>NA         </td><td>NA         </td><td> NA        </td><td> 5         </td></tr>\n",
       "\t<tr><td>1401481    </td><td>2005-02-27 </td><td>2005-03-01 </td><td>2005-03-01 </td><td>2005-03-05 </td><td>NA         </td><td>NA         </td><td>2005-03-01 </td><td>Male       </td><td>Polish     </td><td>...        </td><td>2005-03-05 </td><td>2005-09-26 </td><td> 61        </td><td>  3471.8810</td><td>  3232.9245</td><td> 238       </td><td>2005-03-28 </td><td>2005-09-29 </td><td> 92        </td><td> 5         </td></tr>\n",
       "</tbody>\n",
       "</table>\n"
      ],
      "text/latex": [
       "\\begin{tabular}{r|llllllllllllllllllllllllllllllllllllllllllllll}\n",
       " UserID & RegDate & FirstPay & FirstAct & FirstSp & FirstCa & FirstGa & FirstPo & Gender & Language & ... & FOFirstActiveDate & FOLastActiveDate & FOTotalDaysActive & LATotalStakes & LATotalWinnings & LATotalBets & LAFirstActiveDate & LALastActiveDate & LATotalDaysActive & Age\\_Group\\\\\n",
       "\\hline\n",
       "\t 1325682     & 2005-02-01  & 2005-02-01  & 2005-02-01  & 2005-02-01  & 2005-02-02  & NA          & NA          & Male        & Greek       & ...         & 2005-02-01  & 2005-03-17  &  15         &    187.0000 &      0.0000 &   13        & 2005-02-02  & 2005-03-10  &   6         &  3         \\\\\n",
       "\t 1330571     & 2005-02-03  & 2005-02-03  & 2005-02-03  & 2005-02-03  & 2005-02-03  & NA          & NA          & Male        & German      & ...         & 2005-02-03  & 2005-09-18  &  14         &      1.4500 &      2.6800 &    1        & 2005-02-13  & 2005-02-13  &   1         &  2         \\\\\n",
       "\t 1330813     & 2005-02-03  & 2005-02-08  & 2005-02-08  & 2005-02-08  & NA          & 2005-02-08  & NA          & Male        & Catalan     & ...         & 2005-02-08  & 2005-09-30  & 209         & 148375.1365 & 135610.1700 & 3267        & 2005-02-13  & 2005-09-30  & 198         &  4         \\\\\n",
       "\t 1330855     & 2005-02-03  & 2005-03-09  & 2005-02-03  & NA          & NA          & NA          & 2005-02-03  & Male        & Danish      & ...         & NA          & NA          &  NA         &          NA &          NA &   NA        & NA          & NA          &  NA         & NA         \\\\\n",
       "\t 1331834     & 2005-02-04  & 2005-02-04  & 2005-02-04  & 2005-02-11  & 2005-02-04  & 2005-07-08  & 2005-02-04  & Male        & Danish      & ...         & 2005-02-11  & 2005-08-07  &   9         &          NA &          NA &   NA        & NA          & NA          &  NA         &  3         \\\\\n",
       "\t 1332238     & 2005-02-04  & 2005-04-16  & 2005-04-16  & 2005-05-24  & 2005-04-16  & 2005-07-01  & 2005-07-08  & Male        & German      & ...         & 2005-05-24  & 2005-09-30  &  17         &     35.0500 &     40.0000 &   12        & 2005-06-15  & 2005-09-11  &   4         &  2         \\\\\n",
       "\t 1333785     & 2005-02-05  & 2005-02-05  & 2005-02-05  & 2005-02-05  & 2005-02-05  & 2005-02-08  & NA          & Male        & German      & ...         & 2005-02-05  & 2005-08-23  &   8         &          NA &          NA &   NA        & NA          & NA          &  NA         &  3         \\\\\n",
       "\t 1334406     & 2005-02-05  & 2005-02-16  & 2005-02-16  & 2005-02-16  & 2005-02-17  & 2005-02-16  & NA          & Male        & Italian     & ...         & 2005-02-16  & 2005-09-30  & 214         &  15953.7879 &  15599.0700 &  802        & 2005-02-16  & 2005-09-30  & 171         &  3         \\\\\n",
       "\t 1337912     & 2005-02-06  & 2005-02-06  & 2005-02-06  & 2005-02-23  & 2005-02-08  & 2005-02-24  & 2005-02-06  & Male        & Danish      & ...         & 2005-02-23  & 2005-04-09  &   6         &          NA &          NA &   NA        & NA          & NA          &  NA         &  3         \\\\\n",
       "\t 1340382     & 2005-02-07  & 2005-02-07  & 2005-02-07  & 2005-02-11  & 2005-02-07  & NA          & NA          & Male        & German      & ...         & 2005-02-11  & 2005-02-13  &   2         &          NA &          NA &   NA        & NA          & NA          &  NA         &  4         \\\\\n",
       "\t 1341464     & 2005-02-07  & 2005-02-07  & 2005-02-07  & 2005-02-07  & 2005-02-08  & NA          & NA          & Male        & German      & ...         & 2005-02-08  & 2005-09-17  &  58         &   6351.7400 &   6424.3600 &  281        & 2005-02-07  & 2005-09-16  &  46         &  3         \\\\\n",
       "\t 1342512     & 2005-02-08  & 2005-02-08  & 2005-02-08  & 2005-02-08  & 2005-03-18  & 2005-05-04  & 2005-03-24  & Male        & Danish      & ...         & 2005-02-08  & 2005-09-30  & 135         &    705.3760 &    482.6014 &   83        & 2005-02-20  & 2005-09-09  &  37         &  4         \\\\\n",
       "\t 1342807     & 2005-02-08  & 2005-02-12  & 2005-02-13  & 2005-02-13  & NA          & NA          & NA          & Male        & German      & ...         & 2005-02-13  & 2005-09-30  & 310         &   4043.7500 &   3747.3600 & 1032        & 2005-02-15  & 2005-09-30  & 154         &  3         \\\\\n",
       "\t 1343220     & 2005-02-08  & 2005-02-08  & 2005-02-08  & 2005-03-01  & 2005-02-08  & NA          & NA          & Male        & German      & ...         & 2005-03-01  & 2005-04-30  &   2         &          NA &          NA &   NA        & NA          & NA          &  NA         &  5         \\\\\n",
       "\t 1344571     & 2005-02-09  & 2005-02-09  & 2005-02-09  & 2005-02-09  & 2005-02-13  & 2005-02-10  & 2005-02-15  & Male        & German      & ...         & 2005-02-09  & 2005-09-29  &  72         &   5868.5999 &   5294.7100 &  396        & 2005-02-09  & 2005-09-24  &  40         &  4         \\\\\n",
       "\t 1348152     & 2005-02-10  & 2005-02-21  & 2005-02-15  & 2005-02-15  & 2005-02-15  & 2005-02-15  & NA          & Male        & Italian     & ...         & 2005-02-22  & 2005-09-30  & 146         &    812.4300 &    556.3200 & 1354        & 2005-02-21  & 2005-09-30  & 112         &  4         \\\\\n",
       "\t 1350419     & 2005-02-11  & 2005-02-16  & 2005-02-16  & 2005-02-16  & 2005-03-04  & 2005-05-14  & 2005-05-11  & Male        & French      & ...         & 2005-02-17  & 2005-09-27  &  61         &   1787.1000 &   1892.2000 &  267        & 2005-02-16  & 2005-09-23  &  58         &  2         \\\\\n",
       "\t 1353019     & 2005-02-12  & 2005-02-12  & 2005-02-12  & 2005-02-12  & 2005-02-12  & NA          & NA          & Male        & German      & ...         & 2005-02-13  & 2005-09-18  &  19         &  44660.6255 &  44765.9200 &  592        & 2005-02-12  & 2005-09-19  &  34         &  6         \\\\\n",
       "\t 1357078     & 2005-02-14  & 2005-02-14  & 2005-02-14  & NA          & 2005-02-14  & NA          & NA          & Male        & German      & ...         & NA          & NA          &  NA         &          NA &          NA &   NA        & NA          & NA          &  NA         & NA         \\\\\n",
       "\t 1357151     & 2005-02-14  & 2005-02-21  & 2005-02-21  & 2005-02-21  & 2005-05-09  & 2005-02-21  & NA          & Male        & Polish      & ...         & 2005-02-21  & 2005-09-30  & 183         &  14443.6308 &  13866.0993 & 5339        & 2005-02-21  & 2005-09-30  & 180         &  3         \\\\\n",
       "\t 1357929     & 2005-02-14  & 2005-02-14  & 2005-02-14  & 2005-02-14  & NA          & NA          & NA          & Male        & German      & ...         & 2005-02-14  & 2005-09-30  & 228         &   3769.8000 &   3703.4700 & 4118        & 2005-02-17  & 2005-09-29  & 215         &  5         \\\\\n",
       "\t 1358163     & 2005-02-14  & 2005-02-14  & 2005-02-14  & 2005-02-18  & 2005-02-14  & 2005-02-15  & NA          & Male        & German      & ...         & 2005-02-18  & 2005-03-24  &   7         &          NA &          NA &   NA        & NA          & NA          &  NA         &  3         \\\\\n",
       "\t 1360421     & 2005-02-15  & 2005-02-15  & 2005-02-15  & 2005-03-01  & 2005-09-07  & NA          & 2005-02-15  & Male        & Danish      & ...         & 2005-03-01  & 2005-09-30  &  69         &     66.9600 &     10.9278 &   13        & 2005-03-01  & 2005-06-08  &   6         &  2         \\\\\n",
       "\t 1362773     & 2005-02-16  & 2005-02-16  & 2005-02-16  & 2005-04-13  & 2005-04-30  & 2005-04-17  & 2005-02-16  & Male        & Danish      & ...         & 2005-04-13  & 2005-09-30  &  33         &     27.6498 &      0.0000 &    2        & 2005-04-17  & 2005-07-06  &   2         &  2         \\\\\n",
       "\t 1362814     & 2005-02-16  & 2005-02-17  & 2005-02-17  & NA          & 2005-02-17  & NA          & NA          & Female      & German      & ...         & NA          & NA          &  NA         &          NA &          NA &   NA        & NA          & NA          &  NA         & NA         \\\\\n",
       "\t 1367214     & 2005-02-18  & 2005-02-18  & 2005-02-18  & 2005-02-18  & NA          & NA          & NA          & Male        & German      & ...         & 2005-02-18  & 2005-09-30  & 203         &  13926.5300 &  13284.6100 & 3878        & 2005-02-18  & 2005-09-30  & 230         &  2         \\\\\n",
       "\t 1368475     & 2005-02-18  & 2005-02-18  & 2005-02-18  & 2005-02-18  & 2005-06-28  & 2005-05-04  & NA          & Male        & English     & ...         & 2005-02-18  & 2005-09-30  & 154         &  37983.3781 &  36230.6500 & 3524        & 2005-02-18  & 2005-09-30  & 208         &  3         \\\\\n",
       "\t 1372492     & 2005-02-19  & 2005-02-19  & 2005-02-19  & 2005-02-19  & NA          & NA          & 2005-02-19  & Male        & Danish      & ...         & 2005-02-20  & 2005-09-03  &  14         &    136.3945 &    240.5266 &   11        & 2005-02-19  & 2005-03-10  &   7         &  2         \\\\\n",
       "\t 1375090     & 2005-02-20  & 2005-02-20  & 2005-02-20  & 2005-02-27  & 2005-02-27  & 2005-02-20  & NA          & Female      & Norwegian   & ...         & 2005-02-27  & 2005-09-30  &  68         &          NA &          NA &   NA        & NA          & NA          &  NA         &  5         \\\\\n",
       "\t 1377081     & 2005-02-21  & 2005-02-21  & 2005-02-21  & 2005-02-21  & 2005-02-21  & 2005-02-21  & 2005-02-21  & Male        & Italian     & ...         & 2005-02-21  & 2005-03-06  &   3         &      3.0000 &      0.0000 &    1        & 2005-02-22  & 2005-02-22  &   1         &  3         \\\\\n",
       "\t 1379004     & 2005-02-21  & 2005-02-27  & 2005-02-27  & 2005-02-27  & 2005-02-27  & 2005-02-27  & NA          & Male        & Greek       & ...         & 2005-02-27  & 2005-09-24  &  23         &          NA &          NA &   NA        & NA          & NA          &  NA         &  2         \\\\\n",
       "\t 1384193     & 2005-02-23  & 2005-02-23  & 2005-02-23  & 2005-02-23  & 2005-02-24  & 2005-04-05  & NA          & Male        & English     & ...         & 2005-02-23  & 2005-09-30  & 146         &   5764.2600 &   5596.9600 & 2143        & 2005-03-06  & 2005-09-30  & 135         &  3         \\\\\n",
       "\t 1387195     & 2005-02-23  & 2005-02-23  & 2005-02-23  & 2005-02-23  & 2005-05-25  & NA          & NA          & Male        & French      & ...         & 2005-02-23  & 2005-08-30  &  93         &      2.0000 &      0.0000 &    1        & 2005-04-29  & 2005-04-29  &   1         &  4         \\\\\n",
       "\t 1391794     & 2005-02-25  & 2005-02-26  & 2005-02-26  & 2005-06-12  & NA          & NA          & 2005-02-26  & Male        & Danish      & ...         & 2005-06-12  & 2005-07-16  &   3         &          NA &          NA &   NA        & NA          & NA          &  NA         &  2         \\\\\n",
       "\t 1394401     & 2005-02-25  & 2005-02-25  & 2005-02-25  & 2005-06-15  & NA          & NA          & 2005-02-25  & Male        & Danish      & ...         & 2005-06-19  & 2005-08-21  &  15         &    399.2020 &    373.9183 &   24        & 2005-06-15  & 2005-07-16  &   8         &  2         \\\\\n",
       "\t 1394515     & 2005-02-25  & 2005-02-25  & 2005-02-25  & 2005-02-25  & 2005-02-26  & 2005-05-01  & NA          & Female      & Italian     & ...         & 2005-02-26  & 2005-05-01  &  11         &  15372.2600 &  14846.8800 &  971        & 2005-02-25  & 2005-09-17  &  83         &  4         \\\\\n",
       "\t 1398537     & 2005-02-26  & 2005-02-27  & 2005-02-27  & 2005-02-27  & 2005-02-27  & NA          & 2005-02-27  & Male        & Danish      & ...         & 2005-02-27  & 2005-09-01  & 128         &   8975.5700 &   6286.3300 &  221        & 2005-02-27  & 2005-08-27  &  72         &  3         \\\\\n",
       "\t 1399166     & 2005-02-27  & 2005-02-27  & 2005-02-27  & 2005-03-09  & 2005-02-27  & NA          & NA          & Male        & German      & ...         & 2005-03-09  & 2005-09-03  &  62         &          NA &          NA &   NA        & NA          & NA          &  NA         &  4         \\\\\n",
       "\t 1399581     & 2005-02-27  & 2005-02-27  & 2005-02-27  & 2005-02-27  & NA          & 2005-05-31  & NA          & Male        & Spanish     & ...         & 2005-02-27  & 2005-09-30  & 149         &  33590.9800 &  31639.6600 & 2988        & 2005-03-01  & 2005-09-30  & 233         &  3         \\\\\n",
       "\t 1399625     & 2005-02-27  & 2005-02-27  & 2005-02-27  & 2005-04-24  & 2005-09-01  & NA          & 2005-02-27  & Female      & German      & ...         & 2005-04-24  & 2005-04-27  &   1         &          NA &          NA &   NA        & NA          & NA          &  NA         &  5         \\\\\n",
       "\t 1401481     & 2005-02-27  & 2005-03-01  & 2005-03-01  & 2005-03-05  & NA          & NA          & 2005-03-01  & Male        & Polish      & ...         & 2005-03-05  & 2005-09-26  &  61         &   3471.8810 &   3232.9245 &  238        & 2005-03-28  & 2005-09-29  &  92         &  5         \\\\\n",
       "\\end{tabular}\n"
      ],
      "text/markdown": [
       "\n",
       "| UserID | RegDate | FirstPay | FirstAct | FirstSp | FirstCa | FirstGa | FirstPo | Gender | Language | ... | FOFirstActiveDate | FOLastActiveDate | FOTotalDaysActive | LATotalStakes | LATotalWinnings | LATotalBets | LAFirstActiveDate | LALastActiveDate | LATotalDaysActive | Age_Group |\n",
       "|---|---|---|---|---|---|---|---|---|---|---|---|---|---|---|---|---|---|---|---|---|\n",
       "| 1325682     | 2005-02-01  | 2005-02-01  | 2005-02-01  | 2005-02-01  | 2005-02-02  | NA          | NA          | Male        | Greek       | ...         | 2005-02-01  | 2005-03-17  |  15         |    187.0000 |      0.0000 |   13        | 2005-02-02  | 2005-03-10  |   6         |  3          |\n",
       "| 1330571     | 2005-02-03  | 2005-02-03  | 2005-02-03  | 2005-02-03  | 2005-02-03  | NA          | NA          | Male        | German      | ...         | 2005-02-03  | 2005-09-18  |  14         |      1.4500 |      2.6800 |    1        | 2005-02-13  | 2005-02-13  |   1         |  2          |\n",
       "| 1330813     | 2005-02-03  | 2005-02-08  | 2005-02-08  | 2005-02-08  | NA          | 2005-02-08  | NA          | Male        | Catalan     | ...         | 2005-02-08  | 2005-09-30  | 209         | 148375.1365 | 135610.1700 | 3267        | 2005-02-13  | 2005-09-30  | 198         |  4          |\n",
       "| 1330855     | 2005-02-03  | 2005-03-09  | 2005-02-03  | NA          | NA          | NA          | 2005-02-03  | Male        | Danish      | ...         | NA          | NA          |  NA         |          NA |          NA |   NA        | NA          | NA          |  NA         | NA          |\n",
       "| 1331834     | 2005-02-04  | 2005-02-04  | 2005-02-04  | 2005-02-11  | 2005-02-04  | 2005-07-08  | 2005-02-04  | Male        | Danish      | ...         | 2005-02-11  | 2005-08-07  |   9         |          NA |          NA |   NA        | NA          | NA          |  NA         |  3          |\n",
       "| 1332238     | 2005-02-04  | 2005-04-16  | 2005-04-16  | 2005-05-24  | 2005-04-16  | 2005-07-01  | 2005-07-08  | Male        | German      | ...         | 2005-05-24  | 2005-09-30  |  17         |     35.0500 |     40.0000 |   12        | 2005-06-15  | 2005-09-11  |   4         |  2          |\n",
       "| 1333785     | 2005-02-05  | 2005-02-05  | 2005-02-05  | 2005-02-05  | 2005-02-05  | 2005-02-08  | NA          | Male        | German      | ...         | 2005-02-05  | 2005-08-23  |   8         |          NA |          NA |   NA        | NA          | NA          |  NA         |  3          |\n",
       "| 1334406     | 2005-02-05  | 2005-02-16  | 2005-02-16  | 2005-02-16  | 2005-02-17  | 2005-02-16  | NA          | Male        | Italian     | ...         | 2005-02-16  | 2005-09-30  | 214         |  15953.7879 |  15599.0700 |  802        | 2005-02-16  | 2005-09-30  | 171         |  3          |\n",
       "| 1337912     | 2005-02-06  | 2005-02-06  | 2005-02-06  | 2005-02-23  | 2005-02-08  | 2005-02-24  | 2005-02-06  | Male        | Danish      | ...         | 2005-02-23  | 2005-04-09  |   6         |          NA |          NA |   NA        | NA          | NA          |  NA         |  3          |\n",
       "| 1340382     | 2005-02-07  | 2005-02-07  | 2005-02-07  | 2005-02-11  | 2005-02-07  | NA          | NA          | Male        | German      | ...         | 2005-02-11  | 2005-02-13  |   2         |          NA |          NA |   NA        | NA          | NA          |  NA         |  4          |\n",
       "| 1341464     | 2005-02-07  | 2005-02-07  | 2005-02-07  | 2005-02-07  | 2005-02-08  | NA          | NA          | Male        | German      | ...         | 2005-02-08  | 2005-09-17  |  58         |   6351.7400 |   6424.3600 |  281        | 2005-02-07  | 2005-09-16  |  46         |  3          |\n",
       "| 1342512     | 2005-02-08  | 2005-02-08  | 2005-02-08  | 2005-02-08  | 2005-03-18  | 2005-05-04  | 2005-03-24  | Male        | Danish      | ...         | 2005-02-08  | 2005-09-30  | 135         |    705.3760 |    482.6014 |   83        | 2005-02-20  | 2005-09-09  |  37         |  4          |\n",
       "| 1342807     | 2005-02-08  | 2005-02-12  | 2005-02-13  | 2005-02-13  | NA          | NA          | NA          | Male        | German      | ...         | 2005-02-13  | 2005-09-30  | 310         |   4043.7500 |   3747.3600 | 1032        | 2005-02-15  | 2005-09-30  | 154         |  3          |\n",
       "| 1343220     | 2005-02-08  | 2005-02-08  | 2005-02-08  | 2005-03-01  | 2005-02-08  | NA          | NA          | Male        | German      | ...         | 2005-03-01  | 2005-04-30  |   2         |          NA |          NA |   NA        | NA          | NA          |  NA         |  5          |\n",
       "| 1344571     | 2005-02-09  | 2005-02-09  | 2005-02-09  | 2005-02-09  | 2005-02-13  | 2005-02-10  | 2005-02-15  | Male        | German      | ...         | 2005-02-09  | 2005-09-29  |  72         |   5868.5999 |   5294.7100 |  396        | 2005-02-09  | 2005-09-24  |  40         |  4          |\n",
       "| 1348152     | 2005-02-10  | 2005-02-21  | 2005-02-15  | 2005-02-15  | 2005-02-15  | 2005-02-15  | NA          | Male        | Italian     | ...         | 2005-02-22  | 2005-09-30  | 146         |    812.4300 |    556.3200 | 1354        | 2005-02-21  | 2005-09-30  | 112         |  4          |\n",
       "| 1350419     | 2005-02-11  | 2005-02-16  | 2005-02-16  | 2005-02-16  | 2005-03-04  | 2005-05-14  | 2005-05-11  | Male        | French      | ...         | 2005-02-17  | 2005-09-27  |  61         |   1787.1000 |   1892.2000 |  267        | 2005-02-16  | 2005-09-23  |  58         |  2          |\n",
       "| 1353019     | 2005-02-12  | 2005-02-12  | 2005-02-12  | 2005-02-12  | 2005-02-12  | NA          | NA          | Male        | German      | ...         | 2005-02-13  | 2005-09-18  |  19         |  44660.6255 |  44765.9200 |  592        | 2005-02-12  | 2005-09-19  |  34         |  6          |\n",
       "| 1357078     | 2005-02-14  | 2005-02-14  | 2005-02-14  | NA          | 2005-02-14  | NA          | NA          | Male        | German      | ...         | NA          | NA          |  NA         |          NA |          NA |   NA        | NA          | NA          |  NA         | NA          |\n",
       "| 1357151     | 2005-02-14  | 2005-02-21  | 2005-02-21  | 2005-02-21  | 2005-05-09  | 2005-02-21  | NA          | Male        | Polish      | ...         | 2005-02-21  | 2005-09-30  | 183         |  14443.6308 |  13866.0993 | 5339        | 2005-02-21  | 2005-09-30  | 180         |  3          |\n",
       "| 1357929     | 2005-02-14  | 2005-02-14  | 2005-02-14  | 2005-02-14  | NA          | NA          | NA          | Male        | German      | ...         | 2005-02-14  | 2005-09-30  | 228         |   3769.8000 |   3703.4700 | 4118        | 2005-02-17  | 2005-09-29  | 215         |  5          |\n",
       "| 1358163     | 2005-02-14  | 2005-02-14  | 2005-02-14  | 2005-02-18  | 2005-02-14  | 2005-02-15  | NA          | Male        | German      | ...         | 2005-02-18  | 2005-03-24  |   7         |          NA |          NA |   NA        | NA          | NA          |  NA         |  3          |\n",
       "| 1360421     | 2005-02-15  | 2005-02-15  | 2005-02-15  | 2005-03-01  | 2005-09-07  | NA          | 2005-02-15  | Male        | Danish      | ...         | 2005-03-01  | 2005-09-30  |  69         |     66.9600 |     10.9278 |   13        | 2005-03-01  | 2005-06-08  |   6         |  2          |\n",
       "| 1362773     | 2005-02-16  | 2005-02-16  | 2005-02-16  | 2005-04-13  | 2005-04-30  | 2005-04-17  | 2005-02-16  | Male        | Danish      | ...         | 2005-04-13  | 2005-09-30  |  33         |     27.6498 |      0.0000 |    2        | 2005-04-17  | 2005-07-06  |   2         |  2          |\n",
       "| 1362814     | 2005-02-16  | 2005-02-17  | 2005-02-17  | NA          | 2005-02-17  | NA          | NA          | Female      | German      | ...         | NA          | NA          |  NA         |          NA |          NA |   NA        | NA          | NA          |  NA         | NA          |\n",
       "| 1367214     | 2005-02-18  | 2005-02-18  | 2005-02-18  | 2005-02-18  | NA          | NA          | NA          | Male        | German      | ...         | 2005-02-18  | 2005-09-30  | 203         |  13926.5300 |  13284.6100 | 3878        | 2005-02-18  | 2005-09-30  | 230         |  2          |\n",
       "| 1368475     | 2005-02-18  | 2005-02-18  | 2005-02-18  | 2005-02-18  | 2005-06-28  | 2005-05-04  | NA          | Male        | English     | ...         | 2005-02-18  | 2005-09-30  | 154         |  37983.3781 |  36230.6500 | 3524        | 2005-02-18  | 2005-09-30  | 208         |  3          |\n",
       "| 1372492     | 2005-02-19  | 2005-02-19  | 2005-02-19  | 2005-02-19  | NA          | NA          | 2005-02-19  | Male        | Danish      | ...         | 2005-02-20  | 2005-09-03  |  14         |    136.3945 |    240.5266 |   11        | 2005-02-19  | 2005-03-10  |   7         |  2          |\n",
       "| 1375090     | 2005-02-20  | 2005-02-20  | 2005-02-20  | 2005-02-27  | 2005-02-27  | 2005-02-20  | NA          | Female      | Norwegian   | ...         | 2005-02-27  | 2005-09-30  |  68         |          NA |          NA |   NA        | NA          | NA          |  NA         |  5          |\n",
       "| 1377081     | 2005-02-21  | 2005-02-21  | 2005-02-21  | 2005-02-21  | 2005-02-21  | 2005-02-21  | 2005-02-21  | Male        | Italian     | ...         | 2005-02-21  | 2005-03-06  |   3         |      3.0000 |      0.0000 |    1        | 2005-02-22  | 2005-02-22  |   1         |  3          |\n",
       "| 1379004     | 2005-02-21  | 2005-02-27  | 2005-02-27  | 2005-02-27  | 2005-02-27  | 2005-02-27  | NA          | Male        | Greek       | ...         | 2005-02-27  | 2005-09-24  |  23         |          NA |          NA |   NA        | NA          | NA          |  NA         |  2          |\n",
       "| 1384193     | 2005-02-23  | 2005-02-23  | 2005-02-23  | 2005-02-23  | 2005-02-24  | 2005-04-05  | NA          | Male        | English     | ...         | 2005-02-23  | 2005-09-30  | 146         |   5764.2600 |   5596.9600 | 2143        | 2005-03-06  | 2005-09-30  | 135         |  3          |\n",
       "| 1387195     | 2005-02-23  | 2005-02-23  | 2005-02-23  | 2005-02-23  | 2005-05-25  | NA          | NA          | Male        | French      | ...         | 2005-02-23  | 2005-08-30  |  93         |      2.0000 |      0.0000 |    1        | 2005-04-29  | 2005-04-29  |   1         |  4          |\n",
       "| 1391794     | 2005-02-25  | 2005-02-26  | 2005-02-26  | 2005-06-12  | NA          | NA          | 2005-02-26  | Male        | Danish      | ...         | 2005-06-12  | 2005-07-16  |   3         |          NA |          NA |   NA        | NA          | NA          |  NA         |  2          |\n",
       "| 1394401     | 2005-02-25  | 2005-02-25  | 2005-02-25  | 2005-06-15  | NA          | NA          | 2005-02-25  | Male        | Danish      | ...         | 2005-06-19  | 2005-08-21  |  15         |    399.2020 |    373.9183 |   24        | 2005-06-15  | 2005-07-16  |   8         |  2          |\n",
       "| 1394515     | 2005-02-25  | 2005-02-25  | 2005-02-25  | 2005-02-25  | 2005-02-26  | 2005-05-01  | NA          | Female      | Italian     | ...         | 2005-02-26  | 2005-05-01  |  11         |  15372.2600 |  14846.8800 |  971        | 2005-02-25  | 2005-09-17  |  83         |  4          |\n",
       "| 1398537     | 2005-02-26  | 2005-02-27  | 2005-02-27  | 2005-02-27  | 2005-02-27  | NA          | 2005-02-27  | Male        | Danish      | ...         | 2005-02-27  | 2005-09-01  | 128         |   8975.5700 |   6286.3300 |  221        | 2005-02-27  | 2005-08-27  |  72         |  3          |\n",
       "| 1399166     | 2005-02-27  | 2005-02-27  | 2005-02-27  | 2005-03-09  | 2005-02-27  | NA          | NA          | Male        | German      | ...         | 2005-03-09  | 2005-09-03  |  62         |          NA |          NA |   NA        | NA          | NA          |  NA         |  4          |\n",
       "| 1399581     | 2005-02-27  | 2005-02-27  | 2005-02-27  | 2005-02-27  | NA          | 2005-05-31  | NA          | Male        | Spanish     | ...         | 2005-02-27  | 2005-09-30  | 149         |  33590.9800 |  31639.6600 | 2988        | 2005-03-01  | 2005-09-30  | 233         |  3          |\n",
       "| 1399625     | 2005-02-27  | 2005-02-27  | 2005-02-27  | 2005-04-24  | 2005-09-01  | NA          | 2005-02-27  | Female      | German      | ...         | 2005-04-24  | 2005-04-27  |   1         |          NA |          NA |   NA        | NA          | NA          |  NA         |  5          |\n",
       "| 1401481     | 2005-02-27  | 2005-03-01  | 2005-03-01  | 2005-03-05  | NA          | NA          | 2005-03-01  | Male        | Polish      | ...         | 2005-03-05  | 2005-09-26  |  61         |   3471.8810 |   3232.9245 |  238        | 2005-03-28  | 2005-09-29  |  92         |  5          |\n",
       "\n"
      ],
      "text/plain": [
       "   UserID  RegDate    FirstPay   FirstAct   FirstSp    FirstCa    FirstGa   \n",
       "1  1325682 2005-02-01 2005-02-01 2005-02-01 2005-02-01 2005-02-02 <NA>      \n",
       "2  1330571 2005-02-03 2005-02-03 2005-02-03 2005-02-03 2005-02-03 <NA>      \n",
       "3  1330813 2005-02-03 2005-02-08 2005-02-08 2005-02-08 <NA>       2005-02-08\n",
       "4  1330855 2005-02-03 2005-03-09 2005-02-03 <NA>       <NA>       <NA>      \n",
       "5  1331834 2005-02-04 2005-02-04 2005-02-04 2005-02-11 2005-02-04 2005-07-08\n",
       "6  1332238 2005-02-04 2005-04-16 2005-04-16 2005-05-24 2005-04-16 2005-07-01\n",
       "7  1333785 2005-02-05 2005-02-05 2005-02-05 2005-02-05 2005-02-05 2005-02-08\n",
       "8  1334406 2005-02-05 2005-02-16 2005-02-16 2005-02-16 2005-02-17 2005-02-16\n",
       "9  1337912 2005-02-06 2005-02-06 2005-02-06 2005-02-23 2005-02-08 2005-02-24\n",
       "10 1340382 2005-02-07 2005-02-07 2005-02-07 2005-02-11 2005-02-07 <NA>      \n",
       "11 1341464 2005-02-07 2005-02-07 2005-02-07 2005-02-07 2005-02-08 <NA>      \n",
       "12 1342512 2005-02-08 2005-02-08 2005-02-08 2005-02-08 2005-03-18 2005-05-04\n",
       "13 1342807 2005-02-08 2005-02-12 2005-02-13 2005-02-13 <NA>       <NA>      \n",
       "14 1343220 2005-02-08 2005-02-08 2005-02-08 2005-03-01 2005-02-08 <NA>      \n",
       "15 1344571 2005-02-09 2005-02-09 2005-02-09 2005-02-09 2005-02-13 2005-02-10\n",
       "16 1348152 2005-02-10 2005-02-21 2005-02-15 2005-02-15 2005-02-15 2005-02-15\n",
       "17 1350419 2005-02-11 2005-02-16 2005-02-16 2005-02-16 2005-03-04 2005-05-14\n",
       "18 1353019 2005-02-12 2005-02-12 2005-02-12 2005-02-12 2005-02-12 <NA>      \n",
       "19 1357078 2005-02-14 2005-02-14 2005-02-14 <NA>       2005-02-14 <NA>      \n",
       "20 1357151 2005-02-14 2005-02-21 2005-02-21 2005-02-21 2005-05-09 2005-02-21\n",
       "21 1357929 2005-02-14 2005-02-14 2005-02-14 2005-02-14 <NA>       <NA>      \n",
       "22 1358163 2005-02-14 2005-02-14 2005-02-14 2005-02-18 2005-02-14 2005-02-15\n",
       "23 1360421 2005-02-15 2005-02-15 2005-02-15 2005-03-01 2005-09-07 <NA>      \n",
       "24 1362773 2005-02-16 2005-02-16 2005-02-16 2005-04-13 2005-04-30 2005-04-17\n",
       "25 1362814 2005-02-16 2005-02-17 2005-02-17 <NA>       2005-02-17 <NA>      \n",
       "26 1367214 2005-02-18 2005-02-18 2005-02-18 2005-02-18 <NA>       <NA>      \n",
       "27 1368475 2005-02-18 2005-02-18 2005-02-18 2005-02-18 2005-06-28 2005-05-04\n",
       "28 1372492 2005-02-19 2005-02-19 2005-02-19 2005-02-19 <NA>       <NA>      \n",
       "29 1375090 2005-02-20 2005-02-20 2005-02-20 2005-02-27 2005-02-27 2005-02-20\n",
       "30 1377081 2005-02-21 2005-02-21 2005-02-21 2005-02-21 2005-02-21 2005-02-21\n",
       "31 1379004 2005-02-21 2005-02-27 2005-02-27 2005-02-27 2005-02-27 2005-02-27\n",
       "32 1384193 2005-02-23 2005-02-23 2005-02-23 2005-02-23 2005-02-24 2005-04-05\n",
       "33 1387195 2005-02-23 2005-02-23 2005-02-23 2005-02-23 2005-05-25 <NA>      \n",
       "34 1391794 2005-02-25 2005-02-26 2005-02-26 2005-06-12 <NA>       <NA>      \n",
       "35 1394401 2005-02-25 2005-02-25 2005-02-25 2005-06-15 <NA>       <NA>      \n",
       "36 1394515 2005-02-25 2005-02-25 2005-02-25 2005-02-25 2005-02-26 2005-05-01\n",
       "37 1398537 2005-02-26 2005-02-27 2005-02-27 2005-02-27 2005-02-27 <NA>      \n",
       "38 1399166 2005-02-27 2005-02-27 2005-02-27 2005-03-09 2005-02-27 <NA>      \n",
       "39 1399581 2005-02-27 2005-02-27 2005-02-27 2005-02-27 <NA>       2005-05-31\n",
       "40 1399625 2005-02-27 2005-02-27 2005-02-27 2005-04-24 2005-09-01 <NA>      \n",
       "41 1401481 2005-02-27 2005-03-01 2005-03-01 2005-03-05 <NA>       <NA>      \n",
       "   FirstPo    Gender Language  ... FOFirstActiveDate FOLastActiveDate\n",
       "1  <NA>       Male   Greek     ... 2005-02-01        2005-03-17      \n",
       "2  <NA>       Male   German    ... 2005-02-03        2005-09-18      \n",
       "3  <NA>       Male   Catalan   ... 2005-02-08        2005-09-30      \n",
       "4  2005-02-03 Male   Danish    ... <NA>              <NA>            \n",
       "5  2005-02-04 Male   Danish    ... 2005-02-11        2005-08-07      \n",
       "6  2005-07-08 Male   German    ... 2005-05-24        2005-09-30      \n",
       "7  <NA>       Male   German    ... 2005-02-05        2005-08-23      \n",
       "8  <NA>       Male   Italian   ... 2005-02-16        2005-09-30      \n",
       "9  2005-02-06 Male   Danish    ... 2005-02-23        2005-04-09      \n",
       "10 <NA>       Male   German    ... 2005-02-11        2005-02-13      \n",
       "11 <NA>       Male   German    ... 2005-02-08        2005-09-17      \n",
       "12 2005-03-24 Male   Danish    ... 2005-02-08        2005-09-30      \n",
       "13 <NA>       Male   German    ... 2005-02-13        2005-09-30      \n",
       "14 <NA>       Male   German    ... 2005-03-01        2005-04-30      \n",
       "15 2005-02-15 Male   German    ... 2005-02-09        2005-09-29      \n",
       "16 <NA>       Male   Italian   ... 2005-02-22        2005-09-30      \n",
       "17 2005-05-11 Male   French    ... 2005-02-17        2005-09-27      \n",
       "18 <NA>       Male   German    ... 2005-02-13        2005-09-18      \n",
       "19 <NA>       Male   German    ... <NA>              <NA>            \n",
       "20 <NA>       Male   Polish    ... 2005-02-21        2005-09-30      \n",
       "21 <NA>       Male   German    ... 2005-02-14        2005-09-30      \n",
       "22 <NA>       Male   German    ... 2005-02-18        2005-03-24      \n",
       "23 2005-02-15 Male   Danish    ... 2005-03-01        2005-09-30      \n",
       "24 2005-02-16 Male   Danish    ... 2005-04-13        2005-09-30      \n",
       "25 <NA>       Female German    ... <NA>              <NA>            \n",
       "26 <NA>       Male   German    ... 2005-02-18        2005-09-30      \n",
       "27 <NA>       Male   English   ... 2005-02-18        2005-09-30      \n",
       "28 2005-02-19 Male   Danish    ... 2005-02-20        2005-09-03      \n",
       "29 <NA>       Female Norwegian ... 2005-02-27        2005-09-30      \n",
       "30 2005-02-21 Male   Italian   ... 2005-02-21        2005-03-06      \n",
       "31 <NA>       Male   Greek     ... 2005-02-27        2005-09-24      \n",
       "32 <NA>       Male   English   ... 2005-02-23        2005-09-30      \n",
       "33 <NA>       Male   French    ... 2005-02-23        2005-08-30      \n",
       "34 2005-02-26 Male   Danish    ... 2005-06-12        2005-07-16      \n",
       "35 2005-02-25 Male   Danish    ... 2005-06-19        2005-08-21      \n",
       "36 <NA>       Female Italian   ... 2005-02-26        2005-05-01      \n",
       "37 2005-02-27 Male   Danish    ... 2005-02-27        2005-09-01      \n",
       "38 <NA>       Male   German    ... 2005-03-09        2005-09-03      \n",
       "39 <NA>       Male   Spanish   ... 2005-02-27        2005-09-30      \n",
       "40 2005-02-27 Female German    ... 2005-04-24        2005-04-27      \n",
       "41 2005-03-01 Male   Polish    ... 2005-03-05        2005-09-26      \n",
       "   FOTotalDaysActive LATotalStakes LATotalWinnings LATotalBets\n",
       "1   15                  187.0000        0.0000       13       \n",
       "2   14                    1.4500        2.6800        1       \n",
       "3  209               148375.1365   135610.1700     3267       \n",
       "4   NA                        NA            NA       NA       \n",
       "5    9                        NA            NA       NA       \n",
       "6   17                   35.0500       40.0000       12       \n",
       "7    8                        NA            NA       NA       \n",
       "8  214                15953.7879    15599.0700      802       \n",
       "9    6                        NA            NA       NA       \n",
       "10   2                        NA            NA       NA       \n",
       "11  58                 6351.7400     6424.3600      281       \n",
       "12 135                  705.3760      482.6014       83       \n",
       "13 310                 4043.7500     3747.3600     1032       \n",
       "14   2                        NA            NA       NA       \n",
       "15  72                 5868.5999     5294.7100      396       \n",
       "16 146                  812.4300      556.3200     1354       \n",
       "17  61                 1787.1000     1892.2000      267       \n",
       "18  19                44660.6255    44765.9200      592       \n",
       "19  NA                        NA            NA       NA       \n",
       "20 183                14443.6308    13866.0993     5339       \n",
       "21 228                 3769.8000     3703.4700     4118       \n",
       "22   7                        NA            NA       NA       \n",
       "23  69                   66.9600       10.9278       13       \n",
       "24  33                   27.6498        0.0000        2       \n",
       "25  NA                        NA            NA       NA       \n",
       "26 203                13926.5300    13284.6100     3878       \n",
       "27 154                37983.3781    36230.6500     3524       \n",
       "28  14                  136.3945      240.5266       11       \n",
       "29  68                        NA            NA       NA       \n",
       "30   3                    3.0000        0.0000        1       \n",
       "31  23                        NA            NA       NA       \n",
       "32 146                 5764.2600     5596.9600     2143       \n",
       "33  93                    2.0000        0.0000        1       \n",
       "34   3                        NA            NA       NA       \n",
       "35  15                  399.2020      373.9183       24       \n",
       "36  11                15372.2600    14846.8800      971       \n",
       "37 128                 8975.5700     6286.3300      221       \n",
       "38  62                        NA            NA       NA       \n",
       "39 149                33590.9800    31639.6600     2988       \n",
       "40   1                        NA            NA       NA       \n",
       "41  61                 3471.8810     3232.9245      238       \n",
       "   LAFirstActiveDate LALastActiveDate LATotalDaysActive Age_Group\n",
       "1  2005-02-02        2005-03-10         6                3       \n",
       "2  2005-02-13        2005-02-13         1                2       \n",
       "3  2005-02-13        2005-09-30       198                4       \n",
       "4  <NA>              <NA>              NA               NA       \n",
       "5  <NA>              <NA>              NA                3       \n",
       "6  2005-06-15        2005-09-11         4                2       \n",
       "7  <NA>              <NA>              NA                3       \n",
       "8  2005-02-16        2005-09-30       171                3       \n",
       "9  <NA>              <NA>              NA                3       \n",
       "10 <NA>              <NA>              NA                4       \n",
       "11 2005-02-07        2005-09-16        46                3       \n",
       "12 2005-02-20        2005-09-09        37                4       \n",
       "13 2005-02-15        2005-09-30       154                3       \n",
       "14 <NA>              <NA>              NA                5       \n",
       "15 2005-02-09        2005-09-24        40                4       \n",
       "16 2005-02-21        2005-09-30       112                4       \n",
       "17 2005-02-16        2005-09-23        58                2       \n",
       "18 2005-02-12        2005-09-19        34                6       \n",
       "19 <NA>              <NA>              NA               NA       \n",
       "20 2005-02-21        2005-09-30       180                3       \n",
       "21 2005-02-17        2005-09-29       215                5       \n",
       "22 <NA>              <NA>              NA                3       \n",
       "23 2005-03-01        2005-06-08         6                2       \n",
       "24 2005-04-17        2005-07-06         2                2       \n",
       "25 <NA>              <NA>              NA               NA       \n",
       "26 2005-02-18        2005-09-30       230                2       \n",
       "27 2005-02-18        2005-09-30       208                3       \n",
       "28 2005-02-19        2005-03-10         7                2       \n",
       "29 <NA>              <NA>              NA                5       \n",
       "30 2005-02-22        2005-02-22         1                3       \n",
       "31 <NA>              <NA>              NA                2       \n",
       "32 2005-03-06        2005-09-30       135                3       \n",
       "33 2005-04-29        2005-04-29         1                4       \n",
       "34 <NA>              <NA>              NA                2       \n",
       "35 2005-06-15        2005-07-16         8                2       \n",
       "36 2005-02-25        2005-09-17        83                4       \n",
       "37 2005-02-27        2005-08-27        72                3       \n",
       "38 <NA>              <NA>              NA                4       \n",
       "39 2005-03-01        2005-09-30       233                3       \n",
       "40 <NA>              <NA>              NA                5       \n",
       "41 2005-03-28        2005-09-29        92                5       "
      ]
     },
     "metadata": {},
     "output_type": "display_data"
    }
   ],
   "source": [
    "TopUsers_overall"
   ]
  },
  {
   "cell_type": "code",
   "execution_count": 101,
   "metadata": {},
   "outputs": [],
   "source": [
    "# Exporting the data into a csv file\n",
    "write.csv(TopUsers_overall,\"created_data/topusers_overall.csv\", row.names = FALSE)"
   ]
  },
  {
   "cell_type": "markdown",
   "metadata": {},
   "source": [
    "## More insights on our Shiny App :) "
   ]
  },
  {
   "cell_type": "markdown",
   "metadata": {},
   "source": [
    "Link to the shiny app: https://noemie-gautier.shinyapps.io/BAT_OpenSource_GroupProject_ShinyApp/ "
   ]
  }
 ],
 "metadata": {
  "kernelspec": {
   "display_name": "R",
   "language": "R",
   "name": "ir"
  },
  "language_info": {
   "codemirror_mode": "r",
   "file_extension": ".r",
   "mimetype": "text/x-r-source",
   "name": "R",
   "pygments_lexer": "r",
   "version": "3.6.1"
  }
 },
 "nbformat": 4,
 "nbformat_minor": 4
}
